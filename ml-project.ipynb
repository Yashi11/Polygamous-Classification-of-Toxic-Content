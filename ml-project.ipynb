{
 "cells": [
  {
   "cell_type": "code",
   "execution_count": 1,
   "id": "af47f9fa",
   "metadata": {
    "_cell_guid": "b1076dfc-b9ad-4769-8c92-a6c4dae69d19",
    "_uuid": "8f2839f25d086af736a60e9eeb907d3b93b6e0e5",
    "execution": {
     "iopub.execute_input": "2022-11-17T13:19:05.618573Z",
     "iopub.status.busy": "2022-11-17T13:19:05.617383Z",
     "iopub.status.idle": "2022-11-17T13:19:06.866694Z",
     "shell.execute_reply": "2022-11-17T13:19:06.865295Z"
    },
    "papermill": {
     "duration": 1.277996,
     "end_time": "2022-11-17T13:19:06.869468",
     "exception": false,
     "start_time": "2022-11-17T13:19:05.591472",
     "status": "completed"
    },
    "tags": []
   },
   "outputs": [
    {
     "name": "stdout",
     "output_type": "stream",
     "text": [
      "/kaggle/input/jigsaw-toxic-comment-classification-challenge/train.csv.zip\n",
      "/kaggle/input/jigsaw-toxic-comment-classification-challenge/sample_submission.csv.zip\n",
      "/kaggle/input/jigsaw-toxic-comment-classification-challenge/test_labels.csv.zip\n",
      "/kaggle/input/jigsaw-toxic-comment-classification-challenge/test.csv.zip\n"
     ]
    }
   ],
   "source": [
    "import numpy as np\n",
    "import pandas as pd\n",
    "from colorama import Fore, Back, Style\n",
    "import seaborn as sns\n",
    "import os\n",
    "for dirname, _, filenames in os.walk('/kaggle/input'):\n",
    "    for filename in filenames:\n",
    "        print(os.path.join(dirname, filename))\n",
    "from sklearn.metrics import accuracy_score\n",
    "\n",
    "        "
   ]
  },
  {
   "cell_type": "code",
   "execution_count": 2,
   "id": "37535c0b",
   "metadata": {
    "execution": {
     "iopub.execute_input": "2022-11-17T13:19:06.915271Z",
     "iopub.status.busy": "2022-11-17T13:19:06.913985Z",
     "iopub.status.idle": "2022-11-17T13:19:08.881967Z",
     "shell.execute_reply": "2022-11-17T13:19:08.880735Z"
    },
    "papermill": {
     "duration": 1.993469,
     "end_time": "2022-11-17T13:19:08.884784",
     "exception": false,
     "start_time": "2022-11-17T13:19:06.891315",
     "status": "completed"
    },
    "tags": []
   },
   "outputs": [],
   "source": [
    "df = pd.read_csv(\"../input/jigsaw-toxic-comment-classification-challenge/train.csv.zip\")"
   ]
  },
  {
   "cell_type": "markdown",
   "id": "4689abfa",
   "metadata": {
    "papermill": {
     "duration": 0.021759,
     "end_time": "2022-11-17T13:19:08.927780",
     "exception": false,
     "start_time": "2022-11-17T13:19:08.906021",
     "status": "completed"
    },
    "tags": []
   },
   "source": [
    "<center>\n",
    "<div style = \"background-color: rgba(152, 170, 236, 0.8); border-style: double;\">\n",
    "<strong style = \"font-size: 25px; color:rgba(86, 106, 181, 1);\"><center>Exploratory Data Analysis</center></strong>\n",
    "</div>\n",
    "</center>"
   ]
  },
  {
   "cell_type": "markdown",
   "id": "3c23cf4c",
   "metadata": {
    "papermill": {
     "duration": 0.020601,
     "end_time": "2022-11-17T13:19:08.969363",
     "exception": false,
     "start_time": "2022-11-17T13:19:08.948762",
     "status": "completed"
    },
    "tags": []
   },
   "source": [
    "There are several techniques to analyse data like classical analysis, exploratory data analysis and bayesian data analysis approach. We proceed with EDA in order to understand the structure of our data, is outliers, models and visualizations."
   ]
  },
  {
   "cell_type": "markdown",
   "id": "930eb830",
   "metadata": {
    "papermill": {
     "duration": 0.020669,
     "end_time": "2022-11-17T13:19:09.010905",
     "exception": false,
     "start_time": "2022-11-17T13:19:08.990236",
     "status": "completed"
    },
    "tags": []
   },
   "source": [
    "# Basic Datset Exploration and Structuring"
   ]
  },
  {
   "cell_type": "code",
   "execution_count": 3,
   "id": "8ed140f5",
   "metadata": {
    "execution": {
     "iopub.execute_input": "2022-11-17T13:19:09.055128Z",
     "iopub.status.busy": "2022-11-17T13:19:09.054710Z",
     "iopub.status.idle": "2022-11-17T13:19:09.075109Z",
     "shell.execute_reply": "2022-11-17T13:19:09.074004Z"
    },
    "papermill": {
     "duration": 0.045368,
     "end_time": "2022-11-17T13:19:09.077617",
     "exception": false,
     "start_time": "2022-11-17T13:19:09.032249",
     "status": "completed"
    },
    "tags": []
   },
   "outputs": [
    {
     "data": {
      "text/html": [
       "<div>\n",
       "<style scoped>\n",
       "    .dataframe tbody tr th:only-of-type {\n",
       "        vertical-align: middle;\n",
       "    }\n",
       "\n",
       "    .dataframe tbody tr th {\n",
       "        vertical-align: top;\n",
       "    }\n",
       "\n",
       "    .dataframe thead th {\n",
       "        text-align: right;\n",
       "    }\n",
       "</style>\n",
       "<table border=\"1\" class=\"dataframe\">\n",
       "  <thead>\n",
       "    <tr style=\"text-align: right;\">\n",
       "      <th></th>\n",
       "      <th>id</th>\n",
       "      <th>comment_text</th>\n",
       "      <th>toxic</th>\n",
       "      <th>severe_toxic</th>\n",
       "      <th>obscene</th>\n",
       "      <th>threat</th>\n",
       "      <th>insult</th>\n",
       "      <th>identity_hate</th>\n",
       "    </tr>\n",
       "  </thead>\n",
       "  <tbody>\n",
       "    <tr>\n",
       "      <th>0</th>\n",
       "      <td>0000997932d777bf</td>\n",
       "      <td>Explanation\\nWhy the edits made under my usern...</td>\n",
       "      <td>0</td>\n",
       "      <td>0</td>\n",
       "      <td>0</td>\n",
       "      <td>0</td>\n",
       "      <td>0</td>\n",
       "      <td>0</td>\n",
       "    </tr>\n",
       "    <tr>\n",
       "      <th>1</th>\n",
       "      <td>000103f0d9cfb60f</td>\n",
       "      <td>D'aww! He matches this background colour I'm s...</td>\n",
       "      <td>0</td>\n",
       "      <td>0</td>\n",
       "      <td>0</td>\n",
       "      <td>0</td>\n",
       "      <td>0</td>\n",
       "      <td>0</td>\n",
       "    </tr>\n",
       "    <tr>\n",
       "      <th>2</th>\n",
       "      <td>000113f07ec002fd</td>\n",
       "      <td>Hey man, I'm really not trying to edit war. It...</td>\n",
       "      <td>0</td>\n",
       "      <td>0</td>\n",
       "      <td>0</td>\n",
       "      <td>0</td>\n",
       "      <td>0</td>\n",
       "      <td>0</td>\n",
       "    </tr>\n",
       "    <tr>\n",
       "      <th>3</th>\n",
       "      <td>0001b41b1c6bb37e</td>\n",
       "      <td>\"\\nMore\\nI can't make any real suggestions on ...</td>\n",
       "      <td>0</td>\n",
       "      <td>0</td>\n",
       "      <td>0</td>\n",
       "      <td>0</td>\n",
       "      <td>0</td>\n",
       "      <td>0</td>\n",
       "    </tr>\n",
       "    <tr>\n",
       "      <th>4</th>\n",
       "      <td>0001d958c54c6e35</td>\n",
       "      <td>You, sir, are my hero. Any chance you remember...</td>\n",
       "      <td>0</td>\n",
       "      <td>0</td>\n",
       "      <td>0</td>\n",
       "      <td>0</td>\n",
       "      <td>0</td>\n",
       "      <td>0</td>\n",
       "    </tr>\n",
       "  </tbody>\n",
       "</table>\n",
       "</div>"
      ],
      "text/plain": [
       "                 id                                       comment_text  toxic  \\\n",
       "0  0000997932d777bf  Explanation\\nWhy the edits made under my usern...      0   \n",
       "1  000103f0d9cfb60f  D'aww! He matches this background colour I'm s...      0   \n",
       "2  000113f07ec002fd  Hey man, I'm really not trying to edit war. It...      0   \n",
       "3  0001b41b1c6bb37e  \"\\nMore\\nI can't make any real suggestions on ...      0   \n",
       "4  0001d958c54c6e35  You, sir, are my hero. Any chance you remember...      0   \n",
       "\n",
       "   severe_toxic  obscene  threat  insult  identity_hate  \n",
       "0             0        0       0       0              0  \n",
       "1             0        0       0       0              0  \n",
       "2             0        0       0       0              0  \n",
       "3             0        0       0       0              0  \n",
       "4             0        0       0       0              0  "
      ]
     },
     "execution_count": 3,
     "metadata": {},
     "output_type": "execute_result"
    }
   ],
   "source": [
    "df.head()"
   ]
  },
  {
   "cell_type": "code",
   "execution_count": 4,
   "id": "8bd2ccb9",
   "metadata": {
    "execution": {
     "iopub.execute_input": "2022-11-17T13:19:09.121950Z",
     "iopub.status.busy": "2022-11-17T13:19:09.121560Z",
     "iopub.status.idle": "2022-11-17T13:19:09.127933Z",
     "shell.execute_reply": "2022-11-17T13:19:09.126898Z"
    },
    "papermill": {
     "duration": 0.031172,
     "end_time": "2022-11-17T13:19:09.130060",
     "exception": false,
     "start_time": "2022-11-17T13:19:09.098888",
     "status": "completed"
    },
    "tags": []
   },
   "outputs": [
    {
     "data": {
      "text/plain": [
       "(159571, 8)"
      ]
     },
     "execution_count": 4,
     "metadata": {},
     "output_type": "execute_result"
    }
   ],
   "source": [
    "df.shape"
   ]
  },
  {
   "cell_type": "code",
   "execution_count": 5,
   "id": "0015f48c",
   "metadata": {
    "execution": {
     "iopub.execute_input": "2022-11-17T13:19:09.174358Z",
     "iopub.status.busy": "2022-11-17T13:19:09.173931Z",
     "iopub.status.idle": "2022-11-17T13:19:09.183229Z",
     "shell.execute_reply": "2022-11-17T13:19:09.182424Z"
    },
    "papermill": {
     "duration": 0.03405,
     "end_time": "2022-11-17T13:19:09.185334",
     "exception": false,
     "start_time": "2022-11-17T13:19:09.151284",
     "status": "completed"
    },
    "tags": []
   },
   "outputs": [],
   "source": [
    "# Let's remove the unwanted columns like Comment ID before moving on to EDA\n",
    "del df['id']"
   ]
  },
  {
   "cell_type": "code",
   "execution_count": 6,
   "id": "1ccd661a",
   "metadata": {
    "execution": {
     "iopub.execute_input": "2022-11-17T13:19:09.229592Z",
     "iopub.status.busy": "2022-11-17T13:19:09.229161Z",
     "iopub.status.idle": "2022-11-17T13:19:09.234835Z",
     "shell.execute_reply": "2022-11-17T13:19:09.233892Z"
    },
    "papermill": {
     "duration": 0.030123,
     "end_time": "2022-11-17T13:19:09.236841",
     "exception": false,
     "start_time": "2022-11-17T13:19:09.206718",
     "status": "completed"
    },
    "tags": []
   },
   "outputs": [],
   "source": [
    "def colorToxicityValuesToRed(value):\n",
    "    if value==0:\n",
    "        color='green'\n",
    "    elif value==1:\n",
    "        color='red'\n",
    "    else:\n",
    "        color='black'\n",
    "    return 'color: %s' % color\n",
    "    \n",
    "\n",
    "\n"
   ]
  },
  {
   "cell_type": "code",
   "execution_count": 7,
   "id": "f6e28193",
   "metadata": {
    "execution": {
     "iopub.execute_input": "2022-11-17T13:19:09.282493Z",
     "iopub.status.busy": "2022-11-17T13:19:09.281786Z",
     "iopub.status.idle": "2022-11-17T13:19:09.359420Z",
     "shell.execute_reply": "2022-11-17T13:19:09.358256Z"
    },
    "papermill": {
     "duration": 0.103497,
     "end_time": "2022-11-17T13:19:09.361980",
     "exception": false,
     "start_time": "2022-11-17T13:19:09.258483",
     "status": "completed"
    },
    "tags": []
   },
   "outputs": [
    {
     "data": {
      "text/html": [
       "<style type=\"text/css\">\n",
       "#T_f8917_row0_col1, #T_f8917_row0_col2, #T_f8917_row0_col3, #T_f8917_row0_col4, #T_f8917_row0_col5, #T_f8917_row0_col6, #T_f8917_row1_col1, #T_f8917_row1_col2, #T_f8917_row1_col3, #T_f8917_row1_col4, #T_f8917_row1_col5, #T_f8917_row1_col6, #T_f8917_row2_col1, #T_f8917_row2_col2, #T_f8917_row2_col3, #T_f8917_row2_col4, #T_f8917_row2_col5, #T_f8917_row2_col6, #T_f8917_row3_col1, #T_f8917_row3_col2, #T_f8917_row3_col3, #T_f8917_row3_col4, #T_f8917_row3_col5, #T_f8917_row3_col6, #T_f8917_row4_col1, #T_f8917_row4_col2, #T_f8917_row4_col3, #T_f8917_row4_col4, #T_f8917_row4_col5, #T_f8917_row4_col6, #T_f8917_row5_col2, #T_f8917_row5_col4 {\n",
       "  color: green;\n",
       "}\n",
       "#T_f8917_row5_col1, #T_f8917_row5_col3, #T_f8917_row5_col5, #T_f8917_row5_col6 {\n",
       "  color: red;\n",
       "}\n",
       "</style>\n",
       "<table id=\"T_f8917_\">\n",
       "  <thead>\n",
       "    <tr>\n",
       "      <th class=\"blank level0\" >&nbsp;</th>\n",
       "      <th class=\"col_heading level0 col0\" >comment_text</th>\n",
       "      <th class=\"col_heading level0 col1\" >toxic</th>\n",
       "      <th class=\"col_heading level0 col2\" >severe_toxic</th>\n",
       "      <th class=\"col_heading level0 col3\" >obscene</th>\n",
       "      <th class=\"col_heading level0 col4\" >threat</th>\n",
       "      <th class=\"col_heading level0 col5\" >insult</th>\n",
       "      <th class=\"col_heading level0 col6\" >identity_hate</th>\n",
       "    </tr>\n",
       "  </thead>\n",
       "  <tbody>\n",
       "    <tr>\n",
       "      <th id=\"T_f8917_level0_row0\" class=\"row_heading level0 row0\" >100</th>\n",
       "      <td id=\"T_f8917_row0_col0\" class=\"data row0 col0\" >However, the Moonlite edit noted by golden daph was me (on optus ...)  Wake up wikkis.  So funny</td>\n",
       "      <td id=\"T_f8917_row0_col1\" class=\"data row0 col1\" >0</td>\n",
       "      <td id=\"T_f8917_row0_col2\" class=\"data row0 col2\" >0</td>\n",
       "      <td id=\"T_f8917_row0_col3\" class=\"data row0 col3\" >0</td>\n",
       "      <td id=\"T_f8917_row0_col4\" class=\"data row0 col4\" >0</td>\n",
       "      <td id=\"T_f8917_row0_col5\" class=\"data row0 col5\" >0</td>\n",
       "      <td id=\"T_f8917_row0_col6\" class=\"data row0 col6\" >0</td>\n",
       "    </tr>\n",
       "    <tr>\n",
       "      <th id=\"T_f8917_level0_row1\" class=\"row_heading level0 row1\" >101</th>\n",
       "      <td id=\"T_f8917_row1_col0\" class=\"data row1 col0\" >Check the following websites:\n",
       "\n",
       "http://www.iranchamber.com/personalities/farabi/farabi.php\n",
       "http://www.islam.org.br/%C2%A0al_farabi.htm\n",
       "http://www.superbeyin.com/sohbet/sohbet.htm</td>\n",
       "      <td id=\"T_f8917_row1_col1\" class=\"data row1 col1\" >0</td>\n",
       "      <td id=\"T_f8917_row1_col2\" class=\"data row1 col2\" >0</td>\n",
       "      <td id=\"T_f8917_row1_col3\" class=\"data row1 col3\" >0</td>\n",
       "      <td id=\"T_f8917_row1_col4\" class=\"data row1 col4\" >0</td>\n",
       "      <td id=\"T_f8917_row1_col5\" class=\"data row1 col5\" >0</td>\n",
       "      <td id=\"T_f8917_row1_col6\" class=\"data row1 col6\" >0</td>\n",
       "    </tr>\n",
       "    <tr>\n",
       "      <th id=\"T_f8917_level0_row2\" class=\"row_heading level0 row2\" >102</th>\n",
       "      <td id=\"T_f8917_row2_col0\" class=\"data row2 col0\" >i can't believe no one has already put up this page Dilbert's Desktop Games so I did</td>\n",
       "      <td id=\"T_f8917_row2_col1\" class=\"data row2 col1\" >0</td>\n",
       "      <td id=\"T_f8917_row2_col2\" class=\"data row2 col2\" >0</td>\n",
       "      <td id=\"T_f8917_row2_col3\" class=\"data row2 col3\" >0</td>\n",
       "      <td id=\"T_f8917_row2_col4\" class=\"data row2 col4\" >0</td>\n",
       "      <td id=\"T_f8917_row2_col5\" class=\"data row2 col5\" >0</td>\n",
       "      <td id=\"T_f8917_row2_col6\" class=\"data row2 col6\" >0</td>\n",
       "    </tr>\n",
       "    <tr>\n",
       "      <th id=\"T_f8917_level0_row3\" class=\"row_heading level0 row3\" >103</th>\n",
       "      <td id=\"T_f8917_row3_col0\" class=\"data row3 col0\" >\"\n",
       "\n",
       "Well, after I asked you to provide the diffs within one hour of your next edit here, you made an edit to your talk page here and then did not provide the diffs I requested within one hour of that edit. I then sanctioned you for failing to provide the requested diffs in a timely manner (which, after more than a week, you have still not done). Consequently, your request to lift the sanction is denied.  \"</td>\n",
       "      <td id=\"T_f8917_row3_col1\" class=\"data row3 col1\" >0</td>\n",
       "      <td id=\"T_f8917_row3_col2\" class=\"data row3 col2\" >0</td>\n",
       "      <td id=\"T_f8917_row3_col3\" class=\"data row3 col3\" >0</td>\n",
       "      <td id=\"T_f8917_row3_col4\" class=\"data row3 col4\" >0</td>\n",
       "      <td id=\"T_f8917_row3_col5\" class=\"data row3 col5\" >0</td>\n",
       "      <td id=\"T_f8917_row3_col6\" class=\"data row3 col6\" >0</td>\n",
       "    </tr>\n",
       "    <tr>\n",
       "      <th id=\"T_f8917_level0_row4\" class=\"row_heading level0 row4\" >104</th>\n",
       "      <td id=\"T_f8917_row4_col0\" class=\"data row4 col0\" >What page shoudld there be for important characters that DON'T reoccur?\n",
       "Void, Black Doom, Mephiles, etc</td>\n",
       "      <td id=\"T_f8917_row4_col1\" class=\"data row4 col1\" >0</td>\n",
       "      <td id=\"T_f8917_row4_col2\" class=\"data row4 col2\" >0</td>\n",
       "      <td id=\"T_f8917_row4_col3\" class=\"data row4 col3\" >0</td>\n",
       "      <td id=\"T_f8917_row4_col4\" class=\"data row4 col4\" >0</td>\n",
       "      <td id=\"T_f8917_row4_col5\" class=\"data row4 col5\" >0</td>\n",
       "      <td id=\"T_f8917_row4_col6\" class=\"data row4 col6\" >0</td>\n",
       "    </tr>\n",
       "    <tr>\n",
       "      <th id=\"T_f8917_level0_row5\" class=\"row_heading level0 row5\" >105</th>\n",
       "      <td id=\"T_f8917_row5_col0\" class=\"data row5 col0\" >A pair of jew-hating weiner nazi schmucks.</td>\n",
       "      <td id=\"T_f8917_row5_col1\" class=\"data row5 col1\" >1</td>\n",
       "      <td id=\"T_f8917_row5_col2\" class=\"data row5 col2\" >0</td>\n",
       "      <td id=\"T_f8917_row5_col3\" class=\"data row5 col3\" >1</td>\n",
       "      <td id=\"T_f8917_row5_col4\" class=\"data row5 col4\" >0</td>\n",
       "      <td id=\"T_f8917_row5_col5\" class=\"data row5 col5\" >1</td>\n",
       "      <td id=\"T_f8917_row5_col6\" class=\"data row5 col6\" >1</td>\n",
       "    </tr>\n",
       "  </tbody>\n",
       "</table>\n"
      ],
      "text/plain": [
       "<pandas.io.formats.style.Styler at 0x7fb87d5d1210>"
      ]
     },
     "metadata": {},
     "output_type": "display_data"
    }
   ],
   "source": [
    "# Display the raw dataset in a visually appealing manner\n",
    "\n",
    "display(df[100:106].style.applymap(colorToxicityValuesToRed,\n",
    "subset=['toxic','severe_toxic','obscene','threat','insult','identity_hate']))"
   ]
  },
  {
   "cell_type": "code",
   "execution_count": 8,
   "id": "dcc1db2d",
   "metadata": {
    "execution": {
     "iopub.execute_input": "2022-11-17T13:19:09.407987Z",
     "iopub.status.busy": "2022-11-17T13:19:09.407159Z",
     "iopub.status.idle": "2022-11-17T13:19:09.418751Z",
     "shell.execute_reply": "2022-11-17T13:19:09.417340Z"
    },
    "papermill": {
     "duration": 0.037451,
     "end_time": "2022-11-17T13:19:09.421434",
     "exception": false,
     "start_time": "2022-11-17T13:19:09.383983",
     "status": "completed"
    },
    "tags": []
   },
   "outputs": [
    {
     "name": "stdout",
     "output_type": "stream",
     "text": [
      "\u001b[47mPercentage of Comments Classified as Toxic               \u001b[42m9.584448302009763% \n",
      "\n",
      "\u001b[47mPercentage of Comments Classified as Severe Toxic        \u001b[42m0.999555056996572% \n",
      "\n",
      "\u001b[47mPercentage of Comments Classified as Obscene             \u001b[42m5.2948217407925% \n",
      "\n",
      "\u001b[47mPercentage  of Comments Classified as Threat              \u001b[42m0.2995531769557125% \n",
      "\n",
      "\u001b[47mPercentage of Comments Classified as Insult              \u001b[42m4.936360616904074% \n",
      "\n",
      "\u001b[47mPercentage of Comments Classified as Identity Hate       \u001b[42m0.8804858025581089% \n",
      "\n"
     ]
    }
   ],
   "source": [
    "# Perform a Descriptive Analysis on the Classification Classes\n",
    "\n",
    "print(Back.WHITE+f\"Percentage of Comments Classified as Toxic               \"+Back.GREEN+f\"{df['toxic'].sum()/1595.71}% \\n\")\n",
    "print(Back.WHITE+f\"Percentage of Comments Classified as Severe Toxic        \"+Back.GREEN+f\"{df['severe_toxic'].sum()/1595.71}% \\n\")\n",
    "print(Back.WHITE+f\"Percentage of Comments Classified as Obscene             \"+Back.GREEN+f\"{df['obscene'].sum()/1595.71}% \\n\")\n",
    "print(Back.WHITE+f\"Percentage  of Comments Classified as Threat              \"+Back.GREEN+f\"{df['threat'].sum()/1595.71}% \\n\")\n",
    "print(Back.WHITE+f\"Percentage of Comments Classified as Insult              \"+Back.GREEN+f\"{df['insult'].sum()/1595.71}% \\n\")\n",
    "print(Back.WHITE+f\"Percentage of Comments Classified as Identity Hate       \"+Back.GREEN+f\"{df['identity_hate'].sum()/1595.71}% \\n\")"
   ]
  },
  {
   "cell_type": "markdown",
   "id": "706b1762",
   "metadata": {
    "papermill": {
     "duration": 0.021935,
     "end_time": "2022-11-17T13:19:09.466181",
     "exception": false,
     "start_time": "2022-11-17T13:19:09.444246",
     "status": "completed"
    },
    "tags": []
   },
   "source": [
    "# Text Counts & Lengths Analysis"
   ]
  },
  {
   "cell_type": "code",
   "execution_count": 9,
   "id": "a9cc2182",
   "metadata": {
    "execution": {
     "iopub.execute_input": "2022-11-17T13:19:09.513045Z",
     "iopub.status.busy": "2022-11-17T13:19:09.512440Z",
     "iopub.status.idle": "2022-11-17T13:20:05.328806Z",
     "shell.execute_reply": "2022-11-17T13:20:05.327797Z"
    },
    "papermill": {
     "duration": 55.843622,
     "end_time": "2022-11-17T13:20:05.331903",
     "exception": false,
     "start_time": "2022-11-17T13:19:09.488281",
     "status": "completed"
    },
    "tags": []
   },
   "outputs": [],
   "source": [
    "import nltk\n",
    "# Character counts\n",
    "from nltk.tokenize import sent_tokenize\n",
    "# Word counts\n",
    "df[\"char_count\"] = df[\"comment_text\"].map(lambda x: len(x))\n",
    "# Sentence counts\n",
    "df[\"word_count\"] = df[\"comment_text\"].map(lambda x: len(x.split()))\n",
    "# String counts\n",
    "df[\"sent_count\"] = df[\"comment_text\"].map(lambda x: len(sent_tokenize(x)))\n",
    "# Average word length\n",
    "df[\"hashtag_count\"] = df[\"comment_text\"].map(lambda x: x.count(\"#\"))\n",
    "# Average sentence length\n",
    "df[\"avg_word_len\"] = df[\"comment_text\"].map(lambda x: np.mean([len(w) for w in str(x).split()]))\n",
    "\n",
    "df[\"avg_sent_len\"] = df[\"comment_text\"].map(lambda x: np.mean([len(w.split()) for w in sent_tokenize(x)]))"
   ]
  },
  {
   "cell_type": "code",
   "execution_count": 10,
   "id": "9daf520d",
   "metadata": {
    "execution": {
     "iopub.execute_input": "2022-11-17T13:20:05.378831Z",
     "iopub.status.busy": "2022-11-17T13:20:05.378434Z",
     "iopub.status.idle": "2022-11-17T13:20:05.420912Z",
     "shell.execute_reply": "2022-11-17T13:20:05.419788Z"
    },
    "papermill": {
     "duration": 0.069266,
     "end_time": "2022-11-17T13:20:05.423786",
     "exception": false,
     "start_time": "2022-11-17T13:20:05.354520",
     "status": "completed"
    },
    "tags": []
   },
   "outputs": [
    {
     "data": {
      "text/html": [
       "<div>\n",
       "<style scoped>\n",
       "    .dataframe tbody tr th:only-of-type {\n",
       "        vertical-align: middle;\n",
       "    }\n",
       "\n",
       "    .dataframe tbody tr th {\n",
       "        vertical-align: top;\n",
       "    }\n",
       "\n",
       "    .dataframe thead th {\n",
       "        text-align: right;\n",
       "    }\n",
       "</style>\n",
       "<table border=\"1\" class=\"dataframe\">\n",
       "  <thead>\n",
       "    <tr style=\"text-align: right;\">\n",
       "      <th></th>\n",
       "      <th>comment_text</th>\n",
       "      <th>toxic</th>\n",
       "      <th>severe_toxic</th>\n",
       "      <th>obscene</th>\n",
       "      <th>threat</th>\n",
       "      <th>insult</th>\n",
       "      <th>identity_hate</th>\n",
       "      <th>char_count</th>\n",
       "      <th>word_count</th>\n",
       "      <th>sent_count</th>\n",
       "      <th>hashtag_count</th>\n",
       "      <th>avg_word_len</th>\n",
       "      <th>avg_sent_len</th>\n",
       "    </tr>\n",
       "  </thead>\n",
       "  <tbody>\n",
       "    <tr>\n",
       "      <th>6</th>\n",
       "      <td>COCKSUCKER BEFORE YOU PISS AROUND ON MY WORK</td>\n",
       "      <td>1</td>\n",
       "      <td>1</td>\n",
       "      <td>1</td>\n",
       "      <td>0</td>\n",
       "      <td>1</td>\n",
       "      <td>0</td>\n",
       "      <td>44</td>\n",
       "      <td>8</td>\n",
       "      <td>1</td>\n",
       "      <td>0</td>\n",
       "      <td>4.625000</td>\n",
       "      <td>8.000000</td>\n",
       "    </tr>\n",
       "    <tr>\n",
       "      <th>12</th>\n",
       "      <td>Hey... what is it..\\n@ | talk .\\nWhat is it......</td>\n",
       "      <td>1</td>\n",
       "      <td>0</td>\n",
       "      <td>0</td>\n",
       "      <td>0</td>\n",
       "      <td>0</td>\n",
       "      <td>0</td>\n",
       "      <td>319</td>\n",
       "      <td>53</td>\n",
       "      <td>3</td>\n",
       "      <td>0</td>\n",
       "      <td>5.018868</td>\n",
       "      <td>17.666667</td>\n",
       "    </tr>\n",
       "    <tr>\n",
       "      <th>16</th>\n",
       "      <td>Bye! \\n\\nDon't look, come or think of comming ...</td>\n",
       "      <td>1</td>\n",
       "      <td>0</td>\n",
       "      <td>0</td>\n",
       "      <td>0</td>\n",
       "      <td>0</td>\n",
       "      <td>0</td>\n",
       "      <td>57</td>\n",
       "      <td>10</td>\n",
       "      <td>3</td>\n",
       "      <td>0</td>\n",
       "      <td>4.600000</td>\n",
       "      <td>3.333333</td>\n",
       "    </tr>\n",
       "    <tr>\n",
       "      <th>42</th>\n",
       "      <td>You are gay or antisemmitian? \\n\\nArchangel WH...</td>\n",
       "      <td>1</td>\n",
       "      <td>0</td>\n",
       "      <td>1</td>\n",
       "      <td>0</td>\n",
       "      <td>1</td>\n",
       "      <td>1</td>\n",
       "      <td>648</td>\n",
       "      <td>117</td>\n",
       "      <td>8</td>\n",
       "      <td>0</td>\n",
       "      <td>4.478632</td>\n",
       "      <td>14.625000</td>\n",
       "    </tr>\n",
       "    <tr>\n",
       "      <th>43</th>\n",
       "      <td>FUCK YOUR FILTHY MOTHER IN THE ASS, DRY!</td>\n",
       "      <td>1</td>\n",
       "      <td>0</td>\n",
       "      <td>1</td>\n",
       "      <td>0</td>\n",
       "      <td>1</td>\n",
       "      <td>0</td>\n",
       "      <td>40</td>\n",
       "      <td>8</td>\n",
       "      <td>1</td>\n",
       "      <td>0</td>\n",
       "      <td>4.125000</td>\n",
       "      <td>8.000000</td>\n",
       "    </tr>\n",
       "    <tr>\n",
       "      <th>...</th>\n",
       "      <td>...</td>\n",
       "      <td>...</td>\n",
       "      <td>...</td>\n",
       "      <td>...</td>\n",
       "      <td>...</td>\n",
       "      <td>...</td>\n",
       "      <td>...</td>\n",
       "      <td>...</td>\n",
       "      <td>...</td>\n",
       "      <td>...</td>\n",
       "      <td>...</td>\n",
       "      <td>...</td>\n",
       "      <td>...</td>\n",
       "    </tr>\n",
       "    <tr>\n",
       "      <th>159494</th>\n",
       "      <td>\"\\n\\n our previous conversation \\n\\nyou fuckin...</td>\n",
       "      <td>1</td>\n",
       "      <td>0</td>\n",
       "      <td>1</td>\n",
       "      <td>0</td>\n",
       "      <td>1</td>\n",
       "      <td>1</td>\n",
       "      <td>1677</td>\n",
       "      <td>319</td>\n",
       "      <td>23</td>\n",
       "      <td>0</td>\n",
       "      <td>4.241379</td>\n",
       "      <td>13.869565</td>\n",
       "    </tr>\n",
       "    <tr>\n",
       "      <th>159514</th>\n",
       "      <td>YOU ARE A MISCHIEVIOUS PUBIC HAIR</td>\n",
       "      <td>1</td>\n",
       "      <td>0</td>\n",
       "      <td>0</td>\n",
       "      <td>0</td>\n",
       "      <td>1</td>\n",
       "      <td>0</td>\n",
       "      <td>33</td>\n",
       "      <td>6</td>\n",
       "      <td>1</td>\n",
       "      <td>0</td>\n",
       "      <td>4.666667</td>\n",
       "      <td>6.000000</td>\n",
       "    </tr>\n",
       "    <tr>\n",
       "      <th>159541</th>\n",
       "      <td>Your absurd edits \\n\\nYour absurd edits on gre...</td>\n",
       "      <td>1</td>\n",
       "      <td>0</td>\n",
       "      <td>1</td>\n",
       "      <td>0</td>\n",
       "      <td>1</td>\n",
       "      <td>0</td>\n",
       "      <td>346</td>\n",
       "      <td>58</td>\n",
       "      <td>5</td>\n",
       "      <td>0</td>\n",
       "      <td>4.948276</td>\n",
       "      <td>11.600000</td>\n",
       "    </tr>\n",
       "    <tr>\n",
       "      <th>159546</th>\n",
       "      <td>\"\\n\\nHey listen don't you ever!!!! Delete my e...</td>\n",
       "      <td>1</td>\n",
       "      <td>0</td>\n",
       "      <td>0</td>\n",
       "      <td>0</td>\n",
       "      <td>1</td>\n",
       "      <td>0</td>\n",
       "      <td>534</td>\n",
       "      <td>103</td>\n",
       "      <td>6</td>\n",
       "      <td>0</td>\n",
       "      <td>4.184466</td>\n",
       "      <td>17.166667</td>\n",
       "    </tr>\n",
       "    <tr>\n",
       "      <th>159554</th>\n",
       "      <td>and i'm going to keep posting the stuff u dele...</td>\n",
       "      <td>1</td>\n",
       "      <td>0</td>\n",
       "      <td>1</td>\n",
       "      <td>0</td>\n",
       "      <td>1</td>\n",
       "      <td>0</td>\n",
       "      <td>182</td>\n",
       "      <td>35</td>\n",
       "      <td>1</td>\n",
       "      <td>0</td>\n",
       "      <td>4.228571</td>\n",
       "      <td>35.000000</td>\n",
       "    </tr>\n",
       "  </tbody>\n",
       "</table>\n",
       "<p>15294 rows × 13 columns</p>\n",
       "</div>"
      ],
      "text/plain": [
       "                                             comment_text  toxic  \\\n",
       "6            COCKSUCKER BEFORE YOU PISS AROUND ON MY WORK      1   \n",
       "12      Hey... what is it..\\n@ | talk .\\nWhat is it......      1   \n",
       "16      Bye! \\n\\nDon't look, come or think of comming ...      1   \n",
       "42      You are gay or antisemmitian? \\n\\nArchangel WH...      1   \n",
       "43               FUCK YOUR FILTHY MOTHER IN THE ASS, DRY!      1   \n",
       "...                                                   ...    ...   \n",
       "159494  \"\\n\\n our previous conversation \\n\\nyou fuckin...      1   \n",
       "159514                  YOU ARE A MISCHIEVIOUS PUBIC HAIR      1   \n",
       "159541  Your absurd edits \\n\\nYour absurd edits on gre...      1   \n",
       "159546  \"\\n\\nHey listen don't you ever!!!! Delete my e...      1   \n",
       "159554  and i'm going to keep posting the stuff u dele...      1   \n",
       "\n",
       "        severe_toxic  obscene  threat  insult  identity_hate  char_count  \\\n",
       "6                  1        1       0       1              0          44   \n",
       "12                 0        0       0       0              0         319   \n",
       "16                 0        0       0       0              0          57   \n",
       "42                 0        1       0       1              1         648   \n",
       "43                 0        1       0       1              0          40   \n",
       "...              ...      ...     ...     ...            ...         ...   \n",
       "159494             0        1       0       1              1        1677   \n",
       "159514             0        0       0       1              0          33   \n",
       "159541             0        1       0       1              0         346   \n",
       "159546             0        0       0       1              0         534   \n",
       "159554             0        1       0       1              0         182   \n",
       "\n",
       "        word_count  sent_count  hashtag_count  avg_word_len  avg_sent_len  \n",
       "6                8           1              0      4.625000      8.000000  \n",
       "12              53           3              0      5.018868     17.666667  \n",
       "16              10           3              0      4.600000      3.333333  \n",
       "42             117           8              0      4.478632     14.625000  \n",
       "43               8           1              0      4.125000      8.000000  \n",
       "...            ...         ...            ...           ...           ...  \n",
       "159494         319          23              0      4.241379     13.869565  \n",
       "159514           6           1              0      4.666667      6.000000  \n",
       "159541          58           5              0      4.948276     11.600000  \n",
       "159546         103           6              0      4.184466     17.166667  \n",
       "159554          35           1              0      4.228571     35.000000  \n",
       "\n",
       "[15294 rows x 13 columns]"
      ]
     },
     "execution_count": 10,
     "metadata": {},
     "output_type": "execute_result"
    }
   ],
   "source": [
    "df[df['toxic']==1]"
   ]
  },
  {
   "cell_type": "code",
   "execution_count": 11,
   "id": "69d9dd86",
   "metadata": {
    "execution": {
     "iopub.execute_input": "2022-11-17T13:20:05.471999Z",
     "iopub.status.busy": "2022-11-17T13:20:05.471616Z",
     "iopub.status.idle": "2022-11-17T13:20:05.479061Z",
     "shell.execute_reply": "2022-11-17T13:20:05.478011Z"
    },
    "papermill": {
     "duration": 0.034363,
     "end_time": "2022-11-17T13:20:05.481343",
     "exception": false,
     "start_time": "2022-11-17T13:20:05.446980",
     "status": "completed"
    },
    "tags": []
   },
   "outputs": [
    {
     "data": {
      "text/plain": [
       "\"Explanation\\nWhy the edits made under my username Hardcore Metallica Fan were reverted? They weren't vandalisms, just closure on some GAs after I voted at New York Dolls FAC. And please don't remove the template from the talk page since I'm retired now.89.205.38.27\""
      ]
     },
     "execution_count": 11,
     "metadata": {},
     "output_type": "execute_result"
    }
   ],
   "source": [
    "df['comment_text'][0]"
   ]
  },
  {
   "cell_type": "code",
   "execution_count": 12,
   "id": "a3b7df66",
   "metadata": {
    "execution": {
     "iopub.execute_input": "2022-11-17T13:20:05.528624Z",
     "iopub.status.busy": "2022-11-17T13:20:05.528240Z",
     "iopub.status.idle": "2022-11-17T13:20:05.742574Z",
     "shell.execute_reply": "2022-11-17T13:20:05.741316Z"
    },
    "papermill": {
     "duration": 0.243685,
     "end_time": "2022-11-17T13:20:05.747725",
     "exception": false,
     "start_time": "2022-11-17T13:20:05.504040",
     "status": "completed"
    },
    "tags": []
   },
   "outputs": [
    {
     "data": {
      "image/png": "[encoded data removed]",
      "text/plain": [
       "<Figure size 432x288 with 1 Axes>"
      ]
     },
     "metadata": {
      "needs_background": "light"
     },
     "output_type": "display_data"
    }
   ],
   "source": [
    "import matplotlib.pyplot as plt\n",
    "df['word_count'].hist()\n",
    "plt.show()\n",
    "# Havent included others as there was no finding associated with the same"
   ]
  },
  {
   "cell_type": "markdown",
   "id": "67246a6c",
   "metadata": {
    "papermill": {
     "duration": 0.025933,
     "end_time": "2022-11-17T13:20:05.797999",
     "exception": false,
     "start_time": "2022-11-17T13:20:05.772066",
     "status": "completed"
    },
    "tags": []
   },
   "source": [
    "# Term Frequency Analysis"
   ]
  },
  {
   "cell_type": "code",
   "execution_count": 13,
   "id": "b3bf2d8e",
   "metadata": {
    "execution": {
     "iopub.execute_input": "2022-11-17T13:20:05.849621Z",
     "iopub.status.busy": "2022-11-17T13:20:05.848605Z",
     "iopub.status.idle": "2022-11-17T13:20:12.417344Z",
     "shell.execute_reply": "2022-11-17T13:20:12.416260Z"
    },
    "papermill": {
     "duration": 6.597201,
     "end_time": "2022-11-17T13:20:12.420068",
     "exception": false,
     "start_time": "2022-11-17T13:20:05.822867",
     "status": "completed"
    },
    "tags": []
   },
   "outputs": [],
   "source": [
    "import re\n",
    "import string\n",
    "\n",
    "def clean_text(text):\n",
    "    # Convert text to lowercase\n",
    "    text = text.lower()    \n",
    "    # Remove punctuation\n",
    "    text = re.sub(\"[%s]\" % re.escape(string.punctuation), \"\", text)   \n",
    "     # Remove non-Roman characters\n",
    "    text = re.sub(\"([^\\x00-\\x7F])+\", \" \", text)\n",
    "    # Strip any numericals if present in words\n",
    "    text =  re.sub(r'\\d', '', text).strip()\n",
    "    # strip any \\n present between words\n",
    "    text = re.sub(r'\\n',' ',text).strip()\n",
    "    #remove stop words \n",
    "    \n",
    "    return text\n",
    "df[\"comment_clean\"] = df[\"comment_text\"].map(lambda x: clean_text(x))"
   ]
  },
  {
   "cell_type": "code",
   "execution_count": 14,
   "id": "a665fe33",
   "metadata": {
    "execution": {
     "iopub.execute_input": "2022-11-17T13:20:12.470398Z",
     "iopub.status.busy": "2022-11-17T13:20:12.469993Z",
     "iopub.status.idle": "2022-11-17T13:20:12.476210Z",
     "shell.execute_reply": "2022-11-17T13:20:12.475419Z"
    },
    "papermill": {
     "duration": 0.033455,
     "end_time": "2022-11-17T13:20:12.478136",
     "exception": false,
     "start_time": "2022-11-17T13:20:12.444681",
     "status": "completed"
    },
    "tags": []
   },
   "outputs": [
    {
     "data": {
      "text/plain": [
       "\"Explanation\\nWhy the edits made under my username Hardcore Metallica Fan were reverted? They weren't vandalisms, just closure on some GAs after I voted at New York Dolls FAC. And please don't remove the template from the talk page since I'm retired now.89.205.38.27\""
      ]
     },
     "execution_count": 14,
     "metadata": {},
     "output_type": "execute_result"
    }
   ],
   "source": [
    "df[\"comment_text\"][0]"
   ]
  },
  {
   "cell_type": "code",
   "execution_count": 15,
   "id": "70012669",
   "metadata": {
    "execution": {
     "iopub.execute_input": "2022-11-17T13:20:12.527359Z",
     "iopub.status.busy": "2022-11-17T13:20:12.526955Z",
     "iopub.status.idle": "2022-11-17T13:20:12.534487Z",
     "shell.execute_reply": "2022-11-17T13:20:12.533305Z"
    },
    "papermill": {
     "duration": 0.034574,
     "end_time": "2022-11-17T13:20:12.536681",
     "exception": false,
     "start_time": "2022-11-17T13:20:12.502107",
     "status": "completed"
    },
    "tags": []
   },
   "outputs": [
    {
     "data": {
      "text/plain": [
       "'explanation why the edits made under my username hardcore metallica fan were reverted they werent vandalisms just closure on some gas after i voted at new york dolls fac and please dont remove the template from the talk page since im retired now'"
      ]
     },
     "execution_count": 15,
     "metadata": {},
     "output_type": "execute_result"
    }
   ],
   "source": [
    "df[\"comment_clean\"][0]"
   ]
  },
  {
   "cell_type": "markdown",
   "id": "fb87ce26",
   "metadata": {
    "papermill": {
     "duration": 0.023843,
     "end_time": "2022-11-17T13:20:12.584600",
     "exception": false,
     "start_time": "2022-11-17T13:20:12.560757",
     "status": "completed"
    },
    "tags": []
   },
   "source": [
    "<center>\n",
    "<div style = \"background-color: rgba(152, 170, 236, 0.8); border-style: double;\">\n",
    "<strong style = \"font-size: 25px; color:rgba(86, 106, 181, 1);\"><center>3. N-grams (combination of 1-,2-,3-grams)</center></strong>\n",
    "</div>\n",
    "</center>"
   ]
  },
  {
   "cell_type": "markdown",
   "id": "cb7ce7fe",
   "metadata": {
    "papermill": {
     "duration": 0.024121,
     "end_time": "2022-11-17T13:20:12.633025",
     "exception": false,
     "start_time": "2022-11-17T13:20:12.608904",
     "status": "completed"
    },
    "tags": []
   },
   "source": [
    "# Analyising Data on the Basis of N-Grams\n"
   ]
  },
  {
   "cell_type": "code",
   "execution_count": 16,
   "id": "2eb92b63",
   "metadata": {
    "execution": {
     "iopub.execute_input": "2022-11-17T13:20:12.684626Z",
     "iopub.status.busy": "2022-11-17T13:20:12.683878Z",
     "iopub.status.idle": "2022-11-17T13:20:16.158789Z",
     "shell.execute_reply": "2022-11-17T13:20:16.157858Z"
    },
    "papermill": {
     "duration": 3.503602,
     "end_time": "2022-11-17T13:20:16.161348",
     "exception": false,
     "start_time": "2022-11-17T13:20:12.657746",
     "status": "completed"
    },
    "tags": []
   },
   "outputs": [],
   "source": [
    "# Made a corpus of vocabulary\n",
    "from nltk.corpus import stopwords\n",
    "stop = set(stopwords.words(\"english\"))\n",
    "corpus = [word for i in df[\"comment_clean\"].str.split().values.tolist() for word in i if (word not in stop)]"
   ]
  },
  {
   "cell_type": "code",
   "execution_count": 17,
   "id": "c8da1aa2",
   "metadata": {
    "execution": {
     "iopub.execute_input": "2022-11-17T13:20:16.211287Z",
     "iopub.status.busy": "2022-11-17T13:20:16.210654Z",
     "iopub.status.idle": "2022-11-17T13:20:16.216487Z",
     "shell.execute_reply": "2022-11-17T13:20:16.215648Z"
    },
    "papermill": {
     "duration": 0.033287,
     "end_time": "2022-11-17T13:20:16.218489",
     "exception": false,
     "start_time": "2022-11-17T13:20:16.185202",
     "status": "completed"
    },
    "tags": []
   },
   "outputs": [
    {
     "data": {
      "text/plain": [
       "['explanation',\n",
       " 'edits',\n",
       " 'made',\n",
       " 'username',\n",
       " 'hardcore',\n",
       " 'metallica',\n",
       " 'fan',\n",
       " 'reverted',\n",
       " 'werent',\n",
       " 'vandalisms',\n",
       " 'closure',\n",
       " 'gas',\n",
       " 'voted',\n",
       " 'new',\n",
       " 'york',\n",
       " 'dolls',\n",
       " 'fac',\n",
       " 'please',\n",
       " 'dont',\n",
       " 'remove']"
      ]
     },
     "execution_count": 17,
     "metadata": {},
     "output_type": "execute_result"
    }
   ],
   "source": [
    "corpus[0:20]"
   ]
  },
  {
   "cell_type": "code",
   "execution_count": 18,
   "id": "4e55ff22",
   "metadata": {
    "execution": {
     "iopub.execute_input": "2022-11-17T13:20:16.269410Z",
     "iopub.status.busy": "2022-11-17T13:20:16.268801Z",
     "iopub.status.idle": "2022-11-17T13:20:20.490292Z",
     "shell.execute_reply": "2022-11-17T13:20:20.489129Z"
    },
    "papermill": {
     "duration": 4.250264,
     "end_time": "2022-11-17T13:20:20.492905",
     "exception": false,
     "start_time": "2022-11-17T13:20:16.242641",
     "status": "completed"
    },
    "tags": []
   },
   "outputs": [
    {
     "data": {
      "text/plain": [
       "[('article', 55460),\n",
       " ('page', 45678),\n",
       " ('wikipedia', 35679),\n",
       " ('talk', 31652),\n",
       " ('please', 29619),\n",
       " ('would', 29213),\n",
       " ('one', 28104),\n",
       " ('like', 27710),\n",
       " ('dont', 25742),\n",
       " ('see', 21497),\n",
       " ('also', 20553),\n",
       " ('think', 20042),\n",
       " ('im', 19277),\n",
       " ('know', 18996),\n",
       " ('people', 17717),\n",
       " ('edit', 17598),\n",
       " ('articles', 17525),\n",
       " ('use', 16327),\n",
       " ('may', 15568),\n",
       " ('time', 15435)]"
      ]
     },
     "execution_count": 18,
     "metadata": {},
     "output_type": "execute_result"
    }
   ],
   "source": [
    "# Obtain 20 most frequent words and plot them\n",
    "from nltk.probability import FreqDist\n",
    "most_common = FreqDist(corpus).most_common(20)\n",
    "most_common"
   ]
  },
  {
   "cell_type": "code",
   "execution_count": 19,
   "id": "28766fee",
   "metadata": {
    "execution": {
     "iopub.execute_input": "2022-11-17T13:20:20.543093Z",
     "iopub.status.busy": "2022-11-17T13:20:20.542704Z",
     "iopub.status.idle": "2022-11-17T13:20:21.056636Z",
     "shell.execute_reply": "2022-11-17T13:20:21.055537Z"
    },
    "papermill": {
     "duration": 0.541623,
     "end_time": "2022-11-17T13:20:21.059020",
     "exception": false,
     "start_time": "2022-11-17T13:20:20.517397",
     "status": "completed"
    },
    "tags": []
   },
   "outputs": [
    {
     "data": {
      "text/plain": [
       "<AxesSubplot:>"
      ]
     },
     "execution_count": 19,
     "metadata": {},
     "output_type": "execute_result"
    },
    {
     "data": {
      "image/png": "[encoded data removed]",
      "text/plain": [
       "<Figure size 432x288 with 1 Axes>"
      ]
     },
     "metadata": {
      "needs_background": "light"
     },
     "output_type": "display_data"
    }
   ],
   "source": [
    "words, frequency = [], []\n",
    "for word, count in most_common:\n",
    "    words.append(word)\n",
    "    frequency.append(count)\n",
    "    \n",
    "sns.barplot(x = frequency, y = words)"
   ]
  },
  {
   "cell_type": "code",
   "execution_count": 20,
   "id": "73aae586",
   "metadata": {
    "execution": {
     "iopub.execute_input": "2022-11-17T13:20:21.110087Z",
     "iopub.status.busy": "2022-11-17T13:20:21.109696Z",
     "iopub.status.idle": "2022-11-17T13:20:21.117571Z",
     "shell.execute_reply": "2022-11-17T13:20:21.116513Z"
    },
    "papermill": {
     "duration": 0.035943,
     "end_time": "2022-11-17T13:20:21.119622",
     "exception": false,
     "start_time": "2022-11-17T13:20:21.083679",
     "status": "completed"
    },
    "tags": []
   },
   "outputs": [],
   "source": [
    "# Obtain 2-gram words\n",
    "from nltk.util import ngrams\n",
    "from sklearn.feature_extraction.text import CountVectorizer\n",
    "\n",
    "list(ngrams(['I' ,'went','to','the','river','bank'],2))\n",
    "def get_top_ngram(corpus, n=None):\n",
    "    vec = CountVectorizer(ngram_range=(n, n)).fit(corpus)\n",
    "    bag_of_words = vec.transform(corpus)\n",
    "    sum_words = bag_of_words.sum(axis=0) \n",
    "    words_freq = [(word, sum_words[0, idx]) \n",
    "                  for word, idx in vec.vocabulary_.items()]\n",
    "    words_freq =sorted(words_freq, key = lambda x: x[1], reverse=True)\n",
    "    return words_freq[:10]"
   ]
  },
  {
   "cell_type": "code",
   "execution_count": 21,
   "id": "51681cf7",
   "metadata": {
    "execution": {
     "iopub.execute_input": "2022-11-17T13:20:21.170966Z",
     "iopub.status.busy": "2022-11-17T13:20:21.170249Z",
     "iopub.status.idle": "2022-11-17T13:21:07.070850Z",
     "shell.execute_reply": "2022-11-17T13:21:07.069727Z"
    },
    "papermill": {
     "duration": 45.953121,
     "end_time": "2022-11-17T13:21:07.097396",
     "exception": false,
     "start_time": "2022-11-17T13:20:21.144275",
     "status": "completed"
    },
    "tags": []
   },
   "outputs": [
    {
     "data": {
      "text/plain": [
       "[('of the', 50233),\n",
       " ('in the', 38312),\n",
       " ('to the', 26675),\n",
       " ('if you', 26409),\n",
       " ('on the', 23210),\n",
       " ('the article', 22585),\n",
       " ('it is', 21778),\n",
       " ('to be', 21358),\n",
       " ('you are', 17191),\n",
       " ('is not', 14782)]"
      ]
     },
     "execution_count": 21,
     "metadata": {},
     "output_type": "execute_result"
    }
   ],
   "source": [
    "\n",
    "top_n_bigrams=get_top_ngram(df['comment_clean'],2)[:20]\n",
    "top_n_bigrams"
   ]
  },
  {
   "cell_type": "code",
   "execution_count": 22,
   "id": "c58646eb",
   "metadata": {
    "execution": {
     "iopub.execute_input": "2022-11-17T13:21:07.149765Z",
     "iopub.status.busy": "2022-11-17T13:21:07.149359Z",
     "iopub.status.idle": "2022-11-17T13:21:07.337002Z",
     "shell.execute_reply": "2022-11-17T13:21:07.336136Z"
    },
    "papermill": {
     "duration": 0.216849,
     "end_time": "2022-11-17T13:21:07.339380",
     "exception": false,
     "start_time": "2022-11-17T13:21:07.122531",
     "status": "completed"
    },
    "tags": []
   },
   "outputs": [
    {
     "data": {
      "text/plain": [
       "<AxesSubplot:>"
      ]
     },
     "execution_count": 22,
     "metadata": {},
     "output_type": "execute_result"
    },
    {
     "data": {
      "image/png": "[encoded data removed]",
      "text/plain": [
       "<Figure size 432x288 with 1 Axes>"
      ]
     },
     "metadata": {
      "needs_background": "light"
     },
     "output_type": "display_data"
    }
   ],
   "source": [
    "x,y=map(list,zip(*top_n_bigrams)) \n",
    "sns.barplot(x=y,y=x) "
   ]
  },
  {
   "cell_type": "code",
   "execution_count": 23,
   "id": "954ad380",
   "metadata": {
    "execution": {
     "iopub.execute_input": "2022-11-17T13:21:07.392451Z",
     "iopub.status.busy": "2022-11-17T13:21:07.392020Z",
     "iopub.status.idle": "2022-11-17T13:21:07.399966Z",
     "shell.execute_reply": "2022-11-17T13:21:07.398696Z"
    },
    "papermill": {
     "duration": 0.036984,
     "end_time": "2022-11-17T13:21:07.402333",
     "exception": false,
     "start_time": "2022-11-17T13:21:07.365349",
     "status": "completed"
    },
    "tags": []
   },
   "outputs": [],
   "source": [
    "# Obtain 3-gram words\n",
    "from nltk.util import ngrams\n",
    "from sklearn.feature_extraction.text import CountVectorizer\n",
    "\n",
    "list(ngrams(['I' ,'went','to','the','river','bank'],3))\n",
    "def get_top_ngram(corpus, n=None):\n",
    "    vec = CountVectorizer(ngram_range=(n, n)).fit(corpus)\n",
    "    bag_of_words = vec.transform(corpus)\n",
    "    sum_words = bag_of_words.sum(axis=0) \n",
    "    words_freq = [(word, sum_words[0, idx]) \n",
    "                  for word, idx in vec.vocabulary_.items()]\n",
    "    words_freq =sorted(words_freq, key = lambda x: x[1], reverse=True)\n",
    "    return words_freq[:10]"
   ]
  },
  {
   "cell_type": "code",
   "execution_count": 24,
   "id": "db1127d4",
   "metadata": {
    "execution": {
     "iopub.execute_input": "2022-11-17T13:21:07.454303Z",
     "iopub.status.busy": "2022-11-17T13:21:07.453879Z",
     "iopub.status.idle": "2022-11-17T13:22:19.733047Z",
     "shell.execute_reply": "2022-11-17T13:22:19.731896Z"
    },
    "papermill": {
     "duration": 72.332398,
     "end_time": "2022-11-17T13:22:19.760065",
     "exception": false,
     "start_time": "2022-11-17T13:21:07.427667",
     "status": "completed"
    },
    "tags": []
   },
   "outputs": [
    {
     "data": {
      "text/plain": [
       "[('thank you for', 4018),\n",
       " ('if you have', 3552),\n",
       " ('my talk page', 3496),\n",
       " ('please do not', 3340),\n",
       " ('in the article', 3144),\n",
       " ('there is no', 3045),\n",
       " ('would like to', 2936),\n",
       " ('one of the', 2917),\n",
       " ('of the article', 2848),\n",
       " ('the talk page', 2551)]"
      ]
     },
     "execution_count": 24,
     "metadata": {},
     "output_type": "execute_result"
    }
   ],
   "source": [
    "top_n_trigrams=get_top_ngram(df['comment_clean'],3)[:20]\n",
    "top_n_trigrams"
   ]
  },
  {
   "cell_type": "code",
   "execution_count": 25,
   "id": "f1f4a789",
   "metadata": {
    "execution": {
     "iopub.execute_input": "2022-11-17T13:22:19.813683Z",
     "iopub.status.busy": "2022-11-17T13:22:19.813270Z",
     "iopub.status.idle": "2022-11-17T13:22:20.019415Z",
     "shell.execute_reply": "2022-11-17T13:22:20.018454Z"
    },
    "papermill": {
     "duration": 0.235473,
     "end_time": "2022-11-17T13:22:20.021799",
     "exception": false,
     "start_time": "2022-11-17T13:22:19.786326",
     "status": "completed"
    },
    "tags": []
   },
   "outputs": [
    {
     "data": {
      "text/plain": [
       "<AxesSubplot:>"
      ]
     },
     "execution_count": 25,
     "metadata": {},
     "output_type": "execute_result"
    },
    {
     "data": {
      "image/png": "[encoded data removed]",
      "text/plain": [
       "<Figure size 432x288 with 1 Axes>"
      ]
     },
     "metadata": {
      "needs_background": "light"
     },
     "output_type": "display_data"
    }
   ],
   "source": [
    "x,y=map(list,zip(*top_n_trigrams)) \n",
    "sns.barplot(x=y,y=x) "
   ]
  },
  {
   "cell_type": "markdown",
   "id": "3657ba48",
   "metadata": {
    "papermill": {
     "duration": 0.025654,
     "end_time": "2022-11-17T13:22:20.073815",
     "exception": false,
     "start_time": "2022-11-17T13:22:20.048161",
     "status": "completed"
    },
    "tags": []
   },
   "source": [
    "<center>\n",
    "<div style = \"background-color: rgba(152, 170, 236, 0.8); border-style: double;\">\n",
    "<strong style = \"font-size: 25px; color:rgba(86, 106, 181, 1);\"><center>4. Training N-Gram Models</center></strong>\n",
    "</div>\n",
    "</center>"
   ]
  },
  {
   "attachments": {
    "6a6b4b2f-8d0f-4443-903a-5d17326f0efc.png": {
     "image/png": "[encoded data removed]"
    },
    "95419264-bbe2-4759-a7d1-8b66cb0f83e9.png": {
     "image/png": "[encoded data removed]"
    }
   },
   "cell_type": "markdown",
   "id": "e28edbc1",
   "metadata": {
    "papermill": {
     "duration": 0.025711,
     "end_time": "2022-11-17T13:22:20.125541",
     "exception": false,
     "start_time": "2022-11-17T13:22:20.099830",
     "status": "completed"
    },
    "tags": []
   },
   "source": [
    "# Training N-Gram Models Using Binary Relevance & Gaussian NB\n",
    "\n",
    "Now that we have seen the top 1,2 and 3 gram must recurring vocabulary, we can understand how relevant each gram is. To, further see the impact, let's train models on 1,2,3 gram and compare them using metric results.\n",
    "\n",
    "WHAT IS BINARY RELEVANCE??\n",
    "For a multi-label problem in hand, we can choose to solve it by breaking it down into multiple sub-problems of binary classifications corresponding to each singular class in the dataset.\n",
    "\\\n",
    "\\\n",
    "For example, if we have a dataset with input X, and multiple labels Y1,Y2, Y3,Y4 that it can take up:\n",
    "\n",
    "![image.png](attachment:95419264-bbe2-4759-a7d1-8b66cb0f83e9.png)\n",
    "\\\n",
    "\\\n",
    "We may choose to solve the problem by breaking it up like:\n",
    "\n",
    "![image.png](attachment:6a6b4b2f-8d0f-4443-903a-5d17326f0efc.png)"
   ]
  },
  {
   "cell_type": "code",
   "execution_count": 26,
   "id": "75a5db85",
   "metadata": {
    "execution": {
     "iopub.execute_input": "2022-11-17T13:22:20.179656Z",
     "iopub.status.busy": "2022-11-17T13:22:20.179267Z",
     "iopub.status.idle": "2022-11-17T13:22:20.183952Z",
     "shell.execute_reply": "2022-11-17T13:22:20.183023Z"
    },
    "papermill": {
     "duration": 0.034603,
     "end_time": "2022-11-17T13:22:20.186188",
     "exception": false,
     "start_time": "2022-11-17T13:22:20.151585",
     "status": "completed"
    },
    "tags": []
   },
   "outputs": [],
   "source": [
    "# Let's just train the first 2000 datapoints as of now\n",
    "df = df[:2000]"
   ]
  },
  {
   "cell_type": "code",
   "execution_count": 27,
   "id": "59980a19",
   "metadata": {
    "execution": {
     "iopub.execute_input": "2022-11-17T13:22:20.240586Z",
     "iopub.status.busy": "2022-11-17T13:22:20.239557Z",
     "iopub.status.idle": "2022-11-17T13:22:20.246873Z",
     "shell.execute_reply": "2022-11-17T13:22:20.245946Z"
    },
    "papermill": {
     "duration": 0.036881,
     "end_time": "2022-11-17T13:22:20.249308",
     "exception": false,
     "start_time": "2022-11-17T13:22:20.212427",
     "status": "completed"
    },
    "tags": []
   },
   "outputs": [],
   "source": [
    "x = df['comment_clean']\n",
    "y = df[['toxic', 'severe_toxic', 'obscene', 'threat', 'insult', 'identity_hate']]"
   ]
  },
  {
   "cell_type": "code",
   "execution_count": 28,
   "id": "75ae5bf6",
   "metadata": {
    "execution": {
     "iopub.execute_input": "2022-11-17T13:22:20.304629Z",
     "iopub.status.busy": "2022-11-17T13:22:20.304193Z",
     "iopub.status.idle": "2022-11-17T13:22:20.311595Z",
     "shell.execute_reply": "2022-11-17T13:22:20.310665Z"
    },
    "papermill": {
     "duration": 0.037079,
     "end_time": "2022-11-17T13:22:20.313747",
     "exception": false,
     "start_time": "2022-11-17T13:22:20.276668",
     "status": "completed"
    },
    "tags": []
   },
   "outputs": [],
   "source": [
    "from sklearn.model_selection import train_test_split\n",
    "X_train, X_test, y_train, y_test = train_test_split(x, y, random_state=42,test_size=0.05)"
   ]
  },
  {
   "cell_type": "code",
   "execution_count": 29,
   "id": "229f3cfa",
   "metadata": {
    "execution": {
     "iopub.execute_input": "2022-11-17T13:22:20.368348Z",
     "iopub.status.busy": "2022-11-17T13:22:20.367683Z",
     "iopub.status.idle": "2022-11-17T13:22:20.373388Z",
     "shell.execute_reply": "2022-11-17T13:22:20.371943Z"
    },
    "papermill": {
     "duration": 0.036036,
     "end_time": "2022-11-17T13:22:20.375955",
     "exception": false,
     "start_time": "2022-11-17T13:22:20.339919",
     "status": "completed"
    },
    "tags": []
   },
   "outputs": [
    {
     "name": "stdout",
     "output_type": "stream",
     "text": [
      "1900\n"
     ]
    }
   ],
   "source": [
    "print(len(X_train))"
   ]
  },
  {
   "cell_type": "code",
   "execution_count": 30,
   "id": "af8ef510",
   "metadata": {
    "execution": {
     "iopub.execute_input": "2022-11-17T13:22:20.430312Z",
     "iopub.status.busy": "2022-11-17T13:22:20.429889Z",
     "iopub.status.idle": "2022-11-17T13:22:20.937265Z",
     "shell.execute_reply": "2022-11-17T13:22:20.935988Z"
    },
    "papermill": {
     "duration": 0.537188,
     "end_time": "2022-11-17T13:22:20.940056",
     "exception": false,
     "start_time": "2022-11-17T13:22:20.402868",
     "status": "completed"
    },
    "tags": []
   },
   "outputs": [],
   "source": [
    "from sklearn.feature_extraction.text import CountVectorizer\n",
    "from sklearn.metrics import hamming_loss, accuracy_score, precision_score, recall_score, f1_score, jaccard_score\n",
    "count_vectorizer = CountVectorizer(ngram_range = (1, 2), max_features = 20000)\n",
    "X_train = count_vectorizer.fit_transform(X_train)\n",
    "X_test = count_vectorizer.transform(X_test)"
   ]
  },
  {
   "cell_type": "code",
   "execution_count": 31,
   "id": "e566016f",
   "metadata": {
    "execution": {
     "iopub.execute_input": "2022-11-17T13:22:20.994310Z",
     "iopub.status.busy": "2022-11-17T13:22:20.993856Z",
     "iopub.status.idle": "2022-11-17T13:22:21.001511Z",
     "shell.execute_reply": "2022-11-17T13:22:21.000249Z"
    },
    "papermill": {
     "duration": 0.037323,
     "end_time": "2022-11-17T13:22:21.003840",
     "exception": false,
     "start_time": "2022-11-17T13:22:20.966517",
     "status": "completed"
    },
    "tags": []
   },
   "outputs": [
    {
     "data": {
      "text/plain": [
       "20000"
      ]
     },
     "execution_count": 31,
     "metadata": {},
     "output_type": "execute_result"
    }
   ],
   "source": [
    "len(count_vectorizer.vocabulary_)"
   ]
  },
  {
   "cell_type": "code",
   "execution_count": 32,
   "id": "b4cb2253",
   "metadata": {
    "execution": {
     "iopub.execute_input": "2022-11-17T13:22:21.058299Z",
     "iopub.status.busy": "2022-11-17T13:22:21.057864Z",
     "iopub.status.idle": "2022-11-17T13:22:21.066566Z",
     "shell.execute_reply": "2022-11-17T13:22:21.065274Z"
    },
    "papermill": {
     "duration": 0.039062,
     "end_time": "2022-11-17T13:22:21.069403",
     "exception": false,
     "start_time": "2022-11-17T13:22:21.030341",
     "status": "completed"
    },
    "tags": []
   },
   "outputs": [
    {
     "name": "stdout",
     "output_type": "stream",
     "text": [
      "  (0, 9946)\t1\n",
      "  (0, 12285)\t1\n",
      "  (0, 15826)\t1\n",
      "  (0, 5548)\t1\n",
      "  (0, 8645)\t1\n",
      "  (0, 9192)\t1\n",
      "  (0, 8394)\t1\n",
      "  (0, 15659)\t1\n",
      "  (0, 9980)\t1\n",
      "  (0, 15830)\t1\n",
      "  (0, 5605)\t1\n",
      "  (0, 8646)\t1\n",
      "  (0, 9226)\t1\n"
     ]
    }
   ],
   "source": [
    "print(X_train[0])"
   ]
  },
  {
   "cell_type": "code",
   "execution_count": 33,
   "id": "252346f5",
   "metadata": {
    "execution": {
     "iopub.execute_input": "2022-11-17T13:22:21.123318Z",
     "iopub.status.busy": "2022-11-17T13:22:21.122916Z",
     "iopub.status.idle": "2022-11-17T13:22:21.277991Z",
     "shell.execute_reply": "2022-11-17T13:22:21.276928Z"
    },
    "papermill": {
     "duration": 0.18451,
     "end_time": "2022-11-17T13:22:21.280310",
     "exception": false,
     "start_time": "2022-11-17T13:22:21.095800",
     "status": "completed"
    },
    "tags": []
   },
   "outputs": [
    {
     "name": "stderr",
     "output_type": "stream",
     "text": [
      "/opt/conda/lib/python3.7/site-packages/sklearn/utils/deprecation.py:87: FutureWarning: Function get_feature_names is deprecated; get_feature_names is deprecated in 1.0 and will be removed in 1.2. Please use get_feature_names_out instead.\n",
      "  warnings.warn(msg, category=FutureWarning)\n"
     ]
    },
    {
     "data": {
      "text/html": [
       "<div>\n",
       "<style scoped>\n",
       "    .dataframe tbody tr th:only-of-type {\n",
       "        vertical-align: middle;\n",
       "    }\n",
       "\n",
       "    .dataframe tbody tr th {\n",
       "        vertical-align: top;\n",
       "    }\n",
       "\n",
       "    .dataframe thead th {\n",
       "        text-align: right;\n",
       "    }\n",
       "</style>\n",
       "<table border=\"1\" class=\"dataframe\">\n",
       "  <thead>\n",
       "    <tr style=\"text-align: right;\">\n",
       "      <th></th>\n",
       "      <th>aa</th>\n",
       "      <th>aaron</th>\n",
       "      <th>aaron swartz</th>\n",
       "      <th>ab</th>\n",
       "      <th>abc</th>\n",
       "      <th>abide</th>\n",
       "      <th>abide by</th>\n",
       "      <th>abilities</th>\n",
       "      <th>ability</th>\n",
       "      <th>ability to</th>\n",
       "      <th>...</th>\n",
       "      <th>yugoslav</th>\n",
       "      <th>yugoslavia</th>\n",
       "      <th>yup</th>\n",
       "      <th>yya</th>\n",
       "      <th>zadar</th>\n",
       "      <th>zagreb</th>\n",
       "      <th>zealand</th>\n",
       "      <th>zero</th>\n",
       "      <th>zion</th>\n",
       "      <th>zionist</th>\n",
       "    </tr>\n",
       "  </thead>\n",
       "  <tbody>\n",
       "    <tr>\n",
       "      <th>0</th>\n",
       "      <td>0</td>\n",
       "      <td>0</td>\n",
       "      <td>0</td>\n",
       "      <td>0</td>\n",
       "      <td>0</td>\n",
       "      <td>0</td>\n",
       "      <td>0</td>\n",
       "      <td>0</td>\n",
       "      <td>0</td>\n",
       "      <td>0</td>\n",
       "      <td>...</td>\n",
       "      <td>0</td>\n",
       "      <td>0</td>\n",
       "      <td>0</td>\n",
       "      <td>0</td>\n",
       "      <td>0</td>\n",
       "      <td>0</td>\n",
       "      <td>0</td>\n",
       "      <td>0</td>\n",
       "      <td>0</td>\n",
       "      <td>0</td>\n",
       "    </tr>\n",
       "    <tr>\n",
       "      <th>1</th>\n",
       "      <td>0</td>\n",
       "      <td>0</td>\n",
       "      <td>0</td>\n",
       "      <td>0</td>\n",
       "      <td>0</td>\n",
       "      <td>0</td>\n",
       "      <td>0</td>\n",
       "      <td>0</td>\n",
       "      <td>0</td>\n",
       "      <td>0</td>\n",
       "      <td>...</td>\n",
       "      <td>0</td>\n",
       "      <td>0</td>\n",
       "      <td>0</td>\n",
       "      <td>0</td>\n",
       "      <td>0</td>\n",
       "      <td>0</td>\n",
       "      <td>0</td>\n",
       "      <td>0</td>\n",
       "      <td>0</td>\n",
       "      <td>0</td>\n",
       "    </tr>\n",
       "    <tr>\n",
       "      <th>2</th>\n",
       "      <td>0</td>\n",
       "      <td>0</td>\n",
       "      <td>0</td>\n",
       "      <td>0</td>\n",
       "      <td>0</td>\n",
       "      <td>0</td>\n",
       "      <td>0</td>\n",
       "      <td>0</td>\n",
       "      <td>0</td>\n",
       "      <td>0</td>\n",
       "      <td>...</td>\n",
       "      <td>0</td>\n",
       "      <td>0</td>\n",
       "      <td>0</td>\n",
       "      <td>0</td>\n",
       "      <td>0</td>\n",
       "      <td>0</td>\n",
       "      <td>0</td>\n",
       "      <td>0</td>\n",
       "      <td>0</td>\n",
       "      <td>0</td>\n",
       "    </tr>\n",
       "    <tr>\n",
       "      <th>3</th>\n",
       "      <td>0</td>\n",
       "      <td>0</td>\n",
       "      <td>0</td>\n",
       "      <td>0</td>\n",
       "      <td>0</td>\n",
       "      <td>0</td>\n",
       "      <td>0</td>\n",
       "      <td>0</td>\n",
       "      <td>0</td>\n",
       "      <td>0</td>\n",
       "      <td>...</td>\n",
       "      <td>0</td>\n",
       "      <td>0</td>\n",
       "      <td>0</td>\n",
       "      <td>0</td>\n",
       "      <td>0</td>\n",
       "      <td>0</td>\n",
       "      <td>0</td>\n",
       "      <td>0</td>\n",
       "      <td>0</td>\n",
       "      <td>0</td>\n",
       "    </tr>\n",
       "    <tr>\n",
       "      <th>4</th>\n",
       "      <td>0</td>\n",
       "      <td>0</td>\n",
       "      <td>0</td>\n",
       "      <td>0</td>\n",
       "      <td>0</td>\n",
       "      <td>0</td>\n",
       "      <td>0</td>\n",
       "      <td>0</td>\n",
       "      <td>0</td>\n",
       "      <td>0</td>\n",
       "      <td>...</td>\n",
       "      <td>0</td>\n",
       "      <td>0</td>\n",
       "      <td>0</td>\n",
       "      <td>0</td>\n",
       "      <td>0</td>\n",
       "      <td>0</td>\n",
       "      <td>0</td>\n",
       "      <td>0</td>\n",
       "      <td>0</td>\n",
       "      <td>0</td>\n",
       "    </tr>\n",
       "    <tr>\n",
       "      <th>...</th>\n",
       "      <td>...</td>\n",
       "      <td>...</td>\n",
       "      <td>...</td>\n",
       "      <td>...</td>\n",
       "      <td>...</td>\n",
       "      <td>...</td>\n",
       "      <td>...</td>\n",
       "      <td>...</td>\n",
       "      <td>...</td>\n",
       "      <td>...</td>\n",
       "      <td>...</td>\n",
       "      <td>...</td>\n",
       "      <td>...</td>\n",
       "      <td>...</td>\n",
       "      <td>...</td>\n",
       "      <td>...</td>\n",
       "      <td>...</td>\n",
       "      <td>...</td>\n",
       "      <td>...</td>\n",
       "      <td>...</td>\n",
       "      <td>...</td>\n",
       "    </tr>\n",
       "    <tr>\n",
       "      <th>1895</th>\n",
       "      <td>0</td>\n",
       "      <td>0</td>\n",
       "      <td>0</td>\n",
       "      <td>0</td>\n",
       "      <td>0</td>\n",
       "      <td>0</td>\n",
       "      <td>0</td>\n",
       "      <td>0</td>\n",
       "      <td>0</td>\n",
       "      <td>0</td>\n",
       "      <td>...</td>\n",
       "      <td>0</td>\n",
       "      <td>0</td>\n",
       "      <td>0</td>\n",
       "      <td>0</td>\n",
       "      <td>0</td>\n",
       "      <td>0</td>\n",
       "      <td>0</td>\n",
       "      <td>0</td>\n",
       "      <td>0</td>\n",
       "      <td>0</td>\n",
       "    </tr>\n",
       "    <tr>\n",
       "      <th>1896</th>\n",
       "      <td>0</td>\n",
       "      <td>0</td>\n",
       "      <td>0</td>\n",
       "      <td>0</td>\n",
       "      <td>0</td>\n",
       "      <td>0</td>\n",
       "      <td>0</td>\n",
       "      <td>0</td>\n",
       "      <td>0</td>\n",
       "      <td>0</td>\n",
       "      <td>...</td>\n",
       "      <td>0</td>\n",
       "      <td>0</td>\n",
       "      <td>0</td>\n",
       "      <td>0</td>\n",
       "      <td>0</td>\n",
       "      <td>0</td>\n",
       "      <td>0</td>\n",
       "      <td>0</td>\n",
       "      <td>0</td>\n",
       "      <td>0</td>\n",
       "    </tr>\n",
       "    <tr>\n",
       "      <th>1897</th>\n",
       "      <td>0</td>\n",
       "      <td>0</td>\n",
       "      <td>0</td>\n",
       "      <td>0</td>\n",
       "      <td>0</td>\n",
       "      <td>0</td>\n",
       "      <td>0</td>\n",
       "      <td>0</td>\n",
       "      <td>0</td>\n",
       "      <td>0</td>\n",
       "      <td>...</td>\n",
       "      <td>0</td>\n",
       "      <td>0</td>\n",
       "      <td>0</td>\n",
       "      <td>0</td>\n",
       "      <td>0</td>\n",
       "      <td>0</td>\n",
       "      <td>0</td>\n",
       "      <td>0</td>\n",
       "      <td>0</td>\n",
       "      <td>0</td>\n",
       "    </tr>\n",
       "    <tr>\n",
       "      <th>1898</th>\n",
       "      <td>0</td>\n",
       "      <td>0</td>\n",
       "      <td>0</td>\n",
       "      <td>0</td>\n",
       "      <td>0</td>\n",
       "      <td>0</td>\n",
       "      <td>0</td>\n",
       "      <td>0</td>\n",
       "      <td>0</td>\n",
       "      <td>0</td>\n",
       "      <td>...</td>\n",
       "      <td>0</td>\n",
       "      <td>0</td>\n",
       "      <td>0</td>\n",
       "      <td>0</td>\n",
       "      <td>0</td>\n",
       "      <td>0</td>\n",
       "      <td>0</td>\n",
       "      <td>0</td>\n",
       "      <td>0</td>\n",
       "      <td>0</td>\n",
       "    </tr>\n",
       "    <tr>\n",
       "      <th>1899</th>\n",
       "      <td>0</td>\n",
       "      <td>0</td>\n",
       "      <td>0</td>\n",
       "      <td>0</td>\n",
       "      <td>0</td>\n",
       "      <td>0</td>\n",
       "      <td>0</td>\n",
       "      <td>0</td>\n",
       "      <td>0</td>\n",
       "      <td>0</td>\n",
       "      <td>...</td>\n",
       "      <td>0</td>\n",
       "      <td>0</td>\n",
       "      <td>0</td>\n",
       "      <td>0</td>\n",
       "      <td>0</td>\n",
       "      <td>0</td>\n",
       "      <td>0</td>\n",
       "      <td>0</td>\n",
       "      <td>0</td>\n",
       "      <td>0</td>\n",
       "    </tr>\n",
       "  </tbody>\n",
       "</table>\n",
       "<p>1900 rows × 20000 columns</p>\n",
       "</div>"
      ],
      "text/plain": [
       "      aa  aaron  aaron swartz  ab  abc  abide  abide by  abilities  ability  \\\n",
       "0      0      0             0   0    0      0         0          0        0   \n",
       "1      0      0             0   0    0      0         0          0        0   \n",
       "2      0      0             0   0    0      0         0          0        0   \n",
       "3      0      0             0   0    0      0         0          0        0   \n",
       "4      0      0             0   0    0      0         0          0        0   \n",
       "...   ..    ...           ...  ..  ...    ...       ...        ...      ...   \n",
       "1895   0      0             0   0    0      0         0          0        0   \n",
       "1896   0      0             0   0    0      0         0          0        0   \n",
       "1897   0      0             0   0    0      0         0          0        0   \n",
       "1898   0      0             0   0    0      0         0          0        0   \n",
       "1899   0      0             0   0    0      0         0          0        0   \n",
       "\n",
       "      ability to  ...  yugoslav  yugoslavia  yup  yya  zadar  zagreb  zealand  \\\n",
       "0              0  ...         0           0    0    0      0       0        0   \n",
       "1              0  ...         0           0    0    0      0       0        0   \n",
       "2              0  ...         0           0    0    0      0       0        0   \n",
       "3              0  ...         0           0    0    0      0       0        0   \n",
       "4              0  ...         0           0    0    0      0       0        0   \n",
       "...          ...  ...       ...         ...  ...  ...    ...     ...      ...   \n",
       "1895           0  ...         0           0    0    0      0       0        0   \n",
       "1896           0  ...         0           0    0    0      0       0        0   \n",
       "1897           0  ...         0           0    0    0      0       0        0   \n",
       "1898           0  ...         0           0    0    0      0       0        0   \n",
       "1899           0  ...         0           0    0    0      0       0        0   \n",
       "\n",
       "      zero  zion  zionist  \n",
       "0        0     0        0  \n",
       "1        0     0        0  \n",
       "2        0     0        0  \n",
       "3        0     0        0  \n",
       "4        0     0        0  \n",
       "...    ...   ...      ...  \n",
       "1895     0     0        0  \n",
       "1896     0     0        0  \n",
       "1897     0     0        0  \n",
       "1898     0     0        0  \n",
       "1899     0     0        0  \n",
       "\n",
       "[1900 rows x 20000 columns]"
      ]
     },
     "execution_count": 33,
     "metadata": {},
     "output_type": "execute_result"
    }
   ],
   "source": [
    "Doc_Term_Matrix = pd.DataFrame(X_train.toarray(),columns= count_vectorizer.get_feature_names())\n",
    "Doc_Term_Matrix"
   ]
  },
  {
   "cell_type": "markdown",
   "id": "f77a6a4b",
   "metadata": {
    "papermill": {
     "duration": 0.026051,
     "end_time": "2022-11-17T13:22:21.333207",
     "exception": false,
     "start_time": "2022-11-17T13:22:21.307156",
     "status": "completed"
    },
    "tags": []
   },
   "source": [
    "One Gram"
   ]
  },
  {
   "cell_type": "code",
   "execution_count": 34,
   "id": "e3de4898",
   "metadata": {
    "execution": {
     "iopub.execute_input": "2022-11-17T13:22:21.389388Z",
     "iopub.status.busy": "2022-11-17T13:22:21.388932Z",
     "iopub.status.idle": "2022-11-17T13:22:25.009367Z",
     "shell.execute_reply": "2022-11-17T13:22:25.007711Z"
    },
    "papermill": {
     "duration": 3.652861,
     "end_time": "2022-11-17T13:22:25.012673",
     "exception": false,
     "start_time": "2022-11-17T13:22:21.359812",
     "status": "completed"
    },
    "tags": []
   },
   "outputs": [
    {
     "name": "stdout",
     "output_type": "stream",
     "text": [
      "\u001b[42m\u001b[37mAccuracy Score :\u001b[47m\u001b[32m   0.79\n",
      "\u001b[42m\u001b[37mHamming Loss :\u001b[47m\u001b[32m   0.075\n"
     ]
    }
   ],
   "source": [
    "from sklearn.model_selection import train_test_split\n",
    "X_train, X_test, y_train, y_test = train_test_split(x, y, random_state=42,test_size=0.05)\n",
    "\n",
    "from sklearn.feature_extraction.text import CountVectorizer\n",
    "count_vectorizer = CountVectorizer(ngram_range = (1, 1), max_features = 20000)\n",
    "X_train = count_vectorizer.fit_transform(X_train)\n",
    "X_test = count_vectorizer.transform(X_test)\n",
    "\n",
    "from skmultilearn.problem_transform import BinaryRelevance\n",
    "from sklearn.naive_bayes import GaussianNB\n",
    "classifier = BinaryRelevance(GaussianNB())\n",
    "classifier.fit(X_train, y_train)\n",
    "predictions1n = classifier.predict(X_test)\n",
    "print(Back.GREEN+Fore.WHITE +f\"Accuracy Score :\" + Back.WHITE+Fore.GREEN + f\"   {accuracy_score(y_test,predictions1n)}\")\n",
    "print(Back.GREEN+Fore.WHITE +f\"Hamming Loss :\" + Back.WHITE+Fore.GREEN + f\"   {hamming_loss(y_test,predictions1n)}\")\n"
   ]
  },
  {
   "cell_type": "markdown",
   "id": "e0a57e39",
   "metadata": {
    "papermill": {
     "duration": 0.026343,
     "end_time": "2022-11-17T13:22:25.067055",
     "exception": false,
     "start_time": "2022-11-17T13:22:25.040712",
     "status": "completed"
    },
    "tags": []
   },
   "source": [
    "one and two gram"
   ]
  },
  {
   "cell_type": "code",
   "execution_count": 35,
   "id": "168bc4c3",
   "metadata": {
    "execution": {
     "iopub.execute_input": "2022-11-17T13:22:25.122210Z",
     "iopub.status.busy": "2022-11-17T13:22:25.121802Z",
     "iopub.status.idle": "2022-11-17T13:22:30.434916Z",
     "shell.execute_reply": "2022-11-17T13:22:30.433682Z"
    },
    "papermill": {
     "duration": 5.345006,
     "end_time": "2022-11-17T13:22:30.438988",
     "exception": false,
     "start_time": "2022-11-17T13:22:25.093982",
     "status": "completed"
    },
    "tags": []
   },
   "outputs": [
    {
     "name": "stdout",
     "output_type": "stream",
     "text": [
      "\u001b[42m\u001b[37mAccuracy Score :\u001b[47m\u001b[32m   0.85\n",
      "\u001b[42m\u001b[37mHamming Loss :\u001b[47m\u001b[32m   0.058333333333333334\n"
     ]
    }
   ],
   "source": [
    "from sklearn.model_selection import train_test_split\n",
    "X_train, X_test, y_train, y_test = train_test_split(x, y, random_state=42,test_size=0.05)\n",
    "\n",
    "from sklearn.feature_extraction.text import CountVectorizer\n",
    "count_vectorizer = CountVectorizer(ngram_range = (1, 2), max_features = 20000)\n",
    "X_train = count_vectorizer.fit_transform(X_train)\n",
    "X_test = count_vectorizer.transform(X_test)\n",
    "\n",
    "from skmultilearn.problem_transform import BinaryRelevance\n",
    "from sklearn.naive_bayes import GaussianNB\n",
    "classifier = BinaryRelevance(GaussianNB())\n",
    "classifier.fit(X_train, y_train)\n",
    "predictions12n = classifier.predict(X_test)\n",
    "print(Back.GREEN+Fore.WHITE +f\"Accuracy Score :\" + Back.WHITE+Fore.GREEN + f\"   {accuracy_score(y_test,predictions12n)}\")\n",
    "print(Back.GREEN+Fore.WHITE +f\"Hamming Loss :\" + Back.WHITE+Fore.GREEN + f\"   {hamming_loss(y_test,predictions12n)}\")"
   ]
  },
  {
   "cell_type": "markdown",
   "id": "ee485e27",
   "metadata": {
    "papermill": {
     "duration": 0.026226,
     "end_time": "2022-11-17T13:22:30.493389",
     "exception": false,
     "start_time": "2022-11-17T13:22:30.467163",
     "status": "completed"
    },
    "tags": []
   },
   "source": [
    "two gram"
   ]
  },
  {
   "cell_type": "code",
   "execution_count": 36,
   "id": "236443b2",
   "metadata": {
    "execution": {
     "iopub.execute_input": "2022-11-17T13:22:30.549121Z",
     "iopub.status.busy": "2022-11-17T13:22:30.548713Z",
     "iopub.status.idle": "2022-11-17T13:22:35.590995Z",
     "shell.execute_reply": "2022-11-17T13:22:35.589257Z"
    },
    "papermill": {
     "duration": 5.073444,
     "end_time": "2022-11-17T13:22:35.593802",
     "exception": false,
     "start_time": "2022-11-17T13:22:30.520358",
     "status": "completed"
    },
    "tags": []
   },
   "outputs": [
    {
     "name": "stdout",
     "output_type": "stream",
     "text": [
      "\u001b[42m\u001b[37mAccuracy Score :\u001b[47m\u001b[32m   0.81\n",
      "\u001b[42m\u001b[37mHamming Loss :\u001b[47m\u001b[32m   0.11666666666666667\n"
     ]
    }
   ],
   "source": [
    "from sklearn.model_selection import train_test_split\n",
    "X_train, X_test, y_train, y_test = train_test_split(x, y, random_state=42,test_size=0.05)\n",
    "\n",
    "from sklearn.feature_extraction.text import CountVectorizer\n",
    "count_vectorizer = CountVectorizer(ngram_range = (2, 2), max_features = 20000)\n",
    "X_train = count_vectorizer.fit_transform(X_train)\n",
    "X_test = count_vectorizer.transform(X_test)\n",
    "\n",
    "from skmultilearn.problem_transform import BinaryRelevance\n",
    "from sklearn.naive_bayes import GaussianNB\n",
    "classifier = BinaryRelevance(GaussianNB())\n",
    "classifier.fit(X_train, y_train)\n",
    "predictions2n = classifier.predict(X_test)\n",
    "print(Back.GREEN+Fore.WHITE +f\"Accuracy Score :\" + Back.WHITE+Fore.GREEN + f\"   {accuracy_score(y_test,predictions2n)}\")\n",
    "print(Back.GREEN+Fore.WHITE +f\"Hamming Loss :\" + Back.WHITE+Fore.GREEN + f\"   {hamming_loss(y_test,predictions2n)}\")"
   ]
  },
  {
   "cell_type": "markdown",
   "id": "d403f8d8",
   "metadata": {
    "papermill": {
     "duration": 0.027769,
     "end_time": "2022-11-17T13:22:35.648940",
     "exception": false,
     "start_time": "2022-11-17T13:22:35.621171",
     "status": "completed"
    },
    "tags": []
   },
   "source": [
    "one, two and three gram"
   ]
  },
  {
   "cell_type": "code",
   "execution_count": 37,
   "id": "e2bcfac9",
   "metadata": {
    "execution": {
     "iopub.execute_input": "2022-11-17T13:22:35.704833Z",
     "iopub.status.busy": "2022-11-17T13:22:35.704429Z",
     "iopub.status.idle": "2022-11-17T13:22:41.557626Z",
     "shell.execute_reply": "2022-11-17T13:22:41.556279Z"
    },
    "papermill": {
     "duration": 5.884111,
     "end_time": "2022-11-17T13:22:41.560170",
     "exception": false,
     "start_time": "2022-11-17T13:22:35.676059",
     "status": "completed"
    },
    "tags": []
   },
   "outputs": [
    {
     "name": "stdout",
     "output_type": "stream",
     "text": [
      "\u001b[42m\u001b[37mAccuracy Score :\u001b[47m\u001b[32m   0.85\n",
      "\u001b[42m\u001b[37mHamming Loss :\u001b[47m\u001b[32m   0.058333333333333334\n"
     ]
    }
   ],
   "source": [
    "from sklearn.model_selection import train_test_split\n",
    "X_train, X_test, y_train, y_test = train_test_split(x, y, random_state=42,test_size=0.05)\n",
    "\n",
    "from sklearn.feature_extraction.text import CountVectorizer\n",
    "count_vectorizer = CountVectorizer(ngram_range = (1, 3), max_features = 20000)\n",
    "X_train = count_vectorizer.fit_transform(X_train)\n",
    "X_test = count_vectorizer.transform(X_test)\n",
    "\n",
    "from skmultilearn.problem_transform import BinaryRelevance\n",
    "from sklearn.naive_bayes import GaussianNB\n",
    "classifier = BinaryRelevance(GaussianNB())\n",
    "classifier.fit(X_train, y_train)\n",
    "predictions123n = classifier.predict(X_test)\n",
    "print(Back.GREEN+Fore.WHITE +f\"Accuracy Score :\" + Back.WHITE+Fore.GREEN + f\"   {accuracy_score(y_test,predictions123n)}\")\n",
    "print(Back.GREEN+Fore.WHITE +f\"Hamming Loss :\" + Back.WHITE+Fore.GREEN + f\"   {hamming_loss(y_test,predictions123n)}\")"
   ]
  },
  {
   "cell_type": "markdown",
   "id": "ca01b64a",
   "metadata": {
    "papermill": {
     "duration": 0.027128,
     "end_time": "2022-11-17T13:22:41.614622",
     "exception": false,
     "start_time": "2022-11-17T13:22:41.587494",
     "status": "completed"
    },
    "tags": []
   },
   "source": [
    "two and three gram"
   ]
  },
  {
   "cell_type": "code",
   "execution_count": 38,
   "id": "5c9bf911",
   "metadata": {
    "execution": {
     "iopub.execute_input": "2022-11-17T13:22:41.672443Z",
     "iopub.status.busy": "2022-11-17T13:22:41.671240Z",
     "iopub.status.idle": "2022-11-17T13:22:47.257618Z",
     "shell.execute_reply": "2022-11-17T13:22:47.256021Z"
    },
    "papermill": {
     "duration": 5.618107,
     "end_time": "2022-11-17T13:22:47.260550",
     "exception": false,
     "start_time": "2022-11-17T13:22:41.642443",
     "status": "completed"
    },
    "tags": []
   },
   "outputs": [
    {
     "name": "stdout",
     "output_type": "stream",
     "text": [
      "\u001b[42m\u001b[37mAccuracy Score :\u001b[47m\u001b[32m   0.81\n",
      "\u001b[42m\u001b[37mHamming Loss :\u001b[47m\u001b[32m   0.11666666666666667\n"
     ]
    }
   ],
   "source": [
    "from sklearn.model_selection import train_test_split\n",
    "X_train, X_test, y_train, y_test = train_test_split(x, y, random_state=42,test_size=0.05)\n",
    "\n",
    "from sklearn.feature_extraction.text import CountVectorizer\n",
    "count_vectorizer = CountVectorizer(ngram_range = (2, 3), max_features = 20000)\n",
    "X_train = count_vectorizer.fit_transform(X_train)\n",
    "X_test = count_vectorizer.transform(X_test)\n",
    "\n",
    "from skmultilearn.problem_transform import BinaryRelevance\n",
    "from sklearn.naive_bayes import GaussianNB\n",
    "classifier = BinaryRelevance(GaussianNB())\n",
    "classifier.fit(X_train, y_train)\n",
    "predictions23n = classifier.predict(X_test)\n",
    "print(Back.GREEN+Fore.WHITE +f\"Accuracy Score :\" + Back.WHITE+Fore.GREEN + f\"   {accuracy_score(y_test,predictions23n)}\")\n",
    "print(Back.GREEN+Fore.WHITE +f\"Hamming Loss :\" + Back.WHITE+Fore.GREEN + f\"   {hamming_loss(y_test,predictions23n)}\")"
   ]
  },
  {
   "cell_type": "markdown",
   "id": "5ab136c3",
   "metadata": {
    "papermill": {
     "duration": 0.02718,
     "end_time": "2022-11-17T13:22:47.316203",
     "exception": false,
     "start_time": "2022-11-17T13:22:47.289023",
     "status": "completed"
    },
    "tags": []
   },
   "source": [
    "three gram"
   ]
  },
  {
   "cell_type": "code",
   "execution_count": 39,
   "id": "9505dc8f",
   "metadata": {
    "execution": {
     "iopub.execute_input": "2022-11-17T13:22:47.373812Z",
     "iopub.status.busy": "2022-11-17T13:22:47.373074Z",
     "iopub.status.idle": "2022-11-17T13:22:52.500004Z",
     "shell.execute_reply": "2022-11-17T13:22:52.498574Z"
    },
    "papermill": {
     "duration": 5.15887,
     "end_time": "2022-11-17T13:22:52.502587",
     "exception": false,
     "start_time": "2022-11-17T13:22:47.343717",
     "status": "completed"
    },
    "tags": []
   },
   "outputs": [
    {
     "name": "stdout",
     "output_type": "stream",
     "text": [
      "\u001b[42m\u001b[37mAccuracy Score :\u001b[47m\u001b[32m   0.63\n",
      "\u001b[42m\u001b[37mHamming Loss :\u001b[47m\u001b[32m   0.2816666666666667\n"
     ]
    }
   ],
   "source": [
    "from sklearn.model_selection import train_test_split\n",
    "X_train, X_test, y_train, y_test = train_test_split(x, y, random_state=42,test_size=0.05)\n",
    "\n",
    "from sklearn.feature_extraction.text import CountVectorizer\n",
    "count_vectorizer = CountVectorizer(ngram_range = (3, 3), max_features = 20000)\n",
    "X_train = count_vectorizer.fit_transform(X_train)\n",
    "X_test = count_vectorizer.transform(X_test)\n",
    "\n",
    "from skmultilearn.problem_transform import BinaryRelevance\n",
    "from sklearn.naive_bayes import GaussianNB\n",
    "classifier = BinaryRelevance(GaussianNB())\n",
    "classifier.fit(X_train, y_train)\n",
    "predictions3n = classifier.predict(X_test)\n",
    "print(Back.GREEN+Fore.WHITE +f\"Accuracy Score :\" + Back.WHITE+Fore.GREEN + f\"   {accuracy_score(y_test,predictions3n)}\")\n",
    "print(Back.GREEN+Fore.WHITE +f\"Hamming Loss :\" + Back.WHITE+Fore.GREEN + f\"   {hamming_loss(y_test,predictions3n)}\")"
   ]
  },
  {
   "cell_type": "markdown",
   "id": "96656468",
   "metadata": {
    "papermill": {
     "duration": 0.026758,
     "end_time": "2022-11-17T13:22:52.556768",
     "exception": false,
     "start_time": "2022-11-17T13:22:52.530010",
     "status": "completed"
    },
    "tags": []
   },
   "source": [
    "<center>\n",
    "<div style = \"background-color: rgba(152, 170, 236, 0.8); border-style: double;\">\n",
    "<strong style = \"font-size: 25px; color:rgba(86, 106, 181, 1);\"><center>4. Training Other Multi-Label Models</center></strong>\n",
    "</div>\n",
    "</center>"
   ]
  },
  {
   "cell_type": "markdown",
   "id": "a48b455e",
   "metadata": {
    "papermill": {
     "duration": 0.027067,
     "end_time": "2022-11-17T13:22:52.610970",
     "exception": false,
     "start_time": "2022-11-17T13:22:52.583903",
     "status": "completed"
    },
    "tags": []
   },
   "source": [
    "# Neural Network🔥"
   ]
  },
  {
   "cell_type": "markdown",
   "id": "452fa86a",
   "metadata": {
    "papermill": {
     "duration": 0.026688,
     "end_time": "2022-11-17T13:22:52.664857",
     "exception": false,
     "start_time": "2022-11-17T13:22:52.638169",
     "status": "completed"
    },
    "tags": []
   },
   "source": [
    "**Sequential Approach**\n",
    "\n",
    "HOW DOES IT WORK?"
   ]
  },
  {
   "cell_type": "code",
   "execution_count": 40,
   "id": "d630f0c7",
   "metadata": {
    "execution": {
     "iopub.execute_input": "2022-11-17T13:22:52.721911Z",
     "iopub.status.busy": "2022-11-17T13:22:52.720733Z",
     "iopub.status.idle": "2022-11-17T13:22:59.179643Z",
     "shell.execute_reply": "2022-11-17T13:22:59.178431Z"
    },
    "papermill": {
     "duration": 6.490255,
     "end_time": "2022-11-17T13:22:59.182598",
     "exception": false,
     "start_time": "2022-11-17T13:22:52.692343",
     "status": "completed"
    },
    "tags": []
   },
   "outputs": [
    {
     "name": "stderr",
     "output_type": "stream",
     "text": [
      "2022-11-17 13:22:58.738825: I tensorflow/core/common_runtime/process_util.cc:146] Creating new thread pool with default inter op setting: 2. Tune using inter_op_parallelism_threads for best performance.\n"
     ]
    }
   ],
   "source": [
    "import tensorflow \n",
    "from keras.models import Sequential\n",
    "from keras.layers import Dense\n",
    "\n",
    "\n",
    "model = Sequential()\n",
    "model.add(Dense(20, input_dim=20000, kernel_initializer='he_uniform', activation='relu'))\n",
    "model.add(Dense(6, activation='sigmoid'))\n",
    "model.compile(loss='binary_crossentropy', optimizer='adam')"
   ]
  },
  {
   "cell_type": "code",
   "execution_count": 41,
   "id": "2ad881e8",
   "metadata": {
    "execution": {
     "iopub.execute_input": "2022-11-17T13:22:59.238717Z",
     "iopub.status.busy": "2022-11-17T13:22:59.237815Z",
     "iopub.status.idle": "2022-11-17T13:22:59.244832Z",
     "shell.execute_reply": "2022-11-17T13:22:59.243558Z"
    },
    "papermill": {
     "duration": 0.037572,
     "end_time": "2022-11-17T13:22:59.247079",
     "exception": false,
     "start_time": "2022-11-17T13:22:59.209507",
     "status": "completed"
    },
    "tags": []
   },
   "outputs": [
    {
     "name": "stdout",
     "output_type": "stream",
     "text": [
      "Model: \"sequential\"\n",
      "_________________________________________________________________\n",
      "Layer (type)                 Output Shape              Param #   \n",
      "=================================================================\n",
      "dense (Dense)                (None, 20)                400020    \n",
      "_________________________________________________________________\n",
      "dense_1 (Dense)              (None, 6)                 126       \n",
      "=================================================================\n",
      "Total params: 400,146\n",
      "Trainable params: 400,146\n",
      "Non-trainable params: 0\n",
      "_________________________________________________________________\n"
     ]
    }
   ],
   "source": [
    "model.summary()"
   ]
  },
  {
   "cell_type": "code",
   "execution_count": 42,
   "id": "642eeeef",
   "metadata": {
    "execution": {
     "iopub.execute_input": "2022-11-17T13:22:59.303819Z",
     "iopub.status.busy": "2022-11-17T13:22:59.303020Z",
     "iopub.status.idle": "2022-11-17T13:22:59.399343Z",
     "shell.execute_reply": "2022-11-17T13:22:59.398210Z"
    },
    "papermill": {
     "duration": 0.127349,
     "end_time": "2022-11-17T13:22:59.401977",
     "exception": false,
     "start_time": "2022-11-17T13:22:59.274628",
     "status": "completed"
    },
    "tags": []
   },
   "outputs": [
    {
     "name": "stderr",
     "output_type": "stream",
     "text": [
      "/opt/conda/lib/python3.7/site-packages/sklearn/utils/deprecation.py:87: FutureWarning: Function get_feature_names is deprecated; get_feature_names is deprecated in 1.0 and will be removed in 1.2. Please use get_feature_names_out instead.\n",
      "  warnings.warn(msg, category=FutureWarning)\n"
     ]
    },
    {
     "data": {
      "text/html": [
       "<div>\n",
       "<style scoped>\n",
       "    .dataframe tbody tr th:only-of-type {\n",
       "        vertical-align: middle;\n",
       "    }\n",
       "\n",
       "    .dataframe tbody tr th {\n",
       "        vertical-align: top;\n",
       "    }\n",
       "\n",
       "    .dataframe thead th {\n",
       "        text-align: right;\n",
       "    }\n",
       "</style>\n",
       "<table border=\"1\" class=\"dataframe\">\n",
       "  <thead>\n",
       "    <tr style=\"text-align: right;\">\n",
       "      <th></th>\n",
       "      <th>abide by the</th>\n",
       "      <th>able to do</th>\n",
       "      <th>able to get</th>\n",
       "      <th>able to post</th>\n",
       "      <th>able to see</th>\n",
       "      <th>able to take</th>\n",
       "      <th>about alternative life</th>\n",
       "      <th>about censorship in</th>\n",
       "      <th>about contributing to</th>\n",
       "      <th>about ed morrissey</th>\n",
       "      <th>...</th>\n",
       "      <th>your way around</th>\n",
       "      <th>your wife and</th>\n",
       "      <th>youre coming from</th>\n",
       "      <th>youre going to</th>\n",
       "      <th>youre right was</th>\n",
       "      <th>yourself but dont</th>\n",
       "      <th>yourself familiar with</th>\n",
       "      <th>yourself then you</th>\n",
       "      <th>yourself to the</th>\n",
       "      <th>yourself with the</th>\n",
       "    </tr>\n",
       "  </thead>\n",
       "  <tbody>\n",
       "    <tr>\n",
       "      <th>0</th>\n",
       "      <td>0</td>\n",
       "      <td>0</td>\n",
       "      <td>0</td>\n",
       "      <td>0</td>\n",
       "      <td>0</td>\n",
       "      <td>0</td>\n",
       "      <td>0</td>\n",
       "      <td>0</td>\n",
       "      <td>0</td>\n",
       "      <td>0</td>\n",
       "      <td>...</td>\n",
       "      <td>0</td>\n",
       "      <td>0</td>\n",
       "      <td>0</td>\n",
       "      <td>0</td>\n",
       "      <td>0</td>\n",
       "      <td>0</td>\n",
       "      <td>0</td>\n",
       "      <td>0</td>\n",
       "      <td>0</td>\n",
       "      <td>0</td>\n",
       "    </tr>\n",
       "    <tr>\n",
       "      <th>1</th>\n",
       "      <td>0</td>\n",
       "      <td>0</td>\n",
       "      <td>0</td>\n",
       "      <td>0</td>\n",
       "      <td>0</td>\n",
       "      <td>0</td>\n",
       "      <td>0</td>\n",
       "      <td>0</td>\n",
       "      <td>0</td>\n",
       "      <td>0</td>\n",
       "      <td>...</td>\n",
       "      <td>0</td>\n",
       "      <td>0</td>\n",
       "      <td>0</td>\n",
       "      <td>0</td>\n",
       "      <td>0</td>\n",
       "      <td>0</td>\n",
       "      <td>0</td>\n",
       "      <td>0</td>\n",
       "      <td>0</td>\n",
       "      <td>0</td>\n",
       "    </tr>\n",
       "    <tr>\n",
       "      <th>2</th>\n",
       "      <td>0</td>\n",
       "      <td>0</td>\n",
       "      <td>0</td>\n",
       "      <td>0</td>\n",
       "      <td>0</td>\n",
       "      <td>0</td>\n",
       "      <td>0</td>\n",
       "      <td>0</td>\n",
       "      <td>0</td>\n",
       "      <td>0</td>\n",
       "      <td>...</td>\n",
       "      <td>0</td>\n",
       "      <td>0</td>\n",
       "      <td>0</td>\n",
       "      <td>0</td>\n",
       "      <td>0</td>\n",
       "      <td>0</td>\n",
       "      <td>0</td>\n",
       "      <td>0</td>\n",
       "      <td>0</td>\n",
       "      <td>0</td>\n",
       "    </tr>\n",
       "    <tr>\n",
       "      <th>3</th>\n",
       "      <td>0</td>\n",
       "      <td>0</td>\n",
       "      <td>0</td>\n",
       "      <td>0</td>\n",
       "      <td>0</td>\n",
       "      <td>0</td>\n",
       "      <td>0</td>\n",
       "      <td>0</td>\n",
       "      <td>0</td>\n",
       "      <td>0</td>\n",
       "      <td>...</td>\n",
       "      <td>0</td>\n",
       "      <td>0</td>\n",
       "      <td>0</td>\n",
       "      <td>0</td>\n",
       "      <td>0</td>\n",
       "      <td>0</td>\n",
       "      <td>0</td>\n",
       "      <td>0</td>\n",
       "      <td>0</td>\n",
       "      <td>0</td>\n",
       "    </tr>\n",
       "    <tr>\n",
       "      <th>4</th>\n",
       "      <td>0</td>\n",
       "      <td>0</td>\n",
       "      <td>0</td>\n",
       "      <td>0</td>\n",
       "      <td>0</td>\n",
       "      <td>0</td>\n",
       "      <td>0</td>\n",
       "      <td>0</td>\n",
       "      <td>0</td>\n",
       "      <td>0</td>\n",
       "      <td>...</td>\n",
       "      <td>0</td>\n",
       "      <td>0</td>\n",
       "      <td>0</td>\n",
       "      <td>0</td>\n",
       "      <td>0</td>\n",
       "      <td>0</td>\n",
       "      <td>0</td>\n",
       "      <td>0</td>\n",
       "      <td>0</td>\n",
       "      <td>0</td>\n",
       "    </tr>\n",
       "    <tr>\n",
       "      <th>...</th>\n",
       "      <td>...</td>\n",
       "      <td>...</td>\n",
       "      <td>...</td>\n",
       "      <td>...</td>\n",
       "      <td>...</td>\n",
       "      <td>...</td>\n",
       "      <td>...</td>\n",
       "      <td>...</td>\n",
       "      <td>...</td>\n",
       "      <td>...</td>\n",
       "      <td>...</td>\n",
       "      <td>...</td>\n",
       "      <td>...</td>\n",
       "      <td>...</td>\n",
       "      <td>...</td>\n",
       "      <td>...</td>\n",
       "      <td>...</td>\n",
       "      <td>...</td>\n",
       "      <td>...</td>\n",
       "      <td>...</td>\n",
       "      <td>...</td>\n",
       "    </tr>\n",
       "    <tr>\n",
       "      <th>1895</th>\n",
       "      <td>0</td>\n",
       "      <td>0</td>\n",
       "      <td>0</td>\n",
       "      <td>0</td>\n",
       "      <td>0</td>\n",
       "      <td>0</td>\n",
       "      <td>0</td>\n",
       "      <td>0</td>\n",
       "      <td>0</td>\n",
       "      <td>0</td>\n",
       "      <td>...</td>\n",
       "      <td>0</td>\n",
       "      <td>0</td>\n",
       "      <td>0</td>\n",
       "      <td>0</td>\n",
       "      <td>0</td>\n",
       "      <td>0</td>\n",
       "      <td>0</td>\n",
       "      <td>0</td>\n",
       "      <td>0</td>\n",
       "      <td>0</td>\n",
       "    </tr>\n",
       "    <tr>\n",
       "      <th>1896</th>\n",
       "      <td>0</td>\n",
       "      <td>0</td>\n",
       "      <td>0</td>\n",
       "      <td>0</td>\n",
       "      <td>0</td>\n",
       "      <td>0</td>\n",
       "      <td>0</td>\n",
       "      <td>0</td>\n",
       "      <td>0</td>\n",
       "      <td>0</td>\n",
       "      <td>...</td>\n",
       "      <td>0</td>\n",
       "      <td>0</td>\n",
       "      <td>0</td>\n",
       "      <td>0</td>\n",
       "      <td>0</td>\n",
       "      <td>0</td>\n",
       "      <td>0</td>\n",
       "      <td>0</td>\n",
       "      <td>0</td>\n",
       "      <td>0</td>\n",
       "    </tr>\n",
       "    <tr>\n",
       "      <th>1897</th>\n",
       "      <td>0</td>\n",
       "      <td>0</td>\n",
       "      <td>0</td>\n",
       "      <td>0</td>\n",
       "      <td>0</td>\n",
       "      <td>0</td>\n",
       "      <td>0</td>\n",
       "      <td>0</td>\n",
       "      <td>0</td>\n",
       "      <td>0</td>\n",
       "      <td>...</td>\n",
       "      <td>0</td>\n",
       "      <td>0</td>\n",
       "      <td>0</td>\n",
       "      <td>0</td>\n",
       "      <td>0</td>\n",
       "      <td>0</td>\n",
       "      <td>0</td>\n",
       "      <td>0</td>\n",
       "      <td>0</td>\n",
       "      <td>0</td>\n",
       "    </tr>\n",
       "    <tr>\n",
       "      <th>1898</th>\n",
       "      <td>0</td>\n",
       "      <td>0</td>\n",
       "      <td>0</td>\n",
       "      <td>0</td>\n",
       "      <td>0</td>\n",
       "      <td>0</td>\n",
       "      <td>0</td>\n",
       "      <td>0</td>\n",
       "      <td>0</td>\n",
       "      <td>0</td>\n",
       "      <td>...</td>\n",
       "      <td>0</td>\n",
       "      <td>0</td>\n",
       "      <td>0</td>\n",
       "      <td>0</td>\n",
       "      <td>0</td>\n",
       "      <td>0</td>\n",
       "      <td>0</td>\n",
       "      <td>0</td>\n",
       "      <td>0</td>\n",
       "      <td>0</td>\n",
       "    </tr>\n",
       "    <tr>\n",
       "      <th>1899</th>\n",
       "      <td>0</td>\n",
       "      <td>0</td>\n",
       "      <td>0</td>\n",
       "      <td>0</td>\n",
       "      <td>0</td>\n",
       "      <td>0</td>\n",
       "      <td>0</td>\n",
       "      <td>0</td>\n",
       "      <td>0</td>\n",
       "      <td>0</td>\n",
       "      <td>...</td>\n",
       "      <td>0</td>\n",
       "      <td>0</td>\n",
       "      <td>0</td>\n",
       "      <td>0</td>\n",
       "      <td>0</td>\n",
       "      <td>0</td>\n",
       "      <td>0</td>\n",
       "      <td>0</td>\n",
       "      <td>0</td>\n",
       "      <td>0</td>\n",
       "    </tr>\n",
       "  </tbody>\n",
       "</table>\n",
       "<p>1900 rows × 20000 columns</p>\n",
       "</div>"
      ],
      "text/plain": [
       "      abide by the  able to do  able to get  able to post  able to see  \\\n",
       "0                0           0            0             0            0   \n",
       "1                0           0            0             0            0   \n",
       "2                0           0            0             0            0   \n",
       "3                0           0            0             0            0   \n",
       "4                0           0            0             0            0   \n",
       "...            ...         ...          ...           ...          ...   \n",
       "1895             0           0            0             0            0   \n",
       "1896             0           0            0             0            0   \n",
       "1897             0           0            0             0            0   \n",
       "1898             0           0            0             0            0   \n",
       "1899             0           0            0             0            0   \n",
       "\n",
       "      able to take  about alternative life  about censorship in  \\\n",
       "0                0                       0                    0   \n",
       "1                0                       0                    0   \n",
       "2                0                       0                    0   \n",
       "3                0                       0                    0   \n",
       "4                0                       0                    0   \n",
       "...            ...                     ...                  ...   \n",
       "1895             0                       0                    0   \n",
       "1896             0                       0                    0   \n",
       "1897             0                       0                    0   \n",
       "1898             0                       0                    0   \n",
       "1899             0                       0                    0   \n",
       "\n",
       "      about contributing to  about ed morrissey  ...  your way around  \\\n",
       "0                         0                   0  ...                0   \n",
       "1                         0                   0  ...                0   \n",
       "2                         0                   0  ...                0   \n",
       "3                         0                   0  ...                0   \n",
       "4                         0                   0  ...                0   \n",
       "...                     ...                 ...  ...              ...   \n",
       "1895                      0                   0  ...                0   \n",
       "1896                      0                   0  ...                0   \n",
       "1897                      0                   0  ...                0   \n",
       "1898                      0                   0  ...                0   \n",
       "1899                      0                   0  ...                0   \n",
       "\n",
       "      your wife and  youre coming from  youre going to  youre right was  \\\n",
       "0                 0                  0               0                0   \n",
       "1                 0                  0               0                0   \n",
       "2                 0                  0               0                0   \n",
       "3                 0                  0               0                0   \n",
       "4                 0                  0               0                0   \n",
       "...             ...                ...             ...              ...   \n",
       "1895              0                  0               0                0   \n",
       "1896              0                  0               0                0   \n",
       "1897              0                  0               0                0   \n",
       "1898              0                  0               0                0   \n",
       "1899              0                  0               0                0   \n",
       "\n",
       "      yourself but dont  yourself familiar with  yourself then you  \\\n",
       "0                     0                       0                  0   \n",
       "1                     0                       0                  0   \n",
       "2                     0                       0                  0   \n",
       "3                     0                       0                  0   \n",
       "4                     0                       0                  0   \n",
       "...                 ...                     ...                ...   \n",
       "1895                  0                       0                  0   \n",
       "1896                  0                       0                  0   \n",
       "1897                  0                       0                  0   \n",
       "1898                  0                       0                  0   \n",
       "1899                  0                       0                  0   \n",
       "\n",
       "      yourself to the  yourself with the  \n",
       "0                   0                  0  \n",
       "1                   0                  0  \n",
       "2                   0                  0  \n",
       "3                   0                  0  \n",
       "4                   0                  0  \n",
       "...               ...                ...  \n",
       "1895                0                  0  \n",
       "1896                0                  0  \n",
       "1897                0                  0  \n",
       "1898                0                  0  \n",
       "1899                0                  0  \n",
       "\n",
       "[1900 rows x 20000 columns]"
      ]
     },
     "execution_count": 42,
     "metadata": {},
     "output_type": "execute_result"
    }
   ],
   "source": [
    "X_train = pd.DataFrame(X_train.toarray(),columns= count_vectorizer.get_feature_names())\n",
    "X_train"
   ]
  },
  {
   "cell_type": "code",
   "execution_count": 43,
   "id": "e8a6c2cc",
   "metadata": {
    "execution": {
     "iopub.execute_input": "2022-11-17T13:22:59.459942Z",
     "iopub.status.busy": "2022-11-17T13:22:59.459495Z",
     "iopub.status.idle": "2022-11-17T13:23:20.967090Z",
     "shell.execute_reply": "2022-11-17T13:23:20.965986Z"
    },
    "papermill": {
     "duration": 21.53927,
     "end_time": "2022-11-17T13:23:20.969690",
     "exception": false,
     "start_time": "2022-11-17T13:22:59.430420",
     "status": "completed"
    },
    "tags": []
   },
   "outputs": [
    {
     "name": "stderr",
     "output_type": "stream",
     "text": [
      "2022-11-17 13:22:59.902968: I tensorflow/compiler/mlir/mlir_graph_optimization_pass.cc:185] None of the MLIR Optimization Passes are enabled (registered 2)\n"
     ]
    },
    {
     "name": "stdout",
     "output_type": "stream",
     "text": [
      "Epoch 1/50\n",
      "60/60 [==============================] - 1s 4ms/step - loss: 0.6200\n",
      "Epoch 2/50\n",
      "60/60 [==============================] - 0s 4ms/step - loss: 0.3954\n",
      "Epoch 3/50\n",
      "60/60 [==============================] - 0s 4ms/step - loss: 0.2358\n",
      "Epoch 4/50\n",
      "60/60 [==============================] - 0s 4ms/step - loss: 0.1599\n",
      "Epoch 5/50\n",
      "60/60 [==============================] - 0s 4ms/step - loss: 0.1235\n",
      "Epoch 6/50\n",
      "60/60 [==============================] - 0s 4ms/step - loss: 0.1039\n",
      "Epoch 7/50\n",
      "60/60 [==============================] - 0s 4ms/step - loss: 0.0916\n",
      "Epoch 8/50\n",
      "60/60 [==============================] - 0s 4ms/step - loss: 0.0828\n",
      "Epoch 9/50\n",
      "60/60 [==============================] - 0s 4ms/step - loss: 0.0759\n",
      "Epoch 10/50\n",
      "60/60 [==============================] - 0s 4ms/step - loss: 0.0703\n",
      "Epoch 11/50\n",
      "60/60 [==============================] - 0s 4ms/step - loss: 0.0654\n",
      "Epoch 12/50\n",
      "60/60 [==============================] - 0s 4ms/step - loss: 0.0611\n",
      "Epoch 13/50\n",
      "60/60 [==============================] - 0s 5ms/step - loss: 0.0573\n",
      "Epoch 14/50\n",
      "60/60 [==============================] - 0s 4ms/step - loss: 0.0539\n",
      "Epoch 15/50\n",
      "60/60 [==============================] - 0s 4ms/step - loss: 0.0508\n",
      "Epoch 16/50\n",
      "60/60 [==============================] - 0s 4ms/step - loss: 0.0480\n",
      "Epoch 17/50\n",
      "60/60 [==============================] - 0s 4ms/step - loss: 0.0456\n",
      "Epoch 18/50\n",
      "60/60 [==============================] - 0s 4ms/step - loss: 0.0435\n",
      "Epoch 19/50\n",
      "60/60 [==============================] - 0s 5ms/step - loss: 0.0416\n",
      "Epoch 20/50\n",
      "60/60 [==============================] - 0s 5ms/step - loss: 0.0399\n",
      "Epoch 21/50\n",
      "60/60 [==============================] - 0s 4ms/step - loss: 0.0383\n",
      "Epoch 22/50\n",
      "60/60 [==============================] - 0s 4ms/step - loss: 0.0370\n",
      "Epoch 23/50\n",
      "60/60 [==============================] - 0s 4ms/step - loss: 0.0357\n",
      "Epoch 24/50\n",
      "60/60 [==============================] - 0s 4ms/step - loss: 0.0345\n",
      "Epoch 25/50\n",
      "60/60 [==============================] - 0s 4ms/step - loss: 0.0335\n",
      "Epoch 26/50\n",
      "60/60 [==============================] - 0s 4ms/step - loss: 0.0325\n",
      "Epoch 27/50\n",
      "60/60 [==============================] - 0s 4ms/step - loss: 0.0317\n",
      "Epoch 28/50\n",
      "60/60 [==============================] - 0s 4ms/step - loss: 0.0310\n",
      "Epoch 29/50\n",
      "60/60 [==============================] - 0s 4ms/step - loss: 0.0303\n",
      "Epoch 30/50\n",
      "60/60 [==============================] - 0s 4ms/step - loss: 0.0296\n",
      "Epoch 31/50\n",
      "60/60 [==============================] - 0s 4ms/step - loss: 0.0290\n",
      "Epoch 32/50\n",
      "60/60 [==============================] - 0s 4ms/step - loss: 0.0285\n",
      "Epoch 33/50\n",
      "60/60 [==============================] - 0s 4ms/step - loss: 0.0280\n",
      "Epoch 34/50\n",
      "60/60 [==============================] - 0s 4ms/step - loss: 0.0274\n",
      "Epoch 35/50\n",
      "60/60 [==============================] - 0s 5ms/step - loss: 0.0270\n",
      "Epoch 36/50\n",
      "60/60 [==============================] - 0s 5ms/step - loss: 0.0266\n",
      "Epoch 37/50\n",
      "60/60 [==============================] - 0s 4ms/step - loss: 0.0262\n",
      "Epoch 38/50\n",
      "60/60 [==============================] - 0s 4ms/step - loss: 0.0258\n",
      "Epoch 39/50\n",
      "60/60 [==============================] - 0s 4ms/step - loss: 0.0255\n",
      "Epoch 40/50\n",
      "60/60 [==============================] - 0s 4ms/step - loss: 0.0252\n",
      "Epoch 41/50\n",
      "60/60 [==============================] - 0s 4ms/step - loss: 0.0249\n",
      "Epoch 42/50\n",
      "60/60 [==============================] - 0s 4ms/step - loss: 0.0246\n",
      "Epoch 43/50\n",
      "60/60 [==============================] - 0s 4ms/step - loss: 0.0243\n",
      "Epoch 44/50\n",
      "60/60 [==============================] - 0s 4ms/step - loss: 0.0241\n",
      "Epoch 45/50\n",
      "60/60 [==============================] - 0s 4ms/step - loss: 0.0238\n",
      "Epoch 46/50\n",
      "60/60 [==============================] - 0s 4ms/step - loss: 0.0236\n",
      "Epoch 47/50\n",
      "60/60 [==============================] - 0s 4ms/step - loss: 0.0234\n",
      "Epoch 48/50\n",
      "60/60 [==============================] - 0s 4ms/step - loss: 0.0232\n",
      "Epoch 49/50\n",
      "60/60 [==============================] - 0s 4ms/step - loss: 0.0230\n",
      "Epoch 50/50\n",
      "60/60 [==============================] - 0s 4ms/step - loss: 0.0228\n"
     ]
    },
    {
     "data": {
      "text/plain": [
       "<keras.callbacks.History at 0x7fb873d9f910>"
      ]
     },
     "execution_count": 43,
     "metadata": {},
     "output_type": "execute_result"
    }
   ],
   "source": [
    "model.fit(X_train, y_train, epochs=50)"
   ]
  },
  {
   "cell_type": "code",
   "execution_count": 44,
   "id": "0738ed3a",
   "metadata": {
    "execution": {
     "iopub.execute_input": "2022-11-17T13:23:21.068867Z",
     "iopub.status.busy": "2022-11-17T13:23:21.068477Z",
     "iopub.status.idle": "2022-11-17T13:23:21.244612Z",
     "shell.execute_reply": "2022-11-17T13:23:21.243201Z"
    },
    "papermill": {
     "duration": 0.228669,
     "end_time": "2022-11-17T13:23:21.247300",
     "exception": false,
     "start_time": "2022-11-17T13:23:21.018631",
     "status": "completed"
    },
    "tags": []
   },
   "outputs": [
    {
     "name": "stdout",
     "output_type": "stream",
     "text": [
      "\u001b[42m\u001b[37mHamming Loss :\u001b[47m\u001b[32m   0.89\n",
      "\u001b[42m\u001b[37mHamming Loss :\u001b[47m\u001b[32m   0.041666666666666664\n"
     ]
    }
   ],
   "source": [
    "from sklearn.metrics import hamming_loss, accuracy_score\n",
    "predictionsSNN = model.predict(X_test)\n",
    "predictionsSNN = predictionsSNN.round()\n",
    "acc = accuracy_score(y_test, predictionsSNN)\n",
    "ham = hamming_loss(y_test,predictionsSNN)\n",
    "print(Back.GREEN+Fore.WHITE +f\"Hamming Loss :\" + Back.WHITE+Fore.GREEN + f\"   {acc}\")\n",
    "print(Back.GREEN+Fore.WHITE +f\"Hamming Loss :\" + Back.WHITE+Fore.GREEN + f\"   {ham}\")"
   ]
  },
  {
   "cell_type": "markdown",
   "id": "14aeeb2e",
   "metadata": {
    "papermill": {
     "duration": 0.048841,
     "end_time": "2022-11-17T13:23:21.345401",
     "exception": false,
     "start_time": "2022-11-17T13:23:21.296560",
     "status": "completed"
    },
    "tags": []
   },
   "source": [
    "**Classifier Chains**\n",
    "\n",
    "HOW DOES IT WORK?"
   ]
  },
  {
   "cell_type": "code",
   "execution_count": 45,
   "id": "57fc1e02",
   "metadata": {
    "execution": {
     "iopub.execute_input": "2022-11-17T13:23:21.444396Z",
     "iopub.status.busy": "2022-11-17T13:23:21.443948Z",
     "iopub.status.idle": "2022-11-17T13:23:28.812556Z",
     "shell.execute_reply": "2022-11-17T13:23:28.811406Z"
    },
    "papermill": {
     "duration": 7.421103,
     "end_time": "2022-11-17T13:23:28.815246",
     "exception": false,
     "start_time": "2022-11-17T13:23:21.394143",
     "status": "completed"
    },
    "tags": []
   },
   "outputs": [],
   "source": [
    "# using classifier chains\n",
    "from skmultilearn.problem_transform import ClassifierChain\n",
    "from sklearn.naive_bayes import GaussianNB\n",
    "\n",
    "classifier = ClassifierChain(GaussianNB())\n",
    "\n",
    "classifier.fit(X_train, y_train)\n",
    "predictionsCCNN = classifier.predict(X_test)\n"
   ]
  },
  {
   "cell_type": "code",
   "execution_count": 46,
   "id": "ee4608e9",
   "metadata": {
    "execution": {
     "iopub.execute_input": "2022-11-17T13:23:28.919675Z",
     "iopub.status.busy": "2022-11-17T13:23:28.919253Z",
     "iopub.status.idle": "2022-11-17T13:23:28.927468Z",
     "shell.execute_reply": "2022-11-17T13:23:28.926109Z"
    },
    "papermill": {
     "duration": 0.063302,
     "end_time": "2022-11-17T13:23:28.929750",
     "exception": false,
     "start_time": "2022-11-17T13:23:28.866448",
     "status": "completed"
    },
    "tags": []
   },
   "outputs": [
    {
     "name": "stdout",
     "output_type": "stream",
     "text": [
      "0.63\n"
     ]
    }
   ],
   "source": [
    "acc = accuracy_score(y_test, predictionsCCNN)\n",
    "print(acc)"
   ]
  },
  {
   "cell_type": "markdown",
   "id": "b31d6c73",
   "metadata": {
    "papermill": {
     "duration": 0.050663,
     "end_time": "2022-11-17T13:23:29.030374",
     "exception": false,
     "start_time": "2022-11-17T13:23:28.979711",
     "status": "completed"
    },
    "tags": []
   },
   "source": [
    "**Label Powerset**\n",
    "\n",
    "HOW DOES IT WORK??"
   ]
  },
  {
   "cell_type": "code",
   "execution_count": 47,
   "id": "13aec991",
   "metadata": {
    "execution": {
     "iopub.execute_input": "2022-11-17T13:23:29.132098Z",
     "iopub.status.busy": "2022-11-17T13:23:29.131461Z",
     "iopub.status.idle": "2022-11-17T13:23:30.272601Z",
     "shell.execute_reply": "2022-11-17T13:23:30.271073Z"
    },
    "papermill": {
     "duration": 1.195134,
     "end_time": "2022-11-17T13:23:30.275175",
     "exception": false,
     "start_time": "2022-11-17T13:23:29.080041",
     "status": "completed"
    },
    "tags": []
   },
   "outputs": [],
   "source": [
    "from skmultilearn.problem_transform import LabelPowerset\n",
    "from sklearn.naive_bayes import GaussianNB\n",
    "\n",
    "classifier = LabelPowerset(GaussianNB())\n",
    "\n",
    "# train\n",
    "classifier.fit(X_train, y_train)\n",
    "\n",
    "# predict\n",
    "predictionsLBNN = classifier.predict(X_test)\n",
    "\n"
   ]
  },
  {
   "cell_type": "code",
   "execution_count": 48,
   "id": "47568242",
   "metadata": {
    "execution": {
     "iopub.execute_input": "2022-11-17T13:23:30.377662Z",
     "iopub.status.busy": "2022-11-17T13:23:30.377252Z",
     "iopub.status.idle": "2022-11-17T13:23:30.387247Z",
     "shell.execute_reply": "2022-11-17T13:23:30.385770Z"
    },
    "papermill": {
     "duration": 0.065211,
     "end_time": "2022-11-17T13:23:30.390157",
     "exception": false,
     "start_time": "2022-11-17T13:23:30.324946",
     "status": "completed"
    },
    "tags": []
   },
   "outputs": [
    {
     "name": "stdout",
     "output_type": "stream",
     "text": [
      "\u001b[42m\u001b[37mAccuracy Score :\u001b[47m\u001b[32m   0.63\n",
      "\u001b[42m\u001b[37mHamming Loss :\u001b[47m\u001b[32m   0.16\n"
     ]
    }
   ],
   "source": [
    "print(Back.GREEN+Fore.WHITE +f\"Accuracy Score :\" + Back.WHITE+Fore.GREEN + f\"   {accuracy_score(y_test,predictionsLBNN)}\")\n",
    "print(Back.GREEN+Fore.WHITE +f\"Hamming Loss :\" + Back.WHITE+Fore.GREEN + f\"   {hamming_loss(y_test,predictionsLBNN)}\")"
   ]
  },
  {
   "cell_type": "code",
   "execution_count": 49,
   "id": "25278578",
   "metadata": {
    "execution": {
     "iopub.execute_input": "2022-11-17T13:23:30.493935Z",
     "iopub.status.busy": "2022-11-17T13:23:30.493481Z",
     "iopub.status.idle": "2022-11-17T13:23:30.499375Z",
     "shell.execute_reply": "2022-11-17T13:23:30.498211Z"
    },
    "papermill": {
     "duration": 0.060787,
     "end_time": "2022-11-17T13:23:30.501773",
     "exception": false,
     "start_time": "2022-11-17T13:23:30.440986",
     "status": "completed"
    },
    "tags": []
   },
   "outputs": [],
   "source": [
    "comment = [\"I will kill you!\"]\n",
    "comment = count_vectorizer.transform(comment)"
   ]
  },
  {
   "cell_type": "code",
   "execution_count": 50,
   "id": "6240134f",
   "metadata": {
    "execution": {
     "iopub.execute_input": "2022-11-17T13:23:30.606315Z",
     "iopub.status.busy": "2022-11-17T13:23:30.605040Z",
     "iopub.status.idle": "2022-11-17T13:23:30.622013Z",
     "shell.execute_reply": "2022-11-17T13:23:30.620682Z"
    },
    "papermill": {
     "duration": 0.071367,
     "end_time": "2022-11-17T13:23:30.624532",
     "exception": false,
     "start_time": "2022-11-17T13:23:30.553165",
     "status": "completed"
    },
    "tags": []
   },
   "outputs": [
    {
     "name": "stdout",
     "output_type": "stream",
     "text": [
      "   toxic  severe_toxic  obscene  threat  insult  identity_hate\n",
      "0      1             1        1       0       0              0\n"
     ]
    }
   ],
   "source": [
    "pred = classifier.predict(comment)\n",
    "pred = pd.DataFrame(pred.toarray(),columns= y_test.columns)\n",
    "print(pred)"
   ]
  },
  {
   "cell_type": "code",
   "execution_count": 51,
   "id": "3d25b902",
   "metadata": {
    "execution": {
     "iopub.execute_input": "2022-11-17T13:23:30.730573Z",
     "iopub.status.busy": "2022-11-17T13:23:30.730094Z",
     "iopub.status.idle": "2022-11-17T13:23:30.750709Z",
     "shell.execute_reply": "2022-11-17T13:23:30.749164Z"
    },
    "papermill": {
     "duration": 0.075714,
     "end_time": "2022-11-17T13:23:30.753131",
     "exception": false,
     "start_time": "2022-11-17T13:23:30.677417",
     "status": "completed"
    },
    "tags": []
   },
   "outputs": [
    {
     "name": "stdout",
     "output_type": "stream",
     "text": [
      "      toxic  severe_toxic   obscene    threat    insult  identity_hate\n",
      "0  0.194057        0.0173  0.086385  0.004991  0.082848        0.01396\n"
     ]
    }
   ],
   "source": [
    "comment = [\"Hey\"]\n",
    "comment = count_vectorizer.transform(comment)\n",
    "pred = model.predict(comment)\n",
    "pred = pd.DataFrame(pred,columns= y_test.columns)\n",
    "print(pred)"
   ]
  },
  {
   "cell_type": "code",
   "execution_count": 52,
   "id": "b796a3d3",
   "metadata": {
    "execution": {
     "iopub.execute_input": "2022-11-17T13:23:30.855615Z",
     "iopub.status.busy": "2022-11-17T13:23:30.854606Z",
     "iopub.status.idle": "2022-11-17T13:23:41.121678Z",
     "shell.execute_reply": "2022-11-17T13:23:41.120466Z"
    },
    "papermill": {
     "duration": 10.322042,
     "end_time": "2022-11-17T13:23:41.124441",
     "exception": false,
     "start_time": "2022-11-17T13:23:30.802399",
     "status": "completed"
    },
    "tags": []
   },
   "outputs": [],
   "source": [
    "from skmultilearn.ensemble import MajorityVotingClassifier\n",
    "from skmultilearn.cluster import FixedLabelSpaceClusterer\n",
    "from skmultilearn.problem_transform import ClassifierChain\n",
    "from sklearn.naive_bayes import GaussianNB\n",
    "\n",
    "classifier = MajorityVotingClassifier(\n",
    "    clusterer = FixedLabelSpaceClusterer(clusters = [[1,2,3], [0, 2, 5], [4, 5]]),\n",
    "    classifier = ClassifierChain(classifier=GaussianNB())\n",
    ")\n",
    "classifier.fit(X_train,y_train)\n",
    "predictionsVLBNN = classifier.predict(X_test)"
   ]
  },
  {
   "cell_type": "code",
   "execution_count": 53,
   "id": "4639fa16",
   "metadata": {
    "execution": {
     "iopub.execute_input": "2022-11-17T13:23:41.225162Z",
     "iopub.status.busy": "2022-11-17T13:23:41.224782Z",
     "iopub.status.idle": "2022-11-17T13:23:41.233257Z",
     "shell.execute_reply": "2022-11-17T13:23:41.232313Z"
    },
    "papermill": {
     "duration": 0.063351,
     "end_time": "2022-11-17T13:23:41.237097",
     "exception": false,
     "start_time": "2022-11-17T13:23:41.173746",
     "status": "completed"
    },
    "tags": []
   },
   "outputs": [
    {
     "name": "stdout",
     "output_type": "stream",
     "text": [
      "\u001b[42m\u001b[37mAccuracy Score :\u001b[47m\u001b[32m   0.63\n",
      "\u001b[42m\u001b[37mHamming Loss :\u001b[47m\u001b[32m   0.2816666666666667\n"
     ]
    }
   ],
   "source": [
    "print(Back.GREEN+Fore.WHITE +f\"Accuracy Score :\" + Back.WHITE+Fore.GREEN + f\"   {accuracy_score(y_test,predictionsVLBNN)}\")\n",
    "print(Back.GREEN+Fore.WHITE +f\"Hamming Loss :\" + Back.WHITE+Fore.GREEN + f\"   {hamming_loss(y_test,predictionsVLBNN)}\")"
   ]
  },
  {
   "cell_type": "markdown",
   "id": "fe39ed03",
   "metadata": {
    "papermill": {
     "duration": 0.048541,
     "end_time": "2022-11-17T13:23:41.335534",
     "exception": false,
     "start_time": "2022-11-17T13:23:41.286993",
     "status": "completed"
    },
    "tags": []
   },
   "source": [
    "<center>\n",
    "<div style = \"background-color: rgba(152, 170, 236, 0.8); border-style: double;\">\n",
    "<strong style = \"font-size: 25px; color:rgba(86, 106, 181, 1);\"><center>5. Results and Observations</center></strong>\n",
    "</div>\n",
    "</center>"
   ]
  },
  {
   "cell_type": "code",
   "execution_count": 54,
   "id": "ca26e607",
   "metadata": {
    "execution": {
     "iopub.execute_input": "2022-11-17T13:23:41.436346Z",
     "iopub.status.busy": "2022-11-17T13:23:41.435411Z",
     "iopub.status.idle": "2022-11-17T13:23:41.548811Z",
     "shell.execute_reply": "2022-11-17T13:23:41.547581Z"
    },
    "papermill": {
     "duration": 0.168209,
     "end_time": "2022-11-17T13:23:41.552584",
     "exception": false,
     "start_time": "2022-11-17T13:23:41.384375",
     "status": "completed"
    },
    "tags": []
   },
   "outputs": [
    {
     "name": "stdout",
     "output_type": "stream",
     "text": [
      "+-------------------------------------------+----------------+----------------------+---------------------+---------------------+--------+---------------------+\n",
      "|                 Model Name                | Accuracy Score |     Hamming Loss     |      Precision      |       F1 score      | Recall |  Jaccard Similarity |\n",
      "+-------------------------------------------+----------------+----------------------+---------------------+---------------------+--------+---------------------+\n",
      "|   Binary Relevance Using GNB for 1-Gram   |      0.79      |        0.075         | 0.14285714285714285 | 0.15094339622641512 |  0.16  | 0.08163265306122448 |\n",
      "|   Binary Relevance Using GNB for 2-Gram   |      0.81      | 0.11666666666666667  | 0.09090909090909091 | 0.12500000000000003 |  0.2   | 0.06666666666666667 |\n",
      "|  Binary Relevance Using GNB for 1&2-Gram  |      0.85      | 0.058333333333333334 |  0.2222222222222222 | 0.18604651162790697 |  0.16  | 0.10256410256410256 |\n",
      "|   Binary Relevance Using GNB for 3-Gram   |      0.63      |  0.2816666666666667  | 0.08139534883720931 | 0.14213197969543148 |  0.56  | 0.07650273224043716 |\n",
      "|  Binary Relevance Using GNB for 2&3-Gram  |      0.81      | 0.11666666666666667  | 0.09090909090909091 | 0.12500000000000003 |  0.2   | 0.06666666666666667 |\n",
      "| Binary Relevance Using GNB for 1,2&3-Gram |      0.85      | 0.058333333333333334 |  0.2222222222222222 | 0.18604651162790697 |  0.16  | 0.10256410256410256 |\n",
      "|         Sequential Neural Networks        |      0.89      | 0.041666666666666664 |         0.0         |         0.0         |  0.0   |         0.0         |\n",
      "|       Classifier Chains & Gausian NB      |      0.63      |  0.2816666666666667  | 0.08139534883720931 | 0.14213197969543148 |  0.56  | 0.07650273224043716 |\n",
      "|        LabelPower Set & Gausian NB        |      0.63      |         0.16         | 0.10989010989010989 |  0.1724137931034483 |  0.4   | 0.09433962264150944 |\n",
      "|        Majority Voting Classifier         |      0.63      |  0.2816666666666667  | 0.08139534883720931 | 0.14213197969543148 |  0.56  | 0.07650273224043716 |\n",
      "+-------------------------------------------+----------------+----------------------+---------------------+---------------------+--------+---------------------+\n"
     ]
    },
    {
     "name": "stderr",
     "output_type": "stream",
     "text": [
      "/opt/conda/lib/python3.7/site-packages/sklearn/metrics/_classification.py:1318: UndefinedMetricWarning: Precision is ill-defined and being set to 0.0 due to no predicted samples. Use `zero_division` parameter to control this behavior.\n",
      "  _warn_prf(average, modifier, msg_start, len(result))\n"
     ]
    }
   ],
   "source": [
    "from prettytable import PrettyTable\n",
    "from sklearn.metrics import hamming_loss, accuracy_score, precision_score, recall_score, f1_score, jaccard_score\n",
    "# Specify the Column Names while initializing the Table\n",
    "myTable = PrettyTable([\"Model Name\", \"Accuracy Score\", \"Hamming Loss\", \"Precision\",\"F1 score\", \"Recall\",\"Jaccard Similarity\"])\n",
    " \n",
    "# Add rows\n",
    "myTable.add_row([\"Binary Relevance Using GNB for 1-Gram\", accuracy_score(y_test,predictions1n),\n",
    "                 hamming_loss(y_test,predictions1n), precision_score(y_test,predictions1n,average='micro'),\n",
    "                 f1_score(y_test,predictions1n,average='micro'),recall_score(y_test,predictions1n,average='micro'),jaccard_score(y_test,predictions1n,average='micro')])\n",
    "myTable.add_row([\"Binary Relevance Using GNB for 2-Gram\", accuracy_score(y_test,predictions2n),\n",
    "                 hamming_loss(y_test,predictions2n), precision_score(y_test,predictions2n,average='micro'),\n",
    "                 f1_score(y_test,predictions2n,average='micro'),recall_score(y_test,predictions2n,average='micro'),jaccard_score(y_test,predictions2n,average='micro')])\n",
    "myTable.add_row([\"Binary Relevance Using GNB for 1&2-Gram\", accuracy_score(y_test,predictions12n),\n",
    "                 hamming_loss(y_test,predictions12n), precision_score(y_test,predictions12n,average='micro'),\n",
    "                 f1_score(y_test,predictions12n,average='micro'),recall_score(y_test,predictions12n,average='micro'),jaccard_score(y_test,predictions12n,average='micro')])\n",
    "myTable.add_row([\"Binary Relevance Using GNB for 3-Gram\", accuracy_score(y_test,predictions3n),\n",
    "                 hamming_loss(y_test,predictions3n), precision_score(y_test,predictions3n,average='micro'),\n",
    "                 f1_score(y_test,predictions3n,average='micro'),recall_score(y_test,predictions3n,average='micro'),jaccard_score(y_test,predictions3n,average='micro')])\n",
    "myTable.add_row([\"Binary Relevance Using GNB for 2&3-Gram\", accuracy_score(y_test,predictions23n),\n",
    "                 hamming_loss(y_test,predictions23n), precision_score(y_test,predictions23n,average='micro'),\n",
    "                 f1_score(y_test,predictions23n,average='micro'),recall_score(y_test,predictions23n,average='micro'),jaccard_score(y_test,predictions23n,average='micro')])\n",
    "myTable.add_row([\"Binary Relevance Using GNB for 1,2&3-Gram\", accuracy_score(y_test,predictions123n),\n",
    "                 hamming_loss(y_test,predictions123n), precision_score(y_test,predictions123n,average='micro'),\n",
    "                 f1_score(y_test,predictions123n,average='micro'),recall_score(y_test,predictions123n,average='micro'),jaccard_score(y_test,predictions123n,average='micro')])\n",
    "\n",
    "\n",
    "myTable.add_row([\"Sequential Neural Networks\", accuracy_score(y_test,predictionsSNN),\n",
    "                 hamming_loss(y_test,predictionsSNN), precision_score(y_test,predictionsSNN,average='micro'),\n",
    "                 f1_score(y_test,predictionsSNN,average='micro'),recall_score(y_test,predictionsSNN,average='micro'),jaccard_score(y_test,predictionsSNN,average='micro')])\n",
    "myTable.add_row([\"Classifier Chains & Gausian NB\", accuracy_score(y_test,predictionsCCNN),\n",
    "                 hamming_loss(y_test,predictionsCCNN), precision_score(y_test,predictionsCCNN,average='micro'),\n",
    "                 f1_score(y_test,predictionsCCNN,average='micro'),recall_score(y_test,predictionsCCNN,average='micro'),jaccard_score(y_test,predictionsCCNN,average='micro')])\n",
    "myTable.add_row([\"LabelPower Set & Gausian NB\", accuracy_score(y_test,predictionsLBNN),\n",
    "                 hamming_loss(y_test,predictionsLBNN), precision_score(y_test,predictionsLBNN,average='micro'),\n",
    "                 f1_score(y_test,predictionsLBNN,average='micro'),recall_score(y_test,predictionsLBNN,average='micro'),jaccard_score(y_test,predictionsLBNN,average='micro')])\n",
    "myTable.add_row([\"Majority Voting Classifier \", accuracy_score(y_test,predictionsVLBNN),\n",
    "                 hamming_loss(y_test,predictionsVLBNN), precision_score(y_test,predictionsVLBNN,average='micro'),\n",
    "                 f1_score(y_test,predictionsVLBNN,average='micro'),recall_score(y_test,predictionsVLBNN,average='micro'),jaccard_score(y_test,predictionsVLBNN,average='micro')])\n",
    "\n",
    "print(myTable)"
   ]
  },
  {
   "cell_type": "markdown",
   "id": "95d81a26",
   "metadata": {
    "papermill": {
     "duration": 0.048071,
     "end_time": "2022-11-17T13:23:41.650367",
     "exception": false,
     "start_time": "2022-11-17T13:23:41.602296",
     "status": "completed"
    },
    "tags": []
   },
   "source": [
    "**The KNN Approach**\n",
    "\n",
    "HOW DOES IT WORK?"
   ]
  },
  {
   "cell_type": "code",
   "execution_count": 55,
   "id": "efd0e0cb",
   "metadata": {
    "execution": {
     "iopub.execute_input": "2022-11-17T13:23:41.752141Z",
     "iopub.status.busy": "2022-11-17T13:23:41.751716Z",
     "iopub.status.idle": "2022-11-17T13:23:41.812122Z",
     "shell.execute_reply": "2022-11-17T13:23:41.811286Z"
    },
    "papermill": {
     "duration": 0.115073,
     "end_time": "2022-11-17T13:23:41.814657",
     "exception": false,
     "start_time": "2022-11-17T13:23:41.699584",
     "status": "completed"
    },
    "tags": []
   },
   "outputs": [],
   "source": [
    "from skmultilearn.adapt import MLkNN\n"
   ]
  },
  {
   "cell_type": "code",
   "execution_count": 56,
   "id": "c8aa870a",
   "metadata": {
    "execution": {
     "iopub.execute_input": "2022-11-17T13:23:41.915967Z",
     "iopub.status.busy": "2022-11-17T13:23:41.914626Z",
     "iopub.status.idle": "2022-11-17T13:23:57.211751Z",
     "shell.execute_reply": "2022-11-17T13:23:57.210582Z"
    },
    "papermill": {
     "duration": 15.350244,
     "end_time": "2022-11-17T13:23:57.214612",
     "exception": false,
     "start_time": "2022-11-17T13:23:41.864368",
     "status": "completed"
    },
    "tags": []
   },
   "outputs": [
    {
     "name": "stdout",
     "output_type": "stream",
     "text": [
      "Collecting arff\r\n",
      "  Downloading arff-0.9.tar.gz (4.7 kB)\r\n",
      "  Preparing metadata (setup.py) ... \u001b[?25l-\b \bdone\r\n",
      "\u001b[?25hBuilding wheels for collected packages: arff\r\n",
      "  Building wheel for arff (setup.py) ... \u001b[?25l-\b \b\\\b \bdone\r\n",
      "\u001b[?25h  Created wheel for arff: filename=arff-0.9-py3-none-any.whl size=4971 sha256=b888d5d3c920cc244814f234423a27095a9a7f7567250db7c3c7b7ac2c053dcd\r\n",
      "  Stored in directory: /root/.cache/pip/wheels/fe/81/bd/4ae90e24ba860304e375da219f9205b2586dbee255f3ee70e2\r\n",
      "Successfully built arff\r\n",
      "Installing collected packages: arff\r\n",
      "Successfully installed arff-0.9\r\n",
      "\u001b[33mWARNING: Running pip as the 'root' user can result in broken permissions and conflicting behaviour with the system package manager. It is recommended to use a virtual environment instead: https://pip.pypa.io/warnings/venv\u001b[0m\u001b[33m\r\n",
      "\u001b[0m"
     ]
    }
   ],
   "source": [
    "!pip install arff"
   ]
  },
  {
   "cell_type": "code",
   "execution_count": 57,
   "id": "57801aac",
   "metadata": {
    "execution": {
     "iopub.execute_input": "2022-11-17T13:23:57.316133Z",
     "iopub.status.busy": "2022-11-17T13:23:57.315668Z",
     "iopub.status.idle": "2022-11-17T13:24:08.688829Z",
     "shell.execute_reply": "2022-11-17T13:24:08.687020Z"
    },
    "papermill": {
     "duration": 11.427006,
     "end_time": "2022-11-17T13:24:08.691306",
     "exception": false,
     "start_time": "2022-11-17T13:23:57.264300",
     "status": "completed"
    },
    "tags": []
   },
   "outputs": [
    {
     "name": "stdout",
     "output_type": "stream",
     "text": [
      "Requirement already satisfied: scikit-multilearn in /opt/conda/lib/python3.7/site-packages (0.2.0)\r\n",
      "\u001b[33mWARNING: Running pip as the 'root' user can result in broken permissions and conflicting behaviour with the system package manager. It is recommended to use a virtual environment instead: https://pip.pypa.io/warnings/venv\u001b[0m\u001b[33m\r\n",
      "\u001b[0memotions:train - does not exists downloading\n",
      "Downloaded emotions-train\n",
      "emotions:test - does not exists downloading\n",
      "Downloaded emotions-test\n"
     ]
    }
   ],
   "source": [
    "!pip install scikit-multilearn\n",
    "from skmultilearn.dataset import load_dataset\n",
    "X_trainD, y_trainD, feature_names, label_names = load_dataset('emotions', 'train')\n",
    "X_testD, y_testD, _, _ =load_dataset('emotions', 'test')"
   ]
  },
  {
   "cell_type": "code",
   "execution_count": 58,
   "id": "b746134a",
   "metadata": {
    "execution": {
     "iopub.execute_input": "2022-11-17T13:24:08.794750Z",
     "iopub.status.busy": "2022-11-17T13:24:08.794329Z",
     "iopub.status.idle": "2022-11-17T13:24:08.802361Z",
     "shell.execute_reply": "2022-11-17T13:24:08.800922Z"
    },
    "papermill": {
     "duration": 0.062412,
     "end_time": "2022-11-17T13:24:08.804872",
     "exception": false,
     "start_time": "2022-11-17T13:24:08.742460",
     "status": "completed"
    },
    "tags": []
   },
   "outputs": [
    {
     "data": {
      "text/plain": [
       "<391x72 sparse matrix of type '<class 'numpy.float64'>'\n",
       "\twith 28059 stored elements in List of Lists format>"
      ]
     },
     "execution_count": 58,
     "metadata": {},
     "output_type": "execute_result"
    }
   ],
   "source": [
    "X_trainD"
   ]
  },
  {
   "cell_type": "code",
   "execution_count": 59,
   "id": "934f673b",
   "metadata": {
    "execution": {
     "iopub.execute_input": "2022-11-17T13:24:08.906144Z",
     "iopub.status.busy": "2022-11-17T13:24:08.905752Z",
     "iopub.status.idle": "2022-11-17T13:24:08.931417Z",
     "shell.execute_reply": "2022-11-17T13:24:08.930178Z"
    },
    "papermill": {
     "duration": 0.079804,
     "end_time": "2022-11-17T13:24:08.934328",
     "exception": false,
     "start_time": "2022-11-17T13:24:08.854524",
     "status": "completed"
    },
    "tags": []
   },
   "outputs": [
    {
     "data": {
      "text/html": [
       "<div>\n",
       "<style scoped>\n",
       "    .dataframe tbody tr th:only-of-type {\n",
       "        vertical-align: middle;\n",
       "    }\n",
       "\n",
       "    .dataframe tbody tr th {\n",
       "        vertical-align: top;\n",
       "    }\n",
       "\n",
       "    .dataframe thead th {\n",
       "        text-align: right;\n",
       "    }\n",
       "</style>\n",
       "<table border=\"1\" class=\"dataframe\">\n",
       "  <thead>\n",
       "    <tr style=\"text-align: right;\">\n",
       "      <th></th>\n",
       "      <th>abide by the</th>\n",
       "      <th>able to do</th>\n",
       "      <th>able to get</th>\n",
       "      <th>able to post</th>\n",
       "      <th>able to see</th>\n",
       "      <th>able to take</th>\n",
       "      <th>about alternative life</th>\n",
       "      <th>about censorship in</th>\n",
       "      <th>about contributing to</th>\n",
       "      <th>about ed morrissey</th>\n",
       "      <th>...</th>\n",
       "      <th>your way around</th>\n",
       "      <th>your wife and</th>\n",
       "      <th>youre coming from</th>\n",
       "      <th>youre going to</th>\n",
       "      <th>youre right was</th>\n",
       "      <th>yourself but dont</th>\n",
       "      <th>yourself familiar with</th>\n",
       "      <th>yourself then you</th>\n",
       "      <th>yourself to the</th>\n",
       "      <th>yourself with the</th>\n",
       "    </tr>\n",
       "  </thead>\n",
       "  <tbody>\n",
       "    <tr>\n",
       "      <th>0</th>\n",
       "      <td>0</td>\n",
       "      <td>0</td>\n",
       "      <td>0</td>\n",
       "      <td>0</td>\n",
       "      <td>0</td>\n",
       "      <td>0</td>\n",
       "      <td>0</td>\n",
       "      <td>0</td>\n",
       "      <td>0</td>\n",
       "      <td>0</td>\n",
       "      <td>...</td>\n",
       "      <td>0</td>\n",
       "      <td>0</td>\n",
       "      <td>0</td>\n",
       "      <td>0</td>\n",
       "      <td>0</td>\n",
       "      <td>0</td>\n",
       "      <td>0</td>\n",
       "      <td>0</td>\n",
       "      <td>0</td>\n",
       "      <td>0</td>\n",
       "    </tr>\n",
       "    <tr>\n",
       "      <th>1</th>\n",
       "      <td>0</td>\n",
       "      <td>0</td>\n",
       "      <td>0</td>\n",
       "      <td>0</td>\n",
       "      <td>0</td>\n",
       "      <td>0</td>\n",
       "      <td>0</td>\n",
       "      <td>0</td>\n",
       "      <td>0</td>\n",
       "      <td>0</td>\n",
       "      <td>...</td>\n",
       "      <td>0</td>\n",
       "      <td>0</td>\n",
       "      <td>0</td>\n",
       "      <td>0</td>\n",
       "      <td>0</td>\n",
       "      <td>0</td>\n",
       "      <td>0</td>\n",
       "      <td>0</td>\n",
       "      <td>0</td>\n",
       "      <td>0</td>\n",
       "    </tr>\n",
       "    <tr>\n",
       "      <th>2</th>\n",
       "      <td>0</td>\n",
       "      <td>0</td>\n",
       "      <td>0</td>\n",
       "      <td>0</td>\n",
       "      <td>0</td>\n",
       "      <td>0</td>\n",
       "      <td>0</td>\n",
       "      <td>0</td>\n",
       "      <td>0</td>\n",
       "      <td>0</td>\n",
       "      <td>...</td>\n",
       "      <td>0</td>\n",
       "      <td>0</td>\n",
       "      <td>0</td>\n",
       "      <td>0</td>\n",
       "      <td>0</td>\n",
       "      <td>0</td>\n",
       "      <td>0</td>\n",
       "      <td>0</td>\n",
       "      <td>0</td>\n",
       "      <td>0</td>\n",
       "    </tr>\n",
       "    <tr>\n",
       "      <th>3</th>\n",
       "      <td>0</td>\n",
       "      <td>0</td>\n",
       "      <td>0</td>\n",
       "      <td>0</td>\n",
       "      <td>0</td>\n",
       "      <td>0</td>\n",
       "      <td>0</td>\n",
       "      <td>0</td>\n",
       "      <td>0</td>\n",
       "      <td>0</td>\n",
       "      <td>...</td>\n",
       "      <td>0</td>\n",
       "      <td>0</td>\n",
       "      <td>0</td>\n",
       "      <td>0</td>\n",
       "      <td>0</td>\n",
       "      <td>0</td>\n",
       "      <td>0</td>\n",
       "      <td>0</td>\n",
       "      <td>0</td>\n",
       "      <td>0</td>\n",
       "    </tr>\n",
       "    <tr>\n",
       "      <th>4</th>\n",
       "      <td>0</td>\n",
       "      <td>0</td>\n",
       "      <td>0</td>\n",
       "      <td>0</td>\n",
       "      <td>0</td>\n",
       "      <td>0</td>\n",
       "      <td>0</td>\n",
       "      <td>0</td>\n",
       "      <td>0</td>\n",
       "      <td>0</td>\n",
       "      <td>...</td>\n",
       "      <td>0</td>\n",
       "      <td>0</td>\n",
       "      <td>0</td>\n",
       "      <td>0</td>\n",
       "      <td>0</td>\n",
       "      <td>0</td>\n",
       "      <td>0</td>\n",
       "      <td>0</td>\n",
       "      <td>0</td>\n",
       "      <td>0</td>\n",
       "    </tr>\n",
       "    <tr>\n",
       "      <th>...</th>\n",
       "      <td>...</td>\n",
       "      <td>...</td>\n",
       "      <td>...</td>\n",
       "      <td>...</td>\n",
       "      <td>...</td>\n",
       "      <td>...</td>\n",
       "      <td>...</td>\n",
       "      <td>...</td>\n",
       "      <td>...</td>\n",
       "      <td>...</td>\n",
       "      <td>...</td>\n",
       "      <td>...</td>\n",
       "      <td>...</td>\n",
       "      <td>...</td>\n",
       "      <td>...</td>\n",
       "      <td>...</td>\n",
       "      <td>...</td>\n",
       "      <td>...</td>\n",
       "      <td>...</td>\n",
       "      <td>...</td>\n",
       "      <td>...</td>\n",
       "    </tr>\n",
       "    <tr>\n",
       "      <th>1895</th>\n",
       "      <td>0</td>\n",
       "      <td>0</td>\n",
       "      <td>0</td>\n",
       "      <td>0</td>\n",
       "      <td>0</td>\n",
       "      <td>0</td>\n",
       "      <td>0</td>\n",
       "      <td>0</td>\n",
       "      <td>0</td>\n",
       "      <td>0</td>\n",
       "      <td>...</td>\n",
       "      <td>0</td>\n",
       "      <td>0</td>\n",
       "      <td>0</td>\n",
       "      <td>0</td>\n",
       "      <td>0</td>\n",
       "      <td>0</td>\n",
       "      <td>0</td>\n",
       "      <td>0</td>\n",
       "      <td>0</td>\n",
       "      <td>0</td>\n",
       "    </tr>\n",
       "    <tr>\n",
       "      <th>1896</th>\n",
       "      <td>0</td>\n",
       "      <td>0</td>\n",
       "      <td>0</td>\n",
       "      <td>0</td>\n",
       "      <td>0</td>\n",
       "      <td>0</td>\n",
       "      <td>0</td>\n",
       "      <td>0</td>\n",
       "      <td>0</td>\n",
       "      <td>0</td>\n",
       "      <td>...</td>\n",
       "      <td>0</td>\n",
       "      <td>0</td>\n",
       "      <td>0</td>\n",
       "      <td>0</td>\n",
       "      <td>0</td>\n",
       "      <td>0</td>\n",
       "      <td>0</td>\n",
       "      <td>0</td>\n",
       "      <td>0</td>\n",
       "      <td>0</td>\n",
       "    </tr>\n",
       "    <tr>\n",
       "      <th>1897</th>\n",
       "      <td>0</td>\n",
       "      <td>0</td>\n",
       "      <td>0</td>\n",
       "      <td>0</td>\n",
       "      <td>0</td>\n",
       "      <td>0</td>\n",
       "      <td>0</td>\n",
       "      <td>0</td>\n",
       "      <td>0</td>\n",
       "      <td>0</td>\n",
       "      <td>...</td>\n",
       "      <td>0</td>\n",
       "      <td>0</td>\n",
       "      <td>0</td>\n",
       "      <td>0</td>\n",
       "      <td>0</td>\n",
       "      <td>0</td>\n",
       "      <td>0</td>\n",
       "      <td>0</td>\n",
       "      <td>0</td>\n",
       "      <td>0</td>\n",
       "    </tr>\n",
       "    <tr>\n",
       "      <th>1898</th>\n",
       "      <td>0</td>\n",
       "      <td>0</td>\n",
       "      <td>0</td>\n",
       "      <td>0</td>\n",
       "      <td>0</td>\n",
       "      <td>0</td>\n",
       "      <td>0</td>\n",
       "      <td>0</td>\n",
       "      <td>0</td>\n",
       "      <td>0</td>\n",
       "      <td>...</td>\n",
       "      <td>0</td>\n",
       "      <td>0</td>\n",
       "      <td>0</td>\n",
       "      <td>0</td>\n",
       "      <td>0</td>\n",
       "      <td>0</td>\n",
       "      <td>0</td>\n",
       "      <td>0</td>\n",
       "      <td>0</td>\n",
       "      <td>0</td>\n",
       "    </tr>\n",
       "    <tr>\n",
       "      <th>1899</th>\n",
       "      <td>0</td>\n",
       "      <td>0</td>\n",
       "      <td>0</td>\n",
       "      <td>0</td>\n",
       "      <td>0</td>\n",
       "      <td>0</td>\n",
       "      <td>0</td>\n",
       "      <td>0</td>\n",
       "      <td>0</td>\n",
       "      <td>0</td>\n",
       "      <td>...</td>\n",
       "      <td>0</td>\n",
       "      <td>0</td>\n",
       "      <td>0</td>\n",
       "      <td>0</td>\n",
       "      <td>0</td>\n",
       "      <td>0</td>\n",
       "      <td>0</td>\n",
       "      <td>0</td>\n",
       "      <td>0</td>\n",
       "      <td>0</td>\n",
       "    </tr>\n",
       "  </tbody>\n",
       "</table>\n",
       "<p>1900 rows × 20000 columns</p>\n",
       "</div>"
      ],
      "text/plain": [
       "      abide by the  able to do  able to get  able to post  able to see  \\\n",
       "0                0           0            0             0            0   \n",
       "1                0           0            0             0            0   \n",
       "2                0           0            0             0            0   \n",
       "3                0           0            0             0            0   \n",
       "4                0           0            0             0            0   \n",
       "...            ...         ...          ...           ...          ...   \n",
       "1895             0           0            0             0            0   \n",
       "1896             0           0            0             0            0   \n",
       "1897             0           0            0             0            0   \n",
       "1898             0           0            0             0            0   \n",
       "1899             0           0            0             0            0   \n",
       "\n",
       "      able to take  about alternative life  about censorship in  \\\n",
       "0                0                       0                    0   \n",
       "1                0                       0                    0   \n",
       "2                0                       0                    0   \n",
       "3                0                       0                    0   \n",
       "4                0                       0                    0   \n",
       "...            ...                     ...                  ...   \n",
       "1895             0                       0                    0   \n",
       "1896             0                       0                    0   \n",
       "1897             0                       0                    0   \n",
       "1898             0                       0                    0   \n",
       "1899             0                       0                    0   \n",
       "\n",
       "      about contributing to  about ed morrissey  ...  your way around  \\\n",
       "0                         0                   0  ...                0   \n",
       "1                         0                   0  ...                0   \n",
       "2                         0                   0  ...                0   \n",
       "3                         0                   0  ...                0   \n",
       "4                         0                   0  ...                0   \n",
       "...                     ...                 ...  ...              ...   \n",
       "1895                      0                   0  ...                0   \n",
       "1896                      0                   0  ...                0   \n",
       "1897                      0                   0  ...                0   \n",
       "1898                      0                   0  ...                0   \n",
       "1899                      0                   0  ...                0   \n",
       "\n",
       "      your wife and  youre coming from  youre going to  youre right was  \\\n",
       "0                 0                  0               0                0   \n",
       "1                 0                  0               0                0   \n",
       "2                 0                  0               0                0   \n",
       "3                 0                  0               0                0   \n",
       "4                 0                  0               0                0   \n",
       "...             ...                ...             ...              ...   \n",
       "1895              0                  0               0                0   \n",
       "1896              0                  0               0                0   \n",
       "1897              0                  0               0                0   \n",
       "1898              0                  0               0                0   \n",
       "1899              0                  0               0                0   \n",
       "\n",
       "      yourself but dont  yourself familiar with  yourself then you  \\\n",
       "0                     0                       0                  0   \n",
       "1                     0                       0                  0   \n",
       "2                     0                       0                  0   \n",
       "3                     0                       0                  0   \n",
       "4                     0                       0                  0   \n",
       "...                 ...                     ...                ...   \n",
       "1895                  0                       0                  0   \n",
       "1896                  0                       0                  0   \n",
       "1897                  0                       0                  0   \n",
       "1898                  0                       0                  0   \n",
       "1899                  0                       0                  0   \n",
       "\n",
       "      yourself to the  yourself with the  \n",
       "0                   0                  0  \n",
       "1                   0                  0  \n",
       "2                   0                  0  \n",
       "3                   0                  0  \n",
       "4                   0                  0  \n",
       "...               ...                ...  \n",
       "1895                0                  0  \n",
       "1896                0                  0  \n",
       "1897                0                  0  \n",
       "1898                0                  0  \n",
       "1899                0                  0  \n",
       "\n",
       "[1900 rows x 20000 columns]"
      ]
     },
     "execution_count": 59,
     "metadata": {},
     "output_type": "execute_result"
    }
   ],
   "source": [
    "X_train"
   ]
  },
  {
   "cell_type": "code",
   "execution_count": 60,
   "id": "c3c8d47a",
   "metadata": {
    "execution": {
     "iopub.execute_input": "2022-11-17T13:24:09.037476Z",
     "iopub.status.busy": "2022-11-17T13:24:09.037064Z",
     "iopub.status.idle": "2022-11-17T13:24:09.041473Z",
     "shell.execute_reply": "2022-11-17T13:24:09.040629Z"
    },
    "papermill": {
     "duration": 0.058075,
     "end_time": "2022-11-17T13:24:09.043597",
     "exception": false,
     "start_time": "2022-11-17T13:24:08.985522",
     "status": "completed"
    },
    "tags": []
   },
   "outputs": [],
   "source": [
    "# from skmultilearn.adapt import MLkNN\n",
    "# from sklearn.model_selection import GridSearchCV, train_test_split\n",
    "# import numpy as np\n",
    "\n",
    "# mlknn_classifier = MLkNN()\n",
    "# mlknn_classifier.fit(X_train, y_train)"
   ]
  },
  {
   "cell_type": "code",
   "execution_count": 61,
   "id": "e3770d2a",
   "metadata": {
    "execution": {
     "iopub.execute_input": "2022-11-17T13:24:09.146064Z",
     "iopub.status.busy": "2022-11-17T13:24:09.145397Z",
     "iopub.status.idle": "2022-11-17T13:24:09.149900Z",
     "shell.execute_reply": "2022-11-17T13:24:09.149028Z"
    },
    "papermill": {
     "duration": 0.058375,
     "end_time": "2022-11-17T13:24:09.152096",
     "exception": false,
     "start_time": "2022-11-17T13:24:09.093721",
     "status": "completed"
    },
    "tags": []
   },
   "outputs": [],
   "source": [
    "# mlknn_classifier = MLkNN()\n",
    "# mlknn_classifier.fit(X_train, y_train)"
   ]
  },
  {
   "cell_type": "code",
   "execution_count": 62,
   "id": "4f030198",
   "metadata": {
    "execution": {
     "iopub.execute_input": "2022-11-17T13:24:09.254850Z",
     "iopub.status.busy": "2022-11-17T13:24:09.254170Z",
     "iopub.status.idle": "2022-11-17T13:24:09.258751Z",
     "shell.execute_reply": "2022-11-17T13:24:09.257922Z"
    },
    "papermill": {
     "duration": 0.058574,
     "end_time": "2022-11-17T13:24:09.260888",
     "exception": false,
     "start_time": "2022-11-17T13:24:09.202314",
     "status": "completed"
    },
    "tags": []
   },
   "outputs": [],
   "source": [
    "# comment2 = [\"I will kill you!\"]\n",
    "# comment2_ = count_vectorizer.transform(comment2)\n",
    "  \n",
    "# pred2 = mlknn_classifier.predict(comment2_)\n",
    "# print(pred2.toarray())"
   ]
  },
  {
   "cell_type": "code",
   "execution_count": 63,
   "id": "4f69f1c3",
   "metadata": {
    "execution": {
     "iopub.execute_input": "2022-11-17T13:24:09.363416Z",
     "iopub.status.busy": "2022-11-17T13:24:09.362752Z",
     "iopub.status.idle": "2022-11-17T13:24:09.367198Z",
     "shell.execute_reply": "2022-11-17T13:24:09.366419Z"
    },
    "papermill": {
     "duration": 0.058651,
     "end_time": "2022-11-17T13:24:09.369354",
     "exception": false,
     "start_time": "2022-11-17T13:24:09.310703",
     "status": "completed"
    },
    "tags": []
   },
   "outputs": [],
   "source": [
    "# pred2 = mlknn_classifier.predict(X_test)\n",
    "  \n",
    "# print(accuracy_score(y_test, predicted))\n",
    "# print(hamming_loss(y_test, predicted))"
   ]
  },
  {
   "cell_type": "markdown",
   "id": "5ce60786",
   "metadata": {
    "papermill": {
     "duration": 0.049647,
     "end_time": "2022-11-17T13:24:09.468971",
     "exception": false,
     "start_time": "2022-11-17T13:24:09.419324",
     "status": "completed"
    },
    "tags": []
   },
   "source": [
    "<center>\n",
    "<div style = \"background-color: rgba(152, 170, 236, 0.8); border-style: double;\">\n",
    "<strong style = \"font-size: 25px; color:rgba(86, 106, 181, 1);\"><center>2. Dictionaries of toxic language</center></strong>\n",
    "</div>\n",
    "</center>"
   ]
  },
  {
   "cell_type": "markdown",
   "id": "5c356aef",
   "metadata": {
    "papermill": {
     "duration": 0.049394,
     "end_time": "2022-11-17T13:24:09.569282",
     "exception": false,
     "start_time": "2022-11-17T13:24:09.519888",
     "status": "completed"
    },
    "tags": []
   },
   "source": [
    "<center>\n",
    "<div style = \"background-color: rgba(152, 170, 236, 0.8); border-style: double;\">\n",
    "<strong style = \"font-size: 25px; color:rgba(86, 106, 181, 1);\"><center>3. word2vec</center></strong>\n",
    "</div>\n",
    "</center>"
   ]
  },
  {
   "cell_type": "markdown",
   "id": "f90e1289",
   "metadata": {
    "papermill": {
     "duration": 0.049446,
     "end_time": "2022-11-17T13:24:09.668894",
     "exception": false,
     "start_time": "2022-11-17T13:24:09.619448",
     "status": "completed"
    },
    "tags": []
   },
   "source": [
    "<center>\n",
    "<div style = \"background-color: rgba(152, 170, 236, 0.8); border-style: double;\">\n",
    "<strong style = \"font-size: 25px; color:rgba(86, 106, 181, 1);\"><center>4. fastText</center></strong>\n",
    "</div>\n",
    "</center>"
   ]
  },
  {
   "cell_type": "markdown",
   "id": "8845ef70",
   "metadata": {
    "papermill": {
     "duration": 0.049265,
     "end_time": "2022-11-17T13:24:09.768237",
     "exception": false,
     "start_time": "2022-11-17T13:24:09.718972",
     "status": "completed"
    },
    "tags": []
   },
   "source": [
    "<center>\n",
    "<div style = \"background-color: rgba(152, 170, 236, 0.8); border-style: double;\">\n",
    "<strong style = \"font-size: 25px; color:rgba(86, 106, 181, 1);\"><center>5. not fine-tuned HateBERT</center></strong>\n",
    "</div>\n",
    "</center>"
   ]
  },
  {
   "cell_type": "markdown",
   "id": "0a708e7d",
   "metadata": {
    "papermill": {
     "duration": 0.050682,
     "end_time": "2022-11-17T13:24:09.869306",
     "exception": false,
     "start_time": "2022-11-17T13:24:09.818624",
     "status": "completed"
    },
    "tags": []
   },
   "source": [
    "from sklearn.model_selection import train_test_split\n",
    "from sklearn.feature_extraction.text import TfidfVectorizer\n",
    "from skmultilearn.adapt import MLkNN\n",
    "from sklearn.metrics import hamming_loss, accuracy_score<center>\n",
    "<div style = \"background-color: rgba(152, 170, 236, 0.8); border-style: double;\">\n",
    "<strong style = \"font-size: 25px; color:rgba(86, 106, 181, 1);\"><center>6. fine-tuned HateBERT</center></strong>\n",
    "</div>\n",
    "</center>"
   ]
  }
 ],
 "metadata": {
  "kernelspec": {
   "display_name": "Python 3",
   "language": "python",
   "name": "python3"
  },
  "language_info": {
   "codemirror_mode": {
    "name": "ipython",
    "version": 3
   },
   "file_extension": ".py",
   "mimetype": "text/x-python",
   "name": "python",
   "nbconvert_exporter": "python",
   "pygments_lexer": "ipython3",
   "version": "3.7.12"
  },
  "papermill": {
   "default_parameters": {},
   "duration": 316.402967,
   "end_time": "2022-11-17T13:24:13.495766",
   "environment_variables": {},
   "exception": null,
   "input_path": "__notebook__.ipynb",
   "output_path": "__notebook__.ipynb",
   "parameters": {},
   "start_time": "2022-11-17T13:18:57.092799",
   "version": "2.3.4"
  }
 },
 "nbformat": 4,
 "nbformat_minor": 5
}
