{
 "cells": [
  {
   "cell_type": "code",
   "execution_count": 1,
   "id": "be6be677",
   "metadata": {
    "_cell_guid": "b1076dfc-b9ad-4769-8c92-a6c4dae69d19",
    "_uuid": "8f2839f25d086af736a60e9eeb907d3b93b6e0e5",
    "execution": {
     "iopub.execute_input": "2022-11-17T07:20:13.253771Z",
     "iopub.status.busy": "2022-11-17T07:20:13.253280Z",
     "iopub.status.idle": "2022-11-17T07:20:14.501600Z",
     "shell.execute_reply": "2022-11-17T07:20:14.500198Z"
    },
    "papermill": {
     "duration": 1.270393,
     "end_time": "2022-11-17T07:20:14.504734",
     "exception": false,
     "start_time": "2022-11-17T07:20:13.234341",
     "status": "completed"
    },
    "tags": []
   },
   "outputs": [
    {
     "name": "stdout",
     "output_type": "stream",
     "text": [
      "/kaggle/input/jigsaw-toxic-comment-classification-challenge/train.csv.zip\n",
      "/kaggle/input/jigsaw-toxic-comment-classification-challenge/sample_submission.csv.zip\n",
      "/kaggle/input/jigsaw-toxic-comment-classification-challenge/test_labels.csv.zip\n",
      "/kaggle/input/jigsaw-toxic-comment-classification-challenge/test.csv.zip\n"
     ]
    }
   ],
   "source": [
    "import numpy as np\n",
    "import pandas as pd\n",
    "from colorama import Fore, Back, Style\n",
    "import seaborn as sns\n",
    "import os\n",
    "for dirname, _, filenames in os.walk('/kaggle/input'):\n",
    "    for filename in filenames:\n",
    "        print(os.path.join(dirname, filename))\n",
    "from sklearn.metrics import accuracy_score\n",
    "\n",
    "        "
   ]
  },
  {
   "cell_type": "code",
   "execution_count": 2,
   "id": "e9e3f3f9",
   "metadata": {
    "execution": {
     "iopub.execute_input": "2022-11-17T07:20:14.538797Z",
     "iopub.status.busy": "2022-11-17T07:20:14.538415Z",
     "iopub.status.idle": "2022-11-17T07:20:16.706760Z",
     "shell.execute_reply": "2022-11-17T07:20:16.705792Z"
    },
    "papermill": {
     "duration": 2.187082,
     "end_time": "2022-11-17T07:20:16.709548",
     "exception": false,
     "start_time": "2022-11-17T07:20:14.522466",
     "status": "completed"
    },
    "tags": []
   },
   "outputs": [],
   "source": [
    "df = pd.read_csv(\"../input/jigsaw-toxic-comment-classification-challenge/train.csv.zip\")"
   ]
  },
  {
   "cell_type": "markdown",
   "id": "7f6c7dc7",
   "metadata": {
    "papermill": {
     "duration": 0.014937,
     "end_time": "2022-11-17T07:20:16.739128",
     "exception": false,
     "start_time": "2022-11-17T07:20:16.724191",
     "status": "completed"
    },
    "tags": []
   },
   "source": [
    "<center>\n",
    "<div style = \"background-color: rgba(152, 170, 236, 0.8); border-style: double;\">\n",
    "<strong style = \"font-size: 25px; color:rgba(86, 106, 181, 1);\"><center>Exploratory Data Analysis</center></strong>\n",
    "</div>\n",
    "</center>"
   ]
  },
  {
   "cell_type": "markdown",
   "id": "dccfe122",
   "metadata": {
    "papermill": {
     "duration": 0.014431,
     "end_time": "2022-11-17T07:20:16.769365",
     "exception": false,
     "start_time": "2022-11-17T07:20:16.754934",
     "status": "completed"
    },
    "tags": []
   },
   "source": [
    "There are several techniques to analyse data like classical analysis, exploratory data analysis and bayesian data analysis approach. We proceed with EDA in order to understand the structure of our data, is outliers, models and visualizations."
   ]
  },
  {
   "cell_type": "markdown",
   "id": "4f3f5007",
   "metadata": {
    "papermill": {
     "duration": 0.015224,
     "end_time": "2022-11-17T07:20:16.799384",
     "exception": false,
     "start_time": "2022-11-17T07:20:16.784160",
     "status": "completed"
    },
    "tags": []
   },
   "source": [
    "# Basic Datset Exploration and Structuring"
   ]
  },
  {
   "cell_type": "code",
   "execution_count": 3,
   "id": "d34dd4ba",
   "metadata": {
    "execution": {
     "iopub.execute_input": "2022-11-17T07:20:16.831416Z",
     "iopub.status.busy": "2022-11-17T07:20:16.831027Z",
     "iopub.status.idle": "2022-11-17T07:20:16.851794Z",
     "shell.execute_reply": "2022-11-17T07:20:16.850552Z"
    },
    "papermill": {
     "duration": 0.039956,
     "end_time": "2022-11-17T07:20:16.854261",
     "exception": false,
     "start_time": "2022-11-17T07:20:16.814305",
     "status": "completed"
    },
    "tags": []
   },
   "outputs": [
    {
     "data": {
      "text/html": [
       "<div>\n",
       "<style scoped>\n",
       "    .dataframe tbody tr th:only-of-type {\n",
       "        vertical-align: middle;\n",
       "    }\n",
       "\n",
       "    .dataframe tbody tr th {\n",
       "        vertical-align: top;\n",
       "    }\n",
       "\n",
       "    .dataframe thead th {\n",
       "        text-align: right;\n",
       "    }\n",
       "</style>\n",
       "<table border=\"1\" class=\"dataframe\">\n",
       "  <thead>\n",
       "    <tr style=\"text-align: right;\">\n",
       "      <th></th>\n",
       "      <th>id</th>\n",
       "      <th>comment_text</th>\n",
       "      <th>toxic</th>\n",
       "      <th>severe_toxic</th>\n",
       "      <th>obscene</th>\n",
       "      <th>threat</th>\n",
       "      <th>insult</th>\n",
       "      <th>identity_hate</th>\n",
       "    </tr>\n",
       "  </thead>\n",
       "  <tbody>\n",
       "    <tr>\n",
       "      <th>0</th>\n",
       "      <td>0000997932d777bf</td>\n",
       "      <td>Explanation\\nWhy the edits made under my usern...</td>\n",
       "      <td>0</td>\n",
       "      <td>0</td>\n",
       "      <td>0</td>\n",
       "      <td>0</td>\n",
       "      <td>0</td>\n",
       "      <td>0</td>\n",
       "    </tr>\n",
       "    <tr>\n",
       "      <th>1</th>\n",
       "      <td>000103f0d9cfb60f</td>\n",
       "      <td>D'aww! He matches this background colour I'm s...</td>\n",
       "      <td>0</td>\n",
       "      <td>0</td>\n",
       "      <td>0</td>\n",
       "      <td>0</td>\n",
       "      <td>0</td>\n",
       "      <td>0</td>\n",
       "    </tr>\n",
       "    <tr>\n",
       "      <th>2</th>\n",
       "      <td>000113f07ec002fd</td>\n",
       "      <td>Hey man, I'm really not trying to edit war. It...</td>\n",
       "      <td>0</td>\n",
       "      <td>0</td>\n",
       "      <td>0</td>\n",
       "      <td>0</td>\n",
       "      <td>0</td>\n",
       "      <td>0</td>\n",
       "    </tr>\n",
       "    <tr>\n",
       "      <th>3</th>\n",
       "      <td>0001b41b1c6bb37e</td>\n",
       "      <td>\"\\nMore\\nI can't make any real suggestions on ...</td>\n",
       "      <td>0</td>\n",
       "      <td>0</td>\n",
       "      <td>0</td>\n",
       "      <td>0</td>\n",
       "      <td>0</td>\n",
       "      <td>0</td>\n",
       "    </tr>\n",
       "    <tr>\n",
       "      <th>4</th>\n",
       "      <td>0001d958c54c6e35</td>\n",
       "      <td>You, sir, are my hero. Any chance you remember...</td>\n",
       "      <td>0</td>\n",
       "      <td>0</td>\n",
       "      <td>0</td>\n",
       "      <td>0</td>\n",
       "      <td>0</td>\n",
       "      <td>0</td>\n",
       "    </tr>\n",
       "  </tbody>\n",
       "</table>\n",
       "</div>"
      ],
      "text/plain": [
       "                 id                                       comment_text  toxic  \\\n",
       "0  0000997932d777bf  Explanation\\nWhy the edits made under my usern...      0   \n",
       "1  000103f0d9cfb60f  D'aww! He matches this background colour I'm s...      0   \n",
       "2  000113f07ec002fd  Hey man, I'm really not trying to edit war. It...      0   \n",
       "3  0001b41b1c6bb37e  \"\\nMore\\nI can't make any real suggestions on ...      0   \n",
       "4  0001d958c54c6e35  You, sir, are my hero. Any chance you remember...      0   \n",
       "\n",
       "   severe_toxic  obscene  threat  insult  identity_hate  \n",
       "0             0        0       0       0              0  \n",
       "1             0        0       0       0              0  \n",
       "2             0        0       0       0              0  \n",
       "3             0        0       0       0              0  \n",
       "4             0        0       0       0              0  "
      ]
     },
     "execution_count": 3,
     "metadata": {},
     "output_type": "execute_result"
    }
   ],
   "source": [
    "df.head()"
   ]
  },
  {
   "cell_type": "code",
   "execution_count": 4,
   "id": "f7760e9c",
   "metadata": {
    "execution": {
     "iopub.execute_input": "2022-11-17T07:20:16.885628Z",
     "iopub.status.busy": "2022-11-17T07:20:16.885211Z",
     "iopub.status.idle": "2022-11-17T07:20:16.891792Z",
     "shell.execute_reply": "2022-11-17T07:20:16.890772Z"
    },
    "papermill": {
     "duration": 0.02542,
     "end_time": "2022-11-17T07:20:16.894078",
     "exception": false,
     "start_time": "2022-11-17T07:20:16.868658",
     "status": "completed"
    },
    "tags": []
   },
   "outputs": [
    {
     "data": {
      "text/plain": [
       "(159571, 8)"
      ]
     },
     "execution_count": 4,
     "metadata": {},
     "output_type": "execute_result"
    }
   ],
   "source": [
    "df.shape"
   ]
  },
  {
   "cell_type": "code",
   "execution_count": 5,
   "id": "b1873748",
   "metadata": {
    "execution": {
     "iopub.execute_input": "2022-11-17T07:20:16.926511Z",
     "iopub.status.busy": "2022-11-17T07:20:16.925578Z",
     "iopub.status.idle": "2022-11-17T07:20:16.935044Z",
     "shell.execute_reply": "2022-11-17T07:20:16.933953Z"
    },
    "papermill": {
     "duration": 0.027929,
     "end_time": "2022-11-17T07:20:16.937308",
     "exception": false,
     "start_time": "2022-11-17T07:20:16.909379",
     "status": "completed"
    },
    "tags": []
   },
   "outputs": [],
   "source": [
    "# Let's remove the unwanted columns like Comment ID before moving on to EDA\n",
    "del df['id']"
   ]
  },
  {
   "cell_type": "code",
   "execution_count": 6,
   "id": "2495c5c1",
   "metadata": {
    "execution": {
     "iopub.execute_input": "2022-11-17T07:20:16.969707Z",
     "iopub.status.busy": "2022-11-17T07:20:16.969263Z",
     "iopub.status.idle": "2022-11-17T07:20:16.975205Z",
     "shell.execute_reply": "2022-11-17T07:20:16.973830Z"
    },
    "papermill": {
     "duration": 0.024648,
     "end_time": "2022-11-17T07:20:16.977525",
     "exception": false,
     "start_time": "2022-11-17T07:20:16.952877",
     "status": "completed"
    },
    "tags": []
   },
   "outputs": [],
   "source": [
    "def colorToxicityValuesToRed(value):\n",
    "    if value==0:\n",
    "        color='green'\n",
    "    elif value==1:\n",
    "        color='red'\n",
    "    else:\n",
    "        color='black'\n",
    "    return 'color: %s' % color\n",
    "    \n",
    "\n",
    "\n"
   ]
  },
  {
   "cell_type": "code",
   "execution_count": 7,
   "id": "9878d299",
   "metadata": {
    "execution": {
     "iopub.execute_input": "2022-11-17T07:20:17.009605Z",
     "iopub.status.busy": "2022-11-17T07:20:17.009174Z",
     "iopub.status.idle": "2022-11-17T07:20:17.091841Z",
     "shell.execute_reply": "2022-11-17T07:20:17.090869Z"
    },
    "papermill": {
     "duration": 0.101685,
     "end_time": "2022-11-17T07:20:17.094376",
     "exception": false,
     "start_time": "2022-11-17T07:20:16.992691",
     "status": "completed"
    },
    "tags": []
   },
   "outputs": [
    {
     "data": {
      "text/html": [
       "<style type=\"text/css\">\n",
       "#T_ad60e_row0_col1, #T_ad60e_row0_col2, #T_ad60e_row0_col3, #T_ad60e_row0_col4, #T_ad60e_row0_col5, #T_ad60e_row0_col6, #T_ad60e_row1_col1, #T_ad60e_row1_col2, #T_ad60e_row1_col3, #T_ad60e_row1_col4, #T_ad60e_row1_col5, #T_ad60e_row1_col6, #T_ad60e_row2_col1, #T_ad60e_row2_col2, #T_ad60e_row2_col3, #T_ad60e_row2_col4, #T_ad60e_row2_col5, #T_ad60e_row2_col6, #T_ad60e_row3_col1, #T_ad60e_row3_col2, #T_ad60e_row3_col3, #T_ad60e_row3_col4, #T_ad60e_row3_col5, #T_ad60e_row3_col6, #T_ad60e_row4_col1, #T_ad60e_row4_col2, #T_ad60e_row4_col3, #T_ad60e_row4_col4, #T_ad60e_row4_col5, #T_ad60e_row4_col6, #T_ad60e_row5_col2, #T_ad60e_row5_col4 {\n",
       "  color: green;\n",
       "}\n",
       "#T_ad60e_row5_col1, #T_ad60e_row5_col3, #T_ad60e_row5_col5, #T_ad60e_row5_col6 {\n",
       "  color: red;\n",
       "}\n",
       "</style>\n",
       "<table id=\"T_ad60e_\">\n",
       "  <thead>\n",
       "    <tr>\n",
       "      <th class=\"blank level0\" >&nbsp;</th>\n",
       "      <th class=\"col_heading level0 col0\" >comment_text</th>\n",
       "      <th class=\"col_heading level0 col1\" >toxic</th>\n",
       "      <th class=\"col_heading level0 col2\" >severe_toxic</th>\n",
       "      <th class=\"col_heading level0 col3\" >obscene</th>\n",
       "      <th class=\"col_heading level0 col4\" >threat</th>\n",
       "      <th class=\"col_heading level0 col5\" >insult</th>\n",
       "      <th class=\"col_heading level0 col6\" >identity_hate</th>\n",
       "    </tr>\n",
       "  </thead>\n",
       "  <tbody>\n",
       "    <tr>\n",
       "      <th id=\"T_ad60e_level0_row0\" class=\"row_heading level0 row0\" >100</th>\n",
       "      <td id=\"T_ad60e_row0_col0\" class=\"data row0 col0\" >However, the Moonlite edit noted by golden daph was me (on optus ...)  Wake up wikkis.  So funny</td>\n",
       "      <td id=\"T_ad60e_row0_col1\" class=\"data row0 col1\" >0</td>\n",
       "      <td id=\"T_ad60e_row0_col2\" class=\"data row0 col2\" >0</td>\n",
       "      <td id=\"T_ad60e_row0_col3\" class=\"data row0 col3\" >0</td>\n",
       "      <td id=\"T_ad60e_row0_col4\" class=\"data row0 col4\" >0</td>\n",
       "      <td id=\"T_ad60e_row0_col5\" class=\"data row0 col5\" >0</td>\n",
       "      <td id=\"T_ad60e_row0_col6\" class=\"data row0 col6\" >0</td>\n",
       "    </tr>\n",
       "    <tr>\n",
       "      <th id=\"T_ad60e_level0_row1\" class=\"row_heading level0 row1\" >101</th>\n",
       "      <td id=\"T_ad60e_row1_col0\" class=\"data row1 col0\" >Check the following websites:\n",
       "\n",
       "http://www.iranchamber.com/personalities/farabi/farabi.php\n",
       "http://www.islam.org.br/%C2%A0al_farabi.htm\n",
       "http://www.superbeyin.com/sohbet/sohbet.htm</td>\n",
       "      <td id=\"T_ad60e_row1_col1\" class=\"data row1 col1\" >0</td>\n",
       "      <td id=\"T_ad60e_row1_col2\" class=\"data row1 col2\" >0</td>\n",
       "      <td id=\"T_ad60e_row1_col3\" class=\"data row1 col3\" >0</td>\n",
       "      <td id=\"T_ad60e_row1_col4\" class=\"data row1 col4\" >0</td>\n",
       "      <td id=\"T_ad60e_row1_col5\" class=\"data row1 col5\" >0</td>\n",
       "      <td id=\"T_ad60e_row1_col6\" class=\"data row1 col6\" >0</td>\n",
       "    </tr>\n",
       "    <tr>\n",
       "      <th id=\"T_ad60e_level0_row2\" class=\"row_heading level0 row2\" >102</th>\n",
       "      <td id=\"T_ad60e_row2_col0\" class=\"data row2 col0\" >i can't believe no one has already put up this page Dilbert's Desktop Games so I did</td>\n",
       "      <td id=\"T_ad60e_row2_col1\" class=\"data row2 col1\" >0</td>\n",
       "      <td id=\"T_ad60e_row2_col2\" class=\"data row2 col2\" >0</td>\n",
       "      <td id=\"T_ad60e_row2_col3\" class=\"data row2 col3\" >0</td>\n",
       "      <td id=\"T_ad60e_row2_col4\" class=\"data row2 col4\" >0</td>\n",
       "      <td id=\"T_ad60e_row2_col5\" class=\"data row2 col5\" >0</td>\n",
       "      <td id=\"T_ad60e_row2_col6\" class=\"data row2 col6\" >0</td>\n",
       "    </tr>\n",
       "    <tr>\n",
       "      <th id=\"T_ad60e_level0_row3\" class=\"row_heading level0 row3\" >103</th>\n",
       "      <td id=\"T_ad60e_row3_col0\" class=\"data row3 col0\" >\"\n",
       "\n",
       "Well, after I asked you to provide the diffs within one hour of your next edit here, you made an edit to your talk page here and then did not provide the diffs I requested within one hour of that edit. I then sanctioned you for failing to provide the requested diffs in a timely manner (which, after more than a week, you have still not done). Consequently, your request to lift the sanction is denied.  \"</td>\n",
       "      <td id=\"T_ad60e_row3_col1\" class=\"data row3 col1\" >0</td>\n",
       "      <td id=\"T_ad60e_row3_col2\" class=\"data row3 col2\" >0</td>\n",
       "      <td id=\"T_ad60e_row3_col3\" class=\"data row3 col3\" >0</td>\n",
       "      <td id=\"T_ad60e_row3_col4\" class=\"data row3 col4\" >0</td>\n",
       "      <td id=\"T_ad60e_row3_col5\" class=\"data row3 col5\" >0</td>\n",
       "      <td id=\"T_ad60e_row3_col6\" class=\"data row3 col6\" >0</td>\n",
       "    </tr>\n",
       "    <tr>\n",
       "      <th id=\"T_ad60e_level0_row4\" class=\"row_heading level0 row4\" >104</th>\n",
       "      <td id=\"T_ad60e_row4_col0\" class=\"data row4 col0\" >What page shoudld there be for important characters that DON'T reoccur?\n",
       "Void, Black Doom, Mephiles, etc</td>\n",
       "      <td id=\"T_ad60e_row4_col1\" class=\"data row4 col1\" >0</td>\n",
       "      <td id=\"T_ad60e_row4_col2\" class=\"data row4 col2\" >0</td>\n",
       "      <td id=\"T_ad60e_row4_col3\" class=\"data row4 col3\" >0</td>\n",
       "      <td id=\"T_ad60e_row4_col4\" class=\"data row4 col4\" >0</td>\n",
       "      <td id=\"T_ad60e_row4_col5\" class=\"data row4 col5\" >0</td>\n",
       "      <td id=\"T_ad60e_row4_col6\" class=\"data row4 col6\" >0</td>\n",
       "    </tr>\n",
       "    <tr>\n",
       "      <th id=\"T_ad60e_level0_row5\" class=\"row_heading level0 row5\" >105</th>\n",
       "      <td id=\"T_ad60e_row5_col0\" class=\"data row5 col0\" >A pair of jew-hating weiner nazi schmucks.</td>\n",
       "      <td id=\"T_ad60e_row5_col1\" class=\"data row5 col1\" >1</td>\n",
       "      <td id=\"T_ad60e_row5_col2\" class=\"data row5 col2\" >0</td>\n",
       "      <td id=\"T_ad60e_row5_col3\" class=\"data row5 col3\" >1</td>\n",
       "      <td id=\"T_ad60e_row5_col4\" class=\"data row5 col4\" >0</td>\n",
       "      <td id=\"T_ad60e_row5_col5\" class=\"data row5 col5\" >1</td>\n",
       "      <td id=\"T_ad60e_row5_col6\" class=\"data row5 col6\" >1</td>\n",
       "    </tr>\n",
       "  </tbody>\n",
       "</table>\n"
      ],
      "text/plain": [
       "<pandas.io.formats.style.Styler at 0x7fe1c228e310>"
      ]
     },
     "metadata": {},
     "output_type": "display_data"
    }
   ],
   "source": [
    "# Display the raw dataset in a visually appealing manner\n",
    "\n",
    "display(df[100:106].style.applymap(colorToxicityValuesToRed,\n",
    "subset=['toxic','severe_toxic','obscene','threat','insult','identity_hate']))"
   ]
  },
  {
   "cell_type": "code",
   "execution_count": 8,
   "id": "4d2ebec5",
   "metadata": {
    "execution": {
     "iopub.execute_input": "2022-11-17T07:20:17.127105Z",
     "iopub.status.busy": "2022-11-17T07:20:17.126727Z",
     "iopub.status.idle": "2022-11-17T07:20:17.138292Z",
     "shell.execute_reply": "2022-11-17T07:20:17.136918Z"
    },
    "papermill": {
     "duration": 0.031329,
     "end_time": "2022-11-17T07:20:17.141376",
     "exception": false,
     "start_time": "2022-11-17T07:20:17.110047",
     "status": "completed"
    },
    "tags": []
   },
   "outputs": [
    {
     "name": "stdout",
     "output_type": "stream",
     "text": [
      "\u001b[47mPercentage of Comments Classified as Toxic               \u001b[42m9.584448302009763% \n",
      "\n",
      "\u001b[47mPercentage of Comments Classified as Severe Toxic        \u001b[42m0.999555056996572% \n",
      "\n",
      "\u001b[47mPercentage of Comments Classified as Obscene             \u001b[42m5.2948217407925% \n",
      "\n",
      "\u001b[47mPercentage  of Comments Classified as Threat              \u001b[42m0.2995531769557125% \n",
      "\n",
      "\u001b[47mPercentage of Comments Classified as Insult              \u001b[42m4.936360616904074% \n",
      "\n",
      "\u001b[47mPercentage of Comments Classified as Identity Hate       \u001b[42m0.8804858025581089% \n",
      "\n"
     ]
    }
   ],
   "source": [
    "# Perform a Descriptive Analysis on the Classification Classes\n",
    "\n",
    "print(Back.WHITE+f\"Percentage of Comments Classified as Toxic               \"+Back.GREEN+f\"{df['toxic'].sum()/1595.71}% \\n\")\n",
    "print(Back.WHITE+f\"Percentage of Comments Classified as Severe Toxic        \"+Back.GREEN+f\"{df['severe_toxic'].sum()/1595.71}% \\n\")\n",
    "print(Back.WHITE+f\"Percentage of Comments Classified as Obscene             \"+Back.GREEN+f\"{df['obscene'].sum()/1595.71}% \\n\")\n",
    "print(Back.WHITE+f\"Percentage  of Comments Classified as Threat              \"+Back.GREEN+f\"{df['threat'].sum()/1595.71}% \\n\")\n",
    "print(Back.WHITE+f\"Percentage of Comments Classified as Insult              \"+Back.GREEN+f\"{df['insult'].sum()/1595.71}% \\n\")\n",
    "print(Back.WHITE+f\"Percentage of Comments Classified as Identity Hate       \"+Back.GREEN+f\"{df['identity_hate'].sum()/1595.71}% \\n\")"
   ]
  },
  {
   "cell_type": "markdown",
   "id": "b2cbe06f",
   "metadata": {
    "papermill": {
     "duration": 0.015091,
     "end_time": "2022-11-17T07:20:17.172923",
     "exception": false,
     "start_time": "2022-11-17T07:20:17.157832",
     "status": "completed"
    },
    "tags": []
   },
   "source": [
    "# Text Counts & Lengths Analysis"
   ]
  },
  {
   "cell_type": "code",
   "execution_count": 9,
   "id": "fed15322",
   "metadata": {
    "execution": {
     "iopub.execute_input": "2022-11-17T07:20:17.205607Z",
     "iopub.status.busy": "2022-11-17T07:20:17.205222Z",
     "iopub.status.idle": "2022-11-17T07:21:12.569254Z",
     "shell.execute_reply": "2022-11-17T07:21:12.568212Z"
    },
    "papermill": {
     "duration": 55.38444,
     "end_time": "2022-11-17T07:21:12.572622",
     "exception": false,
     "start_time": "2022-11-17T07:20:17.188182",
     "status": "completed"
    },
    "tags": []
   },
   "outputs": [],
   "source": [
    "import nltk\n",
    "# Character counts\n",
    "from nltk.tokenize import sent_tokenize\n",
    "# Word counts\n",
    "df[\"char_count\"] = df[\"comment_text\"].map(lambda x: len(x))\n",
    "# Sentence counts\n",
    "df[\"word_count\"] = df[\"comment_text\"].map(lambda x: len(x.split()))\n",
    "# String counts\n",
    "df[\"sent_count\"] = df[\"comment_text\"].map(lambda x: len(sent_tokenize(x)))\n",
    "# Average word length\n",
    "df[\"hashtag_count\"] = df[\"comment_text\"].map(lambda x: x.count(\"#\"))\n",
    "# Average sentence length\n",
    "df[\"avg_word_len\"] = df[\"comment_text\"].map(lambda x: np.mean([len(w) for w in str(x).split()]))\n",
    "\n",
    "df[\"avg_sent_len\"] = df[\"comment_text\"].map(lambda x: np.mean([len(w.split()) for w in sent_tokenize(x)]))"
   ]
  },
  {
   "cell_type": "code",
   "execution_count": 10,
   "id": "1753df43",
   "metadata": {
    "execution": {
     "iopub.execute_input": "2022-11-17T07:21:12.605585Z",
     "iopub.status.busy": "2022-11-17T07:21:12.605178Z",
     "iopub.status.idle": "2022-11-17T07:21:12.649115Z",
     "shell.execute_reply": "2022-11-17T07:21:12.648053Z"
    },
    "papermill": {
     "duration": 0.063181,
     "end_time": "2022-11-17T07:21:12.651612",
     "exception": false,
     "start_time": "2022-11-17T07:21:12.588431",
     "status": "completed"
    },
    "tags": []
   },
   "outputs": [
    {
     "data": {
      "text/html": [
       "<div>\n",
       "<style scoped>\n",
       "    .dataframe tbody tr th:only-of-type {\n",
       "        vertical-align: middle;\n",
       "    }\n",
       "\n",
       "    .dataframe tbody tr th {\n",
       "        vertical-align: top;\n",
       "    }\n",
       "\n",
       "    .dataframe thead th {\n",
       "        text-align: right;\n",
       "    }\n",
       "</style>\n",
       "<table border=\"1\" class=\"dataframe\">\n",
       "  <thead>\n",
       "    <tr style=\"text-align: right;\">\n",
       "      <th></th>\n",
       "      <th>comment_text</th>\n",
       "      <th>toxic</th>\n",
       "      <th>severe_toxic</th>\n",
       "      <th>obscene</th>\n",
       "      <th>threat</th>\n",
       "      <th>insult</th>\n",
       "      <th>identity_hate</th>\n",
       "      <th>char_count</th>\n",
       "      <th>word_count</th>\n",
       "      <th>sent_count</th>\n",
       "      <th>hashtag_count</th>\n",
       "      <th>avg_word_len</th>\n",
       "      <th>avg_sent_len</th>\n",
       "    </tr>\n",
       "  </thead>\n",
       "  <tbody>\n",
       "    <tr>\n",
       "      <th>6</th>\n",
       "      <td>COCKSUCKER BEFORE YOU PISS AROUND ON MY WORK</td>\n",
       "      <td>1</td>\n",
       "      <td>1</td>\n",
       "      <td>1</td>\n",
       "      <td>0</td>\n",
       "      <td>1</td>\n",
       "      <td>0</td>\n",
       "      <td>44</td>\n",
       "      <td>8</td>\n",
       "      <td>1</td>\n",
       "      <td>0</td>\n",
       "      <td>4.625000</td>\n",
       "      <td>8.000000</td>\n",
       "    </tr>\n",
       "    <tr>\n",
       "      <th>12</th>\n",
       "      <td>Hey... what is it..\\n@ | talk .\\nWhat is it......</td>\n",
       "      <td>1</td>\n",
       "      <td>0</td>\n",
       "      <td>0</td>\n",
       "      <td>0</td>\n",
       "      <td>0</td>\n",
       "      <td>0</td>\n",
       "      <td>319</td>\n",
       "      <td>53</td>\n",
       "      <td>3</td>\n",
       "      <td>0</td>\n",
       "      <td>5.018868</td>\n",
       "      <td>17.666667</td>\n",
       "    </tr>\n",
       "    <tr>\n",
       "      <th>16</th>\n",
       "      <td>Bye! \\n\\nDon't look, come or think of comming ...</td>\n",
       "      <td>1</td>\n",
       "      <td>0</td>\n",
       "      <td>0</td>\n",
       "      <td>0</td>\n",
       "      <td>0</td>\n",
       "      <td>0</td>\n",
       "      <td>57</td>\n",
       "      <td>10</td>\n",
       "      <td>3</td>\n",
       "      <td>0</td>\n",
       "      <td>4.600000</td>\n",
       "      <td>3.333333</td>\n",
       "    </tr>\n",
       "    <tr>\n",
       "      <th>42</th>\n",
       "      <td>You are gay or antisemmitian? \\n\\nArchangel WH...</td>\n",
       "      <td>1</td>\n",
       "      <td>0</td>\n",
       "      <td>1</td>\n",
       "      <td>0</td>\n",
       "      <td>1</td>\n",
       "      <td>1</td>\n",
       "      <td>648</td>\n",
       "      <td>117</td>\n",
       "      <td>8</td>\n",
       "      <td>0</td>\n",
       "      <td>4.478632</td>\n",
       "      <td>14.625000</td>\n",
       "    </tr>\n",
       "    <tr>\n",
       "      <th>43</th>\n",
       "      <td>FUCK YOUR FILTHY MOTHER IN THE ASS, DRY!</td>\n",
       "      <td>1</td>\n",
       "      <td>0</td>\n",
       "      <td>1</td>\n",
       "      <td>0</td>\n",
       "      <td>1</td>\n",
       "      <td>0</td>\n",
       "      <td>40</td>\n",
       "      <td>8</td>\n",
       "      <td>1</td>\n",
       "      <td>0</td>\n",
       "      <td>4.125000</td>\n",
       "      <td>8.000000</td>\n",
       "    </tr>\n",
       "    <tr>\n",
       "      <th>...</th>\n",
       "      <td>...</td>\n",
       "      <td>...</td>\n",
       "      <td>...</td>\n",
       "      <td>...</td>\n",
       "      <td>...</td>\n",
       "      <td>...</td>\n",
       "      <td>...</td>\n",
       "      <td>...</td>\n",
       "      <td>...</td>\n",
       "      <td>...</td>\n",
       "      <td>...</td>\n",
       "      <td>...</td>\n",
       "      <td>...</td>\n",
       "    </tr>\n",
       "    <tr>\n",
       "      <th>159494</th>\n",
       "      <td>\"\\n\\n our previous conversation \\n\\nyou fuckin...</td>\n",
       "      <td>1</td>\n",
       "      <td>0</td>\n",
       "      <td>1</td>\n",
       "      <td>0</td>\n",
       "      <td>1</td>\n",
       "      <td>1</td>\n",
       "      <td>1677</td>\n",
       "      <td>319</td>\n",
       "      <td>23</td>\n",
       "      <td>0</td>\n",
       "      <td>4.241379</td>\n",
       "      <td>13.869565</td>\n",
       "    </tr>\n",
       "    <tr>\n",
       "      <th>159514</th>\n",
       "      <td>YOU ARE A MISCHIEVIOUS PUBIC HAIR</td>\n",
       "      <td>1</td>\n",
       "      <td>0</td>\n",
       "      <td>0</td>\n",
       "      <td>0</td>\n",
       "      <td>1</td>\n",
       "      <td>0</td>\n",
       "      <td>33</td>\n",
       "      <td>6</td>\n",
       "      <td>1</td>\n",
       "      <td>0</td>\n",
       "      <td>4.666667</td>\n",
       "      <td>6.000000</td>\n",
       "    </tr>\n",
       "    <tr>\n",
       "      <th>159541</th>\n",
       "      <td>Your absurd edits \\n\\nYour absurd edits on gre...</td>\n",
       "      <td>1</td>\n",
       "      <td>0</td>\n",
       "      <td>1</td>\n",
       "      <td>0</td>\n",
       "      <td>1</td>\n",
       "      <td>0</td>\n",
       "      <td>346</td>\n",
       "      <td>58</td>\n",
       "      <td>5</td>\n",
       "      <td>0</td>\n",
       "      <td>4.948276</td>\n",
       "      <td>11.600000</td>\n",
       "    </tr>\n",
       "    <tr>\n",
       "      <th>159546</th>\n",
       "      <td>\"\\n\\nHey listen don't you ever!!!! Delete my e...</td>\n",
       "      <td>1</td>\n",
       "      <td>0</td>\n",
       "      <td>0</td>\n",
       "      <td>0</td>\n",
       "      <td>1</td>\n",
       "      <td>0</td>\n",
       "      <td>534</td>\n",
       "      <td>103</td>\n",
       "      <td>6</td>\n",
       "      <td>0</td>\n",
       "      <td>4.184466</td>\n",
       "      <td>17.166667</td>\n",
       "    </tr>\n",
       "    <tr>\n",
       "      <th>159554</th>\n",
       "      <td>and i'm going to keep posting the stuff u dele...</td>\n",
       "      <td>1</td>\n",
       "      <td>0</td>\n",
       "      <td>1</td>\n",
       "      <td>0</td>\n",
       "      <td>1</td>\n",
       "      <td>0</td>\n",
       "      <td>182</td>\n",
       "      <td>35</td>\n",
       "      <td>1</td>\n",
       "      <td>0</td>\n",
       "      <td>4.228571</td>\n",
       "      <td>35.000000</td>\n",
       "    </tr>\n",
       "  </tbody>\n",
       "</table>\n",
       "<p>15294 rows × 13 columns</p>\n",
       "</div>"
      ],
      "text/plain": [
       "                                             comment_text  toxic  \\\n",
       "6            COCKSUCKER BEFORE YOU PISS AROUND ON MY WORK      1   \n",
       "12      Hey... what is it..\\n@ | talk .\\nWhat is it......      1   \n",
       "16      Bye! \\n\\nDon't look, come or think of comming ...      1   \n",
       "42      You are gay or antisemmitian? \\n\\nArchangel WH...      1   \n",
       "43               FUCK YOUR FILTHY MOTHER IN THE ASS, DRY!      1   \n",
       "...                                                   ...    ...   \n",
       "159494  \"\\n\\n our previous conversation \\n\\nyou fuckin...      1   \n",
       "159514                  YOU ARE A MISCHIEVIOUS PUBIC HAIR      1   \n",
       "159541  Your absurd edits \\n\\nYour absurd edits on gre...      1   \n",
       "159546  \"\\n\\nHey listen don't you ever!!!! Delete my e...      1   \n",
       "159554  and i'm going to keep posting the stuff u dele...      1   \n",
       "\n",
       "        severe_toxic  obscene  threat  insult  identity_hate  char_count  \\\n",
       "6                  1        1       0       1              0          44   \n",
       "12                 0        0       0       0              0         319   \n",
       "16                 0        0       0       0              0          57   \n",
       "42                 0        1       0       1              1         648   \n",
       "43                 0        1       0       1              0          40   \n",
       "...              ...      ...     ...     ...            ...         ...   \n",
       "159494             0        1       0       1              1        1677   \n",
       "159514             0        0       0       1              0          33   \n",
       "159541             0        1       0       1              0         346   \n",
       "159546             0        0       0       1              0         534   \n",
       "159554             0        1       0       1              0         182   \n",
       "\n",
       "        word_count  sent_count  hashtag_count  avg_word_len  avg_sent_len  \n",
       "6                8           1              0      4.625000      8.000000  \n",
       "12              53           3              0      5.018868     17.666667  \n",
       "16              10           3              0      4.600000      3.333333  \n",
       "42             117           8              0      4.478632     14.625000  \n",
       "43               8           1              0      4.125000      8.000000  \n",
       "...            ...         ...            ...           ...           ...  \n",
       "159494         319          23              0      4.241379     13.869565  \n",
       "159514           6           1              0      4.666667      6.000000  \n",
       "159541          58           5              0      4.948276     11.600000  \n",
       "159546         103           6              0      4.184466     17.166667  \n",
       "159554          35           1              0      4.228571     35.000000  \n",
       "\n",
       "[15294 rows x 13 columns]"
      ]
     },
     "execution_count": 10,
     "metadata": {},
     "output_type": "execute_result"
    }
   ],
   "source": [
    "df[df['toxic']==1]"
   ]
  },
  {
   "cell_type": "code",
   "execution_count": 11,
   "id": "a08254a8",
   "metadata": {
    "execution": {
     "iopub.execute_input": "2022-11-17T07:21:12.684993Z",
     "iopub.status.busy": "2022-11-17T07:21:12.684568Z",
     "iopub.status.idle": "2022-11-17T07:21:12.691828Z",
     "shell.execute_reply": "2022-11-17T07:21:12.690701Z"
    },
    "papermill": {
     "duration": 0.026725,
     "end_time": "2022-11-17T07:21:12.694158",
     "exception": false,
     "start_time": "2022-11-17T07:21:12.667433",
     "status": "completed"
    },
    "tags": []
   },
   "outputs": [
    {
     "data": {
      "text/plain": [
       "\"Explanation\\nWhy the edits made under my username Hardcore Metallica Fan were reverted? They weren't vandalisms, just closure on some GAs after I voted at New York Dolls FAC. And please don't remove the template from the talk page since I'm retired now.89.205.38.27\""
      ]
     },
     "execution_count": 11,
     "metadata": {},
     "output_type": "execute_result"
    }
   ],
   "source": [
    "df['comment_text'][0]"
   ]
  },
  {
   "cell_type": "code",
   "execution_count": 12,
   "id": "3b84119f",
   "metadata": {
    "execution": {
     "iopub.execute_input": "2022-11-17T07:21:12.728834Z",
     "iopub.status.busy": "2022-11-17T07:21:12.728443Z",
     "iopub.status.idle": "2022-11-17T07:21:12.936430Z",
     "shell.execute_reply": "2022-11-17T07:21:12.935126Z"
    },
    "papermill": {
     "duration": 0.227526,
     "end_time": "2022-11-17T07:21:12.938656",
     "exception": false,
     "start_time": "2022-11-17T07:21:12.711130",
     "status": "completed"
    },
    "tags": []
   },
   "outputs": [
    {
     "data": {
      "image/png": "[encoded data removed]",
      "text/plain": [
       "<Figure size 432x288 with 1 Axes>"
      ]
     },
     "metadata": {
      "needs_background": "light"
     },
     "output_type": "display_data"
    }
   ],
   "source": [
    "import matplotlib.pyplot as plt\n",
    "df['word_count'].hist()\n",
    "plt.show()\n",
    "# Havent included others as there was no finding associated with the same"
   ]
  },
  {
   "cell_type": "markdown",
   "id": "160767b5",
   "metadata": {
    "papermill": {
     "duration": 0.016322,
     "end_time": "2022-11-17T07:21:12.971290",
     "exception": false,
     "start_time": "2022-11-17T07:21:12.954968",
     "status": "completed"
    },
    "tags": []
   },
   "source": [
    "# Term Frequency Analysis"
   ]
  },
  {
   "cell_type": "code",
   "execution_count": 13,
   "id": "6237c19b",
   "metadata": {
    "execution": {
     "iopub.execute_input": "2022-11-17T07:21:13.005553Z",
     "iopub.status.busy": "2022-11-17T07:21:13.005138Z",
     "iopub.status.idle": "2022-11-17T07:21:19.124073Z",
     "shell.execute_reply": "2022-11-17T07:21:19.123077Z"
    },
    "papermill": {
     "duration": 6.139203,
     "end_time": "2022-11-17T07:21:19.126800",
     "exception": false,
     "start_time": "2022-11-17T07:21:12.987597",
     "status": "completed"
    },
    "tags": []
   },
   "outputs": [],
   "source": [
    "import re\n",
    "import string\n",
    "\n",
    "def clean_text(text):\n",
    "    # Convert text to lowercase\n",
    "    text = text.lower()    \n",
    "    # Remove punctuation\n",
    "    text = re.sub(\"[%s]\" % re.escape(string.punctuation), \"\", text)   \n",
    "     # Remove non-Roman characters\n",
    "    text = re.sub(\"([^\\x00-\\x7F])+\", \" \", text)\n",
    "    # Strip any numericals if present in words\n",
    "    text =  re.sub(r'\\d', '', text).strip()\n",
    "    # strip any \\n present between words\n",
    "    text = re.sub(r'\\n',' ',text).strip()\n",
    "    #remove stop words \n",
    "    \n",
    "    return text\n",
    "df[\"comment_clean\"] = df[\"comment_text\"].map(lambda x: clean_text(x))"
   ]
  },
  {
   "cell_type": "code",
   "execution_count": 14,
   "id": "75fd90e3",
   "metadata": {
    "execution": {
     "iopub.execute_input": "2022-11-17T07:21:19.161592Z",
     "iopub.status.busy": "2022-11-17T07:21:19.161213Z",
     "iopub.status.idle": "2022-11-17T07:21:19.167762Z",
     "shell.execute_reply": "2022-11-17T07:21:19.166699Z"
    },
    "papermill": {
     "duration": 0.026697,
     "end_time": "2022-11-17T07:21:19.170111",
     "exception": false,
     "start_time": "2022-11-17T07:21:19.143414",
     "status": "completed"
    },
    "tags": []
   },
   "outputs": [
    {
     "data": {
      "text/plain": [
       "\"Explanation\\nWhy the edits made under my username Hardcore Metallica Fan were reverted? They weren't vandalisms, just closure on some GAs after I voted at New York Dolls FAC. And please don't remove the template from the talk page since I'm retired now.89.205.38.27\""
      ]
     },
     "execution_count": 14,
     "metadata": {},
     "output_type": "execute_result"
    }
   ],
   "source": [
    "df[\"comment_text\"][0]"
   ]
  },
  {
   "cell_type": "code",
   "execution_count": 15,
   "id": "8b17fd88",
   "metadata": {
    "execution": {
     "iopub.execute_input": "2022-11-17T07:21:19.205931Z",
     "iopub.status.busy": "2022-11-17T07:21:19.205541Z",
     "iopub.status.idle": "2022-11-17T07:21:19.212225Z",
     "shell.execute_reply": "2022-11-17T07:21:19.211140Z"
    },
    "papermill": {
     "duration": 0.027142,
     "end_time": "2022-11-17T07:21:19.214377",
     "exception": false,
     "start_time": "2022-11-17T07:21:19.187235",
     "status": "completed"
    },
    "tags": []
   },
   "outputs": [
    {
     "data": {
      "text/plain": [
       "'explanation why the edits made under my username hardcore metallica fan were reverted they werent vandalisms just closure on some gas after i voted at new york dolls fac and please dont remove the template from the talk page since im retired now'"
      ]
     },
     "execution_count": 15,
     "metadata": {},
     "output_type": "execute_result"
    }
   ],
   "source": [
    "df[\"comment_clean\"][0]"
   ]
  },
  {
   "cell_type": "markdown",
   "id": "25ec9e75",
   "metadata": {
    "papermill": {
     "duration": 0.016203,
     "end_time": "2022-11-17T07:21:19.247191",
     "exception": false,
     "start_time": "2022-11-17T07:21:19.230988",
     "status": "completed"
    },
    "tags": []
   },
   "source": [
    "<center>\n",
    "<div style = \"background-color: rgba(152, 170, 236, 0.8); border-style: double;\">\n",
    "<strong style = \"font-size: 25px; color:rgba(86, 106, 181, 1);\"><center>3. N-grams (combination of 1-,2-,3-grams)</center></strong>\n",
    "</div>\n",
    "</center>"
   ]
  },
  {
   "cell_type": "markdown",
   "id": "89c72e4e",
   "metadata": {
    "papermill": {
     "duration": 0.016365,
     "end_time": "2022-11-17T07:21:19.280114",
     "exception": false,
     "start_time": "2022-11-17T07:21:19.263749",
     "status": "completed"
    },
    "tags": []
   },
   "source": [
    "# Analyising Data on the Basis of N-Grams\n"
   ]
  },
  {
   "cell_type": "code",
   "execution_count": 16,
   "id": "3df42ddd",
   "metadata": {
    "execution": {
     "iopub.execute_input": "2022-11-17T07:21:19.314529Z",
     "iopub.status.busy": "2022-11-17T07:21:19.314145Z",
     "iopub.status.idle": "2022-11-17T07:21:22.772974Z",
     "shell.execute_reply": "2022-11-17T07:21:22.771764Z"
    },
    "papermill": {
     "duration": 3.479285,
     "end_time": "2022-11-17T07:21:22.775690",
     "exception": false,
     "start_time": "2022-11-17T07:21:19.296405",
     "status": "completed"
    },
    "tags": []
   },
   "outputs": [],
   "source": [
    "# Made a corpus of vocabulary\n",
    "from nltk.corpus import stopwords\n",
    "stop = set(stopwords.words(\"english\"))\n",
    "corpus = [word for i in df[\"comment_clean\"].str.split().values.tolist() for word in i if (word not in stop)]"
   ]
  },
  {
   "cell_type": "code",
   "execution_count": 17,
   "id": "042c9394",
   "metadata": {
    "execution": {
     "iopub.execute_input": "2022-11-17T07:21:22.811193Z",
     "iopub.status.busy": "2022-11-17T07:21:22.810800Z",
     "iopub.status.idle": "2022-11-17T07:21:22.817823Z",
     "shell.execute_reply": "2022-11-17T07:21:22.816668Z"
    },
    "papermill": {
     "duration": 0.027663,
     "end_time": "2022-11-17T07:21:22.820168",
     "exception": false,
     "start_time": "2022-11-17T07:21:22.792505",
     "status": "completed"
    },
    "tags": []
   },
   "outputs": [
    {
     "data": {
      "text/plain": [
       "['explanation',\n",
       " 'edits',\n",
       " 'made',\n",
       " 'username',\n",
       " 'hardcore',\n",
       " 'metallica',\n",
       " 'fan',\n",
       " 'reverted',\n",
       " 'werent',\n",
       " 'vandalisms',\n",
       " 'closure',\n",
       " 'gas',\n",
       " 'voted',\n",
       " 'new',\n",
       " 'york',\n",
       " 'dolls',\n",
       " 'fac',\n",
       " 'please',\n",
       " 'dont',\n",
       " 'remove']"
      ]
     },
     "execution_count": 17,
     "metadata": {},
     "output_type": "execute_result"
    }
   ],
   "source": [
    "corpus[0:20]"
   ]
  },
  {
   "cell_type": "code",
   "execution_count": 18,
   "id": "6fb334b9",
   "metadata": {
    "execution": {
     "iopub.execute_input": "2022-11-17T07:21:22.855584Z",
     "iopub.status.busy": "2022-11-17T07:21:22.855214Z",
     "iopub.status.idle": "2022-11-17T07:21:27.167966Z",
     "shell.execute_reply": "2022-11-17T07:21:27.166856Z"
    },
    "papermill": {
     "duration": 4.333158,
     "end_time": "2022-11-17T07:21:27.170348",
     "exception": false,
     "start_time": "2022-11-17T07:21:22.837190",
     "status": "completed"
    },
    "tags": []
   },
   "outputs": [
    {
     "data": {
      "text/plain": [
       "[('article', 55460),\n",
       " ('page', 45678),\n",
       " ('wikipedia', 35679),\n",
       " ('talk', 31652),\n",
       " ('please', 29619),\n",
       " ('would', 29213),\n",
       " ('one', 28104),\n",
       " ('like', 27710),\n",
       " ('dont', 25742),\n",
       " ('see', 21497),\n",
       " ('also', 20553),\n",
       " ('think', 20042),\n",
       " ('im', 19277),\n",
       " ('know', 18996),\n",
       " ('people', 17717),\n",
       " ('edit', 17598),\n",
       " ('articles', 17525),\n",
       " ('use', 16327),\n",
       " ('may', 15568),\n",
       " ('time', 15435)]"
      ]
     },
     "execution_count": 18,
     "metadata": {},
     "output_type": "execute_result"
    }
   ],
   "source": [
    "# Obtain 20 most frequent words and plot them\n",
    "from nltk.probability import FreqDist\n",
    "most_common = FreqDist(corpus).most_common(20)\n",
    "most_common"
   ]
  },
  {
   "cell_type": "code",
   "execution_count": 19,
   "id": "8d8a06c9",
   "metadata": {
    "execution": {
     "iopub.execute_input": "2022-11-17T07:21:27.205640Z",
     "iopub.status.busy": "2022-11-17T07:21:27.205229Z",
     "iopub.status.idle": "2022-11-17T07:21:27.738813Z",
     "shell.execute_reply": "2022-11-17T07:21:27.737711Z"
    },
    "papermill": {
     "duration": 0.553832,
     "end_time": "2022-11-17T07:21:27.741160",
     "exception": false,
     "start_time": "2022-11-17T07:21:27.187328",
     "status": "completed"
    },
    "tags": []
   },
   "outputs": [
    {
     "data": {
      "text/plain": [
       "<AxesSubplot:>"
      ]
     },
     "execution_count": 19,
     "metadata": {},
     "output_type": "execute_result"
    },
    {
     "data": {
      "image/png": "[encoded data removed]",
      "text/plain": [
       "<Figure size 432x288 with 1 Axes>"
      ]
     },
     "metadata": {
      "needs_background": "light"
     },
     "output_type": "display_data"
    }
   ],
   "source": [
    "words, frequency = [], []\n",
    "for word, count in most_common:\n",
    "    words.append(word)\n",
    "    frequency.append(count)\n",
    "    \n",
    "sns.barplot(x = frequency, y = words)"
   ]
  },
  {
   "cell_type": "code",
   "execution_count": 20,
   "id": "990bddad",
   "metadata": {
    "execution": {
     "iopub.execute_input": "2022-11-17T07:21:27.777604Z",
     "iopub.status.busy": "2022-11-17T07:21:27.777232Z",
     "iopub.status.idle": "2022-11-17T07:21:27.784799Z",
     "shell.execute_reply": "2022-11-17T07:21:27.783609Z"
    },
    "papermill": {
     "duration": 0.028759,
     "end_time": "2022-11-17T07:21:27.787141",
     "exception": false,
     "start_time": "2022-11-17T07:21:27.758382",
     "status": "completed"
    },
    "tags": []
   },
   "outputs": [],
   "source": [
    "# Obtain 2-gram words\n",
    "from nltk.util import ngrams\n",
    "from sklearn.feature_extraction.text import CountVectorizer\n",
    "\n",
    "list(ngrams(['I' ,'went','to','the','river','bank'],2))\n",
    "def get_top_ngram(corpus, n=None):\n",
    "    vec = CountVectorizer(ngram_range=(n, n)).fit(corpus)\n",
    "    bag_of_words = vec.transform(corpus)\n",
    "    sum_words = bag_of_words.sum(axis=0) \n",
    "    words_freq = [(word, sum_words[0, idx]) \n",
    "                  for word, idx in vec.vocabulary_.items()]\n",
    "    words_freq =sorted(words_freq, key = lambda x: x[1], reverse=True)\n",
    "    return words_freq[:10]"
   ]
  },
  {
   "cell_type": "code",
   "execution_count": 21,
   "id": "13ec1ce3",
   "metadata": {
    "execution": {
     "iopub.execute_input": "2022-11-17T07:21:27.824008Z",
     "iopub.status.busy": "2022-11-17T07:21:27.823606Z",
     "iopub.status.idle": "2022-11-17T07:22:13.079996Z",
     "shell.execute_reply": "2022-11-17T07:22:13.079129Z"
    },
    "papermill": {
     "duration": 45.294947,
     "end_time": "2022-11-17T07:22:13.099754",
     "exception": false,
     "start_time": "2022-11-17T07:21:27.804807",
     "status": "completed"
    },
    "tags": []
   },
   "outputs": [
    {
     "data": {
      "text/plain": [
       "[('of the', 50233),\n",
       " ('in the', 38312),\n",
       " ('to the', 26675),\n",
       " ('if you', 26409),\n",
       " ('on the', 23210),\n",
       " ('the article', 22585),\n",
       " ('it is', 21778),\n",
       " ('to be', 21358),\n",
       " ('you are', 17191),\n",
       " ('is not', 14782)]"
      ]
     },
     "execution_count": 21,
     "metadata": {},
     "output_type": "execute_result"
    }
   ],
   "source": [
    "\n",
    "top_n_bigrams=get_top_ngram(df['comment_clean'],2)[:20]\n",
    "top_n_bigrams"
   ]
  },
  {
   "cell_type": "code",
   "execution_count": 22,
   "id": "3be375b0",
   "metadata": {
    "execution": {
     "iopub.execute_input": "2022-11-17T07:22:13.136323Z",
     "iopub.status.busy": "2022-11-17T07:22:13.135450Z",
     "iopub.status.idle": "2022-11-17T07:22:13.320135Z",
     "shell.execute_reply": "2022-11-17T07:22:13.319270Z"
    },
    "papermill": {
     "duration": 0.205184,
     "end_time": "2022-11-17T07:22:13.322264",
     "exception": false,
     "start_time": "2022-11-17T07:22:13.117080",
     "status": "completed"
    },
    "tags": []
   },
   "outputs": [
    {
     "data": {
      "text/plain": [
       "<AxesSubplot:>"
      ]
     },
     "execution_count": 22,
     "metadata": {},
     "output_type": "execute_result"
    },
    {
     "data": {
      "image/png": "[encoded data removed]",
      "text/plain": [
       "<Figure size 432x288 with 1 Axes>"
      ]
     },
     "metadata": {
      "needs_background": "light"
     },
     "output_type": "display_data"
    }
   ],
   "source": [
    "x,y=map(list,zip(*top_n_bigrams)) \n",
    "sns.barplot(x=y,y=x) "
   ]
  },
  {
   "cell_type": "code",
   "execution_count": 23,
   "id": "fdca01e8",
   "metadata": {
    "execution": {
     "iopub.execute_input": "2022-11-17T07:22:13.359232Z",
     "iopub.status.busy": "2022-11-17T07:22:13.358459Z",
     "iopub.status.idle": "2022-11-17T07:22:13.365496Z",
     "shell.execute_reply": "2022-11-17T07:22:13.364770Z"
    },
    "papermill": {
     "duration": 0.027642,
     "end_time": "2022-11-17T07:22:13.367383",
     "exception": false,
     "start_time": "2022-11-17T07:22:13.339741",
     "status": "completed"
    },
    "tags": []
   },
   "outputs": [],
   "source": [
    "# Obtain 3-gram words\n",
    "from nltk.util import ngrams\n",
    "from sklearn.feature_extraction.text import CountVectorizer\n",
    "\n",
    "list(ngrams(['I' ,'went','to','the','river','bank'],3))\n",
    "def get_top_ngram(corpus, n=None):\n",
    "    vec = CountVectorizer(ngram_range=(n, n)).fit(corpus)\n",
    "    bag_of_words = vec.transform(corpus)\n",
    "    sum_words = bag_of_words.sum(axis=0) \n",
    "    words_freq = [(word, sum_words[0, idx]) \n",
    "                  for word, idx in vec.vocabulary_.items()]\n",
    "    words_freq =sorted(words_freq, key = lambda x: x[1], reverse=True)\n",
    "    return words_freq[:10]"
   ]
  },
  {
   "cell_type": "code",
   "execution_count": 24,
   "id": "fd0eec96",
   "metadata": {
    "execution": {
     "iopub.execute_input": "2022-11-17T07:22:13.403919Z",
     "iopub.status.busy": "2022-11-17T07:22:13.403188Z",
     "iopub.status.idle": "2022-11-17T07:23:24.895833Z",
     "shell.execute_reply": "2022-11-17T07:23:24.894681Z"
    },
    "papermill": {
     "duration": 71.531679,
     "end_time": "2022-11-17T07:23:24.916220",
     "exception": false,
     "start_time": "2022-11-17T07:22:13.384541",
     "status": "completed"
    },
    "tags": []
   },
   "outputs": [
    {
     "data": {
      "text/plain": [
       "[('thank you for', 4018),\n",
       " ('if you have', 3552),\n",
       " ('my talk page', 3496),\n",
       " ('please do not', 3340),\n",
       " ('in the article', 3144),\n",
       " ('there is no', 3045),\n",
       " ('would like to', 2936),\n",
       " ('one of the', 2917),\n",
       " ('of the article', 2848),\n",
       " ('the talk page', 2551)]"
      ]
     },
     "execution_count": 24,
     "metadata": {},
     "output_type": "execute_result"
    }
   ],
   "source": [
    "top_n_trigrams=get_top_ngram(df['comment_clean'],3)[:20]\n",
    "top_n_trigrams"
   ]
  },
  {
   "cell_type": "code",
   "execution_count": 25,
   "id": "20ff7fab",
   "metadata": {
    "execution": {
     "iopub.execute_input": "2022-11-17T07:23:24.953308Z",
     "iopub.status.busy": "2022-11-17T07:23:24.952929Z",
     "iopub.status.idle": "2022-11-17T07:23:25.192853Z",
     "shell.execute_reply": "2022-11-17T07:23:25.191681Z"
    },
    "papermill": {
     "duration": 0.261472,
     "end_time": "2022-11-17T07:23:25.195333",
     "exception": false,
     "start_time": "2022-11-17T07:23:24.933861",
     "status": "completed"
    },
    "tags": []
   },
   "outputs": [
    {
     "data": {
      "text/plain": [
       "<AxesSubplot:>"
      ]
     },
     "execution_count": 25,
     "metadata": {},
     "output_type": "execute_result"
    },
    {
     "data": {
      "image/png": "[encoded data removed]",
      "text/plain": [
       "<Figure size 432x288 with 1 Axes>"
      ]
     },
     "metadata": {
      "needs_background": "light"
     },
     "output_type": "display_data"
    }
   ],
   "source": [
    "x,y=map(list,zip(*top_n_trigrams)) \n",
    "sns.barplot(x=y,y=x) "
   ]
  },
  {
   "cell_type": "markdown",
   "id": "7b84b30e",
   "metadata": {
    "papermill": {
     "duration": 0.017745,
     "end_time": "2022-11-17T07:23:25.231457",
     "exception": false,
     "start_time": "2022-11-17T07:23:25.213712",
     "status": "completed"
    },
    "tags": []
   },
   "source": [
    "# Training N-Gram Models Using Gaussian NB\n",
    "\n",
    "Now that we have seen the top 1,2 and 3 gram must recurring vocabulary, we can understand how relevant each gram is. To, further see the impact, let's train models on 1,2,3 gram and compare them using metric results."
   ]
  },
  {
   "cell_type": "code",
   "execution_count": 26,
   "id": "2c233eb2",
   "metadata": {
    "execution": {
     "iopub.execute_input": "2022-11-17T07:23:25.269275Z",
     "iopub.status.busy": "2022-11-17T07:23:25.268887Z",
     "iopub.status.idle": "2022-11-17T07:23:25.274063Z",
     "shell.execute_reply": "2022-11-17T07:23:25.273116Z"
    },
    "papermill": {
     "duration": 0.026943,
     "end_time": "2022-11-17T07:23:25.276600",
     "exception": false,
     "start_time": "2022-11-17T07:23:25.249657",
     "status": "completed"
    },
    "tags": []
   },
   "outputs": [],
   "source": [
    "# Let's just train the first 2000 datapoints as of now\n",
    "df = df[:2000]"
   ]
  },
  {
   "cell_type": "code",
   "execution_count": 27,
   "id": "27f12d90",
   "metadata": {
    "execution": {
     "iopub.execute_input": "2022-11-17T07:23:25.320278Z",
     "iopub.status.busy": "2022-11-17T07:23:25.319505Z",
     "iopub.status.idle": "2022-11-17T07:23:25.326355Z",
     "shell.execute_reply": "2022-11-17T07:23:25.325605Z"
    },
    "papermill": {
     "duration": 0.028733,
     "end_time": "2022-11-17T07:23:25.328549",
     "exception": false,
     "start_time": "2022-11-17T07:23:25.299816",
     "status": "completed"
    },
    "tags": []
   },
   "outputs": [],
   "source": [
    "x = df['comment_clean']\n",
    "y = df[['toxic', 'severe_toxic', 'obscene', 'threat', 'insult', 'identity_hate']]"
   ]
  },
  {
   "cell_type": "code",
   "execution_count": 28,
   "id": "ec512763",
   "metadata": {
    "execution": {
     "iopub.execute_input": "2022-11-17T07:23:25.366898Z",
     "iopub.status.busy": "2022-11-17T07:23:25.365759Z",
     "iopub.status.idle": "2022-11-17T07:23:25.373293Z",
     "shell.execute_reply": "2022-11-17T07:23:25.372490Z"
    },
    "papermill": {
     "duration": 0.028787,
     "end_time": "2022-11-17T07:23:25.375488",
     "exception": false,
     "start_time": "2022-11-17T07:23:25.346701",
     "status": "completed"
    },
    "tags": []
   },
   "outputs": [],
   "source": [
    "from sklearn.model_selection import train_test_split\n",
    "X_train, X_test, y_train, y_test = train_test_split(x, y, random_state=42,test_size=0.05)"
   ]
  },
  {
   "cell_type": "code",
   "execution_count": 29,
   "id": "1f14c4ac",
   "metadata": {
    "execution": {
     "iopub.execute_input": "2022-11-17T07:23:25.414240Z",
     "iopub.status.busy": "2022-11-17T07:23:25.413379Z",
     "iopub.status.idle": "2022-11-17T07:23:25.424013Z",
     "shell.execute_reply": "2022-11-17T07:23:25.422890Z"
    },
    "papermill": {
     "duration": 0.033134,
     "end_time": "2022-11-17T07:23:25.426561",
     "exception": false,
     "start_time": "2022-11-17T07:23:25.393427",
     "status": "completed"
    },
    "tags": []
   },
   "outputs": [
    {
     "name": "stdout",
     "output_type": "stream",
     "text": [
      "1900\n"
     ]
    }
   ],
   "source": [
    "print(len(X_train))"
   ]
  },
  {
   "cell_type": "code",
   "execution_count": 30,
   "id": "049e641f",
   "metadata": {
    "execution": {
     "iopub.execute_input": "2022-11-17T07:23:25.472147Z",
     "iopub.status.busy": "2022-11-17T07:23:25.470995Z",
     "iopub.status.idle": "2022-11-17T07:23:25.981039Z",
     "shell.execute_reply": "2022-11-17T07:23:25.979907Z"
    },
    "papermill": {
     "duration": 0.536128,
     "end_time": "2022-11-17T07:23:25.984052",
     "exception": false,
     "start_time": "2022-11-17T07:23:25.447924",
     "status": "completed"
    },
    "tags": []
   },
   "outputs": [],
   "source": [
    "from sklearn.feature_extraction.text import CountVectorizer\n",
    "count_vectorizer = CountVectorizer(ngram_range = (1, 2), max_features = 20000)\n",
    "X_train = count_vectorizer.fit_transform(X_train)\n",
    "X_test = count_vectorizer.transform(X_test)"
   ]
  },
  {
   "cell_type": "code",
   "execution_count": 31,
   "id": "252a0f3f",
   "metadata": {
    "execution": {
     "iopub.execute_input": "2022-11-17T07:23:26.023223Z",
     "iopub.status.busy": "2022-11-17T07:23:26.022840Z",
     "iopub.status.idle": "2022-11-17T07:23:26.030106Z",
     "shell.execute_reply": "2022-11-17T07:23:26.029032Z"
    },
    "papermill": {
     "duration": 0.029483,
     "end_time": "2022-11-17T07:23:26.032654",
     "exception": false,
     "start_time": "2022-11-17T07:23:26.003171",
     "status": "completed"
    },
    "tags": []
   },
   "outputs": [
    {
     "data": {
      "text/plain": [
       "20000"
      ]
     },
     "execution_count": 31,
     "metadata": {},
     "output_type": "execute_result"
    }
   ],
   "source": [
    "len(count_vectorizer.vocabulary_)"
   ]
  },
  {
   "cell_type": "code",
   "execution_count": 32,
   "id": "88f15d30",
   "metadata": {
    "execution": {
     "iopub.execute_input": "2022-11-17T07:23:26.075587Z",
     "iopub.status.busy": "2022-11-17T07:23:26.074861Z",
     "iopub.status.idle": "2022-11-17T07:23:26.083487Z",
     "shell.execute_reply": "2022-11-17T07:23:26.082033Z"
    },
    "papermill": {
     "duration": 0.032741,
     "end_time": "2022-11-17T07:23:26.086088",
     "exception": false,
     "start_time": "2022-11-17T07:23:26.053347",
     "status": "completed"
    },
    "tags": []
   },
   "outputs": [
    {
     "name": "stdout",
     "output_type": "stream",
     "text": [
      "  (0, 9946)\t1\n",
      "  (0, 12285)\t1\n",
      "  (0, 15826)\t1\n",
      "  (0, 5548)\t1\n",
      "  (0, 8645)\t1\n",
      "  (0, 9192)\t1\n",
      "  (0, 8394)\t1\n",
      "  (0, 15659)\t1\n",
      "  (0, 9980)\t1\n",
      "  (0, 15830)\t1\n",
      "  (0, 5605)\t1\n",
      "  (0, 8646)\t1\n",
      "  (0, 9226)\t1\n"
     ]
    }
   ],
   "source": [
    "print(X_train[0])"
   ]
  },
  {
   "cell_type": "code",
   "execution_count": 33,
   "id": "62204c1a",
   "metadata": {
    "execution": {
     "iopub.execute_input": "2022-11-17T07:23:26.129197Z",
     "iopub.status.busy": "2022-11-17T07:23:26.128795Z",
     "iopub.status.idle": "2022-11-17T07:23:26.281871Z",
     "shell.execute_reply": "2022-11-17T07:23:26.279880Z"
    },
    "papermill": {
     "duration": 0.17705,
     "end_time": "2022-11-17T07:23:26.284268",
     "exception": false,
     "start_time": "2022-11-17T07:23:26.107218",
     "status": "completed"
    },
    "tags": []
   },
   "outputs": [
    {
     "name": "stderr",
     "output_type": "stream",
     "text": [
      "/opt/conda/lib/python3.7/site-packages/sklearn/utils/deprecation.py:87: FutureWarning: Function get_feature_names is deprecated; get_feature_names is deprecated in 1.0 and will be removed in 1.2. Please use get_feature_names_out instead.\n",
      "  warnings.warn(msg, category=FutureWarning)\n"
     ]
    },
    {
     "data": {
      "text/html": [
       "<div>\n",
       "<style scoped>\n",
       "    .dataframe tbody tr th:only-of-type {\n",
       "        vertical-align: middle;\n",
       "    }\n",
       "\n",
       "    .dataframe tbody tr th {\n",
       "        vertical-align: top;\n",
       "    }\n",
       "\n",
       "    .dataframe thead th {\n",
       "        text-align: right;\n",
       "    }\n",
       "</style>\n",
       "<table border=\"1\" class=\"dataframe\">\n",
       "  <thead>\n",
       "    <tr style=\"text-align: right;\">\n",
       "      <th></th>\n",
       "      <th>aa</th>\n",
       "      <th>aaron</th>\n",
       "      <th>aaron swartz</th>\n",
       "      <th>ab</th>\n",
       "      <th>abc</th>\n",
       "      <th>abide</th>\n",
       "      <th>abide by</th>\n",
       "      <th>abilities</th>\n",
       "      <th>ability</th>\n",
       "      <th>ability to</th>\n",
       "      <th>...</th>\n",
       "      <th>yugoslav</th>\n",
       "      <th>yugoslavia</th>\n",
       "      <th>yup</th>\n",
       "      <th>yya</th>\n",
       "      <th>zadar</th>\n",
       "      <th>zagreb</th>\n",
       "      <th>zealand</th>\n",
       "      <th>zero</th>\n",
       "      <th>zion</th>\n",
       "      <th>zionist</th>\n",
       "    </tr>\n",
       "  </thead>\n",
       "  <tbody>\n",
       "    <tr>\n",
       "      <th>0</th>\n",
       "      <td>0</td>\n",
       "      <td>0</td>\n",
       "      <td>0</td>\n",
       "      <td>0</td>\n",
       "      <td>0</td>\n",
       "      <td>0</td>\n",
       "      <td>0</td>\n",
       "      <td>0</td>\n",
       "      <td>0</td>\n",
       "      <td>0</td>\n",
       "      <td>...</td>\n",
       "      <td>0</td>\n",
       "      <td>0</td>\n",
       "      <td>0</td>\n",
       "      <td>0</td>\n",
       "      <td>0</td>\n",
       "      <td>0</td>\n",
       "      <td>0</td>\n",
       "      <td>0</td>\n",
       "      <td>0</td>\n",
       "      <td>0</td>\n",
       "    </tr>\n",
       "    <tr>\n",
       "      <th>1</th>\n",
       "      <td>0</td>\n",
       "      <td>0</td>\n",
       "      <td>0</td>\n",
       "      <td>0</td>\n",
       "      <td>0</td>\n",
       "      <td>0</td>\n",
       "      <td>0</td>\n",
       "      <td>0</td>\n",
       "      <td>0</td>\n",
       "      <td>0</td>\n",
       "      <td>...</td>\n",
       "      <td>0</td>\n",
       "      <td>0</td>\n",
       "      <td>0</td>\n",
       "      <td>0</td>\n",
       "      <td>0</td>\n",
       "      <td>0</td>\n",
       "      <td>0</td>\n",
       "      <td>0</td>\n",
       "      <td>0</td>\n",
       "      <td>0</td>\n",
       "    </tr>\n",
       "    <tr>\n",
       "      <th>2</th>\n",
       "      <td>0</td>\n",
       "      <td>0</td>\n",
       "      <td>0</td>\n",
       "      <td>0</td>\n",
       "      <td>0</td>\n",
       "      <td>0</td>\n",
       "      <td>0</td>\n",
       "      <td>0</td>\n",
       "      <td>0</td>\n",
       "      <td>0</td>\n",
       "      <td>...</td>\n",
       "      <td>0</td>\n",
       "      <td>0</td>\n",
       "      <td>0</td>\n",
       "      <td>0</td>\n",
       "      <td>0</td>\n",
       "      <td>0</td>\n",
       "      <td>0</td>\n",
       "      <td>0</td>\n",
       "      <td>0</td>\n",
       "      <td>0</td>\n",
       "    </tr>\n",
       "    <tr>\n",
       "      <th>3</th>\n",
       "      <td>0</td>\n",
       "      <td>0</td>\n",
       "      <td>0</td>\n",
       "      <td>0</td>\n",
       "      <td>0</td>\n",
       "      <td>0</td>\n",
       "      <td>0</td>\n",
       "      <td>0</td>\n",
       "      <td>0</td>\n",
       "      <td>0</td>\n",
       "      <td>...</td>\n",
       "      <td>0</td>\n",
       "      <td>0</td>\n",
       "      <td>0</td>\n",
       "      <td>0</td>\n",
       "      <td>0</td>\n",
       "      <td>0</td>\n",
       "      <td>0</td>\n",
       "      <td>0</td>\n",
       "      <td>0</td>\n",
       "      <td>0</td>\n",
       "    </tr>\n",
       "    <tr>\n",
       "      <th>4</th>\n",
       "      <td>0</td>\n",
       "      <td>0</td>\n",
       "      <td>0</td>\n",
       "      <td>0</td>\n",
       "      <td>0</td>\n",
       "      <td>0</td>\n",
       "      <td>0</td>\n",
       "      <td>0</td>\n",
       "      <td>0</td>\n",
       "      <td>0</td>\n",
       "      <td>...</td>\n",
       "      <td>0</td>\n",
       "      <td>0</td>\n",
       "      <td>0</td>\n",
       "      <td>0</td>\n",
       "      <td>0</td>\n",
       "      <td>0</td>\n",
       "      <td>0</td>\n",
       "      <td>0</td>\n",
       "      <td>0</td>\n",
       "      <td>0</td>\n",
       "    </tr>\n",
       "    <tr>\n",
       "      <th>...</th>\n",
       "      <td>...</td>\n",
       "      <td>...</td>\n",
       "      <td>...</td>\n",
       "      <td>...</td>\n",
       "      <td>...</td>\n",
       "      <td>...</td>\n",
       "      <td>...</td>\n",
       "      <td>...</td>\n",
       "      <td>...</td>\n",
       "      <td>...</td>\n",
       "      <td>...</td>\n",
       "      <td>...</td>\n",
       "      <td>...</td>\n",
       "      <td>...</td>\n",
       "      <td>...</td>\n",
       "      <td>...</td>\n",
       "      <td>...</td>\n",
       "      <td>...</td>\n",
       "      <td>...</td>\n",
       "      <td>...</td>\n",
       "      <td>...</td>\n",
       "    </tr>\n",
       "    <tr>\n",
       "      <th>1895</th>\n",
       "      <td>0</td>\n",
       "      <td>0</td>\n",
       "      <td>0</td>\n",
       "      <td>0</td>\n",
       "      <td>0</td>\n",
       "      <td>0</td>\n",
       "      <td>0</td>\n",
       "      <td>0</td>\n",
       "      <td>0</td>\n",
       "      <td>0</td>\n",
       "      <td>...</td>\n",
       "      <td>0</td>\n",
       "      <td>0</td>\n",
       "      <td>0</td>\n",
       "      <td>0</td>\n",
       "      <td>0</td>\n",
       "      <td>0</td>\n",
       "      <td>0</td>\n",
       "      <td>0</td>\n",
       "      <td>0</td>\n",
       "      <td>0</td>\n",
       "    </tr>\n",
       "    <tr>\n",
       "      <th>1896</th>\n",
       "      <td>0</td>\n",
       "      <td>0</td>\n",
       "      <td>0</td>\n",
       "      <td>0</td>\n",
       "      <td>0</td>\n",
       "      <td>0</td>\n",
       "      <td>0</td>\n",
       "      <td>0</td>\n",
       "      <td>0</td>\n",
       "      <td>0</td>\n",
       "      <td>...</td>\n",
       "      <td>0</td>\n",
       "      <td>0</td>\n",
       "      <td>0</td>\n",
       "      <td>0</td>\n",
       "      <td>0</td>\n",
       "      <td>0</td>\n",
       "      <td>0</td>\n",
       "      <td>0</td>\n",
       "      <td>0</td>\n",
       "      <td>0</td>\n",
       "    </tr>\n",
       "    <tr>\n",
       "      <th>1897</th>\n",
       "      <td>0</td>\n",
       "      <td>0</td>\n",
       "      <td>0</td>\n",
       "      <td>0</td>\n",
       "      <td>0</td>\n",
       "      <td>0</td>\n",
       "      <td>0</td>\n",
       "      <td>0</td>\n",
       "      <td>0</td>\n",
       "      <td>0</td>\n",
       "      <td>...</td>\n",
       "      <td>0</td>\n",
       "      <td>0</td>\n",
       "      <td>0</td>\n",
       "      <td>0</td>\n",
       "      <td>0</td>\n",
       "      <td>0</td>\n",
       "      <td>0</td>\n",
       "      <td>0</td>\n",
       "      <td>0</td>\n",
       "      <td>0</td>\n",
       "    </tr>\n",
       "    <tr>\n",
       "      <th>1898</th>\n",
       "      <td>0</td>\n",
       "      <td>0</td>\n",
       "      <td>0</td>\n",
       "      <td>0</td>\n",
       "      <td>0</td>\n",
       "      <td>0</td>\n",
       "      <td>0</td>\n",
       "      <td>0</td>\n",
       "      <td>0</td>\n",
       "      <td>0</td>\n",
       "      <td>...</td>\n",
       "      <td>0</td>\n",
       "      <td>0</td>\n",
       "      <td>0</td>\n",
       "      <td>0</td>\n",
       "      <td>0</td>\n",
       "      <td>0</td>\n",
       "      <td>0</td>\n",
       "      <td>0</td>\n",
       "      <td>0</td>\n",
       "      <td>0</td>\n",
       "    </tr>\n",
       "    <tr>\n",
       "      <th>1899</th>\n",
       "      <td>0</td>\n",
       "      <td>0</td>\n",
       "      <td>0</td>\n",
       "      <td>0</td>\n",
       "      <td>0</td>\n",
       "      <td>0</td>\n",
       "      <td>0</td>\n",
       "      <td>0</td>\n",
       "      <td>0</td>\n",
       "      <td>0</td>\n",
       "      <td>...</td>\n",
       "      <td>0</td>\n",
       "      <td>0</td>\n",
       "      <td>0</td>\n",
       "      <td>0</td>\n",
       "      <td>0</td>\n",
       "      <td>0</td>\n",
       "      <td>0</td>\n",
       "      <td>0</td>\n",
       "      <td>0</td>\n",
       "      <td>0</td>\n",
       "    </tr>\n",
       "  </tbody>\n",
       "</table>\n",
       "<p>1900 rows × 20000 columns</p>\n",
       "</div>"
      ],
      "text/plain": [
       "      aa  aaron  aaron swartz  ab  abc  abide  abide by  abilities  ability  \\\n",
       "0      0      0             0   0    0      0         0          0        0   \n",
       "1      0      0             0   0    0      0         0          0        0   \n",
       "2      0      0             0   0    0      0         0          0        0   \n",
       "3      0      0             0   0    0      0         0          0        0   \n",
       "4      0      0             0   0    0      0         0          0        0   \n",
       "...   ..    ...           ...  ..  ...    ...       ...        ...      ...   \n",
       "1895   0      0             0   0    0      0         0          0        0   \n",
       "1896   0      0             0   0    0      0         0          0        0   \n",
       "1897   0      0             0   0    0      0         0          0        0   \n",
       "1898   0      0             0   0    0      0         0          0        0   \n",
       "1899   0      0             0   0    0      0         0          0        0   \n",
       "\n",
       "      ability to  ...  yugoslav  yugoslavia  yup  yya  zadar  zagreb  zealand  \\\n",
       "0              0  ...         0           0    0    0      0       0        0   \n",
       "1              0  ...         0           0    0    0      0       0        0   \n",
       "2              0  ...         0           0    0    0      0       0        0   \n",
       "3              0  ...         0           0    0    0      0       0        0   \n",
       "4              0  ...         0           0    0    0      0       0        0   \n",
       "...          ...  ...       ...         ...  ...  ...    ...     ...      ...   \n",
       "1895           0  ...         0           0    0    0      0       0        0   \n",
       "1896           0  ...         0           0    0    0      0       0        0   \n",
       "1897           0  ...         0           0    0    0      0       0        0   \n",
       "1898           0  ...         0           0    0    0      0       0        0   \n",
       "1899           0  ...         0           0    0    0      0       0        0   \n",
       "\n",
       "      zero  zion  zionist  \n",
       "0        0     0        0  \n",
       "1        0     0        0  \n",
       "2        0     0        0  \n",
       "3        0     0        0  \n",
       "4        0     0        0  \n",
       "...    ...   ...      ...  \n",
       "1895     0     0        0  \n",
       "1896     0     0        0  \n",
       "1897     0     0        0  \n",
       "1898     0     0        0  \n",
       "1899     0     0        0  \n",
       "\n",
       "[1900 rows x 20000 columns]"
      ]
     },
     "execution_count": 33,
     "metadata": {},
     "output_type": "execute_result"
    }
   ],
   "source": [
    "Doc_Term_Matrix = pd.DataFrame(X_train.toarray(),columns= count_vectorizer.get_feature_names())\n",
    "Doc_Term_Matrix"
   ]
  },
  {
   "cell_type": "markdown",
   "id": "e095958a",
   "metadata": {
    "papermill": {
     "duration": 0.018114,
     "end_time": "2022-11-17T07:23:26.321052",
     "exception": false,
     "start_time": "2022-11-17T07:23:26.302938",
     "status": "completed"
    },
    "tags": []
   },
   "source": [
    "One Gram"
   ]
  },
  {
   "cell_type": "code",
   "execution_count": 34,
   "id": "690e1e51",
   "metadata": {
    "execution": {
     "iopub.execute_input": "2022-11-17T07:23:26.359728Z",
     "iopub.status.busy": "2022-11-17T07:23:26.358611Z",
     "iopub.status.idle": "2022-11-17T07:23:29.992331Z",
     "shell.execute_reply": "2022-11-17T07:23:29.991120Z"
    },
    "papermill": {
     "duration": 3.655831,
     "end_time": "2022-11-17T07:23:29.995024",
     "exception": false,
     "start_time": "2022-11-17T07:23:26.339193",
     "status": "completed"
    },
    "tags": []
   },
   "outputs": [
    {
     "data": {
      "text/plain": [
       "0.79"
      ]
     },
     "execution_count": 34,
     "metadata": {},
     "output_type": "execute_result"
    }
   ],
   "source": [
    "from sklearn.model_selection import train_test_split\n",
    "X_train, X_test, y_train, y_test = train_test_split(x, y, random_state=42,test_size=0.05)\n",
    "\n",
    "from sklearn.feature_extraction.text import CountVectorizer\n",
    "count_vectorizer = CountVectorizer(ngram_range = (1, 1), max_features = 20000)\n",
    "X_train = count_vectorizer.fit_transform(X_train)\n",
    "X_test = count_vectorizer.transform(X_test)\n",
    "\n",
    "from skmultilearn.problem_transform import BinaryRelevance\n",
    "from sklearn.naive_bayes import GaussianNB\n",
    "classifier = BinaryRelevance(GaussianNB())\n",
    "classifier.fit(X_train, y_train)\n",
    "predictions = classifier.predict(X_test)\n",
    "accuracy_score(y_test,predictions)\n"
   ]
  },
  {
   "cell_type": "markdown",
   "id": "f2b9d3a0",
   "metadata": {
    "papermill": {
     "duration": 0.020289,
     "end_time": "2022-11-17T07:23:30.035109",
     "exception": false,
     "start_time": "2022-11-17T07:23:30.014820",
     "status": "completed"
    },
    "tags": []
   },
   "source": [
    "one and two gram"
   ]
  },
  {
   "cell_type": "code",
   "execution_count": 35,
   "id": "2efe5b32",
   "metadata": {
    "execution": {
     "iopub.execute_input": "2022-11-17T07:23:30.076180Z",
     "iopub.status.busy": "2022-11-17T07:23:30.075200Z",
     "iopub.status.idle": "2022-11-17T07:23:35.421660Z",
     "shell.execute_reply": "2022-11-17T07:23:35.420529Z"
    },
    "papermill": {
     "duration": 5.369659,
     "end_time": "2022-11-17T07:23:35.424116",
     "exception": false,
     "start_time": "2022-11-17T07:23:30.054457",
     "status": "completed"
    },
    "tags": []
   },
   "outputs": [
    {
     "data": {
      "text/plain": [
       "0.85"
      ]
     },
     "execution_count": 35,
     "metadata": {},
     "output_type": "execute_result"
    }
   ],
   "source": [
    "from sklearn.model_selection import train_test_split\n",
    "X_train, X_test, y_train, y_test = train_test_split(x, y, random_state=42,test_size=0.05)\n",
    "\n",
    "from sklearn.feature_extraction.text import CountVectorizer\n",
    "count_vectorizer = CountVectorizer(ngram_range = (1, 2), max_features = 20000)\n",
    "X_train = count_vectorizer.fit_transform(X_train)\n",
    "X_test = count_vectorizer.transform(X_test)\n",
    "\n",
    "from skmultilearn.problem_transform import BinaryRelevance\n",
    "from sklearn.naive_bayes import GaussianNB\n",
    "classifier = BinaryRelevance(GaussianNB())\n",
    "classifier.fit(X_train, y_train)\n",
    "predictions = classifier.predict(X_test)\n",
    "accuracy_score(y_test,predictions)"
   ]
  },
  {
   "cell_type": "markdown",
   "id": "77df7b69",
   "metadata": {
    "papermill": {
     "duration": 0.019186,
     "end_time": "2022-11-17T07:23:35.463578",
     "exception": false,
     "start_time": "2022-11-17T07:23:35.444392",
     "status": "completed"
    },
    "tags": []
   },
   "source": [
    "two gram"
   ]
  },
  {
   "cell_type": "code",
   "execution_count": 36,
   "id": "2f5cce4a",
   "metadata": {
    "execution": {
     "iopub.execute_input": "2022-11-17T07:23:35.505155Z",
     "iopub.status.busy": "2022-11-17T07:23:35.504746Z",
     "iopub.status.idle": "2022-11-17T07:23:40.645342Z",
     "shell.execute_reply": "2022-11-17T07:23:40.644197Z"
    },
    "papermill": {
     "duration": 5.164785,
     "end_time": "2022-11-17T07:23:40.647919",
     "exception": false,
     "start_time": "2022-11-17T07:23:35.483134",
     "status": "completed"
    },
    "tags": []
   },
   "outputs": [
    {
     "data": {
      "text/plain": [
       "0.81"
      ]
     },
     "execution_count": 36,
     "metadata": {},
     "output_type": "execute_result"
    }
   ],
   "source": [
    "from sklearn.model_selection import train_test_split\n",
    "X_train, X_test, y_train, y_test = train_test_split(x, y, random_state=42,test_size=0.05)\n",
    "\n",
    "from sklearn.feature_extraction.text import CountVectorizer\n",
    "count_vectorizer = CountVectorizer(ngram_range = (2, 2), max_features = 20000)\n",
    "X_train = count_vectorizer.fit_transform(X_train)\n",
    "X_test = count_vectorizer.transform(X_test)\n",
    "\n",
    "from skmultilearn.problem_transform import BinaryRelevance\n",
    "from sklearn.naive_bayes import GaussianNB\n",
    "classifier = BinaryRelevance(GaussianNB())\n",
    "classifier.fit(X_train, y_train)\n",
    "predictions = classifier.predict(X_test)\n",
    "accuracy_score(y_test,predictions)"
   ]
  },
  {
   "cell_type": "markdown",
   "id": "593dab22",
   "metadata": {
    "papermill": {
     "duration": 0.019311,
     "end_time": "2022-11-17T07:23:40.686971",
     "exception": false,
     "start_time": "2022-11-17T07:23:40.667660",
     "status": "completed"
    },
    "tags": []
   },
   "source": [
    "one, two and three gram"
   ]
  },
  {
   "cell_type": "code",
   "execution_count": 37,
   "id": "298a4dd1",
   "metadata": {
    "execution": {
     "iopub.execute_input": "2022-11-17T07:23:40.727485Z",
     "iopub.status.busy": "2022-11-17T07:23:40.727074Z",
     "iopub.status.idle": "2022-11-17T07:23:46.623317Z",
     "shell.execute_reply": "2022-11-17T07:23:46.622298Z"
    },
    "papermill": {
     "duration": 5.919527,
     "end_time": "2022-11-17T07:23:46.625924",
     "exception": false,
     "start_time": "2022-11-17T07:23:40.706397",
     "status": "completed"
    },
    "tags": []
   },
   "outputs": [
    {
     "data": {
      "text/plain": [
       "0.85"
      ]
     },
     "execution_count": 37,
     "metadata": {},
     "output_type": "execute_result"
    }
   ],
   "source": [
    "from sklearn.model_selection import train_test_split\n",
    "X_train, X_test, y_train, y_test = train_test_split(x, y, random_state=42,test_size=0.05)\n",
    "\n",
    "from sklearn.feature_extraction.text import CountVectorizer\n",
    "count_vectorizer = CountVectorizer(ngram_range = (1, 3), max_features = 20000)\n",
    "X_train = count_vectorizer.fit_transform(X_train)\n",
    "X_test = count_vectorizer.transform(X_test)\n",
    "\n",
    "from skmultilearn.problem_transform import BinaryRelevance\n",
    "from sklearn.naive_bayes import GaussianNB\n",
    "classifier = BinaryRelevance(GaussianNB())\n",
    "classifier.fit(X_train, y_train)\n",
    "predictions = classifier.predict(X_test)\n",
    "accuracy_score(y_test,predictions)"
   ]
  },
  {
   "cell_type": "markdown",
   "id": "8e96c793",
   "metadata": {
    "papermill": {
     "duration": 0.018959,
     "end_time": "2022-11-17T07:23:46.664863",
     "exception": false,
     "start_time": "2022-11-17T07:23:46.645904",
     "status": "completed"
    },
    "tags": []
   },
   "source": [
    "two and three gram"
   ]
  },
  {
   "cell_type": "code",
   "execution_count": 38,
   "id": "6ee9a686",
   "metadata": {
    "execution": {
     "iopub.execute_input": "2022-11-17T07:23:46.706179Z",
     "iopub.status.busy": "2022-11-17T07:23:46.705451Z",
     "iopub.status.idle": "2022-11-17T07:23:52.375310Z",
     "shell.execute_reply": "2022-11-17T07:23:52.374139Z"
    },
    "papermill": {
     "duration": 5.693623,
     "end_time": "2022-11-17T07:23:52.378030",
     "exception": false,
     "start_time": "2022-11-17T07:23:46.684407",
     "status": "completed"
    },
    "tags": []
   },
   "outputs": [
    {
     "data": {
      "text/plain": [
       "0.81"
      ]
     },
     "execution_count": 38,
     "metadata": {},
     "output_type": "execute_result"
    }
   ],
   "source": [
    "from sklearn.model_selection import train_test_split\n",
    "X_train, X_test, y_train, y_test = train_test_split(x, y, random_state=42,test_size=0.05)\n",
    "\n",
    "from sklearn.feature_extraction.text import CountVectorizer\n",
    "count_vectorizer = CountVectorizer(ngram_range = (2, 3), max_features = 20000)\n",
    "X_train = count_vectorizer.fit_transform(X_train)\n",
    "X_test = count_vectorizer.transform(X_test)\n",
    "\n",
    "from skmultilearn.problem_transform import BinaryRelevance\n",
    "from sklearn.naive_bayes import GaussianNB\n",
    "classifier = BinaryRelevance(GaussianNB())\n",
    "classifier.fit(X_train, y_train)\n",
    "predictions = classifier.predict(X_test)\n",
    "accuracy_score(y_test,predictions)"
   ]
  },
  {
   "cell_type": "markdown",
   "id": "a3232af6",
   "metadata": {
    "papermill": {
     "duration": 0.019547,
     "end_time": "2022-11-17T07:23:52.417601",
     "exception": false,
     "start_time": "2022-11-17T07:23:52.398054",
     "status": "completed"
    },
    "tags": []
   },
   "source": [
    "three gram"
   ]
  },
  {
   "cell_type": "code",
   "execution_count": 39,
   "id": "e433135a",
   "metadata": {
    "execution": {
     "iopub.execute_input": "2022-11-17T07:23:52.458571Z",
     "iopub.status.busy": "2022-11-17T07:23:52.458181Z",
     "iopub.status.idle": "2022-11-17T07:23:57.620138Z",
     "shell.execute_reply": "2022-11-17T07:23:57.619027Z"
    },
    "papermill": {
     "duration": 5.186085,
     "end_time": "2022-11-17T07:23:57.623080",
     "exception": false,
     "start_time": "2022-11-17T07:23:52.436995",
     "status": "completed"
    },
    "tags": []
   },
   "outputs": [
    {
     "data": {
      "text/plain": [
       "0.63"
      ]
     },
     "execution_count": 39,
     "metadata": {},
     "output_type": "execute_result"
    }
   ],
   "source": [
    "from sklearn.model_selection import train_test_split\n",
    "X_train, X_test, y_train, y_test = train_test_split(x, y, random_state=42,test_size=0.05)\n",
    "\n",
    "from sklearn.feature_extraction.text import CountVectorizer\n",
    "count_vectorizer = CountVectorizer(ngram_range = (3, 3), max_features = 20000)\n",
    "X_train = count_vectorizer.fit_transform(X_train)\n",
    "X_test = count_vectorizer.transform(X_test)\n",
    "\n",
    "from skmultilearn.problem_transform import BinaryRelevance\n",
    "from sklearn.naive_bayes import GaussianNB\n",
    "classifier = BinaryRelevance(GaussianNB())\n",
    "classifier.fit(X_train, y_train)\n",
    "predictions = classifier.predict(X_test)\n",
    "accuracy_score(y_test,predictions)"
   ]
  },
  {
   "cell_type": "markdown",
   "id": "7fd04bc9",
   "metadata": {
    "papermill": {
     "duration": 0.019352,
     "end_time": "2022-11-17T07:23:57.662177",
     "exception": false,
     "start_time": "2022-11-17T07:23:57.642825",
     "status": "completed"
    },
    "tags": []
   },
   "source": [
    "# Neural Network🔥"
   ]
  },
  {
   "cell_type": "code",
   "execution_count": 40,
   "id": "e142ab92",
   "metadata": {
    "execution": {
     "iopub.execute_input": "2022-11-17T07:23:57.702879Z",
     "iopub.status.busy": "2022-11-17T07:23:57.702214Z",
     "iopub.status.idle": "2022-11-17T07:24:03.712261Z",
     "shell.execute_reply": "2022-11-17T07:24:03.710965Z"
    },
    "papermill": {
     "duration": 6.033859,
     "end_time": "2022-11-17T07:24:03.715269",
     "exception": false,
     "start_time": "2022-11-17T07:23:57.681410",
     "status": "completed"
    },
    "tags": []
   },
   "outputs": [
    {
     "name": "stderr",
     "output_type": "stream",
     "text": [
      "2022-11-17 07:24:03.281976: I tensorflow/core/common_runtime/process_util.cc:146] Creating new thread pool with default inter op setting: 2. Tune using inter_op_parallelism_threads for best performance.\n"
     ]
    }
   ],
   "source": [
    "import tensorflow \n",
    "from keras.models import Sequential\n",
    "from keras.layers import Dense\n",
    "\n",
    "model = Sequential()\n",
    "model.add(Dense(20, input_dim=20000, kernel_initializer='he_uniform', activation='relu'))\n",
    "model.add(Dense(6, activation='sigmoid'))\n",
    "model.compile(loss='binary_crossentropy', optimizer='adam')"
   ]
  },
  {
   "cell_type": "code",
   "execution_count": 41,
   "id": "4b4a1408",
   "metadata": {
    "execution": {
     "iopub.execute_input": "2022-11-17T07:24:03.760374Z",
     "iopub.status.busy": "2022-11-17T07:24:03.759944Z",
     "iopub.status.idle": "2022-11-17T07:24:03.765886Z",
     "shell.execute_reply": "2022-11-17T07:24:03.764720Z"
    },
    "papermill": {
     "duration": 0.033001,
     "end_time": "2022-11-17T07:24:03.769039",
     "exception": false,
     "start_time": "2022-11-17T07:24:03.736038",
     "status": "completed"
    },
    "tags": []
   },
   "outputs": [
    {
     "name": "stdout",
     "output_type": "stream",
     "text": [
      "Model: \"sequential\"\n",
      "_________________________________________________________________\n",
      "Layer (type)                 Output Shape              Param #   \n",
      "=================================================================\n",
      "dense (Dense)                (None, 20)                400020    \n",
      "_________________________________________________________________\n",
      "dense_1 (Dense)              (None, 6)                 126       \n",
      "=================================================================\n",
      "Total params: 400,146\n",
      "Trainable params: 400,146\n",
      "Non-trainable params: 0\n",
      "_________________________________________________________________\n"
     ]
    }
   ],
   "source": [
    "model.summary()"
   ]
  },
  {
   "cell_type": "code",
   "execution_count": 42,
   "id": "a5686709",
   "metadata": {
    "execution": {
     "iopub.execute_input": "2022-11-17T07:24:03.812548Z",
     "iopub.status.busy": "2022-11-17T07:24:03.812157Z",
     "iopub.status.idle": "2022-11-17T07:24:03.906779Z",
     "shell.execute_reply": "2022-11-17T07:24:03.905560Z"
    },
    "papermill": {
     "duration": 0.119085,
     "end_time": "2022-11-17T07:24:03.909282",
     "exception": false,
     "start_time": "2022-11-17T07:24:03.790197",
     "status": "completed"
    },
    "tags": []
   },
   "outputs": [
    {
     "name": "stderr",
     "output_type": "stream",
     "text": [
      "/opt/conda/lib/python3.7/site-packages/sklearn/utils/deprecation.py:87: FutureWarning: Function get_feature_names is deprecated; get_feature_names is deprecated in 1.0 and will be removed in 1.2. Please use get_feature_names_out instead.\n",
      "  warnings.warn(msg, category=FutureWarning)\n"
     ]
    },
    {
     "data": {
      "text/html": [
       "<div>\n",
       "<style scoped>\n",
       "    .dataframe tbody tr th:only-of-type {\n",
       "        vertical-align: middle;\n",
       "    }\n",
       "\n",
       "    .dataframe tbody tr th {\n",
       "        vertical-align: top;\n",
       "    }\n",
       "\n",
       "    .dataframe thead th {\n",
       "        text-align: right;\n",
       "    }\n",
       "</style>\n",
       "<table border=\"1\" class=\"dataframe\">\n",
       "  <thead>\n",
       "    <tr style=\"text-align: right;\">\n",
       "      <th></th>\n",
       "      <th>abide by the</th>\n",
       "      <th>able to do</th>\n",
       "      <th>able to get</th>\n",
       "      <th>able to post</th>\n",
       "      <th>able to see</th>\n",
       "      <th>able to take</th>\n",
       "      <th>about alternative life</th>\n",
       "      <th>about censorship in</th>\n",
       "      <th>about contributing to</th>\n",
       "      <th>about ed morrissey</th>\n",
       "      <th>...</th>\n",
       "      <th>your way around</th>\n",
       "      <th>your wife and</th>\n",
       "      <th>youre coming from</th>\n",
       "      <th>youre going to</th>\n",
       "      <th>youre right was</th>\n",
       "      <th>yourself but dont</th>\n",
       "      <th>yourself familiar with</th>\n",
       "      <th>yourself then you</th>\n",
       "      <th>yourself to the</th>\n",
       "      <th>yourself with the</th>\n",
       "    </tr>\n",
       "  </thead>\n",
       "  <tbody>\n",
       "    <tr>\n",
       "      <th>0</th>\n",
       "      <td>0</td>\n",
       "      <td>0</td>\n",
       "      <td>0</td>\n",
       "      <td>0</td>\n",
       "      <td>0</td>\n",
       "      <td>0</td>\n",
       "      <td>0</td>\n",
       "      <td>0</td>\n",
       "      <td>0</td>\n",
       "      <td>0</td>\n",
       "      <td>...</td>\n",
       "      <td>0</td>\n",
       "      <td>0</td>\n",
       "      <td>0</td>\n",
       "      <td>0</td>\n",
       "      <td>0</td>\n",
       "      <td>0</td>\n",
       "      <td>0</td>\n",
       "      <td>0</td>\n",
       "      <td>0</td>\n",
       "      <td>0</td>\n",
       "    </tr>\n",
       "    <tr>\n",
       "      <th>1</th>\n",
       "      <td>0</td>\n",
       "      <td>0</td>\n",
       "      <td>0</td>\n",
       "      <td>0</td>\n",
       "      <td>0</td>\n",
       "      <td>0</td>\n",
       "      <td>0</td>\n",
       "      <td>0</td>\n",
       "      <td>0</td>\n",
       "      <td>0</td>\n",
       "      <td>...</td>\n",
       "      <td>0</td>\n",
       "      <td>0</td>\n",
       "      <td>0</td>\n",
       "      <td>0</td>\n",
       "      <td>0</td>\n",
       "      <td>0</td>\n",
       "      <td>0</td>\n",
       "      <td>0</td>\n",
       "      <td>0</td>\n",
       "      <td>0</td>\n",
       "    </tr>\n",
       "    <tr>\n",
       "      <th>2</th>\n",
       "      <td>0</td>\n",
       "      <td>0</td>\n",
       "      <td>0</td>\n",
       "      <td>0</td>\n",
       "      <td>0</td>\n",
       "      <td>0</td>\n",
       "      <td>0</td>\n",
       "      <td>0</td>\n",
       "      <td>0</td>\n",
       "      <td>0</td>\n",
       "      <td>...</td>\n",
       "      <td>0</td>\n",
       "      <td>0</td>\n",
       "      <td>0</td>\n",
       "      <td>0</td>\n",
       "      <td>0</td>\n",
       "      <td>0</td>\n",
       "      <td>0</td>\n",
       "      <td>0</td>\n",
       "      <td>0</td>\n",
       "      <td>0</td>\n",
       "    </tr>\n",
       "    <tr>\n",
       "      <th>3</th>\n",
       "      <td>0</td>\n",
       "      <td>0</td>\n",
       "      <td>0</td>\n",
       "      <td>0</td>\n",
       "      <td>0</td>\n",
       "      <td>0</td>\n",
       "      <td>0</td>\n",
       "      <td>0</td>\n",
       "      <td>0</td>\n",
       "      <td>0</td>\n",
       "      <td>...</td>\n",
       "      <td>0</td>\n",
       "      <td>0</td>\n",
       "      <td>0</td>\n",
       "      <td>0</td>\n",
       "      <td>0</td>\n",
       "      <td>0</td>\n",
       "      <td>0</td>\n",
       "      <td>0</td>\n",
       "      <td>0</td>\n",
       "      <td>0</td>\n",
       "    </tr>\n",
       "    <tr>\n",
       "      <th>4</th>\n",
       "      <td>0</td>\n",
       "      <td>0</td>\n",
       "      <td>0</td>\n",
       "      <td>0</td>\n",
       "      <td>0</td>\n",
       "      <td>0</td>\n",
       "      <td>0</td>\n",
       "      <td>0</td>\n",
       "      <td>0</td>\n",
       "      <td>0</td>\n",
       "      <td>...</td>\n",
       "      <td>0</td>\n",
       "      <td>0</td>\n",
       "      <td>0</td>\n",
       "      <td>0</td>\n",
       "      <td>0</td>\n",
       "      <td>0</td>\n",
       "      <td>0</td>\n",
       "      <td>0</td>\n",
       "      <td>0</td>\n",
       "      <td>0</td>\n",
       "    </tr>\n",
       "    <tr>\n",
       "      <th>...</th>\n",
       "      <td>...</td>\n",
       "      <td>...</td>\n",
       "      <td>...</td>\n",
       "      <td>...</td>\n",
       "      <td>...</td>\n",
       "      <td>...</td>\n",
       "      <td>...</td>\n",
       "      <td>...</td>\n",
       "      <td>...</td>\n",
       "      <td>...</td>\n",
       "      <td>...</td>\n",
       "      <td>...</td>\n",
       "      <td>...</td>\n",
       "      <td>...</td>\n",
       "      <td>...</td>\n",
       "      <td>...</td>\n",
       "      <td>...</td>\n",
       "      <td>...</td>\n",
       "      <td>...</td>\n",
       "      <td>...</td>\n",
       "      <td>...</td>\n",
       "    </tr>\n",
       "    <tr>\n",
       "      <th>1895</th>\n",
       "      <td>0</td>\n",
       "      <td>0</td>\n",
       "      <td>0</td>\n",
       "      <td>0</td>\n",
       "      <td>0</td>\n",
       "      <td>0</td>\n",
       "      <td>0</td>\n",
       "      <td>0</td>\n",
       "      <td>0</td>\n",
       "      <td>0</td>\n",
       "      <td>...</td>\n",
       "      <td>0</td>\n",
       "      <td>0</td>\n",
       "      <td>0</td>\n",
       "      <td>0</td>\n",
       "      <td>0</td>\n",
       "      <td>0</td>\n",
       "      <td>0</td>\n",
       "      <td>0</td>\n",
       "      <td>0</td>\n",
       "      <td>0</td>\n",
       "    </tr>\n",
       "    <tr>\n",
       "      <th>1896</th>\n",
       "      <td>0</td>\n",
       "      <td>0</td>\n",
       "      <td>0</td>\n",
       "      <td>0</td>\n",
       "      <td>0</td>\n",
       "      <td>0</td>\n",
       "      <td>0</td>\n",
       "      <td>0</td>\n",
       "      <td>0</td>\n",
       "      <td>0</td>\n",
       "      <td>...</td>\n",
       "      <td>0</td>\n",
       "      <td>0</td>\n",
       "      <td>0</td>\n",
       "      <td>0</td>\n",
       "      <td>0</td>\n",
       "      <td>0</td>\n",
       "      <td>0</td>\n",
       "      <td>0</td>\n",
       "      <td>0</td>\n",
       "      <td>0</td>\n",
       "    </tr>\n",
       "    <tr>\n",
       "      <th>1897</th>\n",
       "      <td>0</td>\n",
       "      <td>0</td>\n",
       "      <td>0</td>\n",
       "      <td>0</td>\n",
       "      <td>0</td>\n",
       "      <td>0</td>\n",
       "      <td>0</td>\n",
       "      <td>0</td>\n",
       "      <td>0</td>\n",
       "      <td>0</td>\n",
       "      <td>...</td>\n",
       "      <td>0</td>\n",
       "      <td>0</td>\n",
       "      <td>0</td>\n",
       "      <td>0</td>\n",
       "      <td>0</td>\n",
       "      <td>0</td>\n",
       "      <td>0</td>\n",
       "      <td>0</td>\n",
       "      <td>0</td>\n",
       "      <td>0</td>\n",
       "    </tr>\n",
       "    <tr>\n",
       "      <th>1898</th>\n",
       "      <td>0</td>\n",
       "      <td>0</td>\n",
       "      <td>0</td>\n",
       "      <td>0</td>\n",
       "      <td>0</td>\n",
       "      <td>0</td>\n",
       "      <td>0</td>\n",
       "      <td>0</td>\n",
       "      <td>0</td>\n",
       "      <td>0</td>\n",
       "      <td>...</td>\n",
       "      <td>0</td>\n",
       "      <td>0</td>\n",
       "      <td>0</td>\n",
       "      <td>0</td>\n",
       "      <td>0</td>\n",
       "      <td>0</td>\n",
       "      <td>0</td>\n",
       "      <td>0</td>\n",
       "      <td>0</td>\n",
       "      <td>0</td>\n",
       "    </tr>\n",
       "    <tr>\n",
       "      <th>1899</th>\n",
       "      <td>0</td>\n",
       "      <td>0</td>\n",
       "      <td>0</td>\n",
       "      <td>0</td>\n",
       "      <td>0</td>\n",
       "      <td>0</td>\n",
       "      <td>0</td>\n",
       "      <td>0</td>\n",
       "      <td>0</td>\n",
       "      <td>0</td>\n",
       "      <td>...</td>\n",
       "      <td>0</td>\n",
       "      <td>0</td>\n",
       "      <td>0</td>\n",
       "      <td>0</td>\n",
       "      <td>0</td>\n",
       "      <td>0</td>\n",
       "      <td>0</td>\n",
       "      <td>0</td>\n",
       "      <td>0</td>\n",
       "      <td>0</td>\n",
       "    </tr>\n",
       "  </tbody>\n",
       "</table>\n",
       "<p>1900 rows × 20000 columns</p>\n",
       "</div>"
      ],
      "text/plain": [
       "      abide by the  able to do  able to get  able to post  able to see  \\\n",
       "0                0           0            0             0            0   \n",
       "1                0           0            0             0            0   \n",
       "2                0           0            0             0            0   \n",
       "3                0           0            0             0            0   \n",
       "4                0           0            0             0            0   \n",
       "...            ...         ...          ...           ...          ...   \n",
       "1895             0           0            0             0            0   \n",
       "1896             0           0            0             0            0   \n",
       "1897             0           0            0             0            0   \n",
       "1898             0           0            0             0            0   \n",
       "1899             0           0            0             0            0   \n",
       "\n",
       "      able to take  about alternative life  about censorship in  \\\n",
       "0                0                       0                    0   \n",
       "1                0                       0                    0   \n",
       "2                0                       0                    0   \n",
       "3                0                       0                    0   \n",
       "4                0                       0                    0   \n",
       "...            ...                     ...                  ...   \n",
       "1895             0                       0                    0   \n",
       "1896             0                       0                    0   \n",
       "1897             0                       0                    0   \n",
       "1898             0                       0                    0   \n",
       "1899             0                       0                    0   \n",
       "\n",
       "      about contributing to  about ed morrissey  ...  your way around  \\\n",
       "0                         0                   0  ...                0   \n",
       "1                         0                   0  ...                0   \n",
       "2                         0                   0  ...                0   \n",
       "3                         0                   0  ...                0   \n",
       "4                         0                   0  ...                0   \n",
       "...                     ...                 ...  ...              ...   \n",
       "1895                      0                   0  ...                0   \n",
       "1896                      0                   0  ...                0   \n",
       "1897                      0                   0  ...                0   \n",
       "1898                      0                   0  ...                0   \n",
       "1899                      0                   0  ...                0   \n",
       "\n",
       "      your wife and  youre coming from  youre going to  youre right was  \\\n",
       "0                 0                  0               0                0   \n",
       "1                 0                  0               0                0   \n",
       "2                 0                  0               0                0   \n",
       "3                 0                  0               0                0   \n",
       "4                 0                  0               0                0   \n",
       "...             ...                ...             ...              ...   \n",
       "1895              0                  0               0                0   \n",
       "1896              0                  0               0                0   \n",
       "1897              0                  0               0                0   \n",
       "1898              0                  0               0                0   \n",
       "1899              0                  0               0                0   \n",
       "\n",
       "      yourself but dont  yourself familiar with  yourself then you  \\\n",
       "0                     0                       0                  0   \n",
       "1                     0                       0                  0   \n",
       "2                     0                       0                  0   \n",
       "3                     0                       0                  0   \n",
       "4                     0                       0                  0   \n",
       "...                 ...                     ...                ...   \n",
       "1895                  0                       0                  0   \n",
       "1896                  0                       0                  0   \n",
       "1897                  0                       0                  0   \n",
       "1898                  0                       0                  0   \n",
       "1899                  0                       0                  0   \n",
       "\n",
       "      yourself to the  yourself with the  \n",
       "0                   0                  0  \n",
       "1                   0                  0  \n",
       "2                   0                  0  \n",
       "3                   0                  0  \n",
       "4                   0                  0  \n",
       "...               ...                ...  \n",
       "1895                0                  0  \n",
       "1896                0                  0  \n",
       "1897                0                  0  \n",
       "1898                0                  0  \n",
       "1899                0                  0  \n",
       "\n",
       "[1900 rows x 20000 columns]"
      ]
     },
     "execution_count": 42,
     "metadata": {},
     "output_type": "execute_result"
    }
   ],
   "source": [
    "X_train = pd.DataFrame(X_train.toarray(),columns= count_vectorizer.get_feature_names())\n",
    "X_train"
   ]
  },
  {
   "cell_type": "code",
   "execution_count": 43,
   "id": "508b69b3",
   "metadata": {
    "execution": {
     "iopub.execute_input": "2022-11-17T07:24:03.952897Z",
     "iopub.status.busy": "2022-11-17T07:24:03.951516Z",
     "iopub.status.idle": "2022-11-17T07:24:17.422770Z",
     "shell.execute_reply": "2022-11-17T07:24:17.421904Z"
    },
    "papermill": {
     "duration": 13.495251,
     "end_time": "2022-11-17T07:24:17.425006",
     "exception": false,
     "start_time": "2022-11-17T07:24:03.929755",
     "status": "completed"
    },
    "tags": []
   },
   "outputs": [
    {
     "name": "stderr",
     "output_type": "stream",
     "text": [
      "2022-11-17 07:24:04.392334: I tensorflow/compiler/mlir/mlir_graph_optimization_pass.cc:185] None of the MLIR Optimization Passes are enabled (registered 2)\n"
     ]
    },
    {
     "name": "stdout",
     "output_type": "stream",
     "text": [
      "Epoch 1/50\n",
      "60/60 [==============================] - 1s 4ms/step - loss: 0.6413\n",
      "Epoch 2/50\n",
      "60/60 [==============================] - 0s 4ms/step - loss: 0.4452\n",
      "Epoch 3/50\n",
      "60/60 [==============================] - 0s 4ms/step - loss: 0.2717\n",
      "Epoch 4/50\n",
      "60/60 [==============================] - 0s 4ms/step - loss: 0.1796\n",
      "Epoch 5/50\n",
      "60/60 [==============================] - 0s 4ms/step - loss: 0.1360\n",
      "Epoch 6/50\n",
      "60/60 [==============================] - 0s 4ms/step - loss: 0.1133\n",
      "Epoch 7/50\n",
      "60/60 [==============================] - 0s 5ms/step - loss: 0.0998\n",
      "Epoch 8/50\n",
      "60/60 [==============================] - 0s 4ms/step - loss: 0.0904\n",
      "Epoch 9/50\n",
      "60/60 [==============================] - 0s 4ms/step - loss: 0.0831\n",
      "Epoch 10/50\n",
      "60/60 [==============================] - 0s 4ms/step - loss: 0.0769\n",
      "Epoch 11/50\n",
      "60/60 [==============================] - 0s 4ms/step - loss: 0.0711\n",
      "Epoch 12/50\n",
      "60/60 [==============================] - 0s 4ms/step - loss: 0.0660\n",
      "Epoch 13/50\n",
      "60/60 [==============================] - 0s 4ms/step - loss: 0.0615\n",
      "Epoch 14/50\n",
      "60/60 [==============================] - 0s 4ms/step - loss: 0.0576\n",
      "Epoch 15/50\n",
      "60/60 [==============================] - 0s 4ms/step - loss: 0.0539\n",
      "Epoch 16/50\n",
      "60/60 [==============================] - 0s 4ms/step - loss: 0.0507\n",
      "Epoch 17/50\n",
      "60/60 [==============================] - 0s 4ms/step - loss: 0.0479\n",
      "Epoch 18/50\n",
      "60/60 [==============================] - 0s 4ms/step - loss: 0.0453\n",
      "Epoch 19/50\n",
      "60/60 [==============================] - 0s 4ms/step - loss: 0.0431\n",
      "Epoch 20/50\n",
      "60/60 [==============================] - 0s 4ms/step - loss: 0.0412\n",
      "Epoch 21/50\n",
      "60/60 [==============================] - 0s 4ms/step - loss: 0.0395\n",
      "Epoch 22/50\n",
      "60/60 [==============================] - 0s 4ms/step - loss: 0.0379\n",
      "Epoch 23/50\n",
      "60/60 [==============================] - 0s 4ms/step - loss: 0.0366\n",
      "Epoch 24/50\n",
      "60/60 [==============================] - 0s 4ms/step - loss: 0.0354\n",
      "Epoch 25/50\n",
      "60/60 [==============================] - 0s 4ms/step - loss: 0.0343\n",
      "Epoch 26/50\n",
      "60/60 [==============================] - 0s 4ms/step - loss: 0.0333\n",
      "Epoch 27/50\n",
      "60/60 [==============================] - 0s 4ms/step - loss: 0.0324\n",
      "Epoch 28/50\n",
      "60/60 [==============================] - 0s 4ms/step - loss: 0.0315\n",
      "Epoch 29/50\n",
      "60/60 [==============================] - 0s 4ms/step - loss: 0.0308\n",
      "Epoch 30/50\n",
      "60/60 [==============================] - 0s 4ms/step - loss: 0.0301\n",
      "Epoch 31/50\n",
      "60/60 [==============================] - 0s 4ms/step - loss: 0.0294\n",
      "Epoch 32/50\n",
      "60/60 [==============================] - 0s 4ms/step - loss: 0.0289\n",
      "Epoch 33/50\n",
      "60/60 [==============================] - 0s 4ms/step - loss: 0.0283\n",
      "Epoch 34/50\n",
      "60/60 [==============================] - 0s 4ms/step - loss: 0.0278\n",
      "Epoch 35/50\n",
      "60/60 [==============================] - 0s 4ms/step - loss: 0.0273\n",
      "Epoch 36/50\n",
      "60/60 [==============================] - 0s 4ms/step - loss: 0.0269\n",
      "Epoch 37/50\n",
      "60/60 [==============================] - 0s 4ms/step - loss: 0.0265\n",
      "Epoch 38/50\n",
      "60/60 [==============================] - 0s 4ms/step - loss: 0.0261\n",
      "Epoch 39/50\n",
      "60/60 [==============================] - 0s 4ms/step - loss: 0.0257\n",
      "Epoch 40/50\n",
      "60/60 [==============================] - 0s 4ms/step - loss: 0.0254\n",
      "Epoch 41/50\n",
      "60/60 [==============================] - 0s 4ms/step - loss: 0.0251\n",
      "Epoch 42/50\n",
      "60/60 [==============================] - 0s 4ms/step - loss: 0.0247\n",
      "Epoch 43/50\n",
      "60/60 [==============================] - 0s 4ms/step - loss: 0.0244\n",
      "Epoch 44/50\n",
      "60/60 [==============================] - 0s 4ms/step - loss: 0.0241\n",
      "Epoch 45/50\n",
      "60/60 [==============================] - 0s 4ms/step - loss: 0.0239\n",
      "Epoch 46/50\n",
      "60/60 [==============================] - 0s 4ms/step - loss: 0.0236\n",
      "Epoch 47/50\n",
      "60/60 [==============================] - 0s 4ms/step - loss: 0.0233\n",
      "Epoch 48/50\n",
      "60/60 [==============================] - 0s 4ms/step - loss: 0.0232\n",
      "Epoch 49/50\n",
      "60/60 [==============================] - 0s 4ms/step - loss: 0.0229\n",
      "Epoch 50/50\n",
      "60/60 [==============================] - 0s 4ms/step - loss: 0.0227\n"
     ]
    },
    {
     "data": {
      "text/plain": [
       "<keras.callbacks.History at 0x7fe1946f9590>"
      ]
     },
     "execution_count": 43,
     "metadata": {},
     "output_type": "execute_result"
    }
   ],
   "source": [
    "model.fit(X_train, y_train, epochs=50)"
   ]
  },
  {
   "cell_type": "code",
   "execution_count": 44,
   "id": "75d14b89",
   "metadata": {
    "execution": {
     "iopub.execute_input": "2022-11-17T07:24:17.508857Z",
     "iopub.status.busy": "2022-11-17T07:24:17.508199Z",
     "iopub.status.idle": "2022-11-17T07:24:17.686873Z",
     "shell.execute_reply": "2022-11-17T07:24:17.684489Z"
    },
    "papermill": {
     "duration": 0.223562,
     "end_time": "2022-11-17T07:24:17.689460",
     "exception": false,
     "start_time": "2022-11-17T07:24:17.465898",
     "status": "completed"
    },
    "tags": []
   },
   "outputs": [
    {
     "name": "stdout",
     "output_type": "stream",
     "text": [
      "0.89\n"
     ]
    }
   ],
   "source": [
    "yhat = model.predict(X_test)\n",
    "yhat = yhat.round()\n",
    "acc = accuracy_score(y_test, yhat)\n",
    "print(acc)"
   ]
  },
  {
   "cell_type": "code",
   "execution_count": 45,
   "id": "5ed1c73a",
   "metadata": {
    "execution": {
     "iopub.execute_input": "2022-11-17T07:24:17.774457Z",
     "iopub.status.busy": "2022-11-17T07:24:17.774009Z",
     "iopub.status.idle": "2022-11-17T07:24:25.180470Z",
     "shell.execute_reply": "2022-11-17T07:24:25.179302Z"
    },
    "papermill": {
     "duration": 7.454634,
     "end_time": "2022-11-17T07:24:25.183526",
     "exception": false,
     "start_time": "2022-11-17T07:24:17.728892",
     "status": "completed"
    },
    "tags": []
   },
   "outputs": [],
   "source": [
    "# using classifier chains\n",
    "from skmultilearn.problem_transform import ClassifierChain\n",
    "from sklearn.naive_bayes import GaussianNB\n",
    "\n",
    "classifier = ClassifierChain(GaussianNB())\n",
    "\n",
    "classifier.fit(X_train, y_train)\n",
    "predictions = classifier.predict(X_test)\n"
   ]
  },
  {
   "cell_type": "code",
   "execution_count": 46,
   "id": "8990c323",
   "metadata": {
    "execution": {
     "iopub.execute_input": "2022-11-17T07:24:25.263238Z",
     "iopub.status.busy": "2022-11-17T07:24:25.262559Z",
     "iopub.status.idle": "2022-11-17T07:24:25.270116Z",
     "shell.execute_reply": "2022-11-17T07:24:25.268713Z"
    },
    "papermill": {
     "duration": 0.050206,
     "end_time": "2022-11-17T07:24:25.272419",
     "exception": false,
     "start_time": "2022-11-17T07:24:25.222213",
     "status": "completed"
    },
    "tags": []
   },
   "outputs": [
    {
     "name": "stdout",
     "output_type": "stream",
     "text": [
      "0.63\n"
     ]
    }
   ],
   "source": [
    "acc = accuracy_score(y_test, predictions)\n",
    "print(acc)"
   ]
  },
  {
   "cell_type": "code",
   "execution_count": 47,
   "id": "99ee3dc8",
   "metadata": {
    "execution": {
     "iopub.execute_input": "2022-11-17T07:24:25.353010Z",
     "iopub.status.busy": "2022-11-17T07:24:25.352320Z",
     "iopub.status.idle": "2022-11-17T07:24:26.489669Z",
     "shell.execute_reply": "2022-11-17T07:24:26.488565Z"
    },
    "papermill": {
     "duration": 1.180844,
     "end_time": "2022-11-17T07:24:26.492396",
     "exception": false,
     "start_time": "2022-11-17T07:24:25.311552",
     "status": "completed"
    },
    "tags": []
   },
   "outputs": [
    {
     "data": {
      "text/plain": [
       "0.63"
      ]
     },
     "execution_count": 47,
     "metadata": {},
     "output_type": "execute_result"
    }
   ],
   "source": [
    "from skmultilearn.problem_transform import LabelPowerset\n",
    "from sklearn.naive_bayes import GaussianNB\n",
    "\n",
    "classifier = LabelPowerset(GaussianNB())\n",
    "\n",
    "# train\n",
    "classifier.fit(X_train, y_train)\n",
    "\n",
    "# predict\n",
    "predictions = classifier.predict(X_test)\n",
    "\n",
    "accuracy_score(y_test,predictions)"
   ]
  },
  {
   "cell_type": "code",
   "execution_count": 48,
   "id": "a5fa2856",
   "metadata": {
    "execution": {
     "iopub.execute_input": "2022-11-17T07:24:26.572877Z",
     "iopub.status.busy": "2022-11-17T07:24:26.572213Z",
     "iopub.status.idle": "2022-11-17T07:24:26.580273Z",
     "shell.execute_reply": "2022-11-17T07:24:26.579339Z"
    },
    "papermill": {
     "duration": 0.050683,
     "end_time": "2022-11-17T07:24:26.582337",
     "exception": false,
     "start_time": "2022-11-17T07:24:26.531654",
     "status": "completed"
    },
    "tags": []
   },
   "outputs": [
    {
     "data": {
      "text/plain": [
       "0.63"
      ]
     },
     "execution_count": 48,
     "metadata": {},
     "output_type": "execute_result"
    }
   ],
   "source": [
    "accuracy_score(y_test,predictions)"
   ]
  },
  {
   "cell_type": "code",
   "execution_count": 49,
   "id": "5bd0f184",
   "metadata": {
    "execution": {
     "iopub.execute_input": "2022-11-17T07:24:26.663716Z",
     "iopub.status.busy": "2022-11-17T07:24:26.663070Z",
     "iopub.status.idle": "2022-11-17T07:24:26.668214Z",
     "shell.execute_reply": "2022-11-17T07:24:26.667486Z"
    },
    "papermill": {
     "duration": 0.048123,
     "end_time": "2022-11-17T07:24:26.670238",
     "exception": false,
     "start_time": "2022-11-17T07:24:26.622115",
     "status": "completed"
    },
    "tags": []
   },
   "outputs": [],
   "source": [
    "comment = [\"I will kill you!\"]\n",
    "comment = count_vectorizer.transform(comment)"
   ]
  },
  {
   "cell_type": "code",
   "execution_count": 50,
   "id": "e7d6abba",
   "metadata": {
    "execution": {
     "iopub.execute_input": "2022-11-17T07:24:26.750940Z",
     "iopub.status.busy": "2022-11-17T07:24:26.750253Z",
     "iopub.status.idle": "2022-11-17T07:24:26.764794Z",
     "shell.execute_reply": "2022-11-17T07:24:26.763790Z"
    },
    "papermill": {
     "duration": 0.058121,
     "end_time": "2022-11-17T07:24:26.767560",
     "exception": false,
     "start_time": "2022-11-17T07:24:26.709439",
     "status": "completed"
    },
    "tags": []
   },
   "outputs": [
    {
     "name": "stdout",
     "output_type": "stream",
     "text": [
      "   toxic  severe_toxic  obscene  threat  insult  identity_hate\n",
      "0      1             1        1       0       0              0\n"
     ]
    }
   ],
   "source": [
    "pred = classifier.predict(comment)\n",
    "pred = pd.DataFrame(pred.toarray(),columns= y_test.columns)\n",
    "print(pred)"
   ]
  },
  {
   "cell_type": "code",
   "execution_count": 51,
   "id": "45923ba6",
   "metadata": {
    "execution": {
     "iopub.execute_input": "2022-11-17T07:24:26.849082Z",
     "iopub.status.busy": "2022-11-17T07:24:26.848364Z",
     "iopub.status.idle": "2022-11-17T07:24:26.868885Z",
     "shell.execute_reply": "2022-11-17T07:24:26.867712Z"
    },
    "papermill": {
     "duration": 0.063645,
     "end_time": "2022-11-17T07:24:26.871196",
     "exception": false,
     "start_time": "2022-11-17T07:24:26.807551",
     "status": "completed"
    },
    "tags": []
   },
   "outputs": [
    {
     "name": "stdout",
     "output_type": "stream",
     "text": [
      "      toxic  severe_toxic   obscene    threat    insult  identity_hate\n",
      "0  0.197942      0.017917  0.089672  0.007698  0.087208       0.017368\n"
     ]
    }
   ],
   "source": [
    "comment = [\"Hey\"]\n",
    "comment = count_vectorizer.transform(comment)\n",
    "pred = model.predict(comment)\n",
    "pred = pd.DataFrame(pred,columns= y_test.columns)\n",
    "print(pred)"
   ]
  },
  {
   "cell_type": "code",
   "execution_count": null,
   "id": "5935072e",
   "metadata": {
    "papermill": {
     "duration": 0.03951,
     "end_time": "2022-11-17T07:24:26.952703",
     "exception": false,
     "start_time": "2022-11-17T07:24:26.913193",
     "status": "completed"
    },
    "tags": []
   },
   "outputs": [],
   "source": []
  },
  {
   "cell_type": "markdown",
   "id": "57753396",
   "metadata": {
    "papermill": {
     "duration": 0.040468,
     "end_time": "2022-11-17T07:24:27.032920",
     "exception": false,
     "start_time": "2022-11-17T07:24:26.992452",
     "status": "completed"
    },
    "tags": []
   },
   "source": [
    "<center>\n",
    "<div style = \"background-color: rgba(152, 170, 236, 0.8); border-style: double;\">\n",
    "<strong style = \"font-size: 25px; color:rgba(86, 106, 181, 1);\"><center>2. Dictionaries of toxic language</center></strong>\n",
    "</div>\n",
    "</center>"
   ]
  },
  {
   "cell_type": "markdown",
   "id": "0cd75845",
   "metadata": {
    "papermill": {
     "duration": 0.040051,
     "end_time": "2022-11-17T07:24:27.113544",
     "exception": false,
     "start_time": "2022-11-17T07:24:27.073493",
     "status": "completed"
    },
    "tags": []
   },
   "source": [
    "<center>\n",
    "<div style = \"background-color: rgba(152, 170, 236, 0.8); border-style: double;\">\n",
    "<strong style = \"font-size: 25px; color:rgba(86, 106, 181, 1);\"><center>3. word2vec</center></strong>\n",
    "</div>\n",
    "</center>"
   ]
  },
  {
   "cell_type": "markdown",
   "id": "445f7c5e",
   "metadata": {
    "papermill": {
     "duration": 0.039584,
     "end_time": "2022-11-17T07:24:27.192978",
     "exception": false,
     "start_time": "2022-11-17T07:24:27.153394",
     "status": "completed"
    },
    "tags": []
   },
   "source": [
    "<center>\n",
    "<div style = \"background-color: rgba(152, 170, 236, 0.8); border-style: double;\">\n",
    "<strong style = \"font-size: 25px; color:rgba(86, 106, 181, 1);\"><center>4. fastText</center></strong>\n",
    "</div>\n",
    "</center>"
   ]
  },
  {
   "cell_type": "markdown",
   "id": "69ee0c52",
   "metadata": {
    "papermill": {
     "duration": 0.038801,
     "end_time": "2022-11-17T07:24:27.272012",
     "exception": false,
     "start_time": "2022-11-17T07:24:27.233211",
     "status": "completed"
    },
    "tags": []
   },
   "source": [
    "<center>\n",
    "<div style = \"background-color: rgba(152, 170, 236, 0.8); border-style: double;\">\n",
    "<strong style = \"font-size: 25px; color:rgba(86, 106, 181, 1);\"><center>5. not fine-tuned HateBERT</center></strong>\n",
    "</div>\n",
    "</center>"
   ]
  },
  {
   "cell_type": "markdown",
   "id": "b7216c23",
   "metadata": {
    "papermill": {
     "duration": 0.040285,
     "end_time": "2022-11-17T07:24:27.352205",
     "exception": false,
     "start_time": "2022-11-17T07:24:27.311920",
     "status": "completed"
    },
    "tags": []
   },
   "source": [
    "<center>\n",
    "<div style = \"background-color: rgba(152, 170, 236, 0.8); border-style: double;\">\n",
    "<strong style = \"font-size: 25px; color:rgba(86, 106, 181, 1);\"><center>6. fine-tuned HateBERT</center></strong>\n",
    "</div>\n",
    "</center>"
   ]
  }
 ],
 "metadata": {
  "kernelspec": {
   "display_name": "Python 3",
   "language": "python",
   "name": "python3"
  },
  "language_info": {
   "codemirror_mode": {
    "name": "ipython",
    "version": 3
   },
   "file_extension": ".py",
   "mimetype": "text/x-python",
   "name": "python",
   "nbconvert_exporter": "python",
   "pygments_lexer": "ipython3",
   "version": "3.7.12"
  },
  "papermill": {
   "default_parameters": {},
   "duration": 266.387334,
   "end_time": "2022-11-17T07:24:31.108449",
   "environment_variables": {},
   "exception": null,
   "input_path": "__notebook__.ipynb",
   "output_path": "__notebook__.ipynb",
   "parameters": {},
   "start_time": "2022-11-17T07:20:04.721115",
   "version": "2.3.4"
  }
 },
 "nbformat": 4,
 "nbformat_minor": 5
}
