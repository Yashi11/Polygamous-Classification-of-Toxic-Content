{
 "cells": [
  {
   "cell_type": "code",
   "execution_count": 1,
   "id": "37beaa83",
   "metadata": {
    "_cell_guid": "b1076dfc-b9ad-4769-8c92-a6c4dae69d19",
    "_uuid": "8f2839f25d086af736a60e9eeb907d3b93b6e0e5",
    "execution": {
     "iopub.execute_input": "2022-11-17T15:16:05.126938Z",
     "iopub.status.busy": "2022-11-17T15:16:05.126241Z",
     "iopub.status.idle": "2022-11-17T15:16:06.560550Z",
     "shell.execute_reply": "2022-11-17T15:16:06.559285Z"
    },
    "papermill": {
     "duration": 1.463337,
     "end_time": "2022-11-17T15:16:06.563195",
     "exception": false,
     "start_time": "2022-11-17T15:16:05.099858",
     "status": "completed"
    },
    "tags": []
   },
   "outputs": [
    {
     "name": "stdout",
     "output_type": "stream",
     "text": [
      "/kaggle/input/jigsaw-toxic-comment-classification-challenge/train.csv.zip\n",
      "/kaggle/input/jigsaw-toxic-comment-classification-challenge/sample_submission.csv.zip\n",
      "/kaggle/input/jigsaw-toxic-comment-classification-challenge/test_labels.csv.zip\n",
      "/kaggle/input/jigsaw-toxic-comment-classification-challenge/test.csv.zip\n"
     ]
    }
   ],
   "source": [
    "import numpy as np\n",
    "import pandas as pd\n",
    "from colorama import Fore, Back, Style\n",
    "import seaborn as sns\n",
    "import os\n",
    "for dirname, _, filenames in os.walk('/kaggle/input'):\n",
    "    for filename in filenames:\n",
    "        print(os.path.join(dirname, filename))\n",
    "from sklearn.metrics import accuracy_score\n",
    "\n",
    "        "
   ]
  },
  {
   "cell_type": "code",
   "execution_count": 2,
   "id": "f9902145",
   "metadata": {
    "execution": {
     "iopub.execute_input": "2022-11-17T15:16:06.615501Z",
     "iopub.status.busy": "2022-11-17T15:16:06.614498Z",
     "iopub.status.idle": "2022-11-17T15:16:08.464177Z",
     "shell.execute_reply": "2022-11-17T15:16:08.463208Z"
    },
    "papermill": {
     "duration": 1.878426,
     "end_time": "2022-11-17T15:16:08.466732",
     "exception": false,
     "start_time": "2022-11-17T15:16:06.588306",
     "status": "completed"
    },
    "tags": []
   },
   "outputs": [],
   "source": [
    "df = pd.read_csv(\"../input/jigsaw-toxic-comment-classification-challenge/train.csv.zip\")"
   ]
  },
  {
   "cell_type": "markdown",
   "id": "22655b3a",
   "metadata": {
    "papermill": {
     "duration": 0.023635,
     "end_time": "2022-11-17T15:16:08.514499",
     "exception": false,
     "start_time": "2022-11-17T15:16:08.490864",
     "status": "completed"
    },
    "tags": []
   },
   "source": [
    "<center>\n",
    "<div style = \"background-color: rgba(152, 170, 236, 0.8); border-style: double;\">\n",
    "<strong style = \"font-size: 25px; color:rgba(86, 106, 181, 1);\"><center>Exploratory Data Analysis</center></strong>\n",
    "</div>\n",
    "</center>"
   ]
  },
  {
   "cell_type": "markdown",
   "id": "73faf2a6",
   "metadata": {
    "papermill": {
     "duration": 0.023101,
     "end_time": "2022-11-17T15:16:08.561312",
     "exception": false,
     "start_time": "2022-11-17T15:16:08.538211",
     "status": "completed"
    },
    "tags": []
   },
   "source": [
    "There are several techniques to analyse data like classical analysis, exploratory data analysis and bayesian data analysis approach. We proceed with EDA in order to understand the structure of our data, is outliers, models and visualizations."
   ]
  },
  {
   "cell_type": "markdown",
   "id": "ade6549e",
   "metadata": {
    "papermill": {
     "duration": 0.02323,
     "end_time": "2022-11-17T15:16:08.608129",
     "exception": false,
     "start_time": "2022-11-17T15:16:08.584899",
     "status": "completed"
    },
    "tags": []
   },
   "source": [
    "# Basic Datset Exploration and Structuring"
   ]
  },
  {
   "cell_type": "code",
   "execution_count": 3,
   "id": "28d203b7",
   "metadata": {
    "execution": {
     "iopub.execute_input": "2022-11-17T15:16:08.657761Z",
     "iopub.status.busy": "2022-11-17T15:16:08.657212Z",
     "iopub.status.idle": "2022-11-17T15:16:08.675085Z",
     "shell.execute_reply": "2022-11-17T15:16:08.674210Z"
    },
    "papermill": {
     "duration": 0.04537,
     "end_time": "2022-11-17T15:16:08.677384",
     "exception": false,
     "start_time": "2022-11-17T15:16:08.632014",
     "status": "completed"
    },
    "tags": []
   },
   "outputs": [
    {
     "data": {
      "text/html": [
       "<div>\n",
       "<style scoped>\n",
       "    .dataframe tbody tr th:only-of-type {\n",
       "        vertical-align: middle;\n",
       "    }\n",
       "\n",
       "    .dataframe tbody tr th {\n",
       "        vertical-align: top;\n",
       "    }\n",
       "\n",
       "    .dataframe thead th {\n",
       "        text-align: right;\n",
       "    }\n",
       "</style>\n",
       "<table border=\"1\" class=\"dataframe\">\n",
       "  <thead>\n",
       "    <tr style=\"text-align: right;\">\n",
       "      <th></th>\n",
       "      <th>id</th>\n",
       "      <th>comment_text</th>\n",
       "      <th>toxic</th>\n",
       "      <th>severe_toxic</th>\n",
       "      <th>obscene</th>\n",
       "      <th>threat</th>\n",
       "      <th>insult</th>\n",
       "      <th>identity_hate</th>\n",
       "    </tr>\n",
       "  </thead>\n",
       "  <tbody>\n",
       "    <tr>\n",
       "      <th>0</th>\n",
       "      <td>0000997932d777bf</td>\n",
       "      <td>Explanation\\nWhy the edits made under my usern...</td>\n",
       "      <td>0</td>\n",
       "      <td>0</td>\n",
       "      <td>0</td>\n",
       "      <td>0</td>\n",
       "      <td>0</td>\n",
       "      <td>0</td>\n",
       "    </tr>\n",
       "    <tr>\n",
       "      <th>1</th>\n",
       "      <td>000103f0d9cfb60f</td>\n",
       "      <td>D'aww! He matches this background colour I'm s...</td>\n",
       "      <td>0</td>\n",
       "      <td>0</td>\n",
       "      <td>0</td>\n",
       "      <td>0</td>\n",
       "      <td>0</td>\n",
       "      <td>0</td>\n",
       "    </tr>\n",
       "    <tr>\n",
       "      <th>2</th>\n",
       "      <td>000113f07ec002fd</td>\n",
       "      <td>Hey man, I'm really not trying to edit war. It...</td>\n",
       "      <td>0</td>\n",
       "      <td>0</td>\n",
       "      <td>0</td>\n",
       "      <td>0</td>\n",
       "      <td>0</td>\n",
       "      <td>0</td>\n",
       "    </tr>\n",
       "    <tr>\n",
       "      <th>3</th>\n",
       "      <td>0001b41b1c6bb37e</td>\n",
       "      <td>\"\\nMore\\nI can't make any real suggestions on ...</td>\n",
       "      <td>0</td>\n",
       "      <td>0</td>\n",
       "      <td>0</td>\n",
       "      <td>0</td>\n",
       "      <td>0</td>\n",
       "      <td>0</td>\n",
       "    </tr>\n",
       "    <tr>\n",
       "      <th>4</th>\n",
       "      <td>0001d958c54c6e35</td>\n",
       "      <td>You, sir, are my hero. Any chance you remember...</td>\n",
       "      <td>0</td>\n",
       "      <td>0</td>\n",
       "      <td>0</td>\n",
       "      <td>0</td>\n",
       "      <td>0</td>\n",
       "      <td>0</td>\n",
       "    </tr>\n",
       "  </tbody>\n",
       "</table>\n",
       "</div>"
      ],
      "text/plain": [
       "                 id                                       comment_text  toxic  \\\n",
       "0  0000997932d777bf  Explanation\\nWhy the edits made under my usern...      0   \n",
       "1  000103f0d9cfb60f  D'aww! He matches this background colour I'm s...      0   \n",
       "2  000113f07ec002fd  Hey man, I'm really not trying to edit war. It...      0   \n",
       "3  0001b41b1c6bb37e  \"\\nMore\\nI can't make any real suggestions on ...      0   \n",
       "4  0001d958c54c6e35  You, sir, are my hero. Any chance you remember...      0   \n",
       "\n",
       "   severe_toxic  obscene  threat  insult  identity_hate  \n",
       "0             0        0       0       0              0  \n",
       "1             0        0       0       0              0  \n",
       "2             0        0       0       0              0  \n",
       "3             0        0       0       0              0  \n",
       "4             0        0       0       0              0  "
      ]
     },
     "execution_count": 3,
     "metadata": {},
     "output_type": "execute_result"
    }
   ],
   "source": [
    "df.head()"
   ]
  },
  {
   "cell_type": "code",
   "execution_count": 4,
   "id": "1e0105f2",
   "metadata": {
    "execution": {
     "iopub.execute_input": "2022-11-17T15:16:08.727614Z",
     "iopub.status.busy": "2022-11-17T15:16:08.727228Z",
     "iopub.status.idle": "2022-11-17T15:16:08.732889Z",
     "shell.execute_reply": "2022-11-17T15:16:08.732248Z"
    },
    "papermill": {
     "duration": 0.032752,
     "end_time": "2022-11-17T15:16:08.734593",
     "exception": false,
     "start_time": "2022-11-17T15:16:08.701841",
     "status": "completed"
    },
    "tags": []
   },
   "outputs": [
    {
     "data": {
      "text/plain": [
       "(159571, 8)"
      ]
     },
     "execution_count": 4,
     "metadata": {},
     "output_type": "execute_result"
    }
   ],
   "source": [
    "df.shape"
   ]
  },
  {
   "cell_type": "code",
   "execution_count": 5,
   "id": "1b14ad5c",
   "metadata": {
    "execution": {
     "iopub.execute_input": "2022-11-17T15:16:08.785362Z",
     "iopub.status.busy": "2022-11-17T15:16:08.784951Z",
     "iopub.status.idle": "2022-11-17T15:16:08.795287Z",
     "shell.execute_reply": "2022-11-17T15:16:08.794272Z"
    },
    "papermill": {
     "duration": 0.038997,
     "end_time": "2022-11-17T15:16:08.797905",
     "exception": false,
     "start_time": "2022-11-17T15:16:08.758908",
     "status": "completed"
    },
    "tags": []
   },
   "outputs": [],
   "source": [
    "# Let's remove the unwanted columns like Comment ID before moving on to EDA\n",
    "del df['id']"
   ]
  },
  {
   "cell_type": "code",
   "execution_count": 6,
   "id": "5292f9d2",
   "metadata": {
    "execution": {
     "iopub.execute_input": "2022-11-17T15:16:08.848923Z",
     "iopub.status.busy": "2022-11-17T15:16:08.848488Z",
     "iopub.status.idle": "2022-11-17T15:16:08.853700Z",
     "shell.execute_reply": "2022-11-17T15:16:08.852732Z"
    },
    "papermill": {
     "duration": 0.034108,
     "end_time": "2022-11-17T15:16:08.856163",
     "exception": false,
     "start_time": "2022-11-17T15:16:08.822055",
     "status": "completed"
    },
    "tags": []
   },
   "outputs": [],
   "source": [
    "def colorToxicityValuesToRed(value):\n",
    "    if value==0:\n",
    "        color='green'\n",
    "    elif value==1:\n",
    "        color='red'\n",
    "    else:\n",
    "        color='black'\n",
    "    return 'color: %s' % color\n",
    "    \n",
    "\n",
    "\n"
   ]
  },
  {
   "cell_type": "code",
   "execution_count": 7,
   "id": "4dfca778",
   "metadata": {
    "execution": {
     "iopub.execute_input": "2022-11-17T15:16:08.906015Z",
     "iopub.status.busy": "2022-11-17T15:16:08.905645Z",
     "iopub.status.idle": "2022-11-17T15:16:08.977706Z",
     "shell.execute_reply": "2022-11-17T15:16:08.976723Z"
    },
    "papermill": {
     "duration": 0.099684,
     "end_time": "2022-11-17T15:16:08.979927",
     "exception": false,
     "start_time": "2022-11-17T15:16:08.880243",
     "status": "completed"
    },
    "tags": []
   },
   "outputs": [
    {
     "data": {
      "text/html": [
       "<style type=\"text/css\">\n",
       "#T_10c48_row0_col1, #T_10c48_row0_col2, #T_10c48_row0_col3, #T_10c48_row0_col4, #T_10c48_row0_col5, #T_10c48_row0_col6, #T_10c48_row1_col1, #T_10c48_row1_col2, #T_10c48_row1_col3, #T_10c48_row1_col4, #T_10c48_row1_col5, #T_10c48_row1_col6, #T_10c48_row2_col1, #T_10c48_row2_col2, #T_10c48_row2_col3, #T_10c48_row2_col4, #T_10c48_row2_col5, #T_10c48_row2_col6, #T_10c48_row3_col1, #T_10c48_row3_col2, #T_10c48_row3_col3, #T_10c48_row3_col4, #T_10c48_row3_col5, #T_10c48_row3_col6, #T_10c48_row4_col1, #T_10c48_row4_col2, #T_10c48_row4_col3, #T_10c48_row4_col4, #T_10c48_row4_col5, #T_10c48_row4_col6, #T_10c48_row5_col2, #T_10c48_row5_col4 {\n",
       "  color: green;\n",
       "}\n",
       "#T_10c48_row5_col1, #T_10c48_row5_col3, #T_10c48_row5_col5, #T_10c48_row5_col6 {\n",
       "  color: red;\n",
       "}\n",
       "</style>\n",
       "<table id=\"T_10c48_\">\n",
       "  <thead>\n",
       "    <tr>\n",
       "      <th class=\"blank level0\" >&nbsp;</th>\n",
       "      <th class=\"col_heading level0 col0\" >comment_text</th>\n",
       "      <th class=\"col_heading level0 col1\" >toxic</th>\n",
       "      <th class=\"col_heading level0 col2\" >severe_toxic</th>\n",
       "      <th class=\"col_heading level0 col3\" >obscene</th>\n",
       "      <th class=\"col_heading level0 col4\" >threat</th>\n",
       "      <th class=\"col_heading level0 col5\" >insult</th>\n",
       "      <th class=\"col_heading level0 col6\" >identity_hate</th>\n",
       "    </tr>\n",
       "  </thead>\n",
       "  <tbody>\n",
       "    <tr>\n",
       "      <th id=\"T_10c48_level0_row0\" class=\"row_heading level0 row0\" >100</th>\n",
       "      <td id=\"T_10c48_row0_col0\" class=\"data row0 col0\" >However, the Moonlite edit noted by golden daph was me (on optus ...)  Wake up wikkis.  So funny</td>\n",
       "      <td id=\"T_10c48_row0_col1\" class=\"data row0 col1\" >0</td>\n",
       "      <td id=\"T_10c48_row0_col2\" class=\"data row0 col2\" >0</td>\n",
       "      <td id=\"T_10c48_row0_col3\" class=\"data row0 col3\" >0</td>\n",
       "      <td id=\"T_10c48_row0_col4\" class=\"data row0 col4\" >0</td>\n",
       "      <td id=\"T_10c48_row0_col5\" class=\"data row0 col5\" >0</td>\n",
       "      <td id=\"T_10c48_row0_col6\" class=\"data row0 col6\" >0</td>\n",
       "    </tr>\n",
       "    <tr>\n",
       "      <th id=\"T_10c48_level0_row1\" class=\"row_heading level0 row1\" >101</th>\n",
       "      <td id=\"T_10c48_row1_col0\" class=\"data row1 col0\" >Check the following websites:\n",
       "\n",
       "http://www.iranchamber.com/personalities/farabi/farabi.php\n",
       "http://www.islam.org.br/%C2%A0al_farabi.htm\n",
       "http://www.superbeyin.com/sohbet/sohbet.htm</td>\n",
       "      <td id=\"T_10c48_row1_col1\" class=\"data row1 col1\" >0</td>\n",
       "      <td id=\"T_10c48_row1_col2\" class=\"data row1 col2\" >0</td>\n",
       "      <td id=\"T_10c48_row1_col3\" class=\"data row1 col3\" >0</td>\n",
       "      <td id=\"T_10c48_row1_col4\" class=\"data row1 col4\" >0</td>\n",
       "      <td id=\"T_10c48_row1_col5\" class=\"data row1 col5\" >0</td>\n",
       "      <td id=\"T_10c48_row1_col6\" class=\"data row1 col6\" >0</td>\n",
       "    </tr>\n",
       "    <tr>\n",
       "      <th id=\"T_10c48_level0_row2\" class=\"row_heading level0 row2\" >102</th>\n",
       "      <td id=\"T_10c48_row2_col0\" class=\"data row2 col0\" >i can't believe no one has already put up this page Dilbert's Desktop Games so I did</td>\n",
       "      <td id=\"T_10c48_row2_col1\" class=\"data row2 col1\" >0</td>\n",
       "      <td id=\"T_10c48_row2_col2\" class=\"data row2 col2\" >0</td>\n",
       "      <td id=\"T_10c48_row2_col3\" class=\"data row2 col3\" >0</td>\n",
       "      <td id=\"T_10c48_row2_col4\" class=\"data row2 col4\" >0</td>\n",
       "      <td id=\"T_10c48_row2_col5\" class=\"data row2 col5\" >0</td>\n",
       "      <td id=\"T_10c48_row2_col6\" class=\"data row2 col6\" >0</td>\n",
       "    </tr>\n",
       "    <tr>\n",
       "      <th id=\"T_10c48_level0_row3\" class=\"row_heading level0 row3\" >103</th>\n",
       "      <td id=\"T_10c48_row3_col0\" class=\"data row3 col0\" >\"\n",
       "\n",
       "Well, after I asked you to provide the diffs within one hour of your next edit here, you made an edit to your talk page here and then did not provide the diffs I requested within one hour of that edit. I then sanctioned you for failing to provide the requested diffs in a timely manner (which, after more than a week, you have still not done). Consequently, your request to lift the sanction is denied.  \"</td>\n",
       "      <td id=\"T_10c48_row3_col1\" class=\"data row3 col1\" >0</td>\n",
       "      <td id=\"T_10c48_row3_col2\" class=\"data row3 col2\" >0</td>\n",
       "      <td id=\"T_10c48_row3_col3\" class=\"data row3 col3\" >0</td>\n",
       "      <td id=\"T_10c48_row3_col4\" class=\"data row3 col4\" >0</td>\n",
       "      <td id=\"T_10c48_row3_col5\" class=\"data row3 col5\" >0</td>\n",
       "      <td id=\"T_10c48_row3_col6\" class=\"data row3 col6\" >0</td>\n",
       "    </tr>\n",
       "    <tr>\n",
       "      <th id=\"T_10c48_level0_row4\" class=\"row_heading level0 row4\" >104</th>\n",
       "      <td id=\"T_10c48_row4_col0\" class=\"data row4 col0\" >What page shoudld there be for important characters that DON'T reoccur?\n",
       "Void, Black Doom, Mephiles, etc</td>\n",
       "      <td id=\"T_10c48_row4_col1\" class=\"data row4 col1\" >0</td>\n",
       "      <td id=\"T_10c48_row4_col2\" class=\"data row4 col2\" >0</td>\n",
       "      <td id=\"T_10c48_row4_col3\" class=\"data row4 col3\" >0</td>\n",
       "      <td id=\"T_10c48_row4_col4\" class=\"data row4 col4\" >0</td>\n",
       "      <td id=\"T_10c48_row4_col5\" class=\"data row4 col5\" >0</td>\n",
       "      <td id=\"T_10c48_row4_col6\" class=\"data row4 col6\" >0</td>\n",
       "    </tr>\n",
       "    <tr>\n",
       "      <th id=\"T_10c48_level0_row5\" class=\"row_heading level0 row5\" >105</th>\n",
       "      <td id=\"T_10c48_row5_col0\" class=\"data row5 col0\" >A pair of jew-hating weiner nazi schmucks.</td>\n",
       "      <td id=\"T_10c48_row5_col1\" class=\"data row5 col1\" >1</td>\n",
       "      <td id=\"T_10c48_row5_col2\" class=\"data row5 col2\" >0</td>\n",
       "      <td id=\"T_10c48_row5_col3\" class=\"data row5 col3\" >1</td>\n",
       "      <td id=\"T_10c48_row5_col4\" class=\"data row5 col4\" >0</td>\n",
       "      <td id=\"T_10c48_row5_col5\" class=\"data row5 col5\" >1</td>\n",
       "      <td id=\"T_10c48_row5_col6\" class=\"data row5 col6\" >1</td>\n",
       "    </tr>\n",
       "  </tbody>\n",
       "</table>\n"
      ],
      "text/plain": [
       "<pandas.io.formats.style.Styler at 0x7f576051e450>"
      ]
     },
     "metadata": {},
     "output_type": "display_data"
    }
   ],
   "source": [
    "# Display the raw dataset in a visually appealing manner\n",
    "\n",
    "display(df[100:106].style.applymap(colorToxicityValuesToRed,\n",
    "subset=['toxic','severe_toxic','obscene','threat','insult','identity_hate']))"
   ]
  },
  {
   "cell_type": "code",
   "execution_count": 8,
   "id": "fc7a4d35",
   "metadata": {
    "execution": {
     "iopub.execute_input": "2022-11-17T15:16:09.030471Z",
     "iopub.status.busy": "2022-11-17T15:16:09.029503Z",
     "iopub.status.idle": "2022-11-17T15:16:09.039727Z",
     "shell.execute_reply": "2022-11-17T15:16:09.038721Z"
    },
    "papermill": {
     "duration": 0.038611,
     "end_time": "2022-11-17T15:16:09.042530",
     "exception": false,
     "start_time": "2022-11-17T15:16:09.003919",
     "status": "completed"
    },
    "tags": []
   },
   "outputs": [
    {
     "name": "stdout",
     "output_type": "stream",
     "text": [
      "\u001b[47mPercentage of Comments Classified as Toxic               \u001b[42m9.584448302009763% \n",
      "\n",
      "\u001b[47mPercentage of Comments Classified as Severe Toxic        \u001b[42m0.999555056996572% \n",
      "\n",
      "\u001b[47mPercentage of Comments Classified as Obscene             \u001b[42m5.2948217407925% \n",
      "\n",
      "\u001b[47mPercentage  of Comments Classified as Threat              \u001b[42m0.2995531769557125% \n",
      "\n",
      "\u001b[47mPercentage of Comments Classified as Insult              \u001b[42m4.936360616904074% \n",
      "\n",
      "\u001b[47mPercentage of Comments Classified as Identity Hate       \u001b[42m0.8804858025581089% \n",
      "\n"
     ]
    }
   ],
   "source": [
    "# Perform a Descriptive Analysis on the Classification Classes\n",
    "\n",
    "print(Back.WHITE+f\"Percentage of Comments Classified as Toxic               \"+Back.GREEN+f\"{df['toxic'].sum()/1595.71}% \\n\")\n",
    "print(Back.WHITE+f\"Percentage of Comments Classified as Severe Toxic        \"+Back.GREEN+f\"{df['severe_toxic'].sum()/1595.71}% \\n\")\n",
    "print(Back.WHITE+f\"Percentage of Comments Classified as Obscene             \"+Back.GREEN+f\"{df['obscene'].sum()/1595.71}% \\n\")\n",
    "print(Back.WHITE+f\"Percentage  of Comments Classified as Threat              \"+Back.GREEN+f\"{df['threat'].sum()/1595.71}% \\n\")\n",
    "print(Back.WHITE+f\"Percentage of Comments Classified as Insult              \"+Back.GREEN+f\"{df['insult'].sum()/1595.71}% \\n\")\n",
    "print(Back.WHITE+f\"Percentage of Comments Classified as Identity Hate       \"+Back.GREEN+f\"{df['identity_hate'].sum()/1595.71}% \\n\")"
   ]
  },
  {
   "cell_type": "markdown",
   "id": "e3f61e25",
   "metadata": {
    "papermill": {
     "duration": 0.024396,
     "end_time": "2022-11-17T15:16:09.091933",
     "exception": false,
     "start_time": "2022-11-17T15:16:09.067537",
     "status": "completed"
    },
    "tags": []
   },
   "source": [
    "# Text Counts & Lengths Analysis"
   ]
  },
  {
   "cell_type": "code",
   "execution_count": 9,
   "id": "eb15bd25",
   "metadata": {
    "execution": {
     "iopub.execute_input": "2022-11-17T15:16:09.142402Z",
     "iopub.status.busy": "2022-11-17T15:16:09.142026Z",
     "iopub.status.idle": "2022-11-17T15:16:57.330319Z",
     "shell.execute_reply": "2022-11-17T15:16:57.329014Z"
    },
    "papermill": {
     "duration": 48.21675,
     "end_time": "2022-11-17T15:16:57.333095",
     "exception": false,
     "start_time": "2022-11-17T15:16:09.116345",
     "status": "completed"
    },
    "tags": []
   },
   "outputs": [],
   "source": [
    "import nltk\n",
    "# Character counts\n",
    "from nltk.tokenize import sent_tokenize\n",
    "# Word counts\n",
    "df[\"char_count\"] = df[\"comment_text\"].map(lambda x: len(x))\n",
    "# Sentence counts\n",
    "df[\"word_count\"] = df[\"comment_text\"].map(lambda x: len(x.split()))\n",
    "# String counts\n",
    "df[\"sent_count\"] = df[\"comment_text\"].map(lambda x: len(sent_tokenize(x)))\n",
    "# Average word length\n",
    "df[\"hashtag_count\"] = df[\"comment_text\"].map(lambda x: x.count(\"#\"))\n",
    "# Average sentence length\n",
    "df[\"avg_word_len\"] = df[\"comment_text\"].map(lambda x: np.mean([len(w) for w in str(x).split()]))\n",
    "\n",
    "df[\"avg_sent_len\"] = df[\"comment_text\"].map(lambda x: np.mean([len(w.split()) for w in sent_tokenize(x)]))"
   ]
  },
  {
   "cell_type": "code",
   "execution_count": 10,
   "id": "8c691d99",
   "metadata": {
    "execution": {
     "iopub.execute_input": "2022-11-17T15:16:57.392467Z",
     "iopub.status.busy": "2022-11-17T15:16:57.391791Z",
     "iopub.status.idle": "2022-11-17T15:16:57.435217Z",
     "shell.execute_reply": "2022-11-17T15:16:57.433561Z"
    },
    "papermill": {
     "duration": 0.077034,
     "end_time": "2022-11-17T15:16:57.438151",
     "exception": false,
     "start_time": "2022-11-17T15:16:57.361117",
     "status": "completed"
    },
    "tags": []
   },
   "outputs": [
    {
     "data": {
      "text/html": [
       "<div>\n",
       "<style scoped>\n",
       "    .dataframe tbody tr th:only-of-type {\n",
       "        vertical-align: middle;\n",
       "    }\n",
       "\n",
       "    .dataframe tbody tr th {\n",
       "        vertical-align: top;\n",
       "    }\n",
       "\n",
       "    .dataframe thead th {\n",
       "        text-align: right;\n",
       "    }\n",
       "</style>\n",
       "<table border=\"1\" class=\"dataframe\">\n",
       "  <thead>\n",
       "    <tr style=\"text-align: right;\">\n",
       "      <th></th>\n",
       "      <th>comment_text</th>\n",
       "      <th>toxic</th>\n",
       "      <th>severe_toxic</th>\n",
       "      <th>obscene</th>\n",
       "      <th>threat</th>\n",
       "      <th>insult</th>\n",
       "      <th>identity_hate</th>\n",
       "      <th>char_count</th>\n",
       "      <th>word_count</th>\n",
       "      <th>sent_count</th>\n",
       "      <th>hashtag_count</th>\n",
       "      <th>avg_word_len</th>\n",
       "      <th>avg_sent_len</th>\n",
       "    </tr>\n",
       "  </thead>\n",
       "  <tbody>\n",
       "    <tr>\n",
       "      <th>6</th>\n",
       "      <td>COCKSUCKER BEFORE YOU PISS AROUND ON MY WORK</td>\n",
       "      <td>1</td>\n",
       "      <td>1</td>\n",
       "      <td>1</td>\n",
       "      <td>0</td>\n",
       "      <td>1</td>\n",
       "      <td>0</td>\n",
       "      <td>44</td>\n",
       "      <td>8</td>\n",
       "      <td>1</td>\n",
       "      <td>0</td>\n",
       "      <td>4.625000</td>\n",
       "      <td>8.000000</td>\n",
       "    </tr>\n",
       "    <tr>\n",
       "      <th>12</th>\n",
       "      <td>Hey... what is it..\\n@ | talk .\\nWhat is it......</td>\n",
       "      <td>1</td>\n",
       "      <td>0</td>\n",
       "      <td>0</td>\n",
       "      <td>0</td>\n",
       "      <td>0</td>\n",
       "      <td>0</td>\n",
       "      <td>319</td>\n",
       "      <td>53</td>\n",
       "      <td>3</td>\n",
       "      <td>0</td>\n",
       "      <td>5.018868</td>\n",
       "      <td>17.666667</td>\n",
       "    </tr>\n",
       "    <tr>\n",
       "      <th>16</th>\n",
       "      <td>Bye! \\n\\nDon't look, come or think of comming ...</td>\n",
       "      <td>1</td>\n",
       "      <td>0</td>\n",
       "      <td>0</td>\n",
       "      <td>0</td>\n",
       "      <td>0</td>\n",
       "      <td>0</td>\n",
       "      <td>57</td>\n",
       "      <td>10</td>\n",
       "      <td>3</td>\n",
       "      <td>0</td>\n",
       "      <td>4.600000</td>\n",
       "      <td>3.333333</td>\n",
       "    </tr>\n",
       "    <tr>\n",
       "      <th>42</th>\n",
       "      <td>You are gay or antisemmitian? \\n\\nArchangel WH...</td>\n",
       "      <td>1</td>\n",
       "      <td>0</td>\n",
       "      <td>1</td>\n",
       "      <td>0</td>\n",
       "      <td>1</td>\n",
       "      <td>1</td>\n",
       "      <td>648</td>\n",
       "      <td>117</td>\n",
       "      <td>8</td>\n",
       "      <td>0</td>\n",
       "      <td>4.478632</td>\n",
       "      <td>14.625000</td>\n",
       "    </tr>\n",
       "    <tr>\n",
       "      <th>43</th>\n",
       "      <td>FUCK YOUR FILTHY MOTHER IN THE ASS, DRY!</td>\n",
       "      <td>1</td>\n",
       "      <td>0</td>\n",
       "      <td>1</td>\n",
       "      <td>0</td>\n",
       "      <td>1</td>\n",
       "      <td>0</td>\n",
       "      <td>40</td>\n",
       "      <td>8</td>\n",
       "      <td>1</td>\n",
       "      <td>0</td>\n",
       "      <td>4.125000</td>\n",
       "      <td>8.000000</td>\n",
       "    </tr>\n",
       "    <tr>\n",
       "      <th>...</th>\n",
       "      <td>...</td>\n",
       "      <td>...</td>\n",
       "      <td>...</td>\n",
       "      <td>...</td>\n",
       "      <td>...</td>\n",
       "      <td>...</td>\n",
       "      <td>...</td>\n",
       "      <td>...</td>\n",
       "      <td>...</td>\n",
       "      <td>...</td>\n",
       "      <td>...</td>\n",
       "      <td>...</td>\n",
       "      <td>...</td>\n",
       "    </tr>\n",
       "    <tr>\n",
       "      <th>159494</th>\n",
       "      <td>\"\\n\\n our previous conversation \\n\\nyou fuckin...</td>\n",
       "      <td>1</td>\n",
       "      <td>0</td>\n",
       "      <td>1</td>\n",
       "      <td>0</td>\n",
       "      <td>1</td>\n",
       "      <td>1</td>\n",
       "      <td>1677</td>\n",
       "      <td>319</td>\n",
       "      <td>23</td>\n",
       "      <td>0</td>\n",
       "      <td>4.241379</td>\n",
       "      <td>13.869565</td>\n",
       "    </tr>\n",
       "    <tr>\n",
       "      <th>159514</th>\n",
       "      <td>YOU ARE A MISCHIEVIOUS PUBIC HAIR</td>\n",
       "      <td>1</td>\n",
       "      <td>0</td>\n",
       "      <td>0</td>\n",
       "      <td>0</td>\n",
       "      <td>1</td>\n",
       "      <td>0</td>\n",
       "      <td>33</td>\n",
       "      <td>6</td>\n",
       "      <td>1</td>\n",
       "      <td>0</td>\n",
       "      <td>4.666667</td>\n",
       "      <td>6.000000</td>\n",
       "    </tr>\n",
       "    <tr>\n",
       "      <th>159541</th>\n",
       "      <td>Your absurd edits \\n\\nYour absurd edits on gre...</td>\n",
       "      <td>1</td>\n",
       "      <td>0</td>\n",
       "      <td>1</td>\n",
       "      <td>0</td>\n",
       "      <td>1</td>\n",
       "      <td>0</td>\n",
       "      <td>346</td>\n",
       "      <td>58</td>\n",
       "      <td>5</td>\n",
       "      <td>0</td>\n",
       "      <td>4.948276</td>\n",
       "      <td>11.600000</td>\n",
       "    </tr>\n",
       "    <tr>\n",
       "      <th>159546</th>\n",
       "      <td>\"\\n\\nHey listen don't you ever!!!! Delete my e...</td>\n",
       "      <td>1</td>\n",
       "      <td>0</td>\n",
       "      <td>0</td>\n",
       "      <td>0</td>\n",
       "      <td>1</td>\n",
       "      <td>0</td>\n",
       "      <td>534</td>\n",
       "      <td>103</td>\n",
       "      <td>6</td>\n",
       "      <td>0</td>\n",
       "      <td>4.184466</td>\n",
       "      <td>17.166667</td>\n",
       "    </tr>\n",
       "    <tr>\n",
       "      <th>159554</th>\n",
       "      <td>and i'm going to keep posting the stuff u dele...</td>\n",
       "      <td>1</td>\n",
       "      <td>0</td>\n",
       "      <td>1</td>\n",
       "      <td>0</td>\n",
       "      <td>1</td>\n",
       "      <td>0</td>\n",
       "      <td>182</td>\n",
       "      <td>35</td>\n",
       "      <td>1</td>\n",
       "      <td>0</td>\n",
       "      <td>4.228571</td>\n",
       "      <td>35.000000</td>\n",
       "    </tr>\n",
       "  </tbody>\n",
       "</table>\n",
       "<p>15294 rows × 13 columns</p>\n",
       "</div>"
      ],
      "text/plain": [
       "                                             comment_text  toxic  \\\n",
       "6            COCKSUCKER BEFORE YOU PISS AROUND ON MY WORK      1   \n",
       "12      Hey... what is it..\\n@ | talk .\\nWhat is it......      1   \n",
       "16      Bye! \\n\\nDon't look, come or think of comming ...      1   \n",
       "42      You are gay or antisemmitian? \\n\\nArchangel WH...      1   \n",
       "43               FUCK YOUR FILTHY MOTHER IN THE ASS, DRY!      1   \n",
       "...                                                   ...    ...   \n",
       "159494  \"\\n\\n our previous conversation \\n\\nyou fuckin...      1   \n",
       "159514                  YOU ARE A MISCHIEVIOUS PUBIC HAIR      1   \n",
       "159541  Your absurd edits \\n\\nYour absurd edits on gre...      1   \n",
       "159546  \"\\n\\nHey listen don't you ever!!!! Delete my e...      1   \n",
       "159554  and i'm going to keep posting the stuff u dele...      1   \n",
       "\n",
       "        severe_toxic  obscene  threat  insult  identity_hate  char_count  \\\n",
       "6                  1        1       0       1              0          44   \n",
       "12                 0        0       0       0              0         319   \n",
       "16                 0        0       0       0              0          57   \n",
       "42                 0        1       0       1              1         648   \n",
       "43                 0        1       0       1              0          40   \n",
       "...              ...      ...     ...     ...            ...         ...   \n",
       "159494             0        1       0       1              1        1677   \n",
       "159514             0        0       0       1              0          33   \n",
       "159541             0        1       0       1              0         346   \n",
       "159546             0        0       0       1              0         534   \n",
       "159554             0        1       0       1              0         182   \n",
       "\n",
       "        word_count  sent_count  hashtag_count  avg_word_len  avg_sent_len  \n",
       "6                8           1              0      4.625000      8.000000  \n",
       "12              53           3              0      5.018868     17.666667  \n",
       "16              10           3              0      4.600000      3.333333  \n",
       "42             117           8              0      4.478632     14.625000  \n",
       "43               8           1              0      4.125000      8.000000  \n",
       "...            ...         ...            ...           ...           ...  \n",
       "159494         319          23              0      4.241379     13.869565  \n",
       "159514           6           1              0      4.666667      6.000000  \n",
       "159541          58           5              0      4.948276     11.600000  \n",
       "159546         103           6              0      4.184466     17.166667  \n",
       "159554          35           1              0      4.228571     35.000000  \n",
       "\n",
       "[15294 rows x 13 columns]"
      ]
     },
     "execution_count": 10,
     "metadata": {},
     "output_type": "execute_result"
    }
   ],
   "source": [
    "df[df['toxic']==1]"
   ]
  },
  {
   "cell_type": "code",
   "execution_count": 11,
   "id": "abc438ed",
   "metadata": {
    "execution": {
     "iopub.execute_input": "2022-11-17T15:16:57.497216Z",
     "iopub.status.busy": "2022-11-17T15:16:57.496519Z",
     "iopub.status.idle": "2022-11-17T15:16:57.502836Z",
     "shell.execute_reply": "2022-11-17T15:16:57.501977Z"
    },
    "papermill": {
     "duration": 0.03729,
     "end_time": "2022-11-17T15:16:57.505478",
     "exception": false,
     "start_time": "2022-11-17T15:16:57.468188",
     "status": "completed"
    },
    "tags": []
   },
   "outputs": [
    {
     "data": {
      "text/plain": [
       "\"Explanation\\nWhy the edits made under my username Hardcore Metallica Fan were reverted? They weren't vandalisms, just closure on some GAs after I voted at New York Dolls FAC. And please don't remove the template from the talk page since I'm retired now.89.205.38.27\""
      ]
     },
     "execution_count": 11,
     "metadata": {},
     "output_type": "execute_result"
    }
   ],
   "source": [
    "df['comment_text'][0]"
   ]
  },
  {
   "cell_type": "code",
   "execution_count": 12,
   "id": "7cfb5c68",
   "metadata": {
    "execution": {
     "iopub.execute_input": "2022-11-17T15:16:57.563753Z",
     "iopub.status.busy": "2022-11-17T15:16:57.563154Z",
     "iopub.status.idle": "2022-11-17T15:16:57.798174Z",
     "shell.execute_reply": "2022-11-17T15:16:57.796890Z"
    },
    "papermill": {
     "duration": 0.265617,
     "end_time": "2022-11-17T15:16:57.800706",
     "exception": false,
     "start_time": "2022-11-17T15:16:57.535089",
     "status": "completed"
    },
    "tags": []
   },
   "outputs": [
    {
     "data": {
      "image/png": "[encoded data removed]",
      "text/plain": [
       "<Figure size 432x288 with 1 Axes>"
      ]
     },
     "metadata": {
      "needs_background": "light"
     },
     "output_type": "display_data"
    }
   ],
   "source": [
    "import matplotlib.pyplot as plt\n",
    "df['word_count'].hist()\n",
    "plt.show()\n",
    "# Havent included others as there was no finding associated with the same"
   ]
  },
  {
   "cell_type": "markdown",
   "id": "66a10e87",
   "metadata": {
    "papermill": {
     "duration": 0.025749,
     "end_time": "2022-11-17T15:16:57.851798",
     "exception": false,
     "start_time": "2022-11-17T15:16:57.826049",
     "status": "completed"
    },
    "tags": []
   },
   "source": [
    "# Term Frequency Analysis"
   ]
  },
  {
   "cell_type": "code",
   "execution_count": 13,
   "id": "01c00875",
   "metadata": {
    "execution": {
     "iopub.execute_input": "2022-11-17T15:16:57.904462Z",
     "iopub.status.busy": "2022-11-17T15:16:57.904114Z",
     "iopub.status.idle": "2022-11-17T15:17:03.849344Z",
     "shell.execute_reply": "2022-11-17T15:17:03.847975Z"
    },
    "papermill": {
     "duration": 5.974593,
     "end_time": "2022-11-17T15:17:03.851776",
     "exception": false,
     "start_time": "2022-11-17T15:16:57.877183",
     "status": "completed"
    },
    "tags": []
   },
   "outputs": [],
   "source": [
    "import re\n",
    "import string\n",
    "\n",
    "def clean_text(text):\n",
    "    # Convert text to lowercase\n",
    "    text = text.lower()    \n",
    "    # Remove punctuation\n",
    "    text = re.sub(\"[%s]\" % re.escape(string.punctuation), \"\", text)   \n",
    "     # Remove non-Roman characters\n",
    "    text = re.sub(\"([^\\x00-\\x7F])+\", \" \", text)\n",
    "    # Strip any numericals if present in words\n",
    "    text =  re.sub(r'\\d', '', text).strip()\n",
    "    # strip any \\n present between words\n",
    "    text = re.sub(r'\\n',' ',text).strip()\n",
    "    #remove stop words \n",
    "    \n",
    "    return text\n",
    "df[\"comment_clean\"] = df[\"comment_text\"].map(lambda x: clean_text(x))"
   ]
  },
  {
   "cell_type": "code",
   "execution_count": 14,
   "id": "4057e4dd",
   "metadata": {
    "execution": {
     "iopub.execute_input": "2022-11-17T15:17:03.904586Z",
     "iopub.status.busy": "2022-11-17T15:17:03.904240Z",
     "iopub.status.idle": "2022-11-17T15:17:03.911476Z",
     "shell.execute_reply": "2022-11-17T15:17:03.910254Z"
    },
    "papermill": {
     "duration": 0.035845,
     "end_time": "2022-11-17T15:17:03.913767",
     "exception": false,
     "start_time": "2022-11-17T15:17:03.877922",
     "status": "completed"
    },
    "tags": []
   },
   "outputs": [
    {
     "data": {
      "text/plain": [
       "\"Explanation\\nWhy the edits made under my username Hardcore Metallica Fan were reverted? They weren't vandalisms, just closure on some GAs after I voted at New York Dolls FAC. And please don't remove the template from the talk page since I'm retired now.89.205.38.27\""
      ]
     },
     "execution_count": 14,
     "metadata": {},
     "output_type": "execute_result"
    }
   ],
   "source": [
    "df[\"comment_text\"][0]"
   ]
  },
  {
   "cell_type": "code",
   "execution_count": 15,
   "id": "9bd2c041",
   "metadata": {
    "execution": {
     "iopub.execute_input": "2022-11-17T15:17:03.966653Z",
     "iopub.status.busy": "2022-11-17T15:17:03.965429Z",
     "iopub.status.idle": "2022-11-17T15:17:03.972539Z",
     "shell.execute_reply": "2022-11-17T15:17:03.971240Z"
    },
    "papermill": {
     "duration": 0.035864,
     "end_time": "2022-11-17T15:17:03.974859",
     "exception": false,
     "start_time": "2022-11-17T15:17:03.938995",
     "status": "completed"
    },
    "tags": []
   },
   "outputs": [
    {
     "data": {
      "text/plain": [
       "'explanation why the edits made under my username hardcore metallica fan were reverted they werent vandalisms just closure on some gas after i voted at new york dolls fac and please dont remove the template from the talk page since im retired now'"
      ]
     },
     "execution_count": 15,
     "metadata": {},
     "output_type": "execute_result"
    }
   ],
   "source": [
    "df[\"comment_clean\"][0]"
   ]
  },
  {
   "cell_type": "markdown",
   "id": "55922a60",
   "metadata": {
    "papermill": {
     "duration": 0.025184,
     "end_time": "2022-11-17T15:17:04.025488",
     "exception": false,
     "start_time": "2022-11-17T15:17:04.000304",
     "status": "completed"
    },
    "tags": []
   },
   "source": [
    "<center>\n",
    "<div style = \"background-color: rgba(152, 170, 236, 0.8); border-style: double;\">\n",
    "<strong style = \"font-size: 25px; color:rgba(86, 106, 181, 1);\"><center>3. N-grams (combination of 1-,2-,3-grams)</center></strong>\n",
    "</div>\n",
    "</center>"
   ]
  },
  {
   "cell_type": "markdown",
   "id": "363b24b1",
   "metadata": {
    "papermill": {
     "duration": 0.025796,
     "end_time": "2022-11-17T15:17:04.076623",
     "exception": false,
     "start_time": "2022-11-17T15:17:04.050827",
     "status": "completed"
    },
    "tags": []
   },
   "source": [
    "# Analyising Data on the Basis of N-Grams\n"
   ]
  },
  {
   "cell_type": "code",
   "execution_count": 16,
   "id": "5b7fb54e",
   "metadata": {
    "execution": {
     "iopub.execute_input": "2022-11-17T15:17:04.129426Z",
     "iopub.status.busy": "2022-11-17T15:17:04.128869Z",
     "iopub.status.idle": "2022-11-17T15:17:06.721933Z",
     "shell.execute_reply": "2022-11-17T15:17:06.720877Z"
    },
    "papermill": {
     "duration": 2.622156,
     "end_time": "2022-11-17T15:17:06.724266",
     "exception": false,
     "start_time": "2022-11-17T15:17:04.102110",
     "status": "completed"
    },
    "tags": []
   },
   "outputs": [],
   "source": [
    "# Made a corpus of vocabulary\n",
    "from nltk.corpus import stopwords\n",
    "stop = set(stopwords.words(\"english\"))\n",
    "corpus = [word for i in df[\"comment_clean\"].str.split().values.tolist() for word in i if (word not in stop)]"
   ]
  },
  {
   "cell_type": "code",
   "execution_count": 17,
   "id": "0d89b50e",
   "metadata": {
    "execution": {
     "iopub.execute_input": "2022-11-17T15:17:06.777904Z",
     "iopub.status.busy": "2022-11-17T15:17:06.777528Z",
     "iopub.status.idle": "2022-11-17T15:17:06.783971Z",
     "shell.execute_reply": "2022-11-17T15:17:06.783064Z"
    },
    "papermill": {
     "duration": 0.035217,
     "end_time": "2022-11-17T15:17:06.785828",
     "exception": false,
     "start_time": "2022-11-17T15:17:06.750611",
     "status": "completed"
    },
    "tags": []
   },
   "outputs": [
    {
     "data": {
      "text/plain": [
       "['explanation',\n",
       " 'edits',\n",
       " 'made',\n",
       " 'username',\n",
       " 'hardcore',\n",
       " 'metallica',\n",
       " 'fan',\n",
       " 'reverted',\n",
       " 'werent',\n",
       " 'vandalisms',\n",
       " 'closure',\n",
       " 'gas',\n",
       " 'voted',\n",
       " 'new',\n",
       " 'york',\n",
       " 'dolls',\n",
       " 'fac',\n",
       " 'please',\n",
       " 'dont',\n",
       " 'remove']"
      ]
     },
     "execution_count": 17,
     "metadata": {},
     "output_type": "execute_result"
    }
   ],
   "source": [
    "corpus[0:20]"
   ]
  },
  {
   "cell_type": "code",
   "execution_count": 18,
   "id": "06294e09",
   "metadata": {
    "execution": {
     "iopub.execute_input": "2022-11-17T15:17:06.839949Z",
     "iopub.status.busy": "2022-11-17T15:17:06.838614Z",
     "iopub.status.idle": "2022-11-17T15:17:10.633245Z",
     "shell.execute_reply": "2022-11-17T15:17:10.632012Z"
    },
    "papermill": {
     "duration": 3.823126,
     "end_time": "2022-11-17T15:17:10.635573",
     "exception": false,
     "start_time": "2022-11-17T15:17:06.812447",
     "status": "completed"
    },
    "tags": []
   },
   "outputs": [
    {
     "data": {
      "text/plain": [
       "[('article', 55460),\n",
       " ('page', 45678),\n",
       " ('wikipedia', 35679),\n",
       " ('talk', 31652),\n",
       " ('please', 29619),\n",
       " ('would', 29213),\n",
       " ('one', 28104),\n",
       " ('like', 27710),\n",
       " ('dont', 25742),\n",
       " ('see', 21497),\n",
       " ('also', 20553),\n",
       " ('think', 20042),\n",
       " ('im', 19277),\n",
       " ('know', 18996),\n",
       " ('people', 17717),\n",
       " ('edit', 17598),\n",
       " ('articles', 17525),\n",
       " ('use', 16327),\n",
       " ('may', 15568),\n",
       " ('time', 15435)]"
      ]
     },
     "execution_count": 18,
     "metadata": {},
     "output_type": "execute_result"
    }
   ],
   "source": [
    "# Obtain 20 most frequent words and plot them\n",
    "from nltk.probability import FreqDist\n",
    "most_common = FreqDist(corpus).most_common(20)\n",
    "most_common"
   ]
  },
  {
   "cell_type": "code",
   "execution_count": 19,
   "id": "e52d6a9e",
   "metadata": {
    "execution": {
     "iopub.execute_input": "2022-11-17T15:17:10.690063Z",
     "iopub.status.busy": "2022-11-17T15:17:10.689642Z",
     "iopub.status.idle": "2022-11-17T15:17:11.077721Z",
     "shell.execute_reply": "2022-11-17T15:17:11.076876Z"
    },
    "papermill": {
     "duration": 0.417816,
     "end_time": "2022-11-17T15:17:11.080187",
     "exception": false,
     "start_time": "2022-11-17T15:17:10.662371",
     "status": "completed"
    },
    "tags": []
   },
   "outputs": [
    {
     "data": {
      "text/plain": [
       "<AxesSubplot:>"
      ]
     },
     "execution_count": 19,
     "metadata": {},
     "output_type": "execute_result"
    },
    {
     "data": {
      "image/png": "[encoded data removed]",
      "text/plain": [
       "<Figure size 432x288 with 1 Axes>"
      ]
     },
     "metadata": {
      "needs_background": "light"
     },
     "output_type": "display_data"
    }
   ],
   "source": [
    "words, frequency = [], []\n",
    "for word, count in most_common:\n",
    "    words.append(word)\n",
    "    frequency.append(count)\n",
    "    \n",
    "sns.barplot(x = frequency, y = words)"
   ]
  },
  {
   "cell_type": "code",
   "execution_count": 20,
   "id": "08e23a74",
   "metadata": {
    "execution": {
     "iopub.execute_input": "2022-11-17T15:17:11.132369Z",
     "iopub.status.busy": "2022-11-17T15:17:11.131989Z",
     "iopub.status.idle": "2022-11-17T15:17:11.138810Z",
     "shell.execute_reply": "2022-11-17T15:17:11.137891Z"
    },
    "papermill": {
     "duration": 0.034777,
     "end_time": "2022-11-17T15:17:11.140468",
     "exception": false,
     "start_time": "2022-11-17T15:17:11.105691",
     "status": "completed"
    },
    "tags": []
   },
   "outputs": [],
   "source": [
    "# Obtain 2-gram words\n",
    "from nltk.util import ngrams\n",
    "from sklearn.feature_extraction.text import CountVectorizer\n",
    "\n",
    "list(ngrams(['I' ,'went','to','the','river','bank'],2))\n",
    "def get_top_ngram(corpus, n=None):\n",
    "    vec = CountVectorizer(ngram_range=(n, n)).fit(corpus)\n",
    "    bag_of_words = vec.transform(corpus)\n",
    "    sum_words = bag_of_words.sum(axis=0) \n",
    "    words_freq = [(word, sum_words[0, idx]) \n",
    "                  for word, idx in vec.vocabulary_.items()]\n",
    "    words_freq =sorted(words_freq, key = lambda x: x[1], reverse=True)\n",
    "    return words_freq[:10]"
   ]
  },
  {
   "cell_type": "code",
   "execution_count": 21,
   "id": "27bebb5f",
   "metadata": {
    "execution": {
     "iopub.execute_input": "2022-11-17T15:17:11.192953Z",
     "iopub.status.busy": "2022-11-17T15:17:11.192512Z",
     "iopub.status.idle": "2022-11-17T15:17:51.812862Z",
     "shell.execute_reply": "2022-11-17T15:17:51.812012Z"
    },
    "papermill": {
     "duration": 40.67401,
     "end_time": "2022-11-17T15:17:51.839822",
     "exception": false,
     "start_time": "2022-11-17T15:17:11.165812",
     "status": "completed"
    },
    "tags": []
   },
   "outputs": [
    {
     "data": {
      "text/plain": [
       "[('of the', 50233),\n",
       " ('in the', 38312),\n",
       " ('to the', 26675),\n",
       " ('if you', 26409),\n",
       " ('on the', 23210),\n",
       " ('the article', 22585),\n",
       " ('it is', 21778),\n",
       " ('to be', 21358),\n",
       " ('you are', 17191),\n",
       " ('is not', 14782)]"
      ]
     },
     "execution_count": 21,
     "metadata": {},
     "output_type": "execute_result"
    }
   ],
   "source": [
    "\n",
    "top_n_bigrams=get_top_ngram(df['comment_clean'],2)[:20]\n",
    "top_n_bigrams"
   ]
  },
  {
   "cell_type": "code",
   "execution_count": 22,
   "id": "ecf4c07e",
   "metadata": {
    "execution": {
     "iopub.execute_input": "2022-11-17T15:17:51.892540Z",
     "iopub.status.busy": "2022-11-17T15:17:51.892160Z",
     "iopub.status.idle": "2022-11-17T15:17:52.051837Z",
     "shell.execute_reply": "2022-11-17T15:17:52.050902Z"
    },
    "papermill": {
     "duration": 0.188869,
     "end_time": "2022-11-17T15:17:52.053907",
     "exception": false,
     "start_time": "2022-11-17T15:17:51.865038",
     "status": "completed"
    },
    "tags": []
   },
   "outputs": [
    {
     "data": {
      "text/plain": [
       "<AxesSubplot:>"
      ]
     },
     "execution_count": 22,
     "metadata": {},
     "output_type": "execute_result"
    },
    {
     "data": {
      "image/png": "[encoded data removed]",
      "text/plain": [
       "<Figure size 432x288 with 1 Axes>"
      ]
     },
     "metadata": {
      "needs_background": "light"
     },
     "output_type": "display_data"
    }
   ],
   "source": [
    "x,y=map(list,zip(*top_n_bigrams)) \n",
    "sns.barplot(x=y,y=x) "
   ]
  },
  {
   "cell_type": "code",
   "execution_count": 23,
   "id": "df229ae1",
   "metadata": {
    "execution": {
     "iopub.execute_input": "2022-11-17T15:17:52.108299Z",
     "iopub.status.busy": "2022-11-17T15:17:52.107956Z",
     "iopub.status.idle": "2022-11-17T15:17:52.114943Z",
     "shell.execute_reply": "2022-11-17T15:17:52.113953Z"
    },
    "papermill": {
     "duration": 0.038149,
     "end_time": "2022-11-17T15:17:52.118273",
     "exception": false,
     "start_time": "2022-11-17T15:17:52.080124",
     "status": "completed"
    },
    "tags": []
   },
   "outputs": [],
   "source": [
    "# Obtain 3-gram words\n",
    "from nltk.util import ngrams\n",
    "from sklearn.feature_extraction.text import CountVectorizer\n",
    "\n",
    "list(ngrams(['I' ,'went','to','the','river','bank'],3))\n",
    "def get_top_ngram(corpus, n=None):\n",
    "    vec = CountVectorizer(ngram_range=(n, n)).fit(corpus)\n",
    "    bag_of_words = vec.transform(corpus)\n",
    "    sum_words = bag_of_words.sum(axis=0) \n",
    "    words_freq = [(word, sum_words[0, idx]) \n",
    "                  for word, idx in vec.vocabulary_.items()]\n",
    "    words_freq =sorted(words_freq, key = lambda x: x[1], reverse=True)\n",
    "    return words_freq[:10]"
   ]
  },
  {
   "cell_type": "code",
   "execution_count": 24,
   "id": "50ce0d8e",
   "metadata": {
    "execution": {
     "iopub.execute_input": "2022-11-17T15:17:52.172615Z",
     "iopub.status.busy": "2022-11-17T15:17:52.172232Z",
     "iopub.status.idle": "2022-11-17T15:18:56.186910Z",
     "shell.execute_reply": "2022-11-17T15:18:56.185725Z"
    },
    "papermill": {
     "duration": 64.071894,
     "end_time": "2022-11-17T15:18:56.216599",
     "exception": false,
     "start_time": "2022-11-17T15:17:52.144705",
     "status": "completed"
    },
    "tags": []
   },
   "outputs": [
    {
     "data": {
      "text/plain": [
       "[('thank you for', 4018),\n",
       " ('if you have', 3552),\n",
       " ('my talk page', 3496),\n",
       " ('please do not', 3340),\n",
       " ('in the article', 3144),\n",
       " ('there is no', 3045),\n",
       " ('would like to', 2936),\n",
       " ('one of the', 2917),\n",
       " ('of the article', 2848),\n",
       " ('the talk page', 2551)]"
      ]
     },
     "execution_count": 24,
     "metadata": {},
     "output_type": "execute_result"
    }
   ],
   "source": [
    "top_n_trigrams=get_top_ngram(df['comment_clean'],3)[:20]\n",
    "top_n_trigrams"
   ]
  },
  {
   "cell_type": "code",
   "execution_count": 25,
   "id": "128fae25",
   "metadata": {
    "execution": {
     "iopub.execute_input": "2022-11-17T15:18:56.273497Z",
     "iopub.status.busy": "2022-11-17T15:18:56.273087Z",
     "iopub.status.idle": "2022-11-17T15:18:56.459702Z",
     "shell.execute_reply": "2022-11-17T15:18:56.458621Z"
    },
    "papermill": {
     "duration": 0.21813,
     "end_time": "2022-11-17T15:18:56.461890",
     "exception": false,
     "start_time": "2022-11-17T15:18:56.243760",
     "status": "completed"
    },
    "tags": []
   },
   "outputs": [
    {
     "data": {
      "text/plain": [
       "<AxesSubplot:>"
      ]
     },
     "execution_count": 25,
     "metadata": {},
     "output_type": "execute_result"
    },
    {
     "data": {
      "image/png": "[encoded data removed]",
      "text/plain": [
       "<Figure size 432x288 with 1 Axes>"
      ]
     },
     "metadata": {
      "needs_background": "light"
     },
     "output_type": "display_data"
    }
   ],
   "source": [
    "x,y=map(list,zip(*top_n_trigrams)) \n",
    "sns.barplot(x=y,y=x) "
   ]
  },
  {
   "cell_type": "markdown",
   "id": "3a880a96",
   "metadata": {
    "papermill": {
     "duration": 0.028134,
     "end_time": "2022-11-17T15:18:56.519534",
     "exception": false,
     "start_time": "2022-11-17T15:18:56.491400",
     "status": "completed"
    },
    "tags": []
   },
   "source": [
    "<center>\n",
    "<div style = \"background-color: rgba(152, 170, 236, 0.8); border-style: double;\">\n",
    "<strong style = \"font-size: 25px; color:rgba(86, 106, 181, 1);\"><center>4. Training N-Gram Models</center></strong>\n",
    "</div>\n",
    "</center>"
   ]
  },
  {
   "attachments": {
    "6a6b4b2f-8d0f-4443-903a-5d17326f0efc.png": {
     "image/png": "[encoded data removed]"
    },
    "95419264-bbe2-4759-a7d1-8b66cb0f83e9.png": {
     "image/png": "[encoded data removed]"
    }
   },
   "cell_type": "markdown",
   "id": "3d554e06",
   "metadata": {
    "papermill": {
     "duration": 0.028036,
     "end_time": "2022-11-17T15:18:56.576020",
     "exception": false,
     "start_time": "2022-11-17T15:18:56.547984",
     "status": "completed"
    },
    "tags": []
   },
   "source": [
    "# Training N-Gram Models Using Binary Relevance & Gaussian NB\n",
    "\n",
    "Now that we have seen the top 1,2 and 3 gram must recurring vocabulary, we can understand how relevant each gram is. To, further see the impact, let's train models on 1,2,3 gram and compare them using metric results.\n",
    "\n",
    "WHAT IS BINARY RELEVANCE??\n",
    "For a multi-label problem in hand, we can choose to solve it by breaking it down into multiple sub-problems of binary classifications corresponding to each singular class in the dataset.\n",
    "\\\n",
    "\\\n",
    "For example, if we have a dataset with input X, and multiple labels Y1,Y2, Y3,Y4 that it can take up:\n",
    "\n",
    "![image.png](attachment:95419264-bbe2-4759-a7d1-8b66cb0f83e9.png)\n",
    "\\\n",
    "\\\n",
    "We may choose to solve the problem by breaking it up like:\n",
    "\n",
    "![image.png](attachment:6a6b4b2f-8d0f-4443-903a-5d17326f0efc.png)"
   ]
  },
  {
   "cell_type": "code",
   "execution_count": 26,
   "id": "50130111",
   "metadata": {
    "execution": {
     "iopub.execute_input": "2022-11-17T15:18:56.634597Z",
     "iopub.status.busy": "2022-11-17T15:18:56.633827Z",
     "iopub.status.idle": "2022-11-17T15:18:56.638162Z",
     "shell.execute_reply": "2022-11-17T15:18:56.637521Z"
    },
    "papermill": {
     "duration": 0.035591,
     "end_time": "2022-11-17T15:18:56.639981",
     "exception": false,
     "start_time": "2022-11-17T15:18:56.604390",
     "status": "completed"
    },
    "tags": []
   },
   "outputs": [],
   "source": [
    "# Let's just train the first 2000 datapoints as of now\n",
    "df = df[:2000]"
   ]
  },
  {
   "cell_type": "code",
   "execution_count": 27,
   "id": "400c7deb",
   "metadata": {
    "execution": {
     "iopub.execute_input": "2022-11-17T15:18:56.698286Z",
     "iopub.status.busy": "2022-11-17T15:18:56.697968Z",
     "iopub.status.idle": "2022-11-17T15:18:56.705478Z",
     "shell.execute_reply": "2022-11-17T15:18:56.704263Z"
    },
    "papermill": {
     "duration": 0.040038,
     "end_time": "2022-11-17T15:18:56.707889",
     "exception": false,
     "start_time": "2022-11-17T15:18:56.667851",
     "status": "completed"
    },
    "tags": []
   },
   "outputs": [],
   "source": [
    "x = df['comment_clean']\n",
    "y = df[['toxic', 'severe_toxic', 'obscene', 'threat', 'insult', 'identity_hate']]"
   ]
  },
  {
   "cell_type": "code",
   "execution_count": 28,
   "id": "2281cfaa",
   "metadata": {
    "execution": {
     "iopub.execute_input": "2022-11-17T15:18:56.765971Z",
     "iopub.status.busy": "2022-11-17T15:18:56.764868Z",
     "iopub.status.idle": "2022-11-17T15:18:56.771345Z",
     "shell.execute_reply": "2022-11-17T15:18:56.770743Z"
    },
    "papermill": {
     "duration": 0.037928,
     "end_time": "2022-11-17T15:18:56.773232",
     "exception": false,
     "start_time": "2022-11-17T15:18:56.735304",
     "status": "completed"
    },
    "tags": []
   },
   "outputs": [],
   "source": [
    "from sklearn.model_selection import train_test_split\n",
    "X_train, X_test, y_train, y_test = train_test_split(x, y, random_state=42,test_size=0.05)"
   ]
  },
  {
   "cell_type": "code",
   "execution_count": 29,
   "id": "0c0b3cc7",
   "metadata": {
    "execution": {
     "iopub.execute_input": "2022-11-17T15:18:56.829892Z",
     "iopub.status.busy": "2022-11-17T15:18:56.829394Z",
     "iopub.status.idle": "2022-11-17T15:18:56.835244Z",
     "shell.execute_reply": "2022-11-17T15:18:56.833860Z"
    },
    "papermill": {
     "duration": 0.036557,
     "end_time": "2022-11-17T15:18:56.837201",
     "exception": false,
     "start_time": "2022-11-17T15:18:56.800644",
     "status": "completed"
    },
    "tags": []
   },
   "outputs": [
    {
     "name": "stdout",
     "output_type": "stream",
     "text": [
      "1900\n"
     ]
    }
   ],
   "source": [
    "print(len(X_train))"
   ]
  },
  {
   "cell_type": "code",
   "execution_count": 30,
   "id": "1537ee2f",
   "metadata": {
    "execution": {
     "iopub.execute_input": "2022-11-17T15:18:56.895417Z",
     "iopub.status.busy": "2022-11-17T15:18:56.895033Z",
     "iopub.status.idle": "2022-11-17T15:18:57.340282Z",
     "shell.execute_reply": "2022-11-17T15:18:57.339284Z"
    },
    "papermill": {
     "duration": 0.476814,
     "end_time": "2022-11-17T15:18:57.342945",
     "exception": false,
     "start_time": "2022-11-17T15:18:56.866131",
     "status": "completed"
    },
    "tags": []
   },
   "outputs": [],
   "source": [
    "from sklearn.feature_extraction.text import CountVectorizer\n",
    "from sklearn.metrics import hamming_loss, accuracy_score, precision_score, recall_score, f1_score, jaccard_score\n",
    "count_vectorizer = CountVectorizer(ngram_range = (1, 2), max_features = 20000)\n",
    "X_train = count_vectorizer.fit_transform(X_train)\n",
    "X_test = count_vectorizer.transform(X_test)"
   ]
  },
  {
   "cell_type": "code",
   "execution_count": 31,
   "id": "9a1c4d45",
   "metadata": {
    "execution": {
     "iopub.execute_input": "2022-11-17T15:18:57.403026Z",
     "iopub.status.busy": "2022-11-17T15:18:57.402239Z",
     "iopub.status.idle": "2022-11-17T15:18:57.409391Z",
     "shell.execute_reply": "2022-11-17T15:18:57.408537Z"
    },
    "papermill": {
     "duration": 0.038465,
     "end_time": "2022-11-17T15:18:57.411175",
     "exception": false,
     "start_time": "2022-11-17T15:18:57.372710",
     "status": "completed"
    },
    "tags": []
   },
   "outputs": [
    {
     "data": {
      "text/plain": [
       "20000"
      ]
     },
     "execution_count": 31,
     "metadata": {},
     "output_type": "execute_result"
    }
   ],
   "source": [
    "len(count_vectorizer.vocabulary_)"
   ]
  },
  {
   "cell_type": "code",
   "execution_count": 32,
   "id": "c5d4ebd4",
   "metadata": {
    "execution": {
     "iopub.execute_input": "2022-11-17T15:18:57.468429Z",
     "iopub.status.busy": "2022-11-17T15:18:57.468058Z",
     "iopub.status.idle": "2022-11-17T15:18:57.477078Z",
     "shell.execute_reply": "2022-11-17T15:18:57.475610Z"
    },
    "papermill": {
     "duration": 0.041108,
     "end_time": "2022-11-17T15:18:57.478962",
     "exception": false,
     "start_time": "2022-11-17T15:18:57.437854",
     "status": "completed"
    },
    "tags": []
   },
   "outputs": [
    {
     "name": "stdout",
     "output_type": "stream",
     "text": [
      "  (0, 9946)\t1\n",
      "  (0, 12285)\t1\n",
      "  (0, 15826)\t1\n",
      "  (0, 5548)\t1\n",
      "  (0, 8645)\t1\n",
      "  (0, 9192)\t1\n",
      "  (0, 8394)\t1\n",
      "  (0, 15659)\t1\n",
      "  (0, 9980)\t1\n",
      "  (0, 15830)\t1\n",
      "  (0, 5605)\t1\n",
      "  (0, 8646)\t1\n",
      "  (0, 9226)\t1\n"
     ]
    }
   ],
   "source": [
    "print(X_train[0])"
   ]
  },
  {
   "cell_type": "code",
   "execution_count": 33,
   "id": "d5ead84c",
   "metadata": {
    "execution": {
     "iopub.execute_input": "2022-11-17T15:18:57.535879Z",
     "iopub.status.busy": "2022-11-17T15:18:57.535501Z",
     "iopub.status.idle": "2022-11-17T15:18:57.622919Z",
     "shell.execute_reply": "2022-11-17T15:18:57.621327Z"
    },
    "papermill": {
     "duration": 0.119626,
     "end_time": "2022-11-17T15:18:57.626171",
     "exception": false,
     "start_time": "2022-11-17T15:18:57.506545",
     "status": "completed"
    },
    "tags": []
   },
   "outputs": [
    {
     "name": "stderr",
     "output_type": "stream",
     "text": [
      "/opt/conda/lib/python3.7/site-packages/sklearn/utils/deprecation.py:87: FutureWarning: Function get_feature_names is deprecated; get_feature_names is deprecated in 1.0 and will be removed in 1.2. Please use get_feature_names_out instead.\n",
      "  warnings.warn(msg, category=FutureWarning)\n"
     ]
    },
    {
     "data": {
      "text/html": [
       "<div>\n",
       "<style scoped>\n",
       "    .dataframe tbody tr th:only-of-type {\n",
       "        vertical-align: middle;\n",
       "    }\n",
       "\n",
       "    .dataframe tbody tr th {\n",
       "        vertical-align: top;\n",
       "    }\n",
       "\n",
       "    .dataframe thead th {\n",
       "        text-align: right;\n",
       "    }\n",
       "</style>\n",
       "<table border=\"1\" class=\"dataframe\">\n",
       "  <thead>\n",
       "    <tr style=\"text-align: right;\">\n",
       "      <th></th>\n",
       "      <th>aa</th>\n",
       "      <th>aaron</th>\n",
       "      <th>aaron swartz</th>\n",
       "      <th>ab</th>\n",
       "      <th>abc</th>\n",
       "      <th>abide</th>\n",
       "      <th>abide by</th>\n",
       "      <th>abilities</th>\n",
       "      <th>ability</th>\n",
       "      <th>ability to</th>\n",
       "      <th>...</th>\n",
       "      <th>yugoslav</th>\n",
       "      <th>yugoslavia</th>\n",
       "      <th>yup</th>\n",
       "      <th>yya</th>\n",
       "      <th>zadar</th>\n",
       "      <th>zagreb</th>\n",
       "      <th>zealand</th>\n",
       "      <th>zero</th>\n",
       "      <th>zion</th>\n",
       "      <th>zionist</th>\n",
       "    </tr>\n",
       "  </thead>\n",
       "  <tbody>\n",
       "    <tr>\n",
       "      <th>0</th>\n",
       "      <td>0</td>\n",
       "      <td>0</td>\n",
       "      <td>0</td>\n",
       "      <td>0</td>\n",
       "      <td>0</td>\n",
       "      <td>0</td>\n",
       "      <td>0</td>\n",
       "      <td>0</td>\n",
       "      <td>0</td>\n",
       "      <td>0</td>\n",
       "      <td>...</td>\n",
       "      <td>0</td>\n",
       "      <td>0</td>\n",
       "      <td>0</td>\n",
       "      <td>0</td>\n",
       "      <td>0</td>\n",
       "      <td>0</td>\n",
       "      <td>0</td>\n",
       "      <td>0</td>\n",
       "      <td>0</td>\n",
       "      <td>0</td>\n",
       "    </tr>\n",
       "    <tr>\n",
       "      <th>1</th>\n",
       "      <td>0</td>\n",
       "      <td>0</td>\n",
       "      <td>0</td>\n",
       "      <td>0</td>\n",
       "      <td>0</td>\n",
       "      <td>0</td>\n",
       "      <td>0</td>\n",
       "      <td>0</td>\n",
       "      <td>0</td>\n",
       "      <td>0</td>\n",
       "      <td>...</td>\n",
       "      <td>0</td>\n",
       "      <td>0</td>\n",
       "      <td>0</td>\n",
       "      <td>0</td>\n",
       "      <td>0</td>\n",
       "      <td>0</td>\n",
       "      <td>0</td>\n",
       "      <td>0</td>\n",
       "      <td>0</td>\n",
       "      <td>0</td>\n",
       "    </tr>\n",
       "    <tr>\n",
       "      <th>2</th>\n",
       "      <td>0</td>\n",
       "      <td>0</td>\n",
       "      <td>0</td>\n",
       "      <td>0</td>\n",
       "      <td>0</td>\n",
       "      <td>0</td>\n",
       "      <td>0</td>\n",
       "      <td>0</td>\n",
       "      <td>0</td>\n",
       "      <td>0</td>\n",
       "      <td>...</td>\n",
       "      <td>0</td>\n",
       "      <td>0</td>\n",
       "      <td>0</td>\n",
       "      <td>0</td>\n",
       "      <td>0</td>\n",
       "      <td>0</td>\n",
       "      <td>0</td>\n",
       "      <td>0</td>\n",
       "      <td>0</td>\n",
       "      <td>0</td>\n",
       "    </tr>\n",
       "    <tr>\n",
       "      <th>3</th>\n",
       "      <td>0</td>\n",
       "      <td>0</td>\n",
       "      <td>0</td>\n",
       "      <td>0</td>\n",
       "      <td>0</td>\n",
       "      <td>0</td>\n",
       "      <td>0</td>\n",
       "      <td>0</td>\n",
       "      <td>0</td>\n",
       "      <td>0</td>\n",
       "      <td>...</td>\n",
       "      <td>0</td>\n",
       "      <td>0</td>\n",
       "      <td>0</td>\n",
       "      <td>0</td>\n",
       "      <td>0</td>\n",
       "      <td>0</td>\n",
       "      <td>0</td>\n",
       "      <td>0</td>\n",
       "      <td>0</td>\n",
       "      <td>0</td>\n",
       "    </tr>\n",
       "    <tr>\n",
       "      <th>4</th>\n",
       "      <td>0</td>\n",
       "      <td>0</td>\n",
       "      <td>0</td>\n",
       "      <td>0</td>\n",
       "      <td>0</td>\n",
       "      <td>0</td>\n",
       "      <td>0</td>\n",
       "      <td>0</td>\n",
       "      <td>0</td>\n",
       "      <td>0</td>\n",
       "      <td>...</td>\n",
       "      <td>0</td>\n",
       "      <td>0</td>\n",
       "      <td>0</td>\n",
       "      <td>0</td>\n",
       "      <td>0</td>\n",
       "      <td>0</td>\n",
       "      <td>0</td>\n",
       "      <td>0</td>\n",
       "      <td>0</td>\n",
       "      <td>0</td>\n",
       "    </tr>\n",
       "    <tr>\n",
       "      <th>...</th>\n",
       "      <td>...</td>\n",
       "      <td>...</td>\n",
       "      <td>...</td>\n",
       "      <td>...</td>\n",
       "      <td>...</td>\n",
       "      <td>...</td>\n",
       "      <td>...</td>\n",
       "      <td>...</td>\n",
       "      <td>...</td>\n",
       "      <td>...</td>\n",
       "      <td>...</td>\n",
       "      <td>...</td>\n",
       "      <td>...</td>\n",
       "      <td>...</td>\n",
       "      <td>...</td>\n",
       "      <td>...</td>\n",
       "      <td>...</td>\n",
       "      <td>...</td>\n",
       "      <td>...</td>\n",
       "      <td>...</td>\n",
       "      <td>...</td>\n",
       "    </tr>\n",
       "    <tr>\n",
       "      <th>1895</th>\n",
       "      <td>0</td>\n",
       "      <td>0</td>\n",
       "      <td>0</td>\n",
       "      <td>0</td>\n",
       "      <td>0</td>\n",
       "      <td>0</td>\n",
       "      <td>0</td>\n",
       "      <td>0</td>\n",
       "      <td>0</td>\n",
       "      <td>0</td>\n",
       "      <td>...</td>\n",
       "      <td>0</td>\n",
       "      <td>0</td>\n",
       "      <td>0</td>\n",
       "      <td>0</td>\n",
       "      <td>0</td>\n",
       "      <td>0</td>\n",
       "      <td>0</td>\n",
       "      <td>0</td>\n",
       "      <td>0</td>\n",
       "      <td>0</td>\n",
       "    </tr>\n",
       "    <tr>\n",
       "      <th>1896</th>\n",
       "      <td>0</td>\n",
       "      <td>0</td>\n",
       "      <td>0</td>\n",
       "      <td>0</td>\n",
       "      <td>0</td>\n",
       "      <td>0</td>\n",
       "      <td>0</td>\n",
       "      <td>0</td>\n",
       "      <td>0</td>\n",
       "      <td>0</td>\n",
       "      <td>...</td>\n",
       "      <td>0</td>\n",
       "      <td>0</td>\n",
       "      <td>0</td>\n",
       "      <td>0</td>\n",
       "      <td>0</td>\n",
       "      <td>0</td>\n",
       "      <td>0</td>\n",
       "      <td>0</td>\n",
       "      <td>0</td>\n",
       "      <td>0</td>\n",
       "    </tr>\n",
       "    <tr>\n",
       "      <th>1897</th>\n",
       "      <td>0</td>\n",
       "      <td>0</td>\n",
       "      <td>0</td>\n",
       "      <td>0</td>\n",
       "      <td>0</td>\n",
       "      <td>0</td>\n",
       "      <td>0</td>\n",
       "      <td>0</td>\n",
       "      <td>0</td>\n",
       "      <td>0</td>\n",
       "      <td>...</td>\n",
       "      <td>0</td>\n",
       "      <td>0</td>\n",
       "      <td>0</td>\n",
       "      <td>0</td>\n",
       "      <td>0</td>\n",
       "      <td>0</td>\n",
       "      <td>0</td>\n",
       "      <td>0</td>\n",
       "      <td>0</td>\n",
       "      <td>0</td>\n",
       "    </tr>\n",
       "    <tr>\n",
       "      <th>1898</th>\n",
       "      <td>0</td>\n",
       "      <td>0</td>\n",
       "      <td>0</td>\n",
       "      <td>0</td>\n",
       "      <td>0</td>\n",
       "      <td>0</td>\n",
       "      <td>0</td>\n",
       "      <td>0</td>\n",
       "      <td>0</td>\n",
       "      <td>0</td>\n",
       "      <td>...</td>\n",
       "      <td>0</td>\n",
       "      <td>0</td>\n",
       "      <td>0</td>\n",
       "      <td>0</td>\n",
       "      <td>0</td>\n",
       "      <td>0</td>\n",
       "      <td>0</td>\n",
       "      <td>0</td>\n",
       "      <td>0</td>\n",
       "      <td>0</td>\n",
       "    </tr>\n",
       "    <tr>\n",
       "      <th>1899</th>\n",
       "      <td>0</td>\n",
       "      <td>0</td>\n",
       "      <td>0</td>\n",
       "      <td>0</td>\n",
       "      <td>0</td>\n",
       "      <td>0</td>\n",
       "      <td>0</td>\n",
       "      <td>0</td>\n",
       "      <td>0</td>\n",
       "      <td>0</td>\n",
       "      <td>...</td>\n",
       "      <td>0</td>\n",
       "      <td>0</td>\n",
       "      <td>0</td>\n",
       "      <td>0</td>\n",
       "      <td>0</td>\n",
       "      <td>0</td>\n",
       "      <td>0</td>\n",
       "      <td>0</td>\n",
       "      <td>0</td>\n",
       "      <td>0</td>\n",
       "    </tr>\n",
       "  </tbody>\n",
       "</table>\n",
       "<p>1900 rows × 20000 columns</p>\n",
       "</div>"
      ],
      "text/plain": [
       "      aa  aaron  aaron swartz  ab  abc  abide  abide by  abilities  ability  \\\n",
       "0      0      0             0   0    0      0         0          0        0   \n",
       "1      0      0             0   0    0      0         0          0        0   \n",
       "2      0      0             0   0    0      0         0          0        0   \n",
       "3      0      0             0   0    0      0         0          0        0   \n",
       "4      0      0             0   0    0      0         0          0        0   \n",
       "...   ..    ...           ...  ..  ...    ...       ...        ...      ...   \n",
       "1895   0      0             0   0    0      0         0          0        0   \n",
       "1896   0      0             0   0    0      0         0          0        0   \n",
       "1897   0      0             0   0    0      0         0          0        0   \n",
       "1898   0      0             0   0    0      0         0          0        0   \n",
       "1899   0      0             0   0    0      0         0          0        0   \n",
       "\n",
       "      ability to  ...  yugoslav  yugoslavia  yup  yya  zadar  zagreb  zealand  \\\n",
       "0              0  ...         0           0    0    0      0       0        0   \n",
       "1              0  ...         0           0    0    0      0       0        0   \n",
       "2              0  ...         0           0    0    0      0       0        0   \n",
       "3              0  ...         0           0    0    0      0       0        0   \n",
       "4              0  ...         0           0    0    0      0       0        0   \n",
       "...          ...  ...       ...         ...  ...  ...    ...     ...      ...   \n",
       "1895           0  ...         0           0    0    0      0       0        0   \n",
       "1896           0  ...         0           0    0    0      0       0        0   \n",
       "1897           0  ...         0           0    0    0      0       0        0   \n",
       "1898           0  ...         0           0    0    0      0       0        0   \n",
       "1899           0  ...         0           0    0    0      0       0        0   \n",
       "\n",
       "      zero  zion  zionist  \n",
       "0        0     0        0  \n",
       "1        0     0        0  \n",
       "2        0     0        0  \n",
       "3        0     0        0  \n",
       "4        0     0        0  \n",
       "...    ...   ...      ...  \n",
       "1895     0     0        0  \n",
       "1896     0     0        0  \n",
       "1897     0     0        0  \n",
       "1898     0     0        0  \n",
       "1899     0     0        0  \n",
       "\n",
       "[1900 rows x 20000 columns]"
      ]
     },
     "execution_count": 33,
     "metadata": {},
     "output_type": "execute_result"
    }
   ],
   "source": [
    "Doc_Term_Matrix = pd.DataFrame(X_train.toarray(),columns= count_vectorizer.get_feature_names())\n",
    "Doc_Term_Matrix"
   ]
  },
  {
   "cell_type": "markdown",
   "id": "b18a7841",
   "metadata": {
    "papermill": {
     "duration": 0.02794,
     "end_time": "2022-11-17T15:18:57.683343",
     "exception": false,
     "start_time": "2022-11-17T15:18:57.655403",
     "status": "completed"
    },
    "tags": []
   },
   "source": [
    "One Gram"
   ]
  },
  {
   "cell_type": "code",
   "execution_count": 34,
   "id": "e0b4c87e",
   "metadata": {
    "execution": {
     "iopub.execute_input": "2022-11-17T15:18:57.741117Z",
     "iopub.status.busy": "2022-11-17T15:18:57.740494Z",
     "iopub.status.idle": "2022-11-17T15:18:59.724199Z",
     "shell.execute_reply": "2022-11-17T15:18:59.722227Z"
    },
    "papermill": {
     "duration": 2.01579,
     "end_time": "2022-11-17T15:18:59.727051",
     "exception": false,
     "start_time": "2022-11-17T15:18:57.711261",
     "status": "completed"
    },
    "tags": []
   },
   "outputs": [
    {
     "name": "stdout",
     "output_type": "stream",
     "text": [
      "\u001b[42m\u001b[37mAccuracy Score :\u001b[47m\u001b[32m   0.79\n",
      "\u001b[42m\u001b[37mHamming Loss :\u001b[47m\u001b[32m   0.075\n"
     ]
    }
   ],
   "source": [
    "from sklearn.model_selection import train_test_split\n",
    "X_train, X_test, y_train, y_test = train_test_split(x, y, random_state=42,test_size=0.05)\n",
    "\n",
    "from sklearn.feature_extraction.text import CountVectorizer\n",
    "count_vectorizer = CountVectorizer(ngram_range = (1, 1), max_features = 20000)\n",
    "X_train = count_vectorizer.fit_transform(X_train)\n",
    "X_test = count_vectorizer.transform(X_test)\n",
    "\n",
    "from skmultilearn.problem_transform import BinaryRelevance\n",
    "from sklearn.naive_bayes import GaussianNB\n",
    "classifier = BinaryRelevance(GaussianNB())\n",
    "classifier.fit(X_train, y_train)\n",
    "predictions1n = classifier.predict(X_test)\n",
    "print(Back.GREEN+Fore.WHITE +f\"Accuracy Score :\" + Back.WHITE+Fore.GREEN + f\"   {accuracy_score(y_test,predictions1n)}\")\n",
    "print(Back.GREEN+Fore.WHITE +f\"Hamming Loss :\" + Back.WHITE+Fore.GREEN + f\"   {hamming_loss(y_test,predictions1n)}\")\n"
   ]
  },
  {
   "cell_type": "markdown",
   "id": "31f1f4b8",
   "metadata": {
    "papermill": {
     "duration": 0.028362,
     "end_time": "2022-11-17T15:18:59.784025",
     "exception": false,
     "start_time": "2022-11-17T15:18:59.755663",
     "status": "completed"
    },
    "tags": []
   },
   "source": [
    "one and two gram"
   ]
  },
  {
   "cell_type": "code",
   "execution_count": 35,
   "id": "46e221be",
   "metadata": {
    "execution": {
     "iopub.execute_input": "2022-11-17T15:18:59.841972Z",
     "iopub.status.busy": "2022-11-17T15:18:59.841092Z",
     "iopub.status.idle": "2022-11-17T15:19:02.913931Z",
     "shell.execute_reply": "2022-11-17T15:19:02.912577Z"
    },
    "papermill": {
     "duration": 3.103991,
     "end_time": "2022-11-17T15:19:02.916179",
     "exception": false,
     "start_time": "2022-11-17T15:18:59.812188",
     "status": "completed"
    },
    "tags": []
   },
   "outputs": [
    {
     "name": "stdout",
     "output_type": "stream",
     "text": [
      "\u001b[42m\u001b[37mAccuracy Score :\u001b[47m\u001b[32m   0.85\n",
      "\u001b[42m\u001b[37mHamming Loss :\u001b[47m\u001b[32m   0.058333333333333334\n"
     ]
    }
   ],
   "source": [
    "from sklearn.model_selection import train_test_split\n",
    "X_train, X_test, y_train, y_test = train_test_split(x, y, random_state=42,test_size=0.05)\n",
    "\n",
    "from sklearn.feature_extraction.text import CountVectorizer\n",
    "count_vectorizer = CountVectorizer(ngram_range = (1, 2), max_features = 20000)\n",
    "X_train = count_vectorizer.fit_transform(X_train)\n",
    "X_test = count_vectorizer.transform(X_test)\n",
    "\n",
    "from skmultilearn.problem_transform import BinaryRelevance\n",
    "from sklearn.naive_bayes import GaussianNB\n",
    "classifier = BinaryRelevance(GaussianNB())\n",
    "classifier.fit(X_train, y_train)\n",
    "predictions12n = classifier.predict(X_test)\n",
    "print(Back.GREEN+Fore.WHITE +f\"Accuracy Score :\" + Back.WHITE+Fore.GREEN + f\"   {accuracy_score(y_test,predictions12n)}\")\n",
    "print(Back.GREEN+Fore.WHITE +f\"Hamming Loss :\" + Back.WHITE+Fore.GREEN + f\"   {hamming_loss(y_test,predictions12n)}\")"
   ]
  },
  {
   "cell_type": "markdown",
   "id": "56c68b35",
   "metadata": {
    "papermill": {
     "duration": 0.027172,
     "end_time": "2022-11-17T15:19:02.971003",
     "exception": false,
     "start_time": "2022-11-17T15:19:02.943831",
     "status": "completed"
    },
    "tags": []
   },
   "source": [
    "two gram"
   ]
  },
  {
   "cell_type": "code",
   "execution_count": 36,
   "id": "9dd09a2f",
   "metadata": {
    "execution": {
     "iopub.execute_input": "2022-11-17T15:19:03.029200Z",
     "iopub.status.busy": "2022-11-17T15:19:03.028773Z",
     "iopub.status.idle": "2022-11-17T15:19:05.782929Z",
     "shell.execute_reply": "2022-11-17T15:19:05.781956Z"
    },
    "papermill": {
     "duration": 2.785949,
     "end_time": "2022-11-17T15:19:05.785022",
     "exception": false,
     "start_time": "2022-11-17T15:19:02.999073",
     "status": "completed"
    },
    "tags": []
   },
   "outputs": [
    {
     "name": "stdout",
     "output_type": "stream",
     "text": [
      "\u001b[42m\u001b[37mAccuracy Score :\u001b[47m\u001b[32m   0.81\n",
      "\u001b[42m\u001b[37mHamming Loss :\u001b[47m\u001b[32m   0.11666666666666667\n"
     ]
    }
   ],
   "source": [
    "from sklearn.model_selection import train_test_split\n",
    "X_train, X_test, y_train, y_test = train_test_split(x, y, random_state=42,test_size=0.05)\n",
    "\n",
    "from sklearn.feature_extraction.text import CountVectorizer\n",
    "count_vectorizer = CountVectorizer(ngram_range = (2, 2), max_features = 20000)\n",
    "X_train = count_vectorizer.fit_transform(X_train)\n",
    "X_test = count_vectorizer.transform(X_test)\n",
    "\n",
    "from skmultilearn.problem_transform import BinaryRelevance\n",
    "from sklearn.naive_bayes import GaussianNB\n",
    "classifier = BinaryRelevance(GaussianNB())\n",
    "classifier.fit(X_train, y_train)\n",
    "predictions2n = classifier.predict(X_test)\n",
    "print(Back.GREEN+Fore.WHITE +f\"Accuracy Score :\" + Back.WHITE+Fore.GREEN + f\"   {accuracy_score(y_test,predictions2n)}\")\n",
    "print(Back.GREEN+Fore.WHITE +f\"Hamming Loss :\" + Back.WHITE+Fore.GREEN + f\"   {hamming_loss(y_test,predictions2n)}\")"
   ]
  },
  {
   "cell_type": "markdown",
   "id": "df3cc3ee",
   "metadata": {
    "papermill": {
     "duration": 0.027609,
     "end_time": "2022-11-17T15:19:05.842812",
     "exception": false,
     "start_time": "2022-11-17T15:19:05.815203",
     "status": "completed"
    },
    "tags": []
   },
   "source": [
    "one, two and three gram"
   ]
  },
  {
   "cell_type": "code",
   "execution_count": 37,
   "id": "b3583592",
   "metadata": {
    "execution": {
     "iopub.execute_input": "2022-11-17T15:19:05.899612Z",
     "iopub.status.busy": "2022-11-17T15:19:05.899212Z",
     "iopub.status.idle": "2022-11-17T15:19:09.419628Z",
     "shell.execute_reply": "2022-11-17T15:19:09.417727Z"
    },
    "papermill": {
     "duration": 3.551038,
     "end_time": "2022-11-17T15:19:09.421756",
     "exception": false,
     "start_time": "2022-11-17T15:19:05.870718",
     "status": "completed"
    },
    "tags": []
   },
   "outputs": [
    {
     "name": "stdout",
     "output_type": "stream",
     "text": [
      "\u001b[42m\u001b[37mAccuracy Score :\u001b[47m\u001b[32m   0.85\n",
      "\u001b[42m\u001b[37mHamming Loss :\u001b[47m\u001b[32m   0.058333333333333334\n"
     ]
    }
   ],
   "source": [
    "from sklearn.model_selection import train_test_split\n",
    "X_train, X_test, y_train, y_test = train_test_split(x, y, random_state=42,test_size=0.05)\n",
    "\n",
    "from sklearn.feature_extraction.text import CountVectorizer\n",
    "count_vectorizer = CountVectorizer(ngram_range = (1, 3), max_features = 20000)\n",
    "X_train = count_vectorizer.fit_transform(X_train)\n",
    "X_test = count_vectorizer.transform(X_test)\n",
    "\n",
    "from skmultilearn.problem_transform import BinaryRelevance\n",
    "from sklearn.naive_bayes import GaussianNB\n",
    "classifier = BinaryRelevance(GaussianNB())\n",
    "classifier.fit(X_train, y_train)\n",
    "predictions123n = classifier.predict(X_test)\n",
    "print(Back.GREEN+Fore.WHITE +f\"Accuracy Score :\" + Back.WHITE+Fore.GREEN + f\"   {accuracy_score(y_test,predictions123n)}\")\n",
    "print(Back.GREEN+Fore.WHITE +f\"Hamming Loss :\" + Back.WHITE+Fore.GREEN + f\"   {hamming_loss(y_test,predictions123n)}\")"
   ]
  },
  {
   "cell_type": "markdown",
   "id": "36f21cee",
   "metadata": {
    "papermill": {
     "duration": 0.027383,
     "end_time": "2022-11-17T15:19:09.477233",
     "exception": false,
     "start_time": "2022-11-17T15:19:09.449850",
     "status": "completed"
    },
    "tags": []
   },
   "source": [
    "two and three gram"
   ]
  },
  {
   "cell_type": "code",
   "execution_count": 38,
   "id": "e35f6037",
   "metadata": {
    "execution": {
     "iopub.execute_input": "2022-11-17T15:19:09.536039Z",
     "iopub.status.busy": "2022-11-17T15:19:09.535657Z",
     "iopub.status.idle": "2022-11-17T15:19:12.817347Z",
     "shell.execute_reply": "2022-11-17T15:19:12.816424Z"
    },
    "papermill": {
     "duration": 3.313276,
     "end_time": "2022-11-17T15:19:12.819356",
     "exception": false,
     "start_time": "2022-11-17T15:19:09.506080",
     "status": "completed"
    },
    "tags": []
   },
   "outputs": [
    {
     "name": "stdout",
     "output_type": "stream",
     "text": [
      "\u001b[42m\u001b[37mAccuracy Score :\u001b[47m\u001b[32m   0.81\n",
      "\u001b[42m\u001b[37mHamming Loss :\u001b[47m\u001b[32m   0.11666666666666667\n"
     ]
    }
   ],
   "source": [
    "from sklearn.model_selection import train_test_split\n",
    "X_train, X_test, y_train, y_test = train_test_split(x, y, random_state=42,test_size=0.05)\n",
    "\n",
    "from sklearn.feature_extraction.text import CountVectorizer\n",
    "count_vectorizer = CountVectorizer(ngram_range = (2, 3), max_features = 20000)\n",
    "X_train = count_vectorizer.fit_transform(X_train)\n",
    "X_test = count_vectorizer.transform(X_test)\n",
    "\n",
    "from skmultilearn.problem_transform import BinaryRelevance\n",
    "from sklearn.naive_bayes import GaussianNB\n",
    "classifier = BinaryRelevance(GaussianNB())\n",
    "classifier.fit(X_train, y_train)\n",
    "predictions23n = classifier.predict(X_test)\n",
    "print(Back.GREEN+Fore.WHITE +f\"Accuracy Score :\" + Back.WHITE+Fore.GREEN + f\"   {accuracy_score(y_test,predictions23n)}\")\n",
    "print(Back.GREEN+Fore.WHITE +f\"Hamming Loss :\" + Back.WHITE+Fore.GREEN + f\"   {hamming_loss(y_test,predictions23n)}\")"
   ]
  },
  {
   "cell_type": "markdown",
   "id": "262dcb4e",
   "metadata": {
    "papermill": {
     "duration": 0.027345,
     "end_time": "2022-11-17T15:19:12.875087",
     "exception": false,
     "start_time": "2022-11-17T15:19:12.847742",
     "status": "completed"
    },
    "tags": []
   },
   "source": [
    "three gram"
   ]
  },
  {
   "cell_type": "code",
   "execution_count": 39,
   "id": "fbdb6e33",
   "metadata": {
    "execution": {
     "iopub.execute_input": "2022-11-17T15:19:12.932650Z",
     "iopub.status.busy": "2022-11-17T15:19:12.932261Z",
     "iopub.status.idle": "2022-11-17T15:19:15.769832Z",
     "shell.execute_reply": "2022-11-17T15:19:15.768106Z"
    },
    "papermill": {
     "duration": 2.869498,
     "end_time": "2022-11-17T15:19:15.772654",
     "exception": false,
     "start_time": "2022-11-17T15:19:12.903156",
     "status": "completed"
    },
    "tags": []
   },
   "outputs": [
    {
     "name": "stdout",
     "output_type": "stream",
     "text": [
      "\u001b[42m\u001b[37mAccuracy Score :\u001b[47m\u001b[32m   0.63\n",
      "\u001b[42m\u001b[37mHamming Loss :\u001b[47m\u001b[32m   0.2816666666666667\n"
     ]
    }
   ],
   "source": [
    "from sklearn.model_selection import train_test_split\n",
    "X_train, X_test, y_train, y_test = train_test_split(x, y, random_state=42,test_size=0.05)\n",
    "\n",
    "from sklearn.feature_extraction.text import CountVectorizer\n",
    "count_vectorizer = CountVectorizer(ngram_range = (3, 3), max_features = 20000)\n",
    "X_train = count_vectorizer.fit_transform(X_train)\n",
    "X_test = count_vectorizer.transform(X_test)\n",
    "\n",
    "from skmultilearn.problem_transform import BinaryRelevance\n",
    "from sklearn.naive_bayes import GaussianNB\n",
    "classifier = BinaryRelevance(GaussianNB())\n",
    "classifier.fit(X_train, y_train)\n",
    "predictions3n = classifier.predict(X_test)\n",
    "print(Back.GREEN+Fore.WHITE +f\"Accuracy Score :\" + Back.WHITE+Fore.GREEN + f\"   {accuracy_score(y_test,predictions3n)}\")\n",
    "print(Back.GREEN+Fore.WHITE +f\"Hamming Loss :\" + Back.WHITE+Fore.GREEN + f\"   {hamming_loss(y_test,predictions3n)}\")"
   ]
  },
  {
   "cell_type": "markdown",
   "id": "01688baa",
   "metadata": {
    "papermill": {
     "duration": 0.028618,
     "end_time": "2022-11-17T15:19:15.830496",
     "exception": false,
     "start_time": "2022-11-17T15:19:15.801878",
     "status": "completed"
    },
    "tags": []
   },
   "source": [
    "<center>\n",
    "<div style = \"background-color: rgba(152, 170, 236, 0.8); border-style: double;\">\n",
    "<strong style = \"font-size: 25px; color:rgba(86, 106, 181, 1);\"><center>4. Training Other Multi-Label Models</center></strong>\n",
    "</div>\n",
    "</center>"
   ]
  },
  {
   "cell_type": "markdown",
   "id": "73946bf5",
   "metadata": {
    "papermill": {
     "duration": 0.028474,
     "end_time": "2022-11-17T15:19:15.888101",
     "exception": false,
     "start_time": "2022-11-17T15:19:15.859627",
     "status": "completed"
    },
    "tags": []
   },
   "source": [
    "# Neural Network🔥"
   ]
  },
  {
   "cell_type": "markdown",
   "id": "e70bdf6e",
   "metadata": {
    "papermill": {
     "duration": 0.028164,
     "end_time": "2022-11-17T15:19:15.944765",
     "exception": false,
     "start_time": "2022-11-17T15:19:15.916601",
     "status": "completed"
    },
    "tags": []
   },
   "source": [
    "**Sequential Approach**\n",
    "\n",
    "HOW DOES IT WORK?\n",
    "As you may know for multi-class categorization we use the softmax activation function at the output, so the probability of X lying in a particular class can be represented as a probability distribution, with the class with highest probability as our output.\n",
    "\n",
    "*σ(z)=1+exp(−z)1​*\n",
    "\n",
    "This obviously wont work with Multi-Label classification so instead we use sigmoid activation function for each class. Here. the probability of each class is modelled as a Bernoulli Distribution.\n",
    "\n",
    "*P(cj​∣xi​)=1+exp(−zj​)1​*\n",
    "\n",
    "We use the binary_crossentropy loss and not the usual in multi-class classification used categorical_crossentropy loss."
   ]
  },
  {
   "cell_type": "code",
   "execution_count": 40,
   "id": "fef5acbc",
   "metadata": {
    "execution": {
     "iopub.execute_input": "2022-11-17T15:19:16.003198Z",
     "iopub.status.busy": "2022-11-17T15:19:16.002879Z",
     "iopub.status.idle": "2022-11-17T15:19:22.464552Z",
     "shell.execute_reply": "2022-11-17T15:19:22.463508Z"
    },
    "papermill": {
     "duration": 6.493312,
     "end_time": "2022-11-17T15:19:22.466907",
     "exception": false,
     "start_time": "2022-11-17T15:19:15.973595",
     "status": "completed"
    },
    "tags": []
   },
   "outputs": [
    {
     "name": "stderr",
     "output_type": "stream",
     "text": [
      "2022-11-17 15:19:22.097887: I tensorflow/core/common_runtime/process_util.cc:146] Creating new thread pool with default inter op setting: 2. Tune using inter_op_parallelism_threads for best performance.\n"
     ]
    }
   ],
   "source": [
    "import tensorflow \n",
    "from keras.models import Sequential\n",
    "from keras.layers import Dense\n",
    "\n",
    "\n",
    "model = Sequential()\n",
    "model.add(Dense(20, input_dim=20000, kernel_initializer='he_uniform', activation='relu'))\n",
    "model.add(Dense(6, activation='sigmoid'))\n",
    "model.compile(loss='binary_crossentropy', optimizer='adam')"
   ]
  },
  {
   "cell_type": "code",
   "execution_count": 41,
   "id": "eeace521",
   "metadata": {
    "execution": {
     "iopub.execute_input": "2022-11-17T15:19:22.526160Z",
     "iopub.status.busy": "2022-11-17T15:19:22.525816Z",
     "iopub.status.idle": "2022-11-17T15:19:22.532057Z",
     "shell.execute_reply": "2022-11-17T15:19:22.530661Z"
    },
    "papermill": {
     "duration": 0.039025,
     "end_time": "2022-11-17T15:19:22.534435",
     "exception": false,
     "start_time": "2022-11-17T15:19:22.495410",
     "status": "completed"
    },
    "tags": []
   },
   "outputs": [
    {
     "name": "stdout",
     "output_type": "stream",
     "text": [
      "Model: \"sequential\"\n",
      "_________________________________________________________________\n",
      "Layer (type)                 Output Shape              Param #   \n",
      "=================================================================\n",
      "dense (Dense)                (None, 20)                400020    \n",
      "_________________________________________________________________\n",
      "dense_1 (Dense)              (None, 6)                 126       \n",
      "=================================================================\n",
      "Total params: 400,146\n",
      "Trainable params: 400,146\n",
      "Non-trainable params: 0\n",
      "_________________________________________________________________\n"
     ]
    }
   ],
   "source": [
    "model.summary()"
   ]
  },
  {
   "cell_type": "code",
   "execution_count": 42,
   "id": "ed423d04",
   "metadata": {
    "execution": {
     "iopub.execute_input": "2022-11-17T15:19:22.592151Z",
     "iopub.status.busy": "2022-11-17T15:19:22.591782Z",
     "iopub.status.idle": "2022-11-17T15:19:22.655985Z",
     "shell.execute_reply": "2022-11-17T15:19:22.654530Z"
    },
    "papermill": {
     "duration": 0.096931,
     "end_time": "2022-11-17T15:19:22.659456",
     "exception": false,
     "start_time": "2022-11-17T15:19:22.562525",
     "status": "completed"
    },
    "tags": []
   },
   "outputs": [
    {
     "name": "stderr",
     "output_type": "stream",
     "text": [
      "/opt/conda/lib/python3.7/site-packages/sklearn/utils/deprecation.py:87: FutureWarning: Function get_feature_names is deprecated; get_feature_names is deprecated in 1.0 and will be removed in 1.2. Please use get_feature_names_out instead.\n",
      "  warnings.warn(msg, category=FutureWarning)\n"
     ]
    },
    {
     "data": {
      "text/html": [
       "<div>\n",
       "<style scoped>\n",
       "    .dataframe tbody tr th:only-of-type {\n",
       "        vertical-align: middle;\n",
       "    }\n",
       "\n",
       "    .dataframe tbody tr th {\n",
       "        vertical-align: top;\n",
       "    }\n",
       "\n",
       "    .dataframe thead th {\n",
       "        text-align: right;\n",
       "    }\n",
       "</style>\n",
       "<table border=\"1\" class=\"dataframe\">\n",
       "  <thead>\n",
       "    <tr style=\"text-align: right;\">\n",
       "      <th></th>\n",
       "      <th>abide by the</th>\n",
       "      <th>able to do</th>\n",
       "      <th>able to get</th>\n",
       "      <th>able to post</th>\n",
       "      <th>able to see</th>\n",
       "      <th>able to take</th>\n",
       "      <th>about alternative life</th>\n",
       "      <th>about censorship in</th>\n",
       "      <th>about contributing to</th>\n",
       "      <th>about ed morrissey</th>\n",
       "      <th>...</th>\n",
       "      <th>your way around</th>\n",
       "      <th>your wife and</th>\n",
       "      <th>youre coming from</th>\n",
       "      <th>youre going to</th>\n",
       "      <th>youre right was</th>\n",
       "      <th>yourself but dont</th>\n",
       "      <th>yourself familiar with</th>\n",
       "      <th>yourself then you</th>\n",
       "      <th>yourself to the</th>\n",
       "      <th>yourself with the</th>\n",
       "    </tr>\n",
       "  </thead>\n",
       "  <tbody>\n",
       "    <tr>\n",
       "      <th>0</th>\n",
       "      <td>0</td>\n",
       "      <td>0</td>\n",
       "      <td>0</td>\n",
       "      <td>0</td>\n",
       "      <td>0</td>\n",
       "      <td>0</td>\n",
       "      <td>0</td>\n",
       "      <td>0</td>\n",
       "      <td>0</td>\n",
       "      <td>0</td>\n",
       "      <td>...</td>\n",
       "      <td>0</td>\n",
       "      <td>0</td>\n",
       "      <td>0</td>\n",
       "      <td>0</td>\n",
       "      <td>0</td>\n",
       "      <td>0</td>\n",
       "      <td>0</td>\n",
       "      <td>0</td>\n",
       "      <td>0</td>\n",
       "      <td>0</td>\n",
       "    </tr>\n",
       "    <tr>\n",
       "      <th>1</th>\n",
       "      <td>0</td>\n",
       "      <td>0</td>\n",
       "      <td>0</td>\n",
       "      <td>0</td>\n",
       "      <td>0</td>\n",
       "      <td>0</td>\n",
       "      <td>0</td>\n",
       "      <td>0</td>\n",
       "      <td>0</td>\n",
       "      <td>0</td>\n",
       "      <td>...</td>\n",
       "      <td>0</td>\n",
       "      <td>0</td>\n",
       "      <td>0</td>\n",
       "      <td>0</td>\n",
       "      <td>0</td>\n",
       "      <td>0</td>\n",
       "      <td>0</td>\n",
       "      <td>0</td>\n",
       "      <td>0</td>\n",
       "      <td>0</td>\n",
       "    </tr>\n",
       "    <tr>\n",
       "      <th>2</th>\n",
       "      <td>0</td>\n",
       "      <td>0</td>\n",
       "      <td>0</td>\n",
       "      <td>0</td>\n",
       "      <td>0</td>\n",
       "      <td>0</td>\n",
       "      <td>0</td>\n",
       "      <td>0</td>\n",
       "      <td>0</td>\n",
       "      <td>0</td>\n",
       "      <td>...</td>\n",
       "      <td>0</td>\n",
       "      <td>0</td>\n",
       "      <td>0</td>\n",
       "      <td>0</td>\n",
       "      <td>0</td>\n",
       "      <td>0</td>\n",
       "      <td>0</td>\n",
       "      <td>0</td>\n",
       "      <td>0</td>\n",
       "      <td>0</td>\n",
       "    </tr>\n",
       "    <tr>\n",
       "      <th>3</th>\n",
       "      <td>0</td>\n",
       "      <td>0</td>\n",
       "      <td>0</td>\n",
       "      <td>0</td>\n",
       "      <td>0</td>\n",
       "      <td>0</td>\n",
       "      <td>0</td>\n",
       "      <td>0</td>\n",
       "      <td>0</td>\n",
       "      <td>0</td>\n",
       "      <td>...</td>\n",
       "      <td>0</td>\n",
       "      <td>0</td>\n",
       "      <td>0</td>\n",
       "      <td>0</td>\n",
       "      <td>0</td>\n",
       "      <td>0</td>\n",
       "      <td>0</td>\n",
       "      <td>0</td>\n",
       "      <td>0</td>\n",
       "      <td>0</td>\n",
       "    </tr>\n",
       "    <tr>\n",
       "      <th>4</th>\n",
       "      <td>0</td>\n",
       "      <td>0</td>\n",
       "      <td>0</td>\n",
       "      <td>0</td>\n",
       "      <td>0</td>\n",
       "      <td>0</td>\n",
       "      <td>0</td>\n",
       "      <td>0</td>\n",
       "      <td>0</td>\n",
       "      <td>0</td>\n",
       "      <td>...</td>\n",
       "      <td>0</td>\n",
       "      <td>0</td>\n",
       "      <td>0</td>\n",
       "      <td>0</td>\n",
       "      <td>0</td>\n",
       "      <td>0</td>\n",
       "      <td>0</td>\n",
       "      <td>0</td>\n",
       "      <td>0</td>\n",
       "      <td>0</td>\n",
       "    </tr>\n",
       "    <tr>\n",
       "      <th>...</th>\n",
       "      <td>...</td>\n",
       "      <td>...</td>\n",
       "      <td>...</td>\n",
       "      <td>...</td>\n",
       "      <td>...</td>\n",
       "      <td>...</td>\n",
       "      <td>...</td>\n",
       "      <td>...</td>\n",
       "      <td>...</td>\n",
       "      <td>...</td>\n",
       "      <td>...</td>\n",
       "      <td>...</td>\n",
       "      <td>...</td>\n",
       "      <td>...</td>\n",
       "      <td>...</td>\n",
       "      <td>...</td>\n",
       "      <td>...</td>\n",
       "      <td>...</td>\n",
       "      <td>...</td>\n",
       "      <td>...</td>\n",
       "      <td>...</td>\n",
       "    </tr>\n",
       "    <tr>\n",
       "      <th>1895</th>\n",
       "      <td>0</td>\n",
       "      <td>0</td>\n",
       "      <td>0</td>\n",
       "      <td>0</td>\n",
       "      <td>0</td>\n",
       "      <td>0</td>\n",
       "      <td>0</td>\n",
       "      <td>0</td>\n",
       "      <td>0</td>\n",
       "      <td>0</td>\n",
       "      <td>...</td>\n",
       "      <td>0</td>\n",
       "      <td>0</td>\n",
       "      <td>0</td>\n",
       "      <td>0</td>\n",
       "      <td>0</td>\n",
       "      <td>0</td>\n",
       "      <td>0</td>\n",
       "      <td>0</td>\n",
       "      <td>0</td>\n",
       "      <td>0</td>\n",
       "    </tr>\n",
       "    <tr>\n",
       "      <th>1896</th>\n",
       "      <td>0</td>\n",
       "      <td>0</td>\n",
       "      <td>0</td>\n",
       "      <td>0</td>\n",
       "      <td>0</td>\n",
       "      <td>0</td>\n",
       "      <td>0</td>\n",
       "      <td>0</td>\n",
       "      <td>0</td>\n",
       "      <td>0</td>\n",
       "      <td>...</td>\n",
       "      <td>0</td>\n",
       "      <td>0</td>\n",
       "      <td>0</td>\n",
       "      <td>0</td>\n",
       "      <td>0</td>\n",
       "      <td>0</td>\n",
       "      <td>0</td>\n",
       "      <td>0</td>\n",
       "      <td>0</td>\n",
       "      <td>0</td>\n",
       "    </tr>\n",
       "    <tr>\n",
       "      <th>1897</th>\n",
       "      <td>0</td>\n",
       "      <td>0</td>\n",
       "      <td>0</td>\n",
       "      <td>0</td>\n",
       "      <td>0</td>\n",
       "      <td>0</td>\n",
       "      <td>0</td>\n",
       "      <td>0</td>\n",
       "      <td>0</td>\n",
       "      <td>0</td>\n",
       "      <td>...</td>\n",
       "      <td>0</td>\n",
       "      <td>0</td>\n",
       "      <td>0</td>\n",
       "      <td>0</td>\n",
       "      <td>0</td>\n",
       "      <td>0</td>\n",
       "      <td>0</td>\n",
       "      <td>0</td>\n",
       "      <td>0</td>\n",
       "      <td>0</td>\n",
       "    </tr>\n",
       "    <tr>\n",
       "      <th>1898</th>\n",
       "      <td>0</td>\n",
       "      <td>0</td>\n",
       "      <td>0</td>\n",
       "      <td>0</td>\n",
       "      <td>0</td>\n",
       "      <td>0</td>\n",
       "      <td>0</td>\n",
       "      <td>0</td>\n",
       "      <td>0</td>\n",
       "      <td>0</td>\n",
       "      <td>...</td>\n",
       "      <td>0</td>\n",
       "      <td>0</td>\n",
       "      <td>0</td>\n",
       "      <td>0</td>\n",
       "      <td>0</td>\n",
       "      <td>0</td>\n",
       "      <td>0</td>\n",
       "      <td>0</td>\n",
       "      <td>0</td>\n",
       "      <td>0</td>\n",
       "    </tr>\n",
       "    <tr>\n",
       "      <th>1899</th>\n",
       "      <td>0</td>\n",
       "      <td>0</td>\n",
       "      <td>0</td>\n",
       "      <td>0</td>\n",
       "      <td>0</td>\n",
       "      <td>0</td>\n",
       "      <td>0</td>\n",
       "      <td>0</td>\n",
       "      <td>0</td>\n",
       "      <td>0</td>\n",
       "      <td>...</td>\n",
       "      <td>0</td>\n",
       "      <td>0</td>\n",
       "      <td>0</td>\n",
       "      <td>0</td>\n",
       "      <td>0</td>\n",
       "      <td>0</td>\n",
       "      <td>0</td>\n",
       "      <td>0</td>\n",
       "      <td>0</td>\n",
       "      <td>0</td>\n",
       "    </tr>\n",
       "  </tbody>\n",
       "</table>\n",
       "<p>1900 rows × 20000 columns</p>\n",
       "</div>"
      ],
      "text/plain": [
       "      abide by the  able to do  able to get  able to post  able to see  \\\n",
       "0                0           0            0             0            0   \n",
       "1                0           0            0             0            0   \n",
       "2                0           0            0             0            0   \n",
       "3                0           0            0             0            0   \n",
       "4                0           0            0             0            0   \n",
       "...            ...         ...          ...           ...          ...   \n",
       "1895             0           0            0             0            0   \n",
       "1896             0           0            0             0            0   \n",
       "1897             0           0            0             0            0   \n",
       "1898             0           0            0             0            0   \n",
       "1899             0           0            0             0            0   \n",
       "\n",
       "      able to take  about alternative life  about censorship in  \\\n",
       "0                0                       0                    0   \n",
       "1                0                       0                    0   \n",
       "2                0                       0                    0   \n",
       "3                0                       0                    0   \n",
       "4                0                       0                    0   \n",
       "...            ...                     ...                  ...   \n",
       "1895             0                       0                    0   \n",
       "1896             0                       0                    0   \n",
       "1897             0                       0                    0   \n",
       "1898             0                       0                    0   \n",
       "1899             0                       0                    0   \n",
       "\n",
       "      about contributing to  about ed morrissey  ...  your way around  \\\n",
       "0                         0                   0  ...                0   \n",
       "1                         0                   0  ...                0   \n",
       "2                         0                   0  ...                0   \n",
       "3                         0                   0  ...                0   \n",
       "4                         0                   0  ...                0   \n",
       "...                     ...                 ...  ...              ...   \n",
       "1895                      0                   0  ...                0   \n",
       "1896                      0                   0  ...                0   \n",
       "1897                      0                   0  ...                0   \n",
       "1898                      0                   0  ...                0   \n",
       "1899                      0                   0  ...                0   \n",
       "\n",
       "      your wife and  youre coming from  youre going to  youre right was  \\\n",
       "0                 0                  0               0                0   \n",
       "1                 0                  0               0                0   \n",
       "2                 0                  0               0                0   \n",
       "3                 0                  0               0                0   \n",
       "4                 0                  0               0                0   \n",
       "...             ...                ...             ...              ...   \n",
       "1895              0                  0               0                0   \n",
       "1896              0                  0               0                0   \n",
       "1897              0                  0               0                0   \n",
       "1898              0                  0               0                0   \n",
       "1899              0                  0               0                0   \n",
       "\n",
       "      yourself but dont  yourself familiar with  yourself then you  \\\n",
       "0                     0                       0                  0   \n",
       "1                     0                       0                  0   \n",
       "2                     0                       0                  0   \n",
       "3                     0                       0                  0   \n",
       "4                     0                       0                  0   \n",
       "...                 ...                     ...                ...   \n",
       "1895                  0                       0                  0   \n",
       "1896                  0                       0                  0   \n",
       "1897                  0                       0                  0   \n",
       "1898                  0                       0                  0   \n",
       "1899                  0                       0                  0   \n",
       "\n",
       "      yourself to the  yourself with the  \n",
       "0                   0                  0  \n",
       "1                   0                  0  \n",
       "2                   0                  0  \n",
       "3                   0                  0  \n",
       "4                   0                  0  \n",
       "...               ...                ...  \n",
       "1895                0                  0  \n",
       "1896                0                  0  \n",
       "1897                0                  0  \n",
       "1898                0                  0  \n",
       "1899                0                  0  \n",
       "\n",
       "[1900 rows x 20000 columns]"
      ]
     },
     "execution_count": 42,
     "metadata": {},
     "output_type": "execute_result"
    }
   ],
   "source": [
    "X_train = pd.DataFrame(X_train.toarray(),columns= count_vectorizer.get_feature_names())\n",
    "X_train"
   ]
  },
  {
   "cell_type": "code",
   "execution_count": 43,
   "id": "f42911fc",
   "metadata": {
    "execution": {
     "iopub.execute_input": "2022-11-17T15:19:22.720301Z",
     "iopub.status.busy": "2022-11-17T15:19:22.719642Z",
     "iopub.status.idle": "2022-11-17T15:19:43.956134Z",
     "shell.execute_reply": "2022-11-17T15:19:43.954514Z"
    },
    "papermill": {
     "duration": 21.269084,
     "end_time": "2022-11-17T15:19:43.958355",
     "exception": false,
     "start_time": "2022-11-17T15:19:22.689271",
     "status": "completed"
    },
    "tags": []
   },
   "outputs": [
    {
     "name": "stderr",
     "output_type": "stream",
     "text": [
      "2022-11-17 15:19:22.966700: I tensorflow/compiler/mlir/mlir_graph_optimization_pass.cc:185] None of the MLIR Optimization Passes are enabled (registered 2)\n"
     ]
    },
    {
     "name": "stdout",
     "output_type": "stream",
     "text": [
      "Epoch 1/50\n",
      "60/60 [==============================] - 1s 4ms/step - loss: 0.6402\n",
      "Epoch 2/50\n",
      "60/60 [==============================] - 0s 4ms/step - loss: 0.4563\n",
      "Epoch 3/50\n",
      "60/60 [==============================] - 0s 4ms/step - loss: 0.2831\n",
      "Epoch 4/50\n",
      "60/60 [==============================] - 0s 4ms/step - loss: 0.1868\n",
      "Epoch 5/50\n",
      "60/60 [==============================] - 0s 4ms/step - loss: 0.1393\n",
      "Epoch 6/50\n",
      "60/60 [==============================] - 0s 4ms/step - loss: 0.1135\n",
      "Epoch 7/50\n",
      "60/60 [==============================] - 0s 4ms/step - loss: 0.0977\n",
      "Epoch 8/50\n",
      "60/60 [==============================] - 0s 4ms/step - loss: 0.0866\n",
      "Epoch 9/50\n",
      "60/60 [==============================] - 0s 4ms/step - loss: 0.0780\n",
      "Epoch 10/50\n",
      "60/60 [==============================] - 0s 4ms/step - loss: 0.0710\n",
      "Epoch 11/50\n",
      "60/60 [==============================] - 0s 4ms/step - loss: 0.0651\n",
      "Epoch 12/50\n",
      "60/60 [==============================] - 0s 4ms/step - loss: 0.0601\n",
      "Epoch 13/50\n",
      "60/60 [==============================] - 0s 4ms/step - loss: 0.0559\n",
      "Epoch 14/50\n",
      "60/60 [==============================] - 0s 4ms/step - loss: 0.0523\n",
      "Epoch 15/50\n",
      "60/60 [==============================] - 0s 5ms/step - loss: 0.0491\n",
      "Epoch 16/50\n",
      "60/60 [==============================] - 0s 4ms/step - loss: 0.0464\n",
      "Epoch 17/50\n",
      "60/60 [==============================] - 0s 4ms/step - loss: 0.0440\n",
      "Epoch 18/50\n",
      "60/60 [==============================] - 0s 4ms/step - loss: 0.0419\n",
      "Epoch 19/50\n",
      "60/60 [==============================] - 0s 4ms/step - loss: 0.0401\n",
      "Epoch 20/50\n",
      "60/60 [==============================] - 0s 4ms/step - loss: 0.0384\n",
      "Epoch 21/50\n",
      "60/60 [==============================] - 0s 4ms/step - loss: 0.0370\n",
      "Epoch 22/50\n",
      "60/60 [==============================] - 0s 4ms/step - loss: 0.0357\n",
      "Epoch 23/50\n",
      "60/60 [==============================] - 0s 4ms/step - loss: 0.0345\n",
      "Epoch 24/50\n",
      "60/60 [==============================] - 0s 4ms/step - loss: 0.0335\n",
      "Epoch 25/50\n",
      "60/60 [==============================] - 0s 4ms/step - loss: 0.0326\n",
      "Epoch 26/50\n",
      "60/60 [==============================] - 0s 4ms/step - loss: 0.0318\n",
      "Epoch 27/50\n",
      "60/60 [==============================] - 0s 4ms/step - loss: 0.0310\n",
      "Epoch 28/50\n",
      "60/60 [==============================] - 0s 4ms/step - loss: 0.0303\n",
      "Epoch 29/50\n",
      "60/60 [==============================] - 0s 4ms/step - loss: 0.0296\n",
      "Epoch 30/50\n",
      "60/60 [==============================] - 0s 4ms/step - loss: 0.0290\n",
      "Epoch 31/50\n",
      "60/60 [==============================] - 0s 4ms/step - loss: 0.0285\n",
      "Epoch 32/50\n",
      "60/60 [==============================] - 0s 4ms/step - loss: 0.0280\n",
      "Epoch 33/50\n",
      "60/60 [==============================] - 0s 4ms/step - loss: 0.0275\n",
      "Epoch 34/50\n",
      "60/60 [==============================] - 0s 4ms/step - loss: 0.0271\n",
      "Epoch 35/50\n",
      "60/60 [==============================] - 1s 12ms/step - loss: 0.0267\n",
      "Epoch 36/50\n",
      "60/60 [==============================] - 0s 5ms/step - loss: 0.0263\n",
      "Epoch 37/50\n",
      "60/60 [==============================] - 0s 4ms/step - loss: 0.0259\n",
      "Epoch 38/50\n",
      "60/60 [==============================] - 0s 4ms/step - loss: 0.0256\n",
      "Epoch 39/50\n",
      "60/60 [==============================] - 0s 4ms/step - loss: 0.0253\n",
      "Epoch 40/50\n",
      "60/60 [==============================] - 0s 4ms/step - loss: 0.0250\n",
      "Epoch 41/50\n",
      "60/60 [==============================] - 0s 4ms/step - loss: 0.0247\n",
      "Epoch 42/50\n",
      "60/60 [==============================] - 0s 4ms/step - loss: 0.0245\n",
      "Epoch 43/50\n",
      "60/60 [==============================] - 0s 4ms/step - loss: 0.0242\n",
      "Epoch 44/50\n",
      "60/60 [==============================] - 0s 4ms/step - loss: 0.0239\n",
      "Epoch 45/50\n",
      "60/60 [==============================] - 0s 4ms/step - loss: 0.0237\n",
      "Epoch 46/50\n",
      "60/60 [==============================] - 0s 4ms/step - loss: 0.0235\n",
      "Epoch 47/50\n",
      "60/60 [==============================] - 0s 4ms/step - loss: 0.0233\n",
      "Epoch 48/50\n",
      "60/60 [==============================] - 0s 4ms/step - loss: 0.0231\n",
      "Epoch 49/50\n",
      "60/60 [==============================] - 0s 4ms/step - loss: 0.0229\n",
      "Epoch 50/50\n",
      "60/60 [==============================] - 0s 4ms/step - loss: 0.0227\n"
     ]
    },
    {
     "data": {
      "text/plain": [
       "<keras.callbacks.History at 0x7f57556a6990>"
      ]
     },
     "execution_count": 43,
     "metadata": {},
     "output_type": "execute_result"
    }
   ],
   "source": [
    "model.fit(X_train, y_train, epochs=50)"
   ]
  },
  {
   "cell_type": "code",
   "execution_count": 44,
   "id": "a2e7c571",
   "metadata": {
    "execution": {
     "iopub.execute_input": "2022-11-17T15:19:44.052452Z",
     "iopub.status.busy": "2022-11-17T15:19:44.052044Z",
     "iopub.status.idle": "2022-11-17T15:19:44.220170Z",
     "shell.execute_reply": "2022-11-17T15:19:44.219294Z"
    },
    "papermill": {
     "duration": 0.217812,
     "end_time": "2022-11-17T15:19:44.222482",
     "exception": false,
     "start_time": "2022-11-17T15:19:44.004670",
     "status": "completed"
    },
    "tags": []
   },
   "outputs": [
    {
     "name": "stdout",
     "output_type": "stream",
     "text": [
      "\u001b[42m\u001b[37mHamming Loss :\u001b[47m\u001b[32m   0.89\n",
      "\u001b[42m\u001b[37mHamming Loss :\u001b[47m\u001b[32m   0.041666666666666664\n"
     ]
    }
   ],
   "source": [
    "from sklearn.metrics import hamming_loss, accuracy_score\n",
    "predictionsSNN = model.predict(X_test)\n",
    "predictionsSNN = predictionsSNN.round()\n",
    "acc = accuracy_score(y_test, predictionsSNN)\n",
    "ham = hamming_loss(y_test,predictionsSNN)\n",
    "print(Back.GREEN+Fore.WHITE +f\"Hamming Loss :\" + Back.WHITE+Fore.GREEN + f\"   {acc}\")\n",
    "print(Back.GREEN+Fore.WHITE +f\"Hamming Loss :\" + Back.WHITE+Fore.GREEN + f\"   {ham}\")"
   ]
  },
  {
   "attachments": {
    "99e1f94b-3415-4394-8513-6f4506cc9903.png": {
     "image/png": "[encoded data removed]"
    }
   },
   "cell_type": "markdown",
   "id": "6873127b",
   "metadata": {
    "papermill": {
     "duration": 0.04693,
     "end_time": "2022-11-17T15:19:44.316385",
     "exception": false,
     "start_time": "2022-11-17T15:19:44.269455",
     "status": "completed"
    },
    "tags": []
   },
   "source": [
    "**Classifier Chains**\n",
    "\n",
    "HOW DOES IT WORK?\n",
    "\n",
    "![image.png](attachment:99e1f94b-3415-4394-8513-6f4506cc9903.png)"
   ]
  },
  {
   "cell_type": "code",
   "execution_count": 45,
   "id": "c91d061c",
   "metadata": {
    "execution": {
     "iopub.execute_input": "2022-11-17T15:19:44.410991Z",
     "iopub.status.busy": "2022-11-17T15:19:44.410563Z",
     "iopub.status.idle": "2022-11-17T15:19:47.561077Z",
     "shell.execute_reply": "2022-11-17T15:19:47.559725Z"
    },
    "papermill": {
     "duration": 3.200961,
     "end_time": "2022-11-17T15:19:47.563914",
     "exception": false,
     "start_time": "2022-11-17T15:19:44.362953",
     "status": "completed"
    },
    "tags": []
   },
   "outputs": [],
   "source": [
    "# using classifier chains\n",
    "from skmultilearn.problem_transform import ClassifierChain\n",
    "from sklearn.naive_bayes import GaussianNB\n",
    "\n",
    "classifier = ClassifierChain(GaussianNB())\n",
    "\n",
    "classifier.fit(X_train, y_train)\n",
    "predictionsCCNN = classifier.predict(X_test)\n"
   ]
  },
  {
   "cell_type": "code",
   "execution_count": 46,
   "id": "88e60111",
   "metadata": {
    "execution": {
     "iopub.execute_input": "2022-11-17T15:19:47.658616Z",
     "iopub.status.busy": "2022-11-17T15:19:47.658264Z",
     "iopub.status.idle": "2022-11-17T15:19:47.665137Z",
     "shell.execute_reply": "2022-11-17T15:19:47.664193Z"
    },
    "papermill": {
     "duration": 0.057048,
     "end_time": "2022-11-17T15:19:47.667671",
     "exception": false,
     "start_time": "2022-11-17T15:19:47.610623",
     "status": "completed"
    },
    "tags": []
   },
   "outputs": [
    {
     "name": "stdout",
     "output_type": "stream",
     "text": [
      "0.63\n"
     ]
    }
   ],
   "source": [
    "acc = accuracy_score(y_test, predictionsCCNN)\n",
    "print(acc)"
   ]
  },
  {
   "attachments": {
    "740ca08a-8f24-4e54-9fe3-4ac7d589b39d.png": {
     "image/png": "[encoded data removed]"
    },
    "a95274cb-043f-46e0-9d05-d0485127467e.png": {
     "image/png": "[encoded data removed]"
    },
    "d444ddc7-4958-4b96-9900-388f8e5ae11f.png": {
     "image/png": "[encoded data removed]"
    },
    "d7bb943b-0849-4cf0-a41c-132a0b7a4bcc.png": {
     "image/png": "[encoded data removed]"
    }
   },
   "cell_type": "markdown",
   "id": "beeb8a6f",
   "metadata": {
    "papermill": {
     "duration": 0.046642,
     "end_time": "2022-11-17T15:19:47.761727",
     "exception": false,
     "start_time": "2022-11-17T15:19:47.715085",
     "status": "completed"
    },
    "tags": []
   },
   "source": [
    "**Label Powerset**\n",
    "\n",
    "HOW DOES IT WORK??\n",
    "we transform the problem into a multi-class problem with one multi-class classifier is trained on all unique label combinations found in the training data.\n",
    "![image.png](attachment:d7bb943b-0849-4cf0-a41c-132a0b7a4bcc.png) ![image.png](attachment:d444ddc7-4958-4b96-9900-388f8e5ae11f.png) ![image.png](attachment:740ca08a-8f24-4e54-9fe3-4ac7d589b39d.png)\n"
   ]
  },
  {
   "cell_type": "code",
   "execution_count": 47,
   "id": "35b94386",
   "metadata": {
    "execution": {
     "iopub.execute_input": "2022-11-17T15:19:47.856540Z",
     "iopub.status.busy": "2022-11-17T15:19:47.856032Z",
     "iopub.status.idle": "2022-11-17T15:19:48.491050Z",
     "shell.execute_reply": "2022-11-17T15:19:48.490068Z"
    },
    "papermill": {
     "duration": 0.685167,
     "end_time": "2022-11-17T15:19:48.493658",
     "exception": false,
     "start_time": "2022-11-17T15:19:47.808491",
     "status": "completed"
    },
    "tags": []
   },
   "outputs": [],
   "source": [
    "from skmultilearn.problem_transform import LabelPowerset\n",
    "from sklearn.naive_bayes import GaussianNB\n",
    "\n",
    "classifier = LabelPowerset(GaussianNB())\n",
    "\n",
    "# train\n",
    "classifier.fit(X_train, y_train)\n",
    "\n",
    "# predict\n",
    "predictionsLBNN = classifier.predict(X_test)\n",
    "\n"
   ]
  },
  {
   "cell_type": "code",
   "execution_count": 48,
   "id": "1a9b3cd9",
   "metadata": {
    "execution": {
     "iopub.execute_input": "2022-11-17T15:19:48.588649Z",
     "iopub.status.busy": "2022-11-17T15:19:48.588105Z",
     "iopub.status.idle": "2022-11-17T15:19:48.596223Z",
     "shell.execute_reply": "2022-11-17T15:19:48.595167Z"
    },
    "papermill": {
     "duration": 0.058605,
     "end_time": "2022-11-17T15:19:48.599253",
     "exception": false,
     "start_time": "2022-11-17T15:19:48.540648",
     "status": "completed"
    },
    "tags": []
   },
   "outputs": [
    {
     "name": "stdout",
     "output_type": "stream",
     "text": [
      "\u001b[42m\u001b[37mAccuracy Score :\u001b[47m\u001b[32m   0.63\n",
      "\u001b[42m\u001b[37mHamming Loss :\u001b[47m\u001b[32m   0.16\n"
     ]
    }
   ],
   "source": [
    "print(Back.GREEN+Fore.WHITE +f\"Accuracy Score :\" + Back.WHITE+Fore.GREEN + f\"   {accuracy_score(y_test,predictionsLBNN)}\")\n",
    "print(Back.GREEN+Fore.WHITE +f\"Hamming Loss :\" + Back.WHITE+Fore.GREEN + f\"   {hamming_loss(y_test,predictionsLBNN)}\")"
   ]
  },
  {
   "cell_type": "code",
   "execution_count": 49,
   "id": "5bd498d5",
   "metadata": {
    "execution": {
     "iopub.execute_input": "2022-11-17T15:19:48.695382Z",
     "iopub.status.busy": "2022-11-17T15:19:48.694660Z",
     "iopub.status.idle": "2022-11-17T15:19:48.698946Z",
     "shell.execute_reply": "2022-11-17T15:19:48.698159Z"
    },
    "papermill": {
     "duration": 0.054717,
     "end_time": "2022-11-17T15:19:48.701046",
     "exception": false,
     "start_time": "2022-11-17T15:19:48.646329",
     "status": "completed"
    },
    "tags": []
   },
   "outputs": [],
   "source": [
    "comment = [\"I will kill you!\"]\n",
    "comment = count_vectorizer.transform(comment)"
   ]
  },
  {
   "cell_type": "code",
   "execution_count": 50,
   "id": "afed45a6",
   "metadata": {
    "execution": {
     "iopub.execute_input": "2022-11-17T15:19:48.796850Z",
     "iopub.status.busy": "2022-11-17T15:19:48.795784Z",
     "iopub.status.idle": "2022-11-17T15:19:48.809747Z",
     "shell.execute_reply": "2022-11-17T15:19:48.808398Z"
    },
    "papermill": {
     "duration": 0.063947,
     "end_time": "2022-11-17T15:19:48.811798",
     "exception": false,
     "start_time": "2022-11-17T15:19:48.747851",
     "status": "completed"
    },
    "tags": []
   },
   "outputs": [
    {
     "name": "stdout",
     "output_type": "stream",
     "text": [
      "   toxic  severe_toxic  obscene  threat  insult  identity_hate\n",
      "0      1             1        1       0       0              0\n"
     ]
    }
   ],
   "source": [
    "pred = classifier.predict(comment)\n",
    "pred = pd.DataFrame(pred.toarray(),columns= y_test.columns)\n",
    "print(pred)"
   ]
  },
  {
   "cell_type": "code",
   "execution_count": 51,
   "id": "5f30422f",
   "metadata": {
    "execution": {
     "iopub.execute_input": "2022-11-17T15:19:48.906969Z",
     "iopub.status.busy": "2022-11-17T15:19:48.906567Z",
     "iopub.status.idle": "2022-11-17T15:19:48.925433Z",
     "shell.execute_reply": "2022-11-17T15:19:48.924121Z"
    },
    "papermill": {
     "duration": 0.070077,
     "end_time": "2022-11-17T15:19:48.928228",
     "exception": false,
     "start_time": "2022-11-17T15:19:48.858151",
     "status": "completed"
    },
    "tags": []
   },
   "outputs": [
    {
     "name": "stdout",
     "output_type": "stream",
     "text": [
      "     toxic  severe_toxic   obscene    threat    insult  identity_hate\n",
      "0  0.19782       0.01809  0.099076  0.007324  0.086859       0.016907\n"
     ]
    }
   ],
   "source": [
    "comment = [\"Hey\"]\n",
    "comment = count_vectorizer.transform(comment)\n",
    "pred = model.predict(comment)\n",
    "pred = pd.DataFrame(pred,columns= y_test.columns)\n",
    "print(pred)"
   ]
  },
  {
   "cell_type": "code",
   "execution_count": 52,
   "id": "814ec92b",
   "metadata": {
    "execution": {
     "iopub.execute_input": "2022-11-17T15:19:49.026130Z",
     "iopub.status.busy": "2022-11-17T15:19:49.024835Z",
     "iopub.status.idle": "2022-11-17T15:19:53.703124Z",
     "shell.execute_reply": "2022-11-17T15:19:53.701985Z"
    },
    "papermill": {
     "duration": 4.729547,
     "end_time": "2022-11-17T15:19:53.705584",
     "exception": false,
     "start_time": "2022-11-17T15:19:48.976037",
     "status": "completed"
    },
    "tags": []
   },
   "outputs": [],
   "source": [
    "from skmultilearn.ensemble import MajorityVotingClassifier\n",
    "from skmultilearn.cluster import FixedLabelSpaceClusterer\n",
    "from skmultilearn.problem_transform import ClassifierChain\n",
    "from sklearn.naive_bayes import GaussianNB\n",
    "\n",
    "classifier = MajorityVotingClassifier(\n",
    "    clusterer = FixedLabelSpaceClusterer(clusters = [[1,2,3], [0, 2, 5], [4, 5]]),\n",
    "    classifier = ClassifierChain(classifier=GaussianNB())\n",
    ")\n",
    "classifier.fit(X_train,y_train)\n",
    "predictionsVLBNN = classifier.predict(X_test)"
   ]
  },
  {
   "cell_type": "code",
   "execution_count": 53,
   "id": "090c2308",
   "metadata": {
    "execution": {
     "iopub.execute_input": "2022-11-17T15:19:53.802073Z",
     "iopub.status.busy": "2022-11-17T15:19:53.801340Z",
     "iopub.status.idle": "2022-11-17T15:19:53.808908Z",
     "shell.execute_reply": "2022-11-17T15:19:53.807120Z"
    },
    "papermill": {
     "duration": 0.059012,
     "end_time": "2022-11-17T15:19:53.811517",
     "exception": false,
     "start_time": "2022-11-17T15:19:53.752505",
     "status": "completed"
    },
    "tags": []
   },
   "outputs": [
    {
     "name": "stdout",
     "output_type": "stream",
     "text": [
      "\u001b[42m\u001b[37mAccuracy Score :\u001b[47m\u001b[32m   0.63\n",
      "\u001b[42m\u001b[37mHamming Loss :\u001b[47m\u001b[32m   0.2816666666666667\n"
     ]
    }
   ],
   "source": [
    "print(Back.GREEN+Fore.WHITE +f\"Accuracy Score :\" + Back.WHITE+Fore.GREEN + f\"   {accuracy_score(y_test,predictionsVLBNN)}\")\n",
    "print(Back.GREEN+Fore.WHITE +f\"Hamming Loss :\" + Back.WHITE+Fore.GREEN + f\"   {hamming_loss(y_test,predictionsVLBNN)}\")"
   ]
  },
  {
   "cell_type": "markdown",
   "id": "3854f777",
   "metadata": {
    "papermill": {
     "duration": 0.046312,
     "end_time": "2022-11-17T15:19:53.904519",
     "exception": false,
     "start_time": "2022-11-17T15:19:53.858207",
     "status": "completed"
    },
    "tags": []
   },
   "source": [
    "<center>\n",
    "<div style = \"background-color: rgba(152, 170, 236, 0.8); border-style: double;\">\n",
    "<strong style = \"font-size: 25px; color:rgba(86, 106, 181, 1);\"><center>5. Results and Observations</center></strong>\n",
    "</div>\n",
    "</center>"
   ]
  },
  {
   "cell_type": "code",
   "execution_count": 54,
   "id": "7903c9da",
   "metadata": {
    "execution": {
     "iopub.execute_input": "2022-11-17T15:19:53.996624Z",
     "iopub.status.busy": "2022-11-17T15:19:53.996316Z",
     "iopub.status.idle": "2022-11-17T15:19:54.093752Z",
     "shell.execute_reply": "2022-11-17T15:19:54.092162Z"
    },
    "papermill": {
     "duration": 0.14628,
     "end_time": "2022-11-17T15:19:54.096359",
     "exception": false,
     "start_time": "2022-11-17T15:19:53.950079",
     "status": "completed"
    },
    "tags": []
   },
   "outputs": [
    {
     "name": "stdout",
     "output_type": "stream",
     "text": [
      "+-------------------------------------------+----------------+----------------------+---------------------+---------------------+--------+---------------------+\n",
      "|                 Model Name                | Accuracy Score |     Hamming Loss     |      Precision      |       F1 score      | Recall |  Jaccard Similarity |\n",
      "+-------------------------------------------+----------------+----------------------+---------------------+---------------------+--------+---------------------+\n",
      "|   Binary Relevance Using GNB for 1-Gram   |      0.79      |        0.075         | 0.14285714285714285 | 0.15094339622641512 |  0.16  | 0.08163265306122448 |\n",
      "|   Binary Relevance Using GNB for 2-Gram   |      0.81      | 0.11666666666666667  | 0.09090909090909091 | 0.12500000000000003 |  0.2   | 0.06666666666666667 |\n",
      "|  Binary Relevance Using GNB for 1&2-Gram  |      0.85      | 0.058333333333333334 |  0.2222222222222222 | 0.18604651162790697 |  0.16  | 0.10256410256410256 |\n",
      "|   Binary Relevance Using GNB for 3-Gram   |      0.63      |  0.2816666666666667  | 0.08139534883720931 | 0.14213197969543148 |  0.56  | 0.07650273224043716 |\n",
      "|  Binary Relevance Using GNB for 2&3-Gram  |      0.81      | 0.11666666666666667  | 0.09090909090909091 | 0.12500000000000003 |  0.2   | 0.06666666666666667 |\n",
      "| Binary Relevance Using GNB for 1,2&3-Gram |      0.85      | 0.058333333333333334 |  0.2222222222222222 | 0.18604651162790697 |  0.16  | 0.10256410256410256 |\n",
      "|         Sequential Neural Networks        |      0.89      | 0.041666666666666664 |         0.0         |         0.0         |  0.0   |         0.0         |\n",
      "|       Classifier Chains & Gausian NB      |      0.63      |  0.2816666666666667  | 0.08139534883720931 | 0.14213197969543148 |  0.56  | 0.07650273224043716 |\n",
      "|        LabelPower Set & Gausian NB        |      0.63      |         0.16         | 0.10989010989010989 |  0.1724137931034483 |  0.4   | 0.09433962264150944 |\n",
      "|        Majority Voting Classifier         |      0.63      |  0.2816666666666667  | 0.08139534883720931 | 0.14213197969543148 |  0.56  | 0.07650273224043716 |\n",
      "+-------------------------------------------+----------------+----------------------+---------------------+---------------------+--------+---------------------+\n"
     ]
    },
    {
     "name": "stderr",
     "output_type": "stream",
     "text": [
      "/opt/conda/lib/python3.7/site-packages/sklearn/metrics/_classification.py:1318: UndefinedMetricWarning: Precision is ill-defined and being set to 0.0 due to no predicted samples. Use `zero_division` parameter to control this behavior.\n",
      "  _warn_prf(average, modifier, msg_start, len(result))\n"
     ]
    }
   ],
   "source": [
    "from prettytable import PrettyTable\n",
    "from sklearn.metrics import hamming_loss, accuracy_score, precision_score, recall_score, f1_score, jaccard_score\n",
    "# Specify the Column Names while initializing the Table\n",
    "myTable = PrettyTable([\"Model Name\", \"Accuracy Score\", \"Hamming Loss\", \"Precision\",\"F1 score\", \"Recall\",\"Jaccard Similarity\"])\n",
    " \n",
    "# Add rows\n",
    "myTable.add_row([\"Binary Relevance Using GNB for 1-Gram\", accuracy_score(y_test,predictions1n),\n",
    "                 hamming_loss(y_test,predictions1n), precision_score(y_test,predictions1n,average='micro'),\n",
    "                 f1_score(y_test,predictions1n,average='micro'),recall_score(y_test,predictions1n,average='micro'),jaccard_score(y_test,predictions1n,average='micro')])\n",
    "myTable.add_row([\"Binary Relevance Using GNB for 2-Gram\", accuracy_score(y_test,predictions2n),\n",
    "                 hamming_loss(y_test,predictions2n), precision_score(y_test,predictions2n,average='micro'),\n",
    "                 f1_score(y_test,predictions2n,average='micro'),recall_score(y_test,predictions2n,average='micro'),jaccard_score(y_test,predictions2n,average='micro')])\n",
    "myTable.add_row([\"Binary Relevance Using GNB for 1&2-Gram\", accuracy_score(y_test,predictions12n),\n",
    "                 hamming_loss(y_test,predictions12n), precision_score(y_test,predictions12n,average='micro'),\n",
    "                 f1_score(y_test,predictions12n,average='micro'),recall_score(y_test,predictions12n,average='micro'),jaccard_score(y_test,predictions12n,average='micro')])\n",
    "myTable.add_row([\"Binary Relevance Using GNB for 3-Gram\", accuracy_score(y_test,predictions3n),\n",
    "                 hamming_loss(y_test,predictions3n), precision_score(y_test,predictions3n,average='micro'),\n",
    "                 f1_score(y_test,predictions3n,average='micro'),recall_score(y_test,predictions3n,average='micro'),jaccard_score(y_test,predictions3n,average='micro')])\n",
    "myTable.add_row([\"Binary Relevance Using GNB for 2&3-Gram\", accuracy_score(y_test,predictions23n),\n",
    "                 hamming_loss(y_test,predictions23n), precision_score(y_test,predictions23n,average='micro'),\n",
    "                 f1_score(y_test,predictions23n,average='micro'),recall_score(y_test,predictions23n,average='micro'),jaccard_score(y_test,predictions23n,average='micro')])\n",
    "myTable.add_row([\"Binary Relevance Using GNB for 1,2&3-Gram\", accuracy_score(y_test,predictions123n),\n",
    "                 hamming_loss(y_test,predictions123n), precision_score(y_test,predictions123n,average='micro'),\n",
    "                 f1_score(y_test,predictions123n,average='micro'),recall_score(y_test,predictions123n,average='micro'),jaccard_score(y_test,predictions123n,average='micro')])\n",
    "\n",
    "\n",
    "myTable.add_row([\"Sequential Neural Networks\", accuracy_score(y_test,predictionsSNN),\n",
    "                 hamming_loss(y_test,predictionsSNN), precision_score(y_test,predictionsSNN,average='micro'),\n",
    "                 f1_score(y_test,predictionsSNN,average='micro'),recall_score(y_test,predictionsSNN,average='micro'),jaccard_score(y_test,predictionsSNN,average='micro')])\n",
    "myTable.add_row([\"Classifier Chains & Gausian NB\", accuracy_score(y_test,predictionsCCNN),\n",
    "                 hamming_loss(y_test,predictionsCCNN), precision_score(y_test,predictionsCCNN,average='micro'),\n",
    "                 f1_score(y_test,predictionsCCNN,average='micro'),recall_score(y_test,predictionsCCNN,average='micro'),jaccard_score(y_test,predictionsCCNN,average='micro')])\n",
    "myTable.add_row([\"LabelPower Set & Gausian NB\", accuracy_score(y_test,predictionsLBNN),\n",
    "                 hamming_loss(y_test,predictionsLBNN), precision_score(y_test,predictionsLBNN,average='micro'),\n",
    "                 f1_score(y_test,predictionsLBNN,average='micro'),recall_score(y_test,predictionsLBNN,average='micro'),jaccard_score(y_test,predictionsLBNN,average='micro')])\n",
    "myTable.add_row([\"Majority Voting Classifier \", accuracy_score(y_test,predictionsVLBNN),\n",
    "                 hamming_loss(y_test,predictionsVLBNN), precision_score(y_test,predictionsVLBNN,average='micro'),\n",
    "                 f1_score(y_test,predictionsVLBNN,average='micro'),recall_score(y_test,predictionsVLBNN,average='micro'),jaccard_score(y_test,predictionsVLBNN,average='micro')])\n",
    "\n",
    "print(myTable)"
   ]
  },
  {
   "cell_type": "markdown",
   "id": "f30fa71c",
   "metadata": {
    "papermill": {
     "duration": 0.046155,
     "end_time": "2022-11-17T15:19:54.190302",
     "exception": false,
     "start_time": "2022-11-17T15:19:54.144147",
     "status": "completed"
    },
    "tags": []
   },
   "source": [
    "**The KNN Approach**\n",
    "\n",
    "HOW DOES IT WORK?"
   ]
  },
  {
   "cell_type": "code",
   "execution_count": 55,
   "id": "e2d81d6d",
   "metadata": {
    "execution": {
     "iopub.execute_input": "2022-11-17T15:19:54.285279Z",
     "iopub.status.busy": "2022-11-17T15:19:54.284639Z",
     "iopub.status.idle": "2022-11-17T15:19:54.353166Z",
     "shell.execute_reply": "2022-11-17T15:19:54.352125Z"
    },
    "papermill": {
     "duration": 0.11867,
     "end_time": "2022-11-17T15:19:54.355554",
     "exception": false,
     "start_time": "2022-11-17T15:19:54.236884",
     "status": "completed"
    },
    "tags": []
   },
   "outputs": [],
   "source": [
    "from skmultilearn.adapt import MLkNN\n"
   ]
  },
  {
   "cell_type": "code",
   "execution_count": 56,
   "id": "066b6f4a",
   "metadata": {
    "execution": {
     "iopub.execute_input": "2022-11-17T15:19:54.449801Z",
     "iopub.status.busy": "2022-11-17T15:19:54.449394Z",
     "iopub.status.idle": "2022-11-17T15:20:07.783572Z",
     "shell.execute_reply": "2022-11-17T15:20:07.782175Z"
    },
    "papermill": {
     "duration": 13.384382,
     "end_time": "2022-11-17T15:20:07.786223",
     "exception": false,
     "start_time": "2022-11-17T15:19:54.401841",
     "status": "completed"
    },
    "tags": []
   },
   "outputs": [
    {
     "name": "stdout",
     "output_type": "stream",
     "text": [
      "Collecting arff\r\n",
      "  Downloading arff-0.9.tar.gz (4.7 kB)\r\n",
      "  Preparing metadata (setup.py) ... \u001b[?25l-\b \bdone\r\n",
      "\u001b[?25hBuilding wheels for collected packages: arff\r\n",
      "  Building wheel for arff (setup.py) ... \u001b[?25l-\b \b\\\b \bdone\r\n",
      "\u001b[?25h  Created wheel for arff: filename=arff-0.9-py3-none-any.whl size=4971 sha256=25e6468d9eece9cb49108da73a962dc1d0fd495d86e17cb3ed20d3cbbabad42d\r\n",
      "  Stored in directory: /root/.cache/pip/wheels/fe/81/bd/4ae90e24ba860304e375da219f9205b2586dbee255f3ee70e2\r\n",
      "Successfully built arff\r\n",
      "Installing collected packages: arff\r\n",
      "Successfully installed arff-0.9\r\n",
      "\u001b[33mWARNING: Running pip as the 'root' user can result in broken permissions and conflicting behaviour with the system package manager. It is recommended to use a virtual environment instead: https://pip.pypa.io/warnings/venv\u001b[0m\u001b[33m\r\n",
      "\u001b[0m"
     ]
    }
   ],
   "source": [
    "!pip install arff"
   ]
  },
  {
   "cell_type": "code",
   "execution_count": 57,
   "id": "a809cbaa",
   "metadata": {
    "execution": {
     "iopub.execute_input": "2022-11-17T15:20:07.884192Z",
     "iopub.status.busy": "2022-11-17T15:20:07.883770Z",
     "iopub.status.idle": "2022-11-17T15:20:17.306479Z",
     "shell.execute_reply": "2022-11-17T15:20:17.305459Z"
    },
    "papermill": {
     "duration": 9.47419,
     "end_time": "2022-11-17T15:20:17.308812",
     "exception": false,
     "start_time": "2022-11-17T15:20:07.834622",
     "status": "completed"
    },
    "tags": []
   },
   "outputs": [
    {
     "name": "stdout",
     "output_type": "stream",
     "text": [
      "Requirement already satisfied: scikit-multilearn in /opt/conda/lib/python3.7/site-packages (0.2.0)\r\n",
      "\u001b[33mWARNING: Running pip as the 'root' user can result in broken permissions and conflicting behaviour with the system package manager. It is recommended to use a virtual environment instead: https://pip.pypa.io/warnings/venv\u001b[0m\u001b[33m\r\n",
      "\u001b[0memotions:train - does not exists downloading\n",
      "Downloaded emotions-train\n",
      "emotions:test - does not exists downloading\n",
      "Downloaded emotions-test\n"
     ]
    }
   ],
   "source": [
    "!pip install scikit-multilearn\n",
    "from skmultilearn.dataset import load_dataset\n",
    "X_trainD, y_trainD, feature_names, label_names = load_dataset('emotions', 'train')\n",
    "X_testD, y_testD, _, _ =load_dataset('emotions', 'test')"
   ]
  },
  {
   "cell_type": "code",
   "execution_count": 58,
   "id": "8cc460c7",
   "metadata": {
    "execution": {
     "iopub.execute_input": "2022-11-17T15:20:17.407078Z",
     "iopub.status.busy": "2022-11-17T15:20:17.406149Z",
     "iopub.status.idle": "2022-11-17T15:20:17.412657Z",
     "shell.execute_reply": "2022-11-17T15:20:17.411626Z"
    },
    "papermill": {
     "duration": 0.057188,
     "end_time": "2022-11-17T15:20:17.414409",
     "exception": false,
     "start_time": "2022-11-17T15:20:17.357221",
     "status": "completed"
    },
    "tags": []
   },
   "outputs": [
    {
     "data": {
      "text/plain": [
       "<391x72 sparse matrix of type '<class 'numpy.float64'>'\n",
       "\twith 28059 stored elements in List of Lists format>"
      ]
     },
     "execution_count": 58,
     "metadata": {},
     "output_type": "execute_result"
    }
   ],
   "source": [
    "X_trainD"
   ]
  },
  {
   "cell_type": "code",
   "execution_count": 59,
   "id": "735d840c",
   "metadata": {
    "execution": {
     "iopub.execute_input": "2022-11-17T15:20:17.511093Z",
     "iopub.status.busy": "2022-11-17T15:20:17.510707Z",
     "iopub.status.idle": "2022-11-17T15:20:17.530616Z",
     "shell.execute_reply": "2022-11-17T15:20:17.529998Z"
    },
    "papermill": {
     "duration": 0.070811,
     "end_time": "2022-11-17T15:20:17.532463",
     "exception": false,
     "start_time": "2022-11-17T15:20:17.461652",
     "status": "completed"
    },
    "tags": []
   },
   "outputs": [
    {
     "data": {
      "text/html": [
       "<div>\n",
       "<style scoped>\n",
       "    .dataframe tbody tr th:only-of-type {\n",
       "        vertical-align: middle;\n",
       "    }\n",
       "\n",
       "    .dataframe tbody tr th {\n",
       "        vertical-align: top;\n",
       "    }\n",
       "\n",
       "    .dataframe thead th {\n",
       "        text-align: right;\n",
       "    }\n",
       "</style>\n",
       "<table border=\"1\" class=\"dataframe\">\n",
       "  <thead>\n",
       "    <tr style=\"text-align: right;\">\n",
       "      <th></th>\n",
       "      <th>abide by the</th>\n",
       "      <th>able to do</th>\n",
       "      <th>able to get</th>\n",
       "      <th>able to post</th>\n",
       "      <th>able to see</th>\n",
       "      <th>able to take</th>\n",
       "      <th>about alternative life</th>\n",
       "      <th>about censorship in</th>\n",
       "      <th>about contributing to</th>\n",
       "      <th>about ed morrissey</th>\n",
       "      <th>...</th>\n",
       "      <th>your way around</th>\n",
       "      <th>your wife and</th>\n",
       "      <th>youre coming from</th>\n",
       "      <th>youre going to</th>\n",
       "      <th>youre right was</th>\n",
       "      <th>yourself but dont</th>\n",
       "      <th>yourself familiar with</th>\n",
       "      <th>yourself then you</th>\n",
       "      <th>yourself to the</th>\n",
       "      <th>yourself with the</th>\n",
       "    </tr>\n",
       "  </thead>\n",
       "  <tbody>\n",
       "    <tr>\n",
       "      <th>0</th>\n",
       "      <td>0</td>\n",
       "      <td>0</td>\n",
       "      <td>0</td>\n",
       "      <td>0</td>\n",
       "      <td>0</td>\n",
       "      <td>0</td>\n",
       "      <td>0</td>\n",
       "      <td>0</td>\n",
       "      <td>0</td>\n",
       "      <td>0</td>\n",
       "      <td>...</td>\n",
       "      <td>0</td>\n",
       "      <td>0</td>\n",
       "      <td>0</td>\n",
       "      <td>0</td>\n",
       "      <td>0</td>\n",
       "      <td>0</td>\n",
       "      <td>0</td>\n",
       "      <td>0</td>\n",
       "      <td>0</td>\n",
       "      <td>0</td>\n",
       "    </tr>\n",
       "    <tr>\n",
       "      <th>1</th>\n",
       "      <td>0</td>\n",
       "      <td>0</td>\n",
       "      <td>0</td>\n",
       "      <td>0</td>\n",
       "      <td>0</td>\n",
       "      <td>0</td>\n",
       "      <td>0</td>\n",
       "      <td>0</td>\n",
       "      <td>0</td>\n",
       "      <td>0</td>\n",
       "      <td>...</td>\n",
       "      <td>0</td>\n",
       "      <td>0</td>\n",
       "      <td>0</td>\n",
       "      <td>0</td>\n",
       "      <td>0</td>\n",
       "      <td>0</td>\n",
       "      <td>0</td>\n",
       "      <td>0</td>\n",
       "      <td>0</td>\n",
       "      <td>0</td>\n",
       "    </tr>\n",
       "    <tr>\n",
       "      <th>2</th>\n",
       "      <td>0</td>\n",
       "      <td>0</td>\n",
       "      <td>0</td>\n",
       "      <td>0</td>\n",
       "      <td>0</td>\n",
       "      <td>0</td>\n",
       "      <td>0</td>\n",
       "      <td>0</td>\n",
       "      <td>0</td>\n",
       "      <td>0</td>\n",
       "      <td>...</td>\n",
       "      <td>0</td>\n",
       "      <td>0</td>\n",
       "      <td>0</td>\n",
       "      <td>0</td>\n",
       "      <td>0</td>\n",
       "      <td>0</td>\n",
       "      <td>0</td>\n",
       "      <td>0</td>\n",
       "      <td>0</td>\n",
       "      <td>0</td>\n",
       "    </tr>\n",
       "    <tr>\n",
       "      <th>3</th>\n",
       "      <td>0</td>\n",
       "      <td>0</td>\n",
       "      <td>0</td>\n",
       "      <td>0</td>\n",
       "      <td>0</td>\n",
       "      <td>0</td>\n",
       "      <td>0</td>\n",
       "      <td>0</td>\n",
       "      <td>0</td>\n",
       "      <td>0</td>\n",
       "      <td>...</td>\n",
       "      <td>0</td>\n",
       "      <td>0</td>\n",
       "      <td>0</td>\n",
       "      <td>0</td>\n",
       "      <td>0</td>\n",
       "      <td>0</td>\n",
       "      <td>0</td>\n",
       "      <td>0</td>\n",
       "      <td>0</td>\n",
       "      <td>0</td>\n",
       "    </tr>\n",
       "    <tr>\n",
       "      <th>4</th>\n",
       "      <td>0</td>\n",
       "      <td>0</td>\n",
       "      <td>0</td>\n",
       "      <td>0</td>\n",
       "      <td>0</td>\n",
       "      <td>0</td>\n",
       "      <td>0</td>\n",
       "      <td>0</td>\n",
       "      <td>0</td>\n",
       "      <td>0</td>\n",
       "      <td>...</td>\n",
       "      <td>0</td>\n",
       "      <td>0</td>\n",
       "      <td>0</td>\n",
       "      <td>0</td>\n",
       "      <td>0</td>\n",
       "      <td>0</td>\n",
       "      <td>0</td>\n",
       "      <td>0</td>\n",
       "      <td>0</td>\n",
       "      <td>0</td>\n",
       "    </tr>\n",
       "    <tr>\n",
       "      <th>...</th>\n",
       "      <td>...</td>\n",
       "      <td>...</td>\n",
       "      <td>...</td>\n",
       "      <td>...</td>\n",
       "      <td>...</td>\n",
       "      <td>...</td>\n",
       "      <td>...</td>\n",
       "      <td>...</td>\n",
       "      <td>...</td>\n",
       "      <td>...</td>\n",
       "      <td>...</td>\n",
       "      <td>...</td>\n",
       "      <td>...</td>\n",
       "      <td>...</td>\n",
       "      <td>...</td>\n",
       "      <td>...</td>\n",
       "      <td>...</td>\n",
       "      <td>...</td>\n",
       "      <td>...</td>\n",
       "      <td>...</td>\n",
       "      <td>...</td>\n",
       "    </tr>\n",
       "    <tr>\n",
       "      <th>1895</th>\n",
       "      <td>0</td>\n",
       "      <td>0</td>\n",
       "      <td>0</td>\n",
       "      <td>0</td>\n",
       "      <td>0</td>\n",
       "      <td>0</td>\n",
       "      <td>0</td>\n",
       "      <td>0</td>\n",
       "      <td>0</td>\n",
       "      <td>0</td>\n",
       "      <td>...</td>\n",
       "      <td>0</td>\n",
       "      <td>0</td>\n",
       "      <td>0</td>\n",
       "      <td>0</td>\n",
       "      <td>0</td>\n",
       "      <td>0</td>\n",
       "      <td>0</td>\n",
       "      <td>0</td>\n",
       "      <td>0</td>\n",
       "      <td>0</td>\n",
       "    </tr>\n",
       "    <tr>\n",
       "      <th>1896</th>\n",
       "      <td>0</td>\n",
       "      <td>0</td>\n",
       "      <td>0</td>\n",
       "      <td>0</td>\n",
       "      <td>0</td>\n",
       "      <td>0</td>\n",
       "      <td>0</td>\n",
       "      <td>0</td>\n",
       "      <td>0</td>\n",
       "      <td>0</td>\n",
       "      <td>...</td>\n",
       "      <td>0</td>\n",
       "      <td>0</td>\n",
       "      <td>0</td>\n",
       "      <td>0</td>\n",
       "      <td>0</td>\n",
       "      <td>0</td>\n",
       "      <td>0</td>\n",
       "      <td>0</td>\n",
       "      <td>0</td>\n",
       "      <td>0</td>\n",
       "    </tr>\n",
       "    <tr>\n",
       "      <th>1897</th>\n",
       "      <td>0</td>\n",
       "      <td>0</td>\n",
       "      <td>0</td>\n",
       "      <td>0</td>\n",
       "      <td>0</td>\n",
       "      <td>0</td>\n",
       "      <td>0</td>\n",
       "      <td>0</td>\n",
       "      <td>0</td>\n",
       "      <td>0</td>\n",
       "      <td>...</td>\n",
       "      <td>0</td>\n",
       "      <td>0</td>\n",
       "      <td>0</td>\n",
       "      <td>0</td>\n",
       "      <td>0</td>\n",
       "      <td>0</td>\n",
       "      <td>0</td>\n",
       "      <td>0</td>\n",
       "      <td>0</td>\n",
       "      <td>0</td>\n",
       "    </tr>\n",
       "    <tr>\n",
       "      <th>1898</th>\n",
       "      <td>0</td>\n",
       "      <td>0</td>\n",
       "      <td>0</td>\n",
       "      <td>0</td>\n",
       "      <td>0</td>\n",
       "      <td>0</td>\n",
       "      <td>0</td>\n",
       "      <td>0</td>\n",
       "      <td>0</td>\n",
       "      <td>0</td>\n",
       "      <td>...</td>\n",
       "      <td>0</td>\n",
       "      <td>0</td>\n",
       "      <td>0</td>\n",
       "      <td>0</td>\n",
       "      <td>0</td>\n",
       "      <td>0</td>\n",
       "      <td>0</td>\n",
       "      <td>0</td>\n",
       "      <td>0</td>\n",
       "      <td>0</td>\n",
       "    </tr>\n",
       "    <tr>\n",
       "      <th>1899</th>\n",
       "      <td>0</td>\n",
       "      <td>0</td>\n",
       "      <td>0</td>\n",
       "      <td>0</td>\n",
       "      <td>0</td>\n",
       "      <td>0</td>\n",
       "      <td>0</td>\n",
       "      <td>0</td>\n",
       "      <td>0</td>\n",
       "      <td>0</td>\n",
       "      <td>...</td>\n",
       "      <td>0</td>\n",
       "      <td>0</td>\n",
       "      <td>0</td>\n",
       "      <td>0</td>\n",
       "      <td>0</td>\n",
       "      <td>0</td>\n",
       "      <td>0</td>\n",
       "      <td>0</td>\n",
       "      <td>0</td>\n",
       "      <td>0</td>\n",
       "    </tr>\n",
       "  </tbody>\n",
       "</table>\n",
       "<p>1900 rows × 20000 columns</p>\n",
       "</div>"
      ],
      "text/plain": [
       "      abide by the  able to do  able to get  able to post  able to see  \\\n",
       "0                0           0            0             0            0   \n",
       "1                0           0            0             0            0   \n",
       "2                0           0            0             0            0   \n",
       "3                0           0            0             0            0   \n",
       "4                0           0            0             0            0   \n",
       "...            ...         ...          ...           ...          ...   \n",
       "1895             0           0            0             0            0   \n",
       "1896             0           0            0             0            0   \n",
       "1897             0           0            0             0            0   \n",
       "1898             0           0            0             0            0   \n",
       "1899             0           0            0             0            0   \n",
       "\n",
       "      able to take  about alternative life  about censorship in  \\\n",
       "0                0                       0                    0   \n",
       "1                0                       0                    0   \n",
       "2                0                       0                    0   \n",
       "3                0                       0                    0   \n",
       "4                0                       0                    0   \n",
       "...            ...                     ...                  ...   \n",
       "1895             0                       0                    0   \n",
       "1896             0                       0                    0   \n",
       "1897             0                       0                    0   \n",
       "1898             0                       0                    0   \n",
       "1899             0                       0                    0   \n",
       "\n",
       "      about contributing to  about ed morrissey  ...  your way around  \\\n",
       "0                         0                   0  ...                0   \n",
       "1                         0                   0  ...                0   \n",
       "2                         0                   0  ...                0   \n",
       "3                         0                   0  ...                0   \n",
       "4                         0                   0  ...                0   \n",
       "...                     ...                 ...  ...              ...   \n",
       "1895                      0                   0  ...                0   \n",
       "1896                      0                   0  ...                0   \n",
       "1897                      0                   0  ...                0   \n",
       "1898                      0                   0  ...                0   \n",
       "1899                      0                   0  ...                0   \n",
       "\n",
       "      your wife and  youre coming from  youre going to  youre right was  \\\n",
       "0                 0                  0               0                0   \n",
       "1                 0                  0               0                0   \n",
       "2                 0                  0               0                0   \n",
       "3                 0                  0               0                0   \n",
       "4                 0                  0               0                0   \n",
       "...             ...                ...             ...              ...   \n",
       "1895              0                  0               0                0   \n",
       "1896              0                  0               0                0   \n",
       "1897              0                  0               0                0   \n",
       "1898              0                  0               0                0   \n",
       "1899              0                  0               0                0   \n",
       "\n",
       "      yourself but dont  yourself familiar with  yourself then you  \\\n",
       "0                     0                       0                  0   \n",
       "1                     0                       0                  0   \n",
       "2                     0                       0                  0   \n",
       "3                     0                       0                  0   \n",
       "4                     0                       0                  0   \n",
       "...                 ...                     ...                ...   \n",
       "1895                  0                       0                  0   \n",
       "1896                  0                       0                  0   \n",
       "1897                  0                       0                  0   \n",
       "1898                  0                       0                  0   \n",
       "1899                  0                       0                  0   \n",
       "\n",
       "      yourself to the  yourself with the  \n",
       "0                   0                  0  \n",
       "1                   0                  0  \n",
       "2                   0                  0  \n",
       "3                   0                  0  \n",
       "4                   0                  0  \n",
       "...               ...                ...  \n",
       "1895                0                  0  \n",
       "1896                0                  0  \n",
       "1897                0                  0  \n",
       "1898                0                  0  \n",
       "1899                0                  0  \n",
       "\n",
       "[1900 rows x 20000 columns]"
      ]
     },
     "execution_count": 59,
     "metadata": {},
     "output_type": "execute_result"
    }
   ],
   "source": [
    "X_train"
   ]
  },
  {
   "cell_type": "code",
   "execution_count": 60,
   "id": "36f1153b",
   "metadata": {
    "execution": {
     "iopub.execute_input": "2022-11-17T15:20:17.628654Z",
     "iopub.status.busy": "2022-11-17T15:20:17.628324Z",
     "iopub.status.idle": "2022-11-17T15:20:17.632321Z",
     "shell.execute_reply": "2022-11-17T15:20:17.631520Z"
    },
    "papermill": {
     "duration": 0.054094,
     "end_time": "2022-11-17T15:20:17.634278",
     "exception": false,
     "start_time": "2022-11-17T15:20:17.580184",
     "status": "completed"
    },
    "tags": []
   },
   "outputs": [],
   "source": [
    "# from skmultilearn.adapt import MLkNN\n",
    "# from sklearn.model_selection import GridSearchCV, train_test_split\n",
    "# import numpy as np\n",
    "\n",
    "# mlknn_classifier = MLkNN()\n",
    "# mlknn_classifier.fit(X_train, y_train)"
   ]
  },
  {
   "cell_type": "code",
   "execution_count": 61,
   "id": "317ca80e",
   "metadata": {
    "execution": {
     "iopub.execute_input": "2022-11-17T15:20:17.730881Z",
     "iopub.status.busy": "2022-11-17T15:20:17.730092Z",
     "iopub.status.idle": "2022-11-17T15:20:17.733828Z",
     "shell.execute_reply": "2022-11-17T15:20:17.733185Z"
    },
    "papermill": {
     "duration": 0.054131,
     "end_time": "2022-11-17T15:20:17.735872",
     "exception": false,
     "start_time": "2022-11-17T15:20:17.681741",
     "status": "completed"
    },
    "tags": []
   },
   "outputs": [],
   "source": [
    "# mlknn_classifier = MLkNN()\n",
    "# mlknn_classifier.fit(X_train, y_train)"
   ]
  },
  {
   "cell_type": "code",
   "execution_count": 62,
   "id": "61de3f73",
   "metadata": {
    "execution": {
     "iopub.execute_input": "2022-11-17T15:20:17.835497Z",
     "iopub.status.busy": "2022-11-17T15:20:17.834395Z",
     "iopub.status.idle": "2022-11-17T15:20:17.839744Z",
     "shell.execute_reply": "2022-11-17T15:20:17.838201Z"
    },
    "papermill": {
     "duration": 0.05749,
     "end_time": "2022-11-17T15:20:17.842285",
     "exception": false,
     "start_time": "2022-11-17T15:20:17.784795",
     "status": "completed"
    },
    "tags": []
   },
   "outputs": [],
   "source": [
    "# comment2 = [\"I will kill you!\"]\n",
    "# comment2_ = count_vectorizer.transform(comment2)\n",
    "  \n",
    "# pred2 = mlknn_classifier.predict(comment2_)\n",
    "# print(pred2.toarray())"
   ]
  },
  {
   "cell_type": "code",
   "execution_count": 63,
   "id": "062408e0",
   "metadata": {
    "execution": {
     "iopub.execute_input": "2022-11-17T15:20:17.944270Z",
     "iopub.status.busy": "2022-11-17T15:20:17.943646Z",
     "iopub.status.idle": "2022-11-17T15:20:17.947319Z",
     "shell.execute_reply": "2022-11-17T15:20:17.946404Z"
    },
    "papermill": {
     "duration": 0.057174,
     "end_time": "2022-11-17T15:20:17.949339",
     "exception": false,
     "start_time": "2022-11-17T15:20:17.892165",
     "status": "completed"
    },
    "tags": []
   },
   "outputs": [],
   "source": [
    "# pred2 = mlknn_classifier.predict(X_test)\n",
    "  \n",
    "# print(accuracy_score(y_test, predicted))\n",
    "# print(hamming_loss(y_test, predicted))"
   ]
  }
 ],
 "metadata": {
  "kernelspec": {
   "display_name": "Python 3",
   "language": "python",
   "name": "python3"
  },
  "language_info": {
   "codemirror_mode": {
    "name": "ipython",
    "version": 3
   },
   "file_extension": ".py",
   "mimetype": "text/x-python",
   "name": "python",
   "nbconvert_exporter": "python",
   "pygments_lexer": "ipython3",
   "version": "3.7.12"
  },
  "papermill": {
   "default_parameters": {},
   "duration": 264.230779,
   "end_time": "2022-11-17T15:20:21.567326",
   "environment_variables": {},
   "exception": null,
   "input_path": "__notebook__.ipynb",
   "output_path": "__notebook__.ipynb",
   "parameters": {},
   "start_time": "2022-11-17T15:15:57.336547",
   "version": "2.3.4"
  }
 },
 "nbformat": 4,
 "nbformat_minor": 5
}
