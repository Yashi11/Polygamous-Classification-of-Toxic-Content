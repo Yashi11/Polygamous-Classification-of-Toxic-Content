{
 "cells": [
  {
   "cell_type": "code",
   "execution_count": 1,
   "id": "09d223ba",
   "metadata": {
    "_cell_guid": "b1076dfc-b9ad-4769-8c92-a6c4dae69d19",
    "_uuid": "8f2839f25d086af736a60e9eeb907d3b93b6e0e5",
    "execution": {
     "iopub.execute_input": "2022-11-10T13:34:23.395090Z",
     "iopub.status.busy": "2022-11-10T13:34:23.394289Z",
     "iopub.status.idle": "2022-11-10T13:34:24.540953Z",
     "shell.execute_reply": "2022-11-10T13:34:24.539633Z"
    },
    "papermill": {
     "duration": 1.1647,
     "end_time": "2022-11-10T13:34:24.544040",
     "exception": false,
     "start_time": "2022-11-10T13:34:23.379340",
     "status": "completed"
    },
    "tags": []
   },
   "outputs": [
    {
     "name": "stdout",
     "output_type": "stream",
     "text": [
      "/kaggle/input/jigsaw-toxic-comment-classification-challenge/train.csv.zip\n",
      "/kaggle/input/jigsaw-toxic-comment-classification-challenge/sample_submission.csv.zip\n",
      "/kaggle/input/jigsaw-toxic-comment-classification-challenge/test_labels.csv.zip\n",
      "/kaggle/input/jigsaw-toxic-comment-classification-challenge/test.csv.zip\n"
     ]
    }
   ],
   "source": [
    "import numpy as np\n",
    "import pandas as pd\n",
    "from colorama import Fore, Back, Style\n",
    "import seaborn as sns\n",
    "import os\n",
    "for dirname, _, filenames in os.walk('/kaggle/input'):\n",
    "    for filename in filenames:\n",
    "        print(os.path.join(dirname, filename))\n",
    "        "
   ]
  },
  {
   "cell_type": "code",
   "execution_count": 2,
   "id": "2080b239",
   "metadata": {
    "execution": {
     "iopub.execute_input": "2022-11-10T13:34:24.576416Z",
     "iopub.status.busy": "2022-11-10T13:34:24.575344Z",
     "iopub.status.idle": "2022-11-10T13:34:27.145572Z",
     "shell.execute_reply": "2022-11-10T13:34:27.144237Z"
    },
    "papermill": {
     "duration": 2.591115,
     "end_time": "2022-11-10T13:34:27.148902",
     "exception": false,
     "start_time": "2022-11-10T13:34:24.557787",
     "status": "completed"
    },
    "tags": []
   },
   "outputs": [],
   "source": [
    "df = pd.read_csv(\"../input/jigsaw-toxic-comment-classification-challenge/train.csv.zip\")"
   ]
  },
  {
   "cell_type": "markdown",
   "id": "17ba547c",
   "metadata": {
    "papermill": {
     "duration": 0.011635,
     "end_time": "2022-11-10T13:34:27.172345",
     "exception": false,
     "start_time": "2022-11-10T13:34:27.160710",
     "status": "completed"
    },
    "tags": []
   },
   "source": [
    "<center>\n",
    "<div style = \"background-color: rgba(152, 170, 236, 0.8); border-style: double;\">\n",
    "<strong style = \"font-size: 25px; color:rgba(86, 106, 181, 1);\"><center>Exploratory Data Analysis</center></strong>\n",
    "</div>\n",
    "</center>"
   ]
  },
  {
   "cell_type": "markdown",
   "id": "1b8715d9",
   "metadata": {
    "papermill": {
     "duration": 0.011368,
     "end_time": "2022-11-10T13:34:27.195619",
     "exception": false,
     "start_time": "2022-11-10T13:34:27.184251",
     "status": "completed"
    },
    "tags": []
   },
   "source": [
    "There are several techniques to analyse data like classical analysis, exploratory data analysis and bayesian data analysis approach. We proceed with EDA in order to understand the structure of our data, is outliers, models and visualizations."
   ]
  },
  {
   "cell_type": "markdown",
   "id": "f2a34644",
   "metadata": {
    "papermill": {
     "duration": 0.011482,
     "end_time": "2022-11-10T13:34:27.218985",
     "exception": false,
     "start_time": "2022-11-10T13:34:27.207503",
     "status": "completed"
    },
    "tags": []
   },
   "source": [
    "# Basic Datset Exploration and Structuring"
   ]
  },
  {
   "cell_type": "code",
   "execution_count": 3,
   "id": "5cb92b8d",
   "metadata": {
    "execution": {
     "iopub.execute_input": "2022-11-10T13:34:27.244871Z",
     "iopub.status.busy": "2022-11-10T13:34:27.243796Z",
     "iopub.status.idle": "2022-11-10T13:34:27.268602Z",
     "shell.execute_reply": "2022-11-10T13:34:27.267367Z"
    },
    "papermill": {
     "duration": 0.040709,
     "end_time": "2022-11-10T13:34:27.271425",
     "exception": false,
     "start_time": "2022-11-10T13:34:27.230716",
     "status": "completed"
    },
    "tags": []
   },
   "outputs": [
    {
     "data": {
      "text/html": [
       "<div>\n",
       "<style scoped>\n",
       "    .dataframe tbody tr th:only-of-type {\n",
       "        vertical-align: middle;\n",
       "    }\n",
       "\n",
       "    .dataframe tbody tr th {\n",
       "        vertical-align: top;\n",
       "    }\n",
       "\n",
       "    .dataframe thead th {\n",
       "        text-align: right;\n",
       "    }\n",
       "</style>\n",
       "<table border=\"1\" class=\"dataframe\">\n",
       "  <thead>\n",
       "    <tr style=\"text-align: right;\">\n",
       "      <th></th>\n",
       "      <th>id</th>\n",
       "      <th>comment_text</th>\n",
       "      <th>toxic</th>\n",
       "      <th>severe_toxic</th>\n",
       "      <th>obscene</th>\n",
       "      <th>threat</th>\n",
       "      <th>insult</th>\n",
       "      <th>identity_hate</th>\n",
       "    </tr>\n",
       "  </thead>\n",
       "  <tbody>\n",
       "    <tr>\n",
       "      <th>0</th>\n",
       "      <td>0000997932d777bf</td>\n",
       "      <td>Explanation\\nWhy the edits made under my usern...</td>\n",
       "      <td>0</td>\n",
       "      <td>0</td>\n",
       "      <td>0</td>\n",
       "      <td>0</td>\n",
       "      <td>0</td>\n",
       "      <td>0</td>\n",
       "    </tr>\n",
       "    <tr>\n",
       "      <th>1</th>\n",
       "      <td>000103f0d9cfb60f</td>\n",
       "      <td>D'aww! He matches this background colour I'm s...</td>\n",
       "      <td>0</td>\n",
       "      <td>0</td>\n",
       "      <td>0</td>\n",
       "      <td>0</td>\n",
       "      <td>0</td>\n",
       "      <td>0</td>\n",
       "    </tr>\n",
       "    <tr>\n",
       "      <th>2</th>\n",
       "      <td>000113f07ec002fd</td>\n",
       "      <td>Hey man, I'm really not trying to edit war. It...</td>\n",
       "      <td>0</td>\n",
       "      <td>0</td>\n",
       "      <td>0</td>\n",
       "      <td>0</td>\n",
       "      <td>0</td>\n",
       "      <td>0</td>\n",
       "    </tr>\n",
       "    <tr>\n",
       "      <th>3</th>\n",
       "      <td>0001b41b1c6bb37e</td>\n",
       "      <td>\"\\nMore\\nI can't make any real suggestions on ...</td>\n",
       "      <td>0</td>\n",
       "      <td>0</td>\n",
       "      <td>0</td>\n",
       "      <td>0</td>\n",
       "      <td>0</td>\n",
       "      <td>0</td>\n",
       "    </tr>\n",
       "    <tr>\n",
       "      <th>4</th>\n",
       "      <td>0001d958c54c6e35</td>\n",
       "      <td>You, sir, are my hero. Any chance you remember...</td>\n",
       "      <td>0</td>\n",
       "      <td>0</td>\n",
       "      <td>0</td>\n",
       "      <td>0</td>\n",
       "      <td>0</td>\n",
       "      <td>0</td>\n",
       "    </tr>\n",
       "  </tbody>\n",
       "</table>\n",
       "</div>"
      ],
      "text/plain": [
       "                 id                                       comment_text  toxic  \\\n",
       "0  0000997932d777bf  Explanation\\nWhy the edits made under my usern...      0   \n",
       "1  000103f0d9cfb60f  D'aww! He matches this background colour I'm s...      0   \n",
       "2  000113f07ec002fd  Hey man, I'm really not trying to edit war. It...      0   \n",
       "3  0001b41b1c6bb37e  \"\\nMore\\nI can't make any real suggestions on ...      0   \n",
       "4  0001d958c54c6e35  You, sir, are my hero. Any chance you remember...      0   \n",
       "\n",
       "   severe_toxic  obscene  threat  insult  identity_hate  \n",
       "0             0        0       0       0              0  \n",
       "1             0        0       0       0              0  \n",
       "2             0        0       0       0              0  \n",
       "3             0        0       0       0              0  \n",
       "4             0        0       0       0              0  "
      ]
     },
     "execution_count": 3,
     "metadata": {},
     "output_type": "execute_result"
    }
   ],
   "source": [
    "df.head()"
   ]
  },
  {
   "cell_type": "code",
   "execution_count": 4,
   "id": "4d396cc1",
   "metadata": {
    "execution": {
     "iopub.execute_input": "2022-11-10T13:34:27.297917Z",
     "iopub.status.busy": "2022-11-10T13:34:27.297401Z",
     "iopub.status.idle": "2022-11-10T13:34:27.305217Z",
     "shell.execute_reply": "2022-11-10T13:34:27.304052Z"
    },
    "papermill": {
     "duration": 0.024238,
     "end_time": "2022-11-10T13:34:27.307767",
     "exception": false,
     "start_time": "2022-11-10T13:34:27.283529",
     "status": "completed"
    },
    "tags": []
   },
   "outputs": [
    {
     "data": {
      "text/plain": [
       "(159571, 8)"
      ]
     },
     "execution_count": 4,
     "metadata": {},
     "output_type": "execute_result"
    }
   ],
   "source": [
    "df.shape"
   ]
  },
  {
   "cell_type": "code",
   "execution_count": 5,
   "id": "55bed3df",
   "metadata": {
    "execution": {
     "iopub.execute_input": "2022-11-10T13:34:27.335075Z",
     "iopub.status.busy": "2022-11-10T13:34:27.334001Z",
     "iopub.status.idle": "2022-11-10T13:34:27.345060Z",
     "shell.execute_reply": "2022-11-10T13:34:27.343964Z"
    },
    "papermill": {
     "duration": 0.027524,
     "end_time": "2022-11-10T13:34:27.347789",
     "exception": false,
     "start_time": "2022-11-10T13:34:27.320265",
     "status": "completed"
    },
    "tags": []
   },
   "outputs": [],
   "source": [
    "# Let's remove the unwanted columns like Comment ID before moving on to EDA\n",
    "del df['id']"
   ]
  },
  {
   "cell_type": "code",
   "execution_count": 6,
   "id": "241ad358",
   "metadata": {
    "execution": {
     "iopub.execute_input": "2022-11-10T13:34:27.374460Z",
     "iopub.status.busy": "2022-11-10T13:34:27.373567Z",
     "iopub.status.idle": "2022-11-10T13:34:27.379421Z",
     "shell.execute_reply": "2022-11-10T13:34:27.378574Z"
    },
    "papermill": {
     "duration": 0.021545,
     "end_time": "2022-11-10T13:34:27.381601",
     "exception": false,
     "start_time": "2022-11-10T13:34:27.360056",
     "status": "completed"
    },
    "tags": []
   },
   "outputs": [],
   "source": [
    "def colorToxicityValuesToRed(value):\n",
    "    if value==0:\n",
    "        color='green'\n",
    "    elif value==1:\n",
    "        color='red'\n",
    "    else:\n",
    "        color='black'\n",
    "    return 'color: %s' % color\n",
    "    \n",
    "\n",
    "\n"
   ]
  },
  {
   "cell_type": "code",
   "execution_count": 7,
   "id": "e048266e",
   "metadata": {
    "execution": {
     "iopub.execute_input": "2022-11-10T13:34:27.407517Z",
     "iopub.status.busy": "2022-11-10T13:34:27.407101Z",
     "iopub.status.idle": "2022-11-10T13:34:27.492118Z",
     "shell.execute_reply": "2022-11-10T13:34:27.490923Z"
    },
    "papermill": {
     "duration": 0.101347,
     "end_time": "2022-11-10T13:34:27.495071",
     "exception": false,
     "start_time": "2022-11-10T13:34:27.393724",
     "status": "completed"
    },
    "tags": []
   },
   "outputs": [
    {
     "data": {
      "text/html": [
       "<style type=\"text/css\">\n",
       "#T_41b69_row0_col1, #T_41b69_row0_col2, #T_41b69_row0_col3, #T_41b69_row0_col4, #T_41b69_row0_col5, #T_41b69_row0_col6, #T_41b69_row1_col1, #T_41b69_row1_col2, #T_41b69_row1_col3, #T_41b69_row1_col4, #T_41b69_row1_col5, #T_41b69_row1_col6, #T_41b69_row2_col1, #T_41b69_row2_col2, #T_41b69_row2_col3, #T_41b69_row2_col4, #T_41b69_row2_col5, #T_41b69_row2_col6, #T_41b69_row3_col1, #T_41b69_row3_col2, #T_41b69_row3_col3, #T_41b69_row3_col4, #T_41b69_row3_col5, #T_41b69_row3_col6, #T_41b69_row4_col1, #T_41b69_row4_col2, #T_41b69_row4_col3, #T_41b69_row4_col4, #T_41b69_row4_col5, #T_41b69_row4_col6, #T_41b69_row5_col2, #T_41b69_row5_col4 {\n",
       "  color: green;\n",
       "}\n",
       "#T_41b69_row5_col1, #T_41b69_row5_col3, #T_41b69_row5_col5, #T_41b69_row5_col6 {\n",
       "  color: red;\n",
       "}\n",
       "</style>\n",
       "<table id=\"T_41b69_\">\n",
       "  <thead>\n",
       "    <tr>\n",
       "      <th class=\"blank level0\" >&nbsp;</th>\n",
       "      <th class=\"col_heading level0 col0\" >comment_text</th>\n",
       "      <th class=\"col_heading level0 col1\" >toxic</th>\n",
       "      <th class=\"col_heading level0 col2\" >severe_toxic</th>\n",
       "      <th class=\"col_heading level0 col3\" >obscene</th>\n",
       "      <th class=\"col_heading level0 col4\" >threat</th>\n",
       "      <th class=\"col_heading level0 col5\" >insult</th>\n",
       "      <th class=\"col_heading level0 col6\" >identity_hate</th>\n",
       "    </tr>\n",
       "  </thead>\n",
       "  <tbody>\n",
       "    <tr>\n",
       "      <th id=\"T_41b69_level0_row0\" class=\"row_heading level0 row0\" >100</th>\n",
       "      <td id=\"T_41b69_row0_col0\" class=\"data row0 col0\" >However, the Moonlite edit noted by golden daph was me (on optus ...)  Wake up wikkis.  So funny</td>\n",
       "      <td id=\"T_41b69_row0_col1\" class=\"data row0 col1\" >0</td>\n",
       "      <td id=\"T_41b69_row0_col2\" class=\"data row0 col2\" >0</td>\n",
       "      <td id=\"T_41b69_row0_col3\" class=\"data row0 col3\" >0</td>\n",
       "      <td id=\"T_41b69_row0_col4\" class=\"data row0 col4\" >0</td>\n",
       "      <td id=\"T_41b69_row0_col5\" class=\"data row0 col5\" >0</td>\n",
       "      <td id=\"T_41b69_row0_col6\" class=\"data row0 col6\" >0</td>\n",
       "    </tr>\n",
       "    <tr>\n",
       "      <th id=\"T_41b69_level0_row1\" class=\"row_heading level0 row1\" >101</th>\n",
       "      <td id=\"T_41b69_row1_col0\" class=\"data row1 col0\" >Check the following websites:\n",
       "\n",
       "http://www.iranchamber.com/personalities/farabi/farabi.php\n",
       "http://www.islam.org.br/%C2%A0al_farabi.htm\n",
       "http://www.superbeyin.com/sohbet/sohbet.htm</td>\n",
       "      <td id=\"T_41b69_row1_col1\" class=\"data row1 col1\" >0</td>\n",
       "      <td id=\"T_41b69_row1_col2\" class=\"data row1 col2\" >0</td>\n",
       "      <td id=\"T_41b69_row1_col3\" class=\"data row1 col3\" >0</td>\n",
       "      <td id=\"T_41b69_row1_col4\" class=\"data row1 col4\" >0</td>\n",
       "      <td id=\"T_41b69_row1_col5\" class=\"data row1 col5\" >0</td>\n",
       "      <td id=\"T_41b69_row1_col6\" class=\"data row1 col6\" >0</td>\n",
       "    </tr>\n",
       "    <tr>\n",
       "      <th id=\"T_41b69_level0_row2\" class=\"row_heading level0 row2\" >102</th>\n",
       "      <td id=\"T_41b69_row2_col0\" class=\"data row2 col0\" >i can't believe no one has already put up this page Dilbert's Desktop Games so I did</td>\n",
       "      <td id=\"T_41b69_row2_col1\" class=\"data row2 col1\" >0</td>\n",
       "      <td id=\"T_41b69_row2_col2\" class=\"data row2 col2\" >0</td>\n",
       "      <td id=\"T_41b69_row2_col3\" class=\"data row2 col3\" >0</td>\n",
       "      <td id=\"T_41b69_row2_col4\" class=\"data row2 col4\" >0</td>\n",
       "      <td id=\"T_41b69_row2_col5\" class=\"data row2 col5\" >0</td>\n",
       "      <td id=\"T_41b69_row2_col6\" class=\"data row2 col6\" >0</td>\n",
       "    </tr>\n",
       "    <tr>\n",
       "      <th id=\"T_41b69_level0_row3\" class=\"row_heading level0 row3\" >103</th>\n",
       "      <td id=\"T_41b69_row3_col0\" class=\"data row3 col0\" >\"\n",
       "\n",
       "Well, after I asked you to provide the diffs within one hour of your next edit here, you made an edit to your talk page here and then did not provide the diffs I requested within one hour of that edit. I then sanctioned you for failing to provide the requested diffs in a timely manner (which, after more than a week, you have still not done). Consequently, your request to lift the sanction is denied.  \"</td>\n",
       "      <td id=\"T_41b69_row3_col1\" class=\"data row3 col1\" >0</td>\n",
       "      <td id=\"T_41b69_row3_col2\" class=\"data row3 col2\" >0</td>\n",
       "      <td id=\"T_41b69_row3_col3\" class=\"data row3 col3\" >0</td>\n",
       "      <td id=\"T_41b69_row3_col4\" class=\"data row3 col4\" >0</td>\n",
       "      <td id=\"T_41b69_row3_col5\" class=\"data row3 col5\" >0</td>\n",
       "      <td id=\"T_41b69_row3_col6\" class=\"data row3 col6\" >0</td>\n",
       "    </tr>\n",
       "    <tr>\n",
       "      <th id=\"T_41b69_level0_row4\" class=\"row_heading level0 row4\" >104</th>\n",
       "      <td id=\"T_41b69_row4_col0\" class=\"data row4 col0\" >What page shoudld there be for important characters that DON'T reoccur?\n",
       "Void, Black Doom, Mephiles, etc</td>\n",
       "      <td id=\"T_41b69_row4_col1\" class=\"data row4 col1\" >0</td>\n",
       "      <td id=\"T_41b69_row4_col2\" class=\"data row4 col2\" >0</td>\n",
       "      <td id=\"T_41b69_row4_col3\" class=\"data row4 col3\" >0</td>\n",
       "      <td id=\"T_41b69_row4_col4\" class=\"data row4 col4\" >0</td>\n",
       "      <td id=\"T_41b69_row4_col5\" class=\"data row4 col5\" >0</td>\n",
       "      <td id=\"T_41b69_row4_col6\" class=\"data row4 col6\" >0</td>\n",
       "    </tr>\n",
       "    <tr>\n",
       "      <th id=\"T_41b69_level0_row5\" class=\"row_heading level0 row5\" >105</th>\n",
       "      <td id=\"T_41b69_row5_col0\" class=\"data row5 col0\" >A pair of jew-hating weiner nazi schmucks.</td>\n",
       "      <td id=\"T_41b69_row5_col1\" class=\"data row5 col1\" >1</td>\n",
       "      <td id=\"T_41b69_row5_col2\" class=\"data row5 col2\" >0</td>\n",
       "      <td id=\"T_41b69_row5_col3\" class=\"data row5 col3\" >1</td>\n",
       "      <td id=\"T_41b69_row5_col4\" class=\"data row5 col4\" >0</td>\n",
       "      <td id=\"T_41b69_row5_col5\" class=\"data row5 col5\" >1</td>\n",
       "      <td id=\"T_41b69_row5_col6\" class=\"data row5 col6\" >1</td>\n",
       "    </tr>\n",
       "  </tbody>\n",
       "</table>\n"
      ],
      "text/plain": [
       "<pandas.io.formats.style.Styler at 0x7f347d6fd790>"
      ]
     },
     "metadata": {},
     "output_type": "display_data"
    }
   ],
   "source": [
    "# Display the raw dataset in a visually appealing manner\n",
    "\n",
    "display(df[100:106].style.applymap(colorToxicityValuesToRed,\n",
    "subset=['toxic','severe_toxic','obscene','threat','insult','identity_hate']))"
   ]
  },
  {
   "cell_type": "code",
   "execution_count": 8,
   "id": "f5f53a48",
   "metadata": {
    "execution": {
     "iopub.execute_input": "2022-11-10T13:34:27.524164Z",
     "iopub.status.busy": "2022-11-10T13:34:27.522935Z",
     "iopub.status.idle": "2022-11-10T13:34:27.535650Z",
     "shell.execute_reply": "2022-11-10T13:34:27.533770Z"
    },
    "papermill": {
     "duration": 0.029883,
     "end_time": "2022-11-10T13:34:27.538197",
     "exception": false,
     "start_time": "2022-11-10T13:34:27.508314",
     "status": "completed"
    },
    "tags": []
   },
   "outputs": [
    {
     "name": "stdout",
     "output_type": "stream",
     "text": [
      "\u001b[47mPercentage of Comments Classified as Toxic               \u001b[42m9.584448302009763% \n",
      "\n",
      "\u001b[47mPercentage of Comments Classified as Severe Toxic        \u001b[42m0.999555056996572% \n",
      "\n",
      "\u001b[47mPercentage of Comments Classified as Obscene             \u001b[42m5.2948217407925% \n",
      "\n",
      "\u001b[47mPercentage  of Comments Classified as Threat              \u001b[42m0.2995531769557125% \n",
      "\n",
      "\u001b[47mPercentage of Comments Classified as Insult              \u001b[42m4.936360616904074% \n",
      "\n",
      "\u001b[47mPercentage of Comments Classified as Identity Hate       \u001b[42m0.8804858025581089% \n",
      "\n"
     ]
    }
   ],
   "source": [
    "# Perform a Descriptive Analysis on the Classification Classes\n",
    "\n",
    "print(Back.WHITE+f\"Percentage of Comments Classified as Toxic               \"+Back.GREEN+f\"{df['toxic'].sum()/1595.71}% \\n\")\n",
    "print(Back.WHITE+f\"Percentage of Comments Classified as Severe Toxic        \"+Back.GREEN+f\"{df['severe_toxic'].sum()/1595.71}% \\n\")\n",
    "print(Back.WHITE+f\"Percentage of Comments Classified as Obscene             \"+Back.GREEN+f\"{df['obscene'].sum()/1595.71}% \\n\")\n",
    "print(Back.WHITE+f\"Percentage  of Comments Classified as Threat              \"+Back.GREEN+f\"{df['threat'].sum()/1595.71}% \\n\")\n",
    "print(Back.WHITE+f\"Percentage of Comments Classified as Insult              \"+Back.GREEN+f\"{df['insult'].sum()/1595.71}% \\n\")\n",
    "print(Back.WHITE+f\"Percentage of Comments Classified as Identity Hate       \"+Back.GREEN+f\"{df['identity_hate'].sum()/1595.71}% \\n\")"
   ]
  },
  {
   "cell_type": "markdown",
   "id": "322c56a0",
   "metadata": {
    "papermill": {
     "duration": 0.01239,
     "end_time": "2022-11-10T13:34:27.563190",
     "exception": false,
     "start_time": "2022-11-10T13:34:27.550800",
     "status": "completed"
    },
    "tags": []
   },
   "source": [
    "# Text Counts & Lengths Analysis"
   ]
  },
  {
   "cell_type": "code",
   "execution_count": 9,
   "id": "8aefc210",
   "metadata": {
    "execution": {
     "iopub.execute_input": "2022-11-10T13:34:27.589875Z",
     "iopub.status.busy": "2022-11-10T13:34:27.589369Z",
     "iopub.status.idle": "2022-11-10T13:35:25.394779Z",
     "shell.execute_reply": "2022-11-10T13:35:25.393578Z"
    },
    "papermill": {
     "duration": 57.822376,
     "end_time": "2022-11-10T13:35:25.397920",
     "exception": false,
     "start_time": "2022-11-10T13:34:27.575544",
     "status": "completed"
    },
    "tags": []
   },
   "outputs": [],
   "source": [
    "import nltk\n",
    "# Character counts\n",
    "from nltk.tokenize import sent_tokenize\n",
    "# Word counts\n",
    "df[\"char_count\"] = df[\"comment_text\"].map(lambda x: len(x))\n",
    "# Sentence counts\n",
    "df[\"word_count\"] = df[\"comment_text\"].map(lambda x: len(x.split()))\n",
    "# String counts\n",
    "df[\"sent_count\"] = df[\"comment_text\"].map(lambda x: len(sent_tokenize(x)))\n",
    "# Average word length\n",
    "df[\"hashtag_count\"] = df[\"comment_text\"].map(lambda x: x.count(\"#\"))\n",
    "# Average sentence length\n",
    "df[\"avg_word_len\"] = df[\"comment_text\"].map(lambda x: np.mean([len(w) for w in str(x).split()]))\n",
    "\n",
    "df[\"avg_sent_len\"] = df[\"comment_text\"].map(lambda x: np.mean([len(w.split()) for w in sent_tokenize(x)]))"
   ]
  },
  {
   "cell_type": "code",
   "execution_count": 10,
   "id": "aba6c69b",
   "metadata": {
    "execution": {
     "iopub.execute_input": "2022-11-10T13:35:25.426979Z",
     "iopub.status.busy": "2022-11-10T13:35:25.426519Z",
     "iopub.status.idle": "2022-11-10T13:35:25.443890Z",
     "shell.execute_reply": "2022-11-10T13:35:25.442941Z"
    },
    "papermill": {
     "duration": 0.03417,
     "end_time": "2022-11-10T13:35:25.446181",
     "exception": false,
     "start_time": "2022-11-10T13:35:25.412011",
     "status": "completed"
    },
    "tags": []
   },
   "outputs": [
    {
     "data": {
      "text/html": [
       "<div>\n",
       "<style scoped>\n",
       "    .dataframe tbody tr th:only-of-type {\n",
       "        vertical-align: middle;\n",
       "    }\n",
       "\n",
       "    .dataframe tbody tr th {\n",
       "        vertical-align: top;\n",
       "    }\n",
       "\n",
       "    .dataframe thead th {\n",
       "        text-align: right;\n",
       "    }\n",
       "</style>\n",
       "<table border=\"1\" class=\"dataframe\">\n",
       "  <thead>\n",
       "    <tr style=\"text-align: right;\">\n",
       "      <th></th>\n",
       "      <th>comment_text</th>\n",
       "      <th>toxic</th>\n",
       "      <th>severe_toxic</th>\n",
       "      <th>obscene</th>\n",
       "      <th>threat</th>\n",
       "      <th>insult</th>\n",
       "      <th>identity_hate</th>\n",
       "      <th>char_count</th>\n",
       "      <th>word_count</th>\n",
       "      <th>sent_count</th>\n",
       "      <th>hashtag_count</th>\n",
       "      <th>avg_word_len</th>\n",
       "      <th>avg_sent_len</th>\n",
       "    </tr>\n",
       "  </thead>\n",
       "  <tbody>\n",
       "    <tr>\n",
       "      <th>0</th>\n",
       "      <td>Explanation\\nWhy the edits made under my usern...</td>\n",
       "      <td>0</td>\n",
       "      <td>0</td>\n",
       "      <td>0</td>\n",
       "      <td>0</td>\n",
       "      <td>0</td>\n",
       "      <td>0</td>\n",
       "      <td>264</td>\n",
       "      <td>43</td>\n",
       "      <td>3</td>\n",
       "      <td>0</td>\n",
       "      <td>5.162791</td>\n",
       "      <td>14.333333</td>\n",
       "    </tr>\n",
       "    <tr>\n",
       "      <th>1</th>\n",
       "      <td>D'aww! He matches this background colour I'm s...</td>\n",
       "      <td>0</td>\n",
       "      <td>0</td>\n",
       "      <td>0</td>\n",
       "      <td>0</td>\n",
       "      <td>0</td>\n",
       "      <td>0</td>\n",
       "      <td>112</td>\n",
       "      <td>17</td>\n",
       "      <td>4</td>\n",
       "      <td>0</td>\n",
       "      <td>5.588235</td>\n",
       "      <td>4.250000</td>\n",
       "    </tr>\n",
       "    <tr>\n",
       "      <th>2</th>\n",
       "      <td>Hey man, I'm really not trying to edit war. It...</td>\n",
       "      <td>0</td>\n",
       "      <td>0</td>\n",
       "      <td>0</td>\n",
       "      <td>0</td>\n",
       "      <td>0</td>\n",
       "      <td>0</td>\n",
       "      <td>233</td>\n",
       "      <td>42</td>\n",
       "      <td>3</td>\n",
       "      <td>0</td>\n",
       "      <td>4.571429</td>\n",
       "      <td>14.000000</td>\n",
       "    </tr>\n",
       "    <tr>\n",
       "      <th>3</th>\n",
       "      <td>\"\\nMore\\nI can't make any real suggestions on ...</td>\n",
       "      <td>0</td>\n",
       "      <td>0</td>\n",
       "      <td>0</td>\n",
       "      <td>0</td>\n",
       "      <td>0</td>\n",
       "      <td>0</td>\n",
       "      <td>622</td>\n",
       "      <td>113</td>\n",
       "      <td>4</td>\n",
       "      <td>1</td>\n",
       "      <td>4.486726</td>\n",
       "      <td>28.250000</td>\n",
       "    </tr>\n",
       "    <tr>\n",
       "      <th>4</th>\n",
       "      <td>You, sir, are my hero. Any chance you remember...</td>\n",
       "      <td>0</td>\n",
       "      <td>0</td>\n",
       "      <td>0</td>\n",
       "      <td>0</td>\n",
       "      <td>0</td>\n",
       "      <td>0</td>\n",
       "      <td>67</td>\n",
       "      <td>13</td>\n",
       "      <td>2</td>\n",
       "      <td>0</td>\n",
       "      <td>4.230769</td>\n",
       "      <td>6.500000</td>\n",
       "    </tr>\n",
       "  </tbody>\n",
       "</table>\n",
       "</div>"
      ],
      "text/plain": [
       "                                        comment_text  toxic  severe_toxic  \\\n",
       "0  Explanation\\nWhy the edits made under my usern...      0             0   \n",
       "1  D'aww! He matches this background colour I'm s...      0             0   \n",
       "2  Hey man, I'm really not trying to edit war. It...      0             0   \n",
       "3  \"\\nMore\\nI can't make any real suggestions on ...      0             0   \n",
       "4  You, sir, are my hero. Any chance you remember...      0             0   \n",
       "\n",
       "   obscene  threat  insult  identity_hate  char_count  word_count  sent_count  \\\n",
       "0        0       0       0              0         264          43           3   \n",
       "1        0       0       0              0         112          17           4   \n",
       "2        0       0       0              0         233          42           3   \n",
       "3        0       0       0              0         622         113           4   \n",
       "4        0       0       0              0          67          13           2   \n",
       "\n",
       "   hashtag_count  avg_word_len  avg_sent_len  \n",
       "0              0      5.162791     14.333333  \n",
       "1              0      5.588235      4.250000  \n",
       "2              0      4.571429     14.000000  \n",
       "3              1      4.486726     28.250000  \n",
       "4              0      4.230769      6.500000  "
      ]
     },
     "execution_count": 10,
     "metadata": {},
     "output_type": "execute_result"
    }
   ],
   "source": [
    "df.head()"
   ]
  },
  {
   "cell_type": "code",
   "execution_count": 11,
   "id": "7329e225",
   "metadata": {
    "execution": {
     "iopub.execute_input": "2022-11-10T13:35:25.473743Z",
     "iopub.status.busy": "2022-11-10T13:35:25.472961Z",
     "iopub.status.idle": "2022-11-10T13:35:25.479380Z",
     "shell.execute_reply": "2022-11-10T13:35:25.478441Z"
    },
    "papermill": {
     "duration": 0.022701,
     "end_time": "2022-11-10T13:35:25.481678",
     "exception": false,
     "start_time": "2022-11-10T13:35:25.458977",
     "status": "completed"
    },
    "tags": []
   },
   "outputs": [
    {
     "data": {
      "text/plain": [
       "\"Explanation\\nWhy the edits made under my username Hardcore Metallica Fan were reverted? They weren't vandalisms, just closure on some GAs after I voted at New York Dolls FAC. And please don't remove the template from the talk page since I'm retired now.89.205.38.27\""
      ]
     },
     "execution_count": 11,
     "metadata": {},
     "output_type": "execute_result"
    }
   ],
   "source": [
    "df['comment_text'][0]"
   ]
  },
  {
   "cell_type": "code",
   "execution_count": 12,
   "id": "845fe37d",
   "metadata": {
    "execution": {
     "iopub.execute_input": "2022-11-10T13:35:25.510413Z",
     "iopub.status.busy": "2022-11-10T13:35:25.509806Z",
     "iopub.status.idle": "2022-11-10T13:35:25.746920Z",
     "shell.execute_reply": "2022-11-10T13:35:25.745522Z"
    },
    "papermill": {
     "duration": 0.254873,
     "end_time": "2022-11-10T13:35:25.749506",
     "exception": false,
     "start_time": "2022-11-10T13:35:25.494633",
     "status": "completed"
    },
    "tags": []
   },
   "outputs": [
    {
     "data": {
      "image/png": "[encoded data removed]",
      "text/plain": [
       "<Figure size 432x288 with 1 Axes>"
      ]
     },
     "metadata": {
      "needs_background": "light"
     },
     "output_type": "display_data"
    }
   ],
   "source": [
    "import matplotlib.pyplot as plt\n",
    "df['word_count'].hist()\n",
    "plt.show()\n",
    "# Havent included others as there was no finding associated with the same"
   ]
  },
  {
   "cell_type": "markdown",
   "id": "206e3d4a",
   "metadata": {
    "papermill": {
     "duration": 0.012277,
     "end_time": "2022-11-10T13:35:25.774756",
     "exception": false,
     "start_time": "2022-11-10T13:35:25.762479",
     "status": "completed"
    },
    "tags": []
   },
   "source": [
    "# Term Frequency Analysis"
   ]
  },
  {
   "cell_type": "code",
   "execution_count": 13,
   "id": "585817b8",
   "metadata": {
    "execution": {
     "iopub.execute_input": "2022-11-10T13:35:25.801889Z",
     "iopub.status.busy": "2022-11-10T13:35:25.801427Z",
     "iopub.status.idle": "2022-11-10T13:35:32.403578Z",
     "shell.execute_reply": "2022-11-10T13:35:32.402361Z"
    },
    "papermill": {
     "duration": 6.6193,
     "end_time": "2022-11-10T13:35:32.406685",
     "exception": false,
     "start_time": "2022-11-10T13:35:25.787385",
     "status": "completed"
    },
    "tags": []
   },
   "outputs": [],
   "source": [
    "import re\n",
    "import string\n",
    "\n",
    "def clean_text(text):\n",
    "    # Convert text to lowercase\n",
    "    text = text.lower()    \n",
    "    # Remove punctuation\n",
    "    text = re.sub(\"[%s]\" % re.escape(string.punctuation), \"\", text)   \n",
    "     # Remove non-Roman characters\n",
    "    text = re.sub(\"([^\\x00-\\x7F])+\", \" \", text)\n",
    "    # Strip any numericals if present in words\n",
    "    text =  re.sub(r'\\d', '', text).strip()\n",
    "    # strip any \\n present between words\n",
    "    text = re.sub(r'\\n',' ',text).strip()\n",
    "    #remove stop words \n",
    "    \n",
    "    return text\n",
    "df[\"comment_clean\"] = df[\"comment_text\"].map(lambda x: clean_text(x))"
   ]
  },
  {
   "cell_type": "code",
   "execution_count": 14,
   "id": "2720e643",
   "metadata": {
    "execution": {
     "iopub.execute_input": "2022-11-10T13:35:32.434790Z",
     "iopub.status.busy": "2022-11-10T13:35:32.433978Z",
     "iopub.status.idle": "2022-11-10T13:35:32.441152Z",
     "shell.execute_reply": "2022-11-10T13:35:32.440007Z"
    },
    "papermill": {
     "duration": 0.023835,
     "end_time": "2022-11-10T13:35:32.443639",
     "exception": false,
     "start_time": "2022-11-10T13:35:32.419804",
     "status": "completed"
    },
    "tags": []
   },
   "outputs": [
    {
     "data": {
      "text/plain": [
       "\"Explanation\\nWhy the edits made under my username Hardcore Metallica Fan were reverted? They weren't vandalisms, just closure on some GAs after I voted at New York Dolls FAC. And please don't remove the template from the talk page since I'm retired now.89.205.38.27\""
      ]
     },
     "execution_count": 14,
     "metadata": {},
     "output_type": "execute_result"
    }
   ],
   "source": [
    "df[\"comment_text\"][0]"
   ]
  },
  {
   "cell_type": "code",
   "execution_count": 15,
   "id": "62170046",
   "metadata": {
    "execution": {
     "iopub.execute_input": "2022-11-10T13:35:32.472345Z",
     "iopub.status.busy": "2022-11-10T13:35:32.471828Z",
     "iopub.status.idle": "2022-11-10T13:35:32.479875Z",
     "shell.execute_reply": "2022-11-10T13:35:32.478697Z"
    },
    "papermill": {
     "duration": 0.025883,
     "end_time": "2022-11-10T13:35:32.482431",
     "exception": false,
     "start_time": "2022-11-10T13:35:32.456548",
     "status": "completed"
    },
    "tags": []
   },
   "outputs": [
    {
     "data": {
      "text/plain": [
       "'explanation why the edits made under my username hardcore metallica fan were reverted they werent vandalisms just closure on some gas after i voted at new york dolls fac and please dont remove the template from the talk page since im retired now'"
      ]
     },
     "execution_count": 15,
     "metadata": {},
     "output_type": "execute_result"
    }
   ],
   "source": [
    "df[\"comment_clean\"][0]"
   ]
  },
  {
   "cell_type": "markdown",
   "id": "5d6d69a6",
   "metadata": {
    "papermill": {
     "duration": 0.012694,
     "end_time": "2022-11-10T13:35:32.508386",
     "exception": false,
     "start_time": "2022-11-10T13:35:32.495692",
     "status": "completed"
    },
    "tags": []
   },
   "source": [
    "<center>\n",
    "<div style = \"background-color: rgba(152, 170, 236, 0.8); border-style: double;\">\n",
    "<strong style = \"font-size: 25px; color:rgba(86, 106, 181, 1);\"><center>3. N-grams (combination of 1-,2-,3-grams)</center></strong>\n",
    "</div>\n",
    "</center>"
   ]
  },
  {
   "cell_type": "code",
   "execution_count": 16,
   "id": "ece5cb1b",
   "metadata": {
    "execution": {
     "iopub.execute_input": "2022-11-10T13:35:32.537632Z",
     "iopub.status.busy": "2022-11-10T13:35:32.536669Z",
     "iopub.status.idle": "2022-11-10T13:35:36.571642Z",
     "shell.execute_reply": "2022-11-10T13:35:36.570172Z"
    },
    "papermill": {
     "duration": 4.053066,
     "end_time": "2022-11-10T13:35:36.574670",
     "exception": false,
     "start_time": "2022-11-10T13:35:32.521604",
     "status": "completed"
    },
    "tags": []
   },
   "outputs": [],
   "source": [
    "# Made a corpus of vocabulary\n",
    "from nltk.corpus import stopwords\n",
    "stop = set(stopwords.words(\"english\"))\n",
    "corpus = [word for i in df[\"comment_clean\"].str.split().values.tolist() for word in i if (word not in stop)]"
   ]
  },
  {
   "cell_type": "code",
   "execution_count": 17,
   "id": "c5b9002d",
   "metadata": {
    "execution": {
     "iopub.execute_input": "2022-11-10T13:35:36.603977Z",
     "iopub.status.busy": "2022-11-10T13:35:36.602791Z",
     "iopub.status.idle": "2022-11-10T13:35:36.613343Z",
     "shell.execute_reply": "2022-11-10T13:35:36.611921Z"
    },
    "papermill": {
     "duration": 0.027867,
     "end_time": "2022-11-10T13:35:36.615962",
     "exception": false,
     "start_time": "2022-11-10T13:35:36.588095",
     "status": "completed"
    },
    "tags": []
   },
   "outputs": [
    {
     "data": {
      "text/plain": [
       "['explanation',\n",
       " 'edits',\n",
       " 'made',\n",
       " 'username',\n",
       " 'hardcore',\n",
       " 'metallica',\n",
       " 'fan',\n",
       " 'reverted',\n",
       " 'werent',\n",
       " 'vandalisms',\n",
       " 'closure',\n",
       " 'gas',\n",
       " 'voted',\n",
       " 'new',\n",
       " 'york',\n",
       " 'dolls',\n",
       " 'fac',\n",
       " 'please',\n",
       " 'dont',\n",
       " 'remove']"
      ]
     },
     "execution_count": 17,
     "metadata": {},
     "output_type": "execute_result"
    }
   ],
   "source": [
    "corpus[0:20]"
   ]
  },
  {
   "cell_type": "code",
   "execution_count": 18,
   "id": "5c5e2846",
   "metadata": {
    "execution": {
     "iopub.execute_input": "2022-11-10T13:35:36.645375Z",
     "iopub.status.busy": "2022-11-10T13:35:36.644932Z",
     "iopub.status.idle": "2022-11-10T13:35:41.416263Z",
     "shell.execute_reply": "2022-11-10T13:35:41.415006Z"
    },
    "papermill": {
     "duration": 4.78914,
     "end_time": "2022-11-10T13:35:41.419039",
     "exception": false,
     "start_time": "2022-11-10T13:35:36.629899",
     "status": "completed"
    },
    "tags": []
   },
   "outputs": [
    {
     "data": {
      "text/plain": [
       "[('article', 55460),\n",
       " ('page', 45678),\n",
       " ('wikipedia', 35679),\n",
       " ('talk', 31652),\n",
       " ('please', 29619),\n",
       " ('would', 29213),\n",
       " ('one', 28104),\n",
       " ('like', 27710),\n",
       " ('dont', 25742),\n",
       " ('see', 21497),\n",
       " ('also', 20553),\n",
       " ('think', 20042),\n",
       " ('im', 19277),\n",
       " ('know', 18996),\n",
       " ('people', 17717),\n",
       " ('edit', 17598),\n",
       " ('articles', 17525),\n",
       " ('use', 16327),\n",
       " ('may', 15568),\n",
       " ('time', 15435)]"
      ]
     },
     "execution_count": 18,
     "metadata": {},
     "output_type": "execute_result"
    }
   ],
   "source": [
    "# Obtain 20 most frequent words and plot them\n",
    "from nltk.probability import FreqDist\n",
    "most_common = FreqDist(corpus).most_common(20)\n",
    "most_common"
   ]
  },
  {
   "cell_type": "code",
   "execution_count": 19,
   "id": "df23e26f",
   "metadata": {
    "execution": {
     "iopub.execute_input": "2022-11-10T13:35:41.448896Z",
     "iopub.status.busy": "2022-11-10T13:35:41.447676Z",
     "iopub.status.idle": "2022-11-10T13:35:42.092205Z",
     "shell.execute_reply": "2022-11-10T13:35:42.090664Z"
    },
    "papermill": {
     "duration": 0.66282,
     "end_time": "2022-11-10T13:35:42.095365",
     "exception": false,
     "start_time": "2022-11-10T13:35:41.432545",
     "status": "completed"
    },
    "tags": []
   },
   "outputs": [
    {
     "data": {
      "text/plain": [
       "<AxesSubplot:>"
      ]
     },
     "execution_count": 19,
     "metadata": {},
     "output_type": "execute_result"
    },
    {
     "data": {
      "image/png": "[encoded data removed]",
      "text/plain": [
       "<Figure size 432x288 with 1 Axes>"
      ]
     },
     "metadata": {
      "needs_background": "light"
     },
     "output_type": "display_data"
    }
   ],
   "source": [
    "words, frequency = [], []\n",
    "for word, count in most_common:\n",
    "    words.append(word)\n",
    "    frequency.append(count)\n",
    "    \n",
    "sns.barplot(x = frequency, y = words)"
   ]
  },
  {
   "cell_type": "code",
   "execution_count": 20,
   "id": "9e33655c",
   "metadata": {
    "execution": {
     "iopub.execute_input": "2022-11-10T13:35:42.126472Z",
     "iopub.status.busy": "2022-11-10T13:35:42.125566Z",
     "iopub.status.idle": "2022-11-10T13:35:42.134699Z",
     "shell.execute_reply": "2022-11-10T13:35:42.133760Z"
    },
    "papermill": {
     "duration": 0.027361,
     "end_time": "2022-11-10T13:35:42.136963",
     "exception": false,
     "start_time": "2022-11-10T13:35:42.109602",
     "status": "completed"
    },
    "tags": []
   },
   "outputs": [],
   "source": [
    "# Obtain 2-gram words\n",
    "from nltk.util import ngrams\n",
    "from sklearn.feature_extraction.text import CountVectorizer\n",
    "\n",
    "list(ngrams(['I' ,'went','to','the','river','bank'],2))\n",
    "def get_top_ngram(corpus, n=None):\n",
    "    vec = CountVectorizer(ngram_range=(n, n)).fit(corpus)\n",
    "    bag_of_words = vec.transform(corpus)\n",
    "    sum_words = bag_of_words.sum(axis=0) \n",
    "    words_freq = [(word, sum_words[0, idx]) \n",
    "                  for word, idx in vec.vocabulary_.items()]\n",
    "    words_freq =sorted(words_freq, key = lambda x: x[1], reverse=True)\n",
    "    return words_freq[:10]"
   ]
  },
  {
   "cell_type": "code",
   "execution_count": 21,
   "id": "0888b15a",
   "metadata": {
    "execution": {
     "iopub.execute_input": "2022-11-10T13:35:42.167274Z",
     "iopub.status.busy": "2022-11-10T13:35:42.166739Z",
     "iopub.status.idle": "2022-11-10T13:36:37.302077Z",
     "shell.execute_reply": "2022-11-10T13:36:37.300643Z"
    },
    "papermill": {
     "duration": 55.164146,
     "end_time": "2022-11-10T13:36:37.315125",
     "exception": false,
     "start_time": "2022-11-10T13:35:42.150979",
     "status": "completed"
    },
    "tags": []
   },
   "outputs": [
    {
     "data": {
      "text/plain": [
       "[('of the', 50233),\n",
       " ('in the', 38312),\n",
       " ('to the', 26675),\n",
       " ('if you', 26409),\n",
       " ('on the', 23210),\n",
       " ('the article', 22585),\n",
       " ('it is', 21778),\n",
       " ('to be', 21358),\n",
       " ('you are', 17191),\n",
       " ('is not', 14782)]"
      ]
     },
     "execution_count": 21,
     "metadata": {},
     "output_type": "execute_result"
    }
   ],
   "source": [
    "\n",
    "top_n_bigrams=get_top_ngram(df['comment_clean'],2)[:20]\n",
    "top_n_bigrams"
   ]
  },
  {
   "cell_type": "code",
   "execution_count": 22,
   "id": "105a85a3",
   "metadata": {
    "execution": {
     "iopub.execute_input": "2022-11-10T13:36:37.344767Z",
     "iopub.status.busy": "2022-11-10T13:36:37.344025Z",
     "iopub.status.idle": "2022-11-10T13:36:37.536283Z",
     "shell.execute_reply": "2022-11-10T13:36:37.535027Z"
    },
    "papermill": {
     "duration": 0.21009,
     "end_time": "2022-11-10T13:36:37.538974",
     "exception": false,
     "start_time": "2022-11-10T13:36:37.328884",
     "status": "completed"
    },
    "tags": []
   },
   "outputs": [
    {
     "data": {
      "text/plain": [
       "<AxesSubplot:>"
      ]
     },
     "execution_count": 22,
     "metadata": {},
     "output_type": "execute_result"
    },
    {
     "data": {
      "image/png": "[encoded data removed]",
      "text/plain": [
       "<Figure size 432x288 with 1 Axes>"
      ]
     },
     "metadata": {
      "needs_background": "light"
     },
     "output_type": "display_data"
    }
   ],
   "source": [
    "x,y=map(list,zip(*top_n_bigrams)) \n",
    "sns.barplot(x=y,y=x) "
   ]
  },
  {
   "cell_type": "code",
   "execution_count": 23,
   "id": "dab04bdb",
   "metadata": {
    "execution": {
     "iopub.execute_input": "2022-11-10T13:36:37.572287Z",
     "iopub.status.busy": "2022-11-10T13:36:37.571818Z",
     "iopub.status.idle": "2022-11-10T13:36:37.580331Z",
     "shell.execute_reply": "2022-11-10T13:36:37.579031Z"
    },
    "papermill": {
     "duration": 0.027642,
     "end_time": "2022-11-10T13:36:37.583075",
     "exception": false,
     "start_time": "2022-11-10T13:36:37.555433",
     "status": "completed"
    },
    "tags": []
   },
   "outputs": [],
   "source": [
    "# Obtain 3-gram words\n",
    "from nltk.util import ngrams\n",
    "from sklearn.feature_extraction.text import CountVectorizer\n",
    "\n",
    "list(ngrams(['I' ,'went','to','the','river','bank'],3))\n",
    "def get_top_ngram(corpus, n=None):\n",
    "    vec = CountVectorizer(ngram_range=(n, n)).fit(corpus)\n",
    "    bag_of_words = vec.transform(corpus)\n",
    "    sum_words = bag_of_words.sum(axis=0) \n",
    "    words_freq = [(word, sum_words[0, idx]) \n",
    "                  for word, idx in vec.vocabulary_.items()]\n",
    "    words_freq =sorted(words_freq, key = lambda x: x[1], reverse=True)\n",
    "    return words_freq[:10]"
   ]
  },
  {
   "cell_type": "code",
   "execution_count": 24,
   "id": "8c822c5b",
   "metadata": {
    "execution": {
     "iopub.execute_input": "2022-11-10T13:36:37.614265Z",
     "iopub.status.busy": "2022-11-10T13:36:37.613769Z",
     "iopub.status.idle": "2022-11-10T13:38:05.343996Z",
     "shell.execute_reply": "2022-11-10T13:38:05.342621Z"
    },
    "papermill": {
     "duration": 87.761209,
     "end_time": "2022-11-10T13:38:05.359091",
     "exception": false,
     "start_time": "2022-11-10T13:36:37.597882",
     "status": "completed"
    },
    "tags": []
   },
   "outputs": [
    {
     "data": {
      "text/plain": [
       "[('thank you for', 4018),\n",
       " ('if you have', 3552),\n",
       " ('my talk page', 3496),\n",
       " ('please do not', 3340),\n",
       " ('in the article', 3144),\n",
       " ('there is no', 3045),\n",
       " ('would like to', 2936),\n",
       " ('one of the', 2917),\n",
       " ('of the article', 2848),\n",
       " ('the talk page', 2551)]"
      ]
     },
     "execution_count": 24,
     "metadata": {},
     "output_type": "execute_result"
    }
   ],
   "source": [
    "top_n_trigrams=get_top_ngram(df['comment_clean'],3)[:20]\n",
    "top_n_trigrams"
   ]
  },
  {
   "cell_type": "code",
   "execution_count": 25,
   "id": "0deee1d6",
   "metadata": {
    "execution": {
     "iopub.execute_input": "2022-11-10T13:38:05.390472Z",
     "iopub.status.busy": "2022-11-10T13:38:05.389507Z",
     "iopub.status.idle": "2022-11-10T13:38:05.620028Z",
     "shell.execute_reply": "2022-11-10T13:38:05.618421Z"
    },
    "papermill": {
     "duration": 0.249304,
     "end_time": "2022-11-10T13:38:05.622949",
     "exception": false,
     "start_time": "2022-11-10T13:38:05.373645",
     "status": "completed"
    },
    "tags": []
   },
   "outputs": [
    {
     "data": {
      "text/plain": [
       "<AxesSubplot:>"
      ]
     },
     "execution_count": 25,
     "metadata": {},
     "output_type": "execute_result"
    },
    {
     "data": {
      "image/png": "[encoded data removed]",
      "text/plain": [
       "<Figure size 432x288 with 1 Axes>"
      ]
     },
     "metadata": {
      "needs_background": "light"
     },
     "output_type": "display_data"
    }
   ],
   "source": [
    "x,y=map(list,zip(*top_n_trigrams)) \n",
    "sns.barplot(x=y,y=x) "
   ]
  },
  {
   "cell_type": "markdown",
   "id": "af1e8f91",
   "metadata": {
    "papermill": {
     "duration": 0.014734,
     "end_time": "2022-11-10T13:38:05.653158",
     "exception": false,
     "start_time": "2022-11-10T13:38:05.638424",
     "status": "completed"
    },
    "tags": []
   },
   "source": [
    "<center>\n",
    "<div style = \"background-color: rgba(152, 170, 236, 0.8); border-style: double;\">\n",
    "<strong style = \"font-size: 25px; color:rgba(86, 106, 181, 1);\"><center>1. Dictionaries of toxic language</center></strong>\n",
    "</div>\n",
    "</center>"
   ]
  },
  {
   "cell_type": "code",
   "execution_count": null,
   "id": "9a2a18e6",
   "metadata": {
    "papermill": {
     "duration": 0.01433,
     "end_time": "2022-11-10T13:38:05.682281",
     "exception": false,
     "start_time": "2022-11-10T13:38:05.667951",
     "status": "completed"
    },
    "tags": []
   },
   "outputs": [],
   "source": []
  },
  {
   "cell_type": "code",
   "execution_count": null,
   "id": "7270ea2e",
   "metadata": {
    "papermill": {
     "duration": 0.015299,
     "end_time": "2022-11-10T13:38:05.712412",
     "exception": false,
     "start_time": "2022-11-10T13:38:05.697113",
     "status": "completed"
    },
    "tags": []
   },
   "outputs": [],
   "source": []
  },
  {
   "cell_type": "code",
   "execution_count": null,
   "id": "4db57881",
   "metadata": {
    "papermill": {
     "duration": 0.014934,
     "end_time": "2022-11-10T13:38:05.742677",
     "exception": false,
     "start_time": "2022-11-10T13:38:05.727743",
     "status": "completed"
    },
    "tags": []
   },
   "outputs": [],
   "source": []
  },
  {
   "cell_type": "markdown",
   "id": "00eb3617",
   "metadata": {
    "papermill": {
     "duration": 0.014494,
     "end_time": "2022-11-10T13:38:05.772109",
     "exception": false,
     "start_time": "2022-11-10T13:38:05.757615",
     "status": "completed"
    },
    "tags": []
   },
   "source": [
    "<center>\n",
    "<div style = \"background-color: rgba(152, 170, 236, 0.8); border-style: double;\">\n",
    "<strong style = \"font-size: 25px; color:rgba(86, 106, 181, 1);\"><center>2. Bag-of-Words with Elastic Net</center></strong>\n",
    "</div>\n",
    "</center>"
   ]
  },
  {
   "cell_type": "code",
   "execution_count": null,
   "id": "78c5b98a",
   "metadata": {
    "papermill": {
     "duration": 0.015297,
     "end_time": "2022-11-10T13:38:05.802177",
     "exception": false,
     "start_time": "2022-11-10T13:38:05.786880",
     "status": "completed"
    },
    "tags": []
   },
   "outputs": [],
   "source": []
  },
  {
   "cell_type": "code",
   "execution_count": null,
   "id": "9bbcafa5",
   "metadata": {
    "papermill": {
     "duration": 0.014516,
     "end_time": "2022-11-10T13:38:05.831798",
     "exception": false,
     "start_time": "2022-11-10T13:38:05.817282",
     "status": "completed"
    },
    "tags": []
   },
   "outputs": [],
   "source": []
  },
  {
   "cell_type": "code",
   "execution_count": null,
   "id": "73f9ef86",
   "metadata": {
    "papermill": {
     "duration": 0.014331,
     "end_time": "2022-11-10T13:38:05.860893",
     "exception": false,
     "start_time": "2022-11-10T13:38:05.846562",
     "status": "completed"
    },
    "tags": []
   },
   "outputs": [],
   "source": []
  },
  {
   "cell_type": "code",
   "execution_count": null,
   "id": "b834900b",
   "metadata": {
    "papermill": {
     "duration": 0.014521,
     "end_time": "2022-11-10T13:38:05.890297",
     "exception": false,
     "start_time": "2022-11-10T13:38:05.875776",
     "status": "completed"
    },
    "tags": []
   },
   "outputs": [],
   "source": []
  },
  {
   "cell_type": "code",
   "execution_count": null,
   "id": "6526245f",
   "metadata": {
    "papermill": {
     "duration": 0.014387,
     "end_time": "2022-11-10T13:38:05.919475",
     "exception": false,
     "start_time": "2022-11-10T13:38:05.905088",
     "status": "completed"
    },
    "tags": []
   },
   "outputs": [],
   "source": []
  },
  {
   "cell_type": "code",
   "execution_count": null,
   "id": "39b99e6b",
   "metadata": {
    "papermill": {
     "duration": 0.014423,
     "end_time": "2022-11-10T13:38:05.948654",
     "exception": false,
     "start_time": "2022-11-10T13:38:05.934231",
     "status": "completed"
    },
    "tags": []
   },
   "outputs": [],
   "source": []
  },
  {
   "cell_type": "markdown",
   "id": "22b52b44",
   "metadata": {
    "papermill": {
     "duration": 0.01452,
     "end_time": "2022-11-10T13:38:05.978129",
     "exception": false,
     "start_time": "2022-11-10T13:38:05.963609",
     "status": "completed"
    },
    "tags": []
   },
   "source": [
    "<center>\n",
    "<div style = \"background-color: rgba(152, 170, 236, 0.8); border-style: double;\">\n",
    "<strong style = \"font-size: 25px; color:rgba(86, 106, 181, 1);\"><center>4. word2vec</center></strong>\n",
    "</div>\n",
    "</center>"
   ]
  },
  {
   "cell_type": "code",
   "execution_count": null,
   "id": "e34704c8",
   "metadata": {
    "papermill": {
     "duration": 0.014594,
     "end_time": "2022-11-10T13:38:06.007735",
     "exception": false,
     "start_time": "2022-11-10T13:38:05.993141",
     "status": "completed"
    },
    "tags": []
   },
   "outputs": [],
   "source": []
  },
  {
   "cell_type": "code",
   "execution_count": null,
   "id": "723fa8ef",
   "metadata": {
    "papermill": {
     "duration": 0.014502,
     "end_time": "2022-11-10T13:38:06.037284",
     "exception": false,
     "start_time": "2022-11-10T13:38:06.022782",
     "status": "completed"
    },
    "tags": []
   },
   "outputs": [],
   "source": []
  },
  {
   "cell_type": "code",
   "execution_count": null,
   "id": "ec73ba98",
   "metadata": {
    "papermill": {
     "duration": 0.014797,
     "end_time": "2022-11-10T13:38:06.066930",
     "exception": false,
     "start_time": "2022-11-10T13:38:06.052133",
     "status": "completed"
    },
    "tags": []
   },
   "outputs": [],
   "source": []
  },
  {
   "cell_type": "markdown",
   "id": "40bd2cb7",
   "metadata": {
    "papermill": {
     "duration": 0.014619,
     "end_time": "2022-11-10T13:38:06.098104",
     "exception": false,
     "start_time": "2022-11-10T13:38:06.083485",
     "status": "completed"
    },
    "tags": []
   },
   "source": [
    "<center>\n",
    "<div style = \"background-color: rgba(152, 170, 236, 0.8); border-style: double;\">\n",
    "<strong style = \"font-size: 25px; color:rgba(86, 106, 181, 1);\"><center>5. fastText</center></strong>\n",
    "</div>\n",
    "</center>"
   ]
  },
  {
   "cell_type": "code",
   "execution_count": null,
   "id": "bc37a8e7",
   "metadata": {
    "papermill": {
     "duration": 0.014524,
     "end_time": "2022-11-10T13:38:06.127548",
     "exception": false,
     "start_time": "2022-11-10T13:38:06.113024",
     "status": "completed"
    },
    "tags": []
   },
   "outputs": [],
   "source": []
  },
  {
   "cell_type": "code",
   "execution_count": null,
   "id": "b7249887",
   "metadata": {
    "papermill": {
     "duration": 0.01459,
     "end_time": "2022-11-10T13:38:06.157066",
     "exception": false,
     "start_time": "2022-11-10T13:38:06.142476",
     "status": "completed"
    },
    "tags": []
   },
   "outputs": [],
   "source": []
  },
  {
   "cell_type": "code",
   "execution_count": null,
   "id": "064cbe7c",
   "metadata": {
    "papermill": {
     "duration": 0.016089,
     "end_time": "2022-11-10T13:38:06.188194",
     "exception": false,
     "start_time": "2022-11-10T13:38:06.172105",
     "status": "completed"
    },
    "tags": []
   },
   "outputs": [],
   "source": []
  },
  {
   "cell_type": "markdown",
   "id": "f6fca2fc",
   "metadata": {
    "papermill": {
     "duration": 0.016079,
     "end_time": "2022-11-10T13:38:06.220501",
     "exception": false,
     "start_time": "2022-11-10T13:38:06.204422",
     "status": "completed"
    },
    "tags": []
   },
   "source": [
    "<center>\n",
    "<div style = \"background-color: rgba(152, 170, 236, 0.8); border-style: double;\">\n",
    "<strong style = \"font-size: 25px; color:rgba(86, 106, 181, 1);\"><center>6. not fine-tuned HateBERT</center></strong>\n",
    "</div>\n",
    "</center>"
   ]
  },
  {
   "cell_type": "code",
   "execution_count": null,
   "id": "58340ecc",
   "metadata": {
    "papermill": {
     "duration": 0.015435,
     "end_time": "2022-11-10T13:38:06.251807",
     "exception": false,
     "start_time": "2022-11-10T13:38:06.236372",
     "status": "completed"
    },
    "tags": []
   },
   "outputs": [],
   "source": []
  },
  {
   "cell_type": "code",
   "execution_count": null,
   "id": "a002818a",
   "metadata": {
    "papermill": {
     "duration": 0.014888,
     "end_time": "2022-11-10T13:38:06.281985",
     "exception": false,
     "start_time": "2022-11-10T13:38:06.267097",
     "status": "completed"
    },
    "tags": []
   },
   "outputs": [],
   "source": []
  },
  {
   "cell_type": "code",
   "execution_count": null,
   "id": "2cfb2e45",
   "metadata": {
    "papermill": {
     "duration": 0.015433,
     "end_time": "2022-11-10T13:38:06.312717",
     "exception": false,
     "start_time": "2022-11-10T13:38:06.297284",
     "status": "completed"
    },
    "tags": []
   },
   "outputs": [],
   "source": []
  },
  {
   "cell_type": "markdown",
   "id": "92017485",
   "metadata": {
    "papermill": {
     "duration": 0.014585,
     "end_time": "2022-11-10T13:38:06.342387",
     "exception": false,
     "start_time": "2022-11-10T13:38:06.327802",
     "status": "completed"
    },
    "tags": []
   },
   "source": [
    "<center>\n",
    "<div style = \"background-color: rgba(152, 170, 236, 0.8); border-style: double;\">\n",
    "<strong style = \"font-size: 25px; color:rgba(86, 106, 181, 1);\"><center>7. fine-tuned HateBERT</center></strong>\n",
    "</div>\n",
    "</center>"
   ]
  },
  {
   "cell_type": "code",
   "execution_count": null,
   "id": "4bcdfee7",
   "metadata": {
    "papermill": {
     "duration": 0.01449,
     "end_time": "2022-11-10T13:38:06.371933",
     "exception": false,
     "start_time": "2022-11-10T13:38:06.357443",
     "status": "completed"
    },
    "tags": []
   },
   "outputs": [],
   "source": []
  },
  {
   "cell_type": "code",
   "execution_count": null,
   "id": "ea4b0bb6",
   "metadata": {
    "papermill": {
     "duration": 0.014706,
     "end_time": "2022-11-10T13:38:06.401525",
     "exception": false,
     "start_time": "2022-11-10T13:38:06.386819",
     "status": "completed"
    },
    "tags": []
   },
   "outputs": [],
   "source": []
  },
  {
   "cell_type": "code",
   "execution_count": null,
   "id": "1eb9fa2d",
   "metadata": {
    "papermill": {
     "duration": 0.014708,
     "end_time": "2022-11-10T13:38:06.431465",
     "exception": false,
     "start_time": "2022-11-10T13:38:06.416757",
     "status": "completed"
    },
    "tags": []
   },
   "outputs": [],
   "source": []
  }
 ],
 "metadata": {
  "kernelspec": {
   "display_name": "Python 3",
   "language": "python",
   "name": "python3"
  },
  "language_info": {
   "codemirror_mode": {
    "name": "ipython",
    "version": 3
   },
   "file_extension": ".py",
   "mimetype": "text/x-python",
   "name": "python",
   "nbconvert_exporter": "python",
   "pygments_lexer": "ipython3",
   "version": "3.7.12"
  },
  "papermill": {
   "default_parameters": {},
   "duration": 233.397765,
   "end_time": "2022-11-10T13:38:07.772584",
   "environment_variables": {},
   "exception": null,
   "input_path": "__notebook__.ipynb",
   "output_path": "__notebook__.ipynb",
   "parameters": {},
   "start_time": "2022-11-10T13:34:14.374819",
   "version": "2.3.4"
  }
 },
 "nbformat": 4,
 "nbformat_minor": 5
}
